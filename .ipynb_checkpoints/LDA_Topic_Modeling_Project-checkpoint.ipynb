{
 "cells": [
  {
   "cell_type": "code",
   "execution_count": 4,
   "id": "cc23ab55",
   "metadata": {},
   "outputs": [
    {
     "name": "stdout",
     "output_type": "stream",
     "text": [
      "Requirement already satisfied: numpy in c:\\users\\b0161166\\downloads\\anaconda\\lib\\site-packages (1.24.4)\n",
      "Requirement already satisfied: pandas in c:\\users\\b0161166\\downloads\\anaconda\\lib\\site-packages (1.5.3)\n",
      "Requirement already satisfied: matplotlib in c:\\users\\b0161166\\downloads\\anaconda\\lib\\site-packages (3.7.2)\n",
      "Requirement already satisfied: plotly in c:\\users\\b0161166\\downloads\\anaconda\\lib\\site-packages (5.9.0)\n",
      "Requirement already satisfied: gensim in c:\\users\\b0161166\\downloads\\anaconda\\lib\\site-packages (4.3.0)\n",
      "Requirement already satisfied: scikit-learn in c:\\users\\b0161166\\downloads\\anaconda\\lib\\site-packages (1.3.0)\n",
      "Requirement already satisfied: nltk in c:\\users\\b0161166\\downloads\\anaconda\\lib\\site-packages (3.8.1)\n",
      "Requirement already satisfied: python-dateutil>=2.8.1 in c:\\users\\b0161166\\downloads\\anaconda\\lib\\site-packages (from pandas) (2.8.2)\n",
      "Requirement already satisfied: pytz>=2020.1 in c:\\users\\b0161166\\downloads\\anaconda\\lib\\site-packages (from pandas) (2023.3.post1)\n",
      "Requirement already satisfied: contourpy>=1.0.1 in c:\\users\\b0161166\\downloads\\anaconda\\lib\\site-packages (from matplotlib) (1.0.5)\n",
      "Requirement already satisfied: cycler>=0.10 in c:\\users\\b0161166\\downloads\\anaconda\\lib\\site-packages (from matplotlib) (0.11.0)\n",
      "Requirement already satisfied: fonttools>=4.22.0 in c:\\users\\b0161166\\downloads\\anaconda\\lib\\site-packages (from matplotlib) (4.25.0)\n",
      "Requirement already satisfied: kiwisolver>=1.0.1 in c:\\users\\b0161166\\downloads\\anaconda\\lib\\site-packages (from matplotlib) (1.4.4)\n",
      "Requirement already satisfied: packaging>=20.0 in c:\\users\\b0161166\\downloads\\anaconda\\lib\\site-packages (from matplotlib) (23.1)\n",
      "Requirement already satisfied: pillow>=6.2.0 in c:\\users\\b0161166\\downloads\\anaconda\\lib\\site-packages (from matplotlib) (9.4.0)\n",
      "Requirement already satisfied: pyparsing<3.1,>=2.3.1 in c:\\users\\b0161166\\downloads\\anaconda\\lib\\site-packages (from matplotlib) (3.0.9)\n",
      "Requirement already satisfied: tenacity>=6.2.0 in c:\\users\\b0161166\\downloads\\anaconda\\lib\\site-packages (from plotly) (8.2.2)\n",
      "Requirement already satisfied: scipy>=1.7.0 in c:\\users\\b0161166\\downloads\\anaconda\\lib\\site-packages (from gensim) (1.10.1)\n",
      "Requirement already satisfied: smart-open>=1.8.1 in c:\\users\\b0161166\\downloads\\anaconda\\lib\\site-packages (from gensim) (5.2.1)\n",
      "Requirement already satisfied: FuzzyTM>=0.4.0 in c:\\users\\b0161166\\downloads\\anaconda\\lib\\site-packages (from gensim) (2.0.9)\n",
      "Requirement already satisfied: joblib>=1.1.1 in c:\\users\\b0161166\\downloads\\anaconda\\lib\\site-packages (from scikit-learn) (1.2.0)\n",
      "Requirement already satisfied: threadpoolctl>=2.0.0 in c:\\users\\b0161166\\downloads\\anaconda\\lib\\site-packages (from scikit-learn) (2.2.0)\n",
      "Requirement already satisfied: click in c:\\users\\b0161166\\downloads\\anaconda\\lib\\site-packages (from nltk) (8.0.4)\n",
      "Requirement already satisfied: regex>=2021.8.3 in c:\\users\\b0161166\\downloads\\anaconda\\lib\\site-packages (from nltk) (2022.7.9)\n",
      "Requirement already satisfied: tqdm in c:\\users\\b0161166\\downloads\\anaconda\\lib\\site-packages (from nltk) (4.65.0)\n",
      "Requirement already satisfied: pyfume in c:\\users\\b0161166\\downloads\\anaconda\\lib\\site-packages (from FuzzyTM>=0.4.0->gensim) (0.3.4)\n",
      "Requirement already satisfied: six>=1.5 in c:\\users\\b0161166\\downloads\\anaconda\\lib\\site-packages (from python-dateutil>=2.8.1->pandas) (1.16.0)\n",
      "Requirement already satisfied: colorama in c:\\users\\b0161166\\downloads\\anaconda\\lib\\site-packages (from click->nltk) (0.4.6)\n",
      "Requirement already satisfied: simpful==2.12.0 in c:\\users\\b0161166\\downloads\\anaconda\\lib\\site-packages (from pyfume->FuzzyTM>=0.4.0->gensim) (2.12.0)\n",
      "Requirement already satisfied: fst-pso==1.8.1 in c:\\users\\b0161166\\downloads\\anaconda\\lib\\site-packages (from pyfume->FuzzyTM>=0.4.0->gensim) (1.8.1)\n",
      "Requirement already satisfied: miniful in c:\\users\\b0161166\\downloads\\anaconda\\lib\\site-packages (from fst-pso==1.8.1->pyfume->FuzzyTM>=0.4.0->gensim) (0.0.6)\n"
     ]
    }
   ],
   "source": [
    "!pip install numpy pandas matplotlib plotly gensim scikit-learn nltk\n"
   ]
  },
  {
   "cell_type": "code",
   "execution_count": 5,
   "id": "81064d31",
   "metadata": {},
   "outputs": [],
   "source": [
    "import numpy as np\n",
    "import pandas as pd\n",
    "import matplotlib.pyplot as plt\n",
    "import plotly.express as px\n",
    "import gensim\n",
    "import nltk\n",
    "from sklearn.feature_extraction.text import CountVectorizer\n"
   ]
  },
  {
   "cell_type": "code",
   "execution_count": 6,
   "id": "b4d1bc7a",
   "metadata": {},
   "outputs": [
    {
     "name": "stdout",
     "output_type": "stream",
     "text": [
      "                                 Movie name Release Year           Rating  \\\n",
      "0                           Aftersun (2022)         2022   â??â??â??â??Â½   \n",
      "1                              Joker (2019)         2019  â??â??â??â??â??   \n",
      "2       Puss in Boots: The Last Wish (2022)         2022            â??Â½   \n",
      "3          The Banshees of Inisherin (2022)         2022  â??â??â??â??â??   \n",
      "4  Everything Everywhere All at Once (2022)         2022         â??â??Â½   \n",
      "\n",
      "     Reviewer name Review date  \\\n",
      "0           Tuomas   12-Jan-20   \n",
      "1             Joao   20-Dec-22   \n",
      "2         NicoPico   15-Sep-22   \n",
      "3        Ella Kemp    8-Apr-22   \n",
      "4  CosmonautMarkie   14-Aug-19   \n",
      "\n",
      "                                              Review Comment count  \\\n",
      "0                  This review may contain spoilers.           130   \n",
      "1  if youâ??ve never swam in the ocean then of co...          1.8K   \n",
      "2                Puss in Boots: Into the Pussy-Verse          6  2   \n",
      "3  I will NOT leave my donkey outside when Iâ??m sad           NaN   \n",
      "4  Watch it and have fun before film Twitter tell...           355   \n",
      "\n",
      "              Like count  \n",
      "0        22,44 6   likes  \n",
      "1           22,032 likes  \n",
      "2  21, 6   6   6   likes  \n",
      "3        21, 6  09 likes  \n",
      "4        20, 6  88 likes  \n",
      "            Movie name Release Date       Rating  \\\n",
      "0        Touch of Evil     1-Feb-58      | PG-13   \n",
      "1        Seven Samurai    19-Nov-56  | Not Rated   \n",
      "2       The Wild Bunch    18-Jun-69          | R   \n",
      "3  Au hasard Balthazar    16-Sep-66  | Not Rated   \n",
      "4    The Lady Vanishes     1-Nov-38   | Approved   \n",
      "\n",
      "                                             summary User rating  \\\n",
      "0  This film noir portrait of corruption and mora...         8.4   \n",
      "1  Seven Samurai (Shichinin no samurai) tells the...         8.8   \n",
      "2  An aging group of outlaws look for one last bi...         7.6   \n",
      "3  Robert Bresson's 1966 film focuses on the stor...         7.1   \n",
      "4  While travelling in continental Europe, a rich...         8.1   \n",
      "\n",
      "   Website rating  \n",
      "0              99  \n",
      "1              98  \n",
      "2              98  \n",
      "3              98  \n",
      "4              98  \n"
     ]
    }
   ],
   "source": [
    "import pandas as pd\n",
    "\n",
    "# Loading the first dataset\n",
    "data = pd.read_csv(r'C:\\Users\\b0161166\\Documents\\LDA_Topic_Modeling_Project\\Datasets\\MovieReviews\\letterboxd-reviews.csv', encoding='ISO-8859-1')\n",
    "\n",
    "# Loading the second dataset\n",
    "data2 = pd.read_csv(r'C:\\Users\\b0161166\\Documents\\LDA_Topic_Modeling_Project\\Datasets\\MovieReviews\\metacritic-reviews.csv', encoding='ISO-8859-1', on_bad_lines='skip')\n",
    "\n",
    "# Display the first few rows of both datasets\n",
    "print(data.head())\n",
    "print(data2.head())\n"
   ]
  },
  {
   "cell_type": "code",
   "execution_count": 7,
   "id": "54c9a873",
   "metadata": {},
   "outputs": [
    {
     "name": "stderr",
     "output_type": "stream",
     "text": [
      "[nltk_data] Downloading package stopwords to\n",
      "[nltk_data]     C:\\Users\\b0161166\\AppData\\Roaming\\nltk_data...\n",
      "[nltk_data]   Package stopwords is already up-to-date!\n",
      "[nltk_data] Downloading package wordnet to\n",
      "[nltk_data]     C:\\Users\\b0161166\\AppData\\Roaming\\nltk_data...\n",
      "[nltk_data]   Package wordnet is already up-to-date!\n"
     ]
    },
    {
     "name": "stdout",
     "output_type": "stream",
     "text": [
      "First dataset cleaned text:\n",
      "                                              Review  \\\n",
      "0                  This review may contain spoilers.   \n",
      "1  if youâ??ve never swam in the ocean then of co...   \n",
      "2                Puss in Boots: Into the Pussy-Verse   \n",
      "3  I will NOT leave my donkey outside when Iâ??m sad   \n",
      "4  Watch it and have fun before film Twitter tell...   \n",
      "\n",
      "                                        cleaned_text  \n",
      "0                       review may contain spoilers.  \n",
      "1  youâ??ve never swam ocean course pool seems deep.  \n",
      "2                             pus boots: pussy-verse  \n",
      "3                     leave donkey outside iâ??m sad  \n",
      "4       watch fun film twitter tell itâ??s overrated  \n",
      "\n",
      "Second dataset cleaned text:\n",
      "                                             summary  \\\n",
      "0  This film noir portrait of corruption and mora...   \n",
      "1  Seven Samurai (Shichinin no samurai) tells the...   \n",
      "2  An aging group of outlaws look for one last bi...   \n",
      "3  Robert Bresson's 1966 film focuses on the stor...   \n",
      "4  While travelling in continental Europe, a rich...   \n",
      "\n",
      "                                        cleaned_text  \n",
      "0  film noir portrait corruption morally-compromi...  \n",
      "1  seven samurai (shichinin samurai) tell story s...  \n",
      "2  aging group outlaw look one last big score \"tr...  \n",
      "3  robert bresson's 1966 film focus story donkey ...  \n",
      "4  travelling continental europe, rich young play...  \n"
     ]
    }
   ],
   "source": [
    "import nltk\n",
    "from nltk.corpus import stopwords\n",
    "from nltk.stem import WordNetLemmatizer\n",
    "\n",
    "# Downloading required NLTK resources\n",
    "nltk.download('stopwords')\n",
    "nltk.download('wordnet')\n",
    "\n",
    "# Defining the preprocessing function\n",
    "def preprocess_text(text):\n",
    "    # Check if text is a valid string\n",
    "    if isinstance(text, str):\n",
    "        stop_words = set(stopwords.words('english'))  # Get English stopwords\n",
    "        lemmatizer = WordNetLemmatizer()  # Initialize lemmatizer\n",
    "        tokens = text.split()  # Split text into words\n",
    "        # Remove stopwords and lemmatize\n",
    "        tokens = [lemmatizer.lemmatize(word.lower()) for word in tokens if word.lower() not in stop_words]\n",
    "        return \" \".join(tokens)\n",
    "    else:\n",
    "        # If text is not valid, return an empty string\n",
    "        return \"\"\n",
    "\n",
    "# Applying the preprocessing function to the 'Review' column in the first dataset\n",
    "data['cleaned_text'] = data['Review'].apply(preprocess_text)\n",
    "\n",
    "# Applying the preprocessing function to the 'summary' column in the second dataset\n",
    "data2['cleaned_text'] = data2['summary'].apply(preprocess_text)\n",
    "\n",
    "# To display the first few rows of the cleaned text from both datasets\n",
    "print(\"First dataset cleaned text:\")\n",
    "print(data[['Review', 'cleaned_text']].head())\n",
    "\n",
    "print(\"\\nSecond dataset cleaned text:\")\n",
    "print(data2[['summary', 'cleaned_text']].head())\n"
   ]
  },
  {
   "cell_type": "code",
   "execution_count": 3,
   "id": "9cad46c3",
   "metadata": {},
   "outputs": [
    {
     "name": "stdout",
     "output_type": "stream",
     "text": [
      "\n",
      "Topics for Dataset 1 (N=5):\n",
      "Topic 3: 0.022*\"movie\" + 0.019*\"like\" + 0.008*\"one\" + 0.007*\"film\" + 0.005*\"would\" + 0.005*\"feel\" + 0.005*\"ever\" + 0.005*\"think\" + 0.004*\"fucking\" + 0.004*\"good\" - Frequency: 1138.279296875\n",
      "Topic 5: 0.016*\"movie\" + 0.007*\"like\" + 0.007*\"want\" + 0.006*\"make\" + 0.006*\"get\" + 0.006*\"time\" + 0.006*\"itâ??s\" + 0.005*\"film\" + 0.005*\"every\" + 0.004*\"really\" - Frequency: 1013.9064331054688\n",
      "Topic 1: 0.006*\"gay\" + 0.006*\"like\" + 0.004*\"time\" + 0.004*\"one\" + 0.004*\"iâ??m\" + 0.004*\"get\" + 0.004*\"girl\" + 0.004*\"film\" + 0.004*\"watching\" + 0.004*\"fucking\" - Frequency: 904.466796875\n",
      "Topic 2: 0.011*\"movie\" + 0.007*\"love\" + 0.006*\"see\" + 0.006*\"ever\" + 0.005*\"like\" + 0.005*\"people\" + 0.005*\"know\" + 0.005*\"one\" + 0.004*\"man\" + 0.004*\"film\" - Frequency: 899.5299072265625\n",
      "Topic 4: 0.069*\"?â\" + 0.027*\"â\" + 0.004*\"go\" + 0.003*\"good\" + 0.003*\"cry\" + 0.003*\"would\" + 0.003*\"\\_\" + 0.003*\"_/\" + 0.003*\"movie\" + 0.003*\"making\" - Frequency: 632.9182739257812\n",
      "\n",
      "Topics for Dataset 1 (N=10):\n",
      "Topic 1: 0.022*\"movie\" + 0.014*\"like\" + 0.009*\"iâ??m\" + 0.009*\"one\" + 0.008*\"really\" + 0.008*\"good\" + 0.008*\"make\" + 0.007*\"film\" + 0.007*\"two\" + 0.007*\"thing\" - Frequency: 621.2374877929688\n",
      "Topic 10: 0.018*\"ever\" + 0.017*\"movie\" + 0.014*\"seen\" + 0.010*\"love\" + 0.008*\"star\" + 0.007*\"like\" + 0.007*\"get\" + 0.006*\"great\" + 0.006*\"call\" + 0.006*\"oh\" - Frequency: 561.6951904296875\n",
      "Topic 7: 0.015*\"like\" + 0.011*\"movie\" + 0.008*\"film\" + 0.007*\"shit\" + 0.007*\"think\" + 0.006*\"fucking\" + 0.005*\"watching\" + 0.005*\"people\" + 0.005*\"itâ??s\" + 0.005*\"life\" - Frequency: 541.0278930664062\n",
      "Topic 6: 0.034*\"â\" + 0.012*\"like\" + 0.011*\"time\" + 0.011*\"movie\" + 0.010*\"every\" + 0.008*\"would\" + 0.006*\"know\" + 0.006*\"film\" + 0.005*\"old\" + 0.005*\"made\" - Frequency: 522.5650024414062\n",
      "Topic 9: 0.016*\"movie\" + 0.011*\"like\" + 0.010*\"way\" + 0.008*\"man\" + 0.007*\"one\" + 0.007*\"someone\" + 0.005*\"home\" + 0.005*\"hour\" + 0.005*\"action\" + 0.005*\"itâ??s\" - Frequency: 437.0765686035156\n",
      "Topic 3: 0.015*\"movie\" + 0.010*\"itâ??s\" + 0.008*\"like\" + 0.007*\"iâ??m\" + 0.007*\"think\" + 0.006*\"gay\" + 0.005*\"never\" + 0.005*\"see\" + 0.004*\"hot.\" + 0.004*\"hot\" - Frequency: 431.95208740234375\n",
      "Topic 5: 0.008*\"best\" + 0.007*\"ð??\" + 0.007*\"one\" + 0.006*\"good\" + 0.005*\"see\" + 0.005*\"film\" + 0.005*\"sheâ??s\" + 0.005*\"minute\" + 0.005*\"beautiful\" + 0.005*\"6\" - Frequency: 419.9520263671875\n",
      "Topic 4: 0.009*\"movie\" + 0.009*\"ð??­\" + 0.008*\"hand\" + 0.006*\"away\" + 0.006*\"say\" + 0.005*\"love\" + 0.005*\"fuck\" + 0.005*\"would\" + 0.005*\"there's\" + 0.005*\"go\" - Frequency: 387.0324401855469\n",
      "Topic 8: 0.016*\"gay\" + 0.008*\"go\" + 0.007*\"film\" + 0.007*\"-\" + 0.006*\"want\" + 0.006*\"bad\" + 0.006*\"kid\" + 0.005*\"jake\" + 0.005*\"disney\" + 0.005*\"movie\" - Frequency: 338.97174072265625\n",
      "Topic 2: 0.170*\"?â\" + 0.006*\"cool\" + 0.006*\"wish\" + 0.006*\"stop\" + 0.004*\"late\" + 0.004*\"guess\" + 0.004*\"apartment\" + 0.004*\"need\" + 0.004*\"social\" + 0.004*\"heard\" - Frequency: 272.2496643066406\n",
      "\n",
      "Topics for Dataset 1 (N=20):\n",
      "Topic 12: 0.057*\"movie\" + 0.026*\"like\" + 0.021*\"think\" + 0.016*\"good\" + 0.016*\"itâ??s\" + 0.013*\"much\" + 0.012*\"way\" + 0.012*\"never\" + 0.012*\"one\" + 0.011*\"ever\" - Frequency: 425.02703857421875\n",
      "Topic 13: 0.037*\"iâ??m\" + 0.022*\"know\" + 0.021*\"like\" + 0.019*\"fuck\" + 0.015*\"movie\" + 0.012*\"bitch\" + 0.012*\"itâ??s\" + 0.011*\"people\" + 0.011*\"ð??\" + 0.010*\"film\" - Frequency: 288.9030456542969\n",
      "Topic 7: 0.025*\"film\" + 0.021*\"thing\" + 0.020*\"movie\" + 0.015*\"best\" + 0.014*\"ever\" + 0.014*\"one\" + 0.012*\"entire\" + 0.011*\"made\" + 0.011*\"woman\" + 0.010*\"year\" - Frequency: 269.3800964355469\n",
      "Topic 10: 0.024*\"seen\" + 0.024*\"movie\" + 0.021*\"ever\" + 0.016*\"said\" + 0.016*\"one\" + 0.013*\"thing\" + 0.012*\"6\" + 0.012*\"second\" + 0.011*\"iâ??ve\" + 0.011*\"every\" - Frequency: 263.4639892578125\n",
      "Topic 6: 0.028*\"get\" + 0.022*\"still\" + 0.020*\"going\" + 0.014*\"want\" + 0.014*\"movie\" + 0.012*\"one\" + 0.011*\"many\" + 0.010*\"fuck\" + 0.010*\"two\" + 0.010*\"another\" - Frequency: 262.32427978515625\n",
      "Topic 20: 0.032*\"like\" + 0.028*\"movie\" + 0.021*\"look\" + 0.021*\"girl\" + 0.012*\"straight\" + 0.012*\"saw\" + 0.010*\"would\" + 0.009*\"fucking\" + 0.009*\"whole\" + 0.009*\"make\" - Frequency: 247.85789489746094\n",
      "Topic 15: 0.022*\"movie\" + 0.013*\"horror\" + 0.011*\"full\" + 0.009*\"scene\" + 0.009*\"gonna\" + 0.009*\"one\" + 0.008*\"say\" + 0.008*\"line\" + 0.008*\"best\" + 0.008*\"far\" - Frequency: 232.82235717773438\n",
      "Topic 18: 0.020*\"make\" + 0.014*\"family\" + 0.013*\"know\" + 0.012*\"someone\" + 0.011*\"movie\" + 0.011*\"like\" + 0.010*\"living\" + 0.010*\"give\" + 0.010*\"letterboxd\" + 0.009*\"two\" - Frequency: 230.55450439453125\n",
      "Topic 4: 0.026*\"gay\" + 0.022*\"need\" + 0.021*\"call\" + 0.020*\"time\" + 0.019*\"every\" + 0.017*\"stop\" + 0.014*\"david\" + 0.013*\"next\" + 0.012*\"old\" + 0.010*\"film\" - Frequency: 221.22482299804688\n",
      "Topic 16: 0.026*\"gonna\" + 0.016*\"like\" + 0.011*\"well\" + 0.011*\"&\" + 0.011*\"silly\" + 0.010*\"little\" + 0.010*\"sound\" + 0.010*\"eat\" + 0.009*\"birthday\" + 0.008*\"would\" - Frequency: 209.84315490722656\n",
      "Topic 5: 0.038*\"love\" + 0.025*\"would\" + 0.016*\"loved\" + 0.013*\"dad\" + 0.011*\"dead\" + 0.011*\"me:\" + 0.011*\"song\" + 0.011*\"class\" + 0.010*\"gay\" + 0.009*\"night\" - Frequency: 200.47293090820312\n",
      "Topic 1: 0.027*\"wish\" + 0.025*\"star\" + 0.019*\"5\" + 0.015*\"actually\" + 0.013*\"sheâ??s\" + 0.013*\"looking\" + 0.011*\"hard\" + 0.011*\"like\" + 0.011*\"cinema\" + 0.010*\"wow\" - Frequency: 198.99078369140625\n",
      "Topic 2: 0.034*\"man\" + 0.021*\"oh\" + 0.020*\"put\" + 0.015*\"let\" + 0.014*\"see\" + 0.013*\"cried\" + 0.013*\"canâ??t\" + 0.012*\"long\" + 0.012*\"tell\" + 0.011*\"jake\" - Frequency: 189.58319091796875\n",
      "Topic 8: 0.027*\"feel\" + 0.022*\"fucking\" + 0.019*\"go\" + 0.016*\"like\" + 0.014*\"say\" + 0.014*\"tarantino\" + 0.011*\"film\" + 0.010*\"film.\" + 0.010*\"make\" + 0.010*\"john\" - Frequency: 189.20375061035156\n",
      "Topic 14: 0.021*\"boy\" + 0.018*\"u\" + 0.018*\"shit\" + 0.018*\"ok\" + 0.015*\"cry\" + 0.013*\"happened\" + 0.011*\"can't\" + 0.011*\"lady\" + 0.009*\"sad\" + 0.009*\"amazing\" - Frequency: 177.89170837402344\n",
      "Topic 9: 0.023*\"people\" + 0.014*\"better\" + 0.013*\"eye\" + 0.012*\"kinda\" + 0.011*\"poster\" + 0.011*\"political\" + 0.010*\"deserves\" + 0.010*\"imagine\" + 0.009*\"white\" + 0.009*\"comedy\" - Frequency: 173.58770751953125\n",
      "Topic 3: 0.121*\"â\" + 0.020*\"hand\" + 0.017*\"cinematic\" + 0.011*\"flex\" + 0.011*\"that's\" + 0.010*\"way\" + 0.009*\"universe\" + 0.009*\"in.\" + 0.008*\"dick\" + 0.008*\"decided\" - Frequency: 172.29115295410156\n",
      "Topic 11: 0.014*\"sex\" + 0.012*\".\" + 0.011*\"ending\" + 0.011*\"black\" + 0.011*\"rest\" + 0.011*\"ask\" + 0.009*\"five\" + 0.009*\"wanna\" + 0.008*\"suck\" + 0.008*\"start\" - Frequency: 158.94644165039062\n",
      "Topic 17: 0.015*\"character\" + 0.011*\"robert\" + 0.011*\"performance\" + 0.010*\"like\" + 0.010*\"you.\" + 0.009*\"heard\" + 0.008*\"sense\" + 0.008*\"actor\" + 0.008*\"fish\" + 0.008*\"dream\" - Frequency: 152.17066955566406\n",
      "Topic 19: 0.321*\"?â\" + 0.021*\"ð??­\" + 0.010*\"miss\" + 0.007*\"concept\" + 0.007*\"him,\" + 0.007*\"?\" + 0.006*\"â\" + 0.005*\"total\" + 0.005*\"waiting\" + 0.004*\"score,\" - Frequency: 117.5829086303711\n",
      "\n",
      "Topics for Dataset 1 (N=50):\n",
      "Topic 33: 0.149*\"like\" + 0.073*\"feel\" + 0.065*\"fucking\" + 0.042*\"movie\" + 0.037*\"fuck\" + 0.027*\"men\" + 0.024*\"stop\" + 0.017*\"friend\" + 0.016*\"holy\" + 0.015*\"sad\" - Frequency: 149.55868530273438\n",
      "Topic 3: 0.080*\"time\" + 0.063*\"every\" + 0.054*\"watch\" + 0.049*\"movie\" + 0.041*\"watching\" + 0.028*\"canâ??t\" + 0.021*\"better\" + 0.019*\"anything\" + 0.017*\"film\" + 0.017*\"one\" - Frequency: 140.283447265625\n",
      "Topic 35: 0.045*\"made\" + 0.038*\"movie\" + 0.035*\"fun\" + 0.031*\"itâ??s\" + 0.028*\"kind\" + 0.024*\"oh\" + 0.018*\"mean\" + 0.016*\"much\" + 0.015*\"like\" + 0.015*\"story\" - Frequency: 116.92388153076172\n",
      "Topic 40: 0.119*\"ever\" + 0.077*\"seen\" + 0.044*\"movie\" + 0.030*\"iâ??ve\" + 0.029*\"one\" + 0.022*\"film\" + 0.019*\"since\" + 0.013*\"laugh\" + 0.013*\"good\" + 0.013*\"place\" - Frequency: 112.0540542602539\n",
      "Topic 45: 0.099*\"know\" + 0.043*\"like\" + 0.042*\"guy\" + 0.041*\"still\" + 0.024*\"movie\" + 0.023*\"everyone\" + 0.018*\"isnâ??t\" + 0.017*\"really\" + 0.016*\"top\" + 0.014*\"10\" - Frequency: 110.68743133544922\n",
      "Topic 10: 0.076*\"never\" + 0.070*\"iâ??m\" + 0.063*\"say\" + 0.053*\"star\" + 0.030*\"5\" + 0.025*\"tarantino\" + 0.024*\"movie\" + 0.023*\"glad\" + 0.018*\"cinema\" + 0.017*\"war\" - Frequency: 103.2678451538086\n",
      "Topic 8: 0.072*\"scene\" + 0.064*\"best\" + 0.058*\"film\" + 0.049*\"first\" + 0.033*\"sex\" + 0.028*\"think\" + 0.028*\"movie\" + 0.024*\"rest\" + 0.021*\"without\" + 0.020*\"cool\" - Frequency: 101.8408432006836\n",
      "Topic 26: 0.037*\"great\" + 0.034*\"movie\" + 0.026*\"film\" + 0.024*\"minute\" + 0.023*\"literally\" + 0.021*\"make\" + 0.018*\"brad\" + 0.017*\"wes\" + 0.015*\"really\" + 0.014*\"30\" - Frequency: 101.40034484863281\n",
      "Topic 30: 0.072*\"get\" + 0.046*\"need\" + 0.030*\"gonna\" + 0.029*\"maybe\" + 0.029*\"instead\" + 0.026*\"wrong\" + 0.024*\"second\" + 0.022*\"movie\" + 0.017*\"something\" + 0.013*\"super\" - Frequency: 99.04403686523438\n",
      "Topic 42: 0.028*\"funny\" + 0.028*\"film\" + 0.027*\"like\" + 0.026*\"thought\" + 0.019*\"lesbian\" + 0.019*\"itâ??s\" + 0.018*\"well\" + 0.017*\"gonna\" + 0.017*\"â??i\" + 0.015*\"game\" - Frequency: 97.13628387451172\n",
      "Topic 5: 0.114*\"want\" + 0.061*\"make\" + 0.052*\"shit\" + 0.026*\"beautiful\" + 0.023*\"feel\" + 0.022*\"turn\" + 0.019*\"hour\" + 0.014*\"everything\" + 0.014*\"get\" + 0.013*\"someone\" - Frequency: 95.26544952392578\n",
      "Topic 36: 0.047*\"anyone\" + 0.039*\"little\" + 0.034*\"song\" + 0.034*\"probably\" + 0.024*\"know\" + 0.021*\"favorite\" + 0.020*\"one\" + 0.020*\"called\" + 0.017*\"much\" + 0.014*\"film\" - Frequency: 94.30865478515625\n",
      "Topic 34: 0.048*\"entire\" + 0.034*\"hard\" + 0.033*\"thing\" + 0.021*\"good\" + 0.021*\"lot\" + 0.021*\"idea\" + 0.019*\"act\" + 0.017*\"felt\" + 0.015*\"that.\" + 0.015*\"â??\" - Frequency: 92.18103790283203\n",
      "Topic 41: 0.175*\"would\" + 0.072*\"said\" + 0.050*\"imagine\" + 0.047*\"bitch\" + 0.030*\"can't\" + 0.026*\"believe\" + 0.024*\"school\" + 0.021*\"let\" + 0.018*\"culture\" + 0.017*\"minute\" - Frequency: 91.11760711669922\n",
      "Topic 38: 0.057*\"look\" + 0.046*\"put\" + 0.023*\"academy\" + 0.019*\"phone\" + 0.018*\"playing\" + 0.016*\"20\" + 0.014*\"fuck\" + 0.013*\"heard\" + 0.013*\"itâ??s\" + 0.012*\"go\" - Frequency: 88.96537017822266\n",
      "Topic 24: 0.082*\"way\" + 0.048*\"home\" + 0.037*\"ð??­\" + 0.036*\"movie\" + 0.029*\"-\" + 0.028*\"single\" + 0.028*\"sorry\" + 0.022*\"there's\" + 0.022*\"horror\" + 0.019*\"every\" - Frequency: 88.42622375488281\n",
      "Topic 12: 0.094*\"think\" + 0.042*\"it.\" + 0.042*\"donâ??t\" + 0.025*\"movie\" + 0.022*\"oscar\" + 0.014*\"social\" + 0.014*\"exist\" + 0.014*\"thing.\" + 0.012*\"smart\" + 0.012*\"sense\" - Frequency: 87.6347427368164\n",
      "Topic 29: 0.028*\"film.\" + 0.023*\"went\" + 0.020*\"truly\" + 0.019*\"face\" + 0.018*\"feeling\" + 0.017*\"screen\" + 0.017*\"hit\" + 0.016*\"one\" + 0.014*\"still\" + 0.013*\"thereâ??s\" - Frequency: 87.26654815673828\n",
      "Topic 27: 0.062*\"back\" + 0.056*\"wish\" + 0.046*\"character\" + 0.044*\"6\" + 0.035*\"movie\" + 0.033*\"play\" + 0.019*\"actor\" + 0.016*\"around\" + 0.016*\"one\" + 0.016*\"batman\" - Frequency: 85.62897491455078\n",
      "Topic 28: 0.047*\"actually\" + 0.032*\"movie\" + 0.031*\"dead\" + 0.026*\"sheâ??s\" + 0.025*\"found\" + 0.024*\"girl\" + 0.023*\"relate\" + 0.022*\"it,\" + 0.018*\"time\" + 0.016*\"space\" - Frequency: 85.51863861083984\n",
      "Topic 46: 0.042*\"also\" + 0.039*\"nothing\" + 0.033*\"youâ??re\" + 0.030*\"thatâ??s\" + 0.026*\"ð???\" + 0.025*\"right\" + 0.020*\"night\" + 0.020*\"like\" + 0.018*\"okay\" + 0.017*\"bit\" - Frequency: 84.97718811035156\n",
      "Topic 39: 0.113*\"man\" + 0.033*\"end\" + 0.025*\"god\" + 0.025*\"hate\" + 0.023*\"one\" + 0.018*\"thing\" + 0.017*\"never\" + 0.017*\"decided\" + 0.015*\"alone\" + 0.014*\"say\" - Frequency: 84.40982055664062\n",
      "Topic 31: 0.048*\"woman\" + 0.044*\"new\" + 0.041*\"white\" + 0.039*\"tell\" + 0.034*\"nice\" + 0.022*\"apartment\" + 0.020*\"bro\" + 0.019*\"long\" + 0.019*\"rich\" + 0.018*\"yeah\" - Frequency: 82.46183013916016\n",
      "Topic 21: 0.040*\"dad\" + 0.040*\"sometimes\" + 0.037*\"straight\" + 0.033*\"true\" + 0.029*\"stupid\" + 0.026*\"watched\" + 0.022*\"del\" + 0.020*\"people\" + 0.019*\"horny\" + 0.018*\"power\" - Frequency: 82.1589126586914\n",
      "Topic 22: 0.090*\"go\" + 0.043*\"cry\" + 0.034*\"like\" + 0.031*\"started\" + 0.031*\"life\" + 0.027*\"point\" + 0.024*\"really\" + 0.024*\"movie\" + 0.023*\"3\" + 0.017*\"said\" - Frequency: 80.99164581298828\n",
      "Topic 13: 0.121*\"gay\" + 0.060*\"someone\" + 0.046*\"trying\" + 0.036*\"please\" + 0.024*\"baby\" + 0.022*\"getting\" + 0.021*\"action\" + 0.018*\"edward\" + 0.018*\"think\" + 0.016*\"see\" - Frequency: 78.82250213623047\n",
      "Topic 19: 0.042*\"many\" + 0.028*\"paul\" + 0.022*\"this.\" + 0.021*\"close\" + 0.020*\"greatest\" + 0.018*\"itâ??s\" + 0.017*\"write\" + 0.016*\"something\" + 0.016*\"absolutely\" + 0.015*\"psychological\" - Frequency: 78.72604370117188\n",
      "Topic 2: 0.052*\"hot\" + 0.034*\"me:\" + 0.031*\"used\" + 0.025*\"robert\" + 0.023*\".\" + 0.022*\"dog\" + 0.021*\"ask\" + 0.016*\"christopher\" + 0.016*\"king\" + 0.016*\"five\" - Frequency: 78.01805114746094\n",
      "Topic 37: 0.072*\"got\" + 0.042*\"&\" + 0.029*\"damn\" + 0.020*\"kill\" + 0.020*\"amazing\" + 0.020*\"teacher\" + 0.020*\"ryan\" + 0.019*\"class\" + 0.015*\"always\" + 0.015*\"gosling\" - Frequency: 75.98426055908203\n",
      "Topic 14: 0.056*\"much\" + 0.047*\"ð??\" + 0.022*\"looking\" + 0.019*\"sound\" + 0.018*\"\"i\" + 0.015*\"couple\" + 0.015*\"family\" + 0.015*\"walk\" + 0.015*\"win\" + 0.015*\"train\" - Frequency: 75.60295104980469\n",
      "Topic 9: 0.097*\"going\" + 0.058*\"real\" + 0.031*\"high\" + 0.027*\"child\" + 0.024*\"here,\" + 0.022*\"start\" + 0.021*\"young\" + 0.018*\"become\" + 0.016*\"happens\" + 0.016*\"realize\" - Frequency: 74.20919036865234\n",
      "Topic 23: 0.046*\"movie\" + 0.041*\"perfect\" + 0.032*\"lady\" + 0.030*\"support\" + 0.026*\"fucked\" + 0.018*\"run\" + 0.018*\"clearly\" + 0.016*\"bird\" + 0.016*\"talk\" + 0.014*\"god,\" - Frequency: 73.6556396484375\n",
      "Topic 32: 0.046*\"take\" + 0.039*\"wanna\" + 0.038*\"cinematic\" + 0.036*\"next\" + 0.030*\"try\" + 0.029*\"david\" + 0.023*\"universe\" + 0.020*\"too.\" + 0.020*\"|\" + 0.020*\"in.\" - Frequency: 73.03384399414062\n",
      "Topic 49: 0.042*\"loved\" + 0.032*\"saying\" + 0.026*\"like\" + 0.026*\"emotional\" + 0.024*\"pretty\" + 0.021*\"least\" + 0.020*\"wouldâ??ve\" + 0.019*\"itâ??s\" + 0.019*\"me.\" + 0.016*\"peter\" - Frequency: 72.52916717529297\n",
      "Topic 1: 0.031*\"saw\" + 0.022*\"kinda\" + 0.022*\"poster\" + 0.022*\"crush\" + 0.021*\"immediately\" + 0.020*\"fear\" + 0.020*\"house\" + 0.017*\"first\" + 0.017*\"comedy\" + 0.017*\"concept\" - Frequency: 71.94705200195312\n",
      "Topic 47: 0.246*\"love\" + 0.047*\"full\" + 0.032*\"die\" + 0.030*\"eye\" + 0.029*\"day\" + 0.022*\"netflix\" + 0.021*\"far\" + 0.014*\"dont\" + 0.012*\"happy\" + 0.010*\"challenge\" - Frequency: 71.86670684814453\n",
      "Topic 43: 0.078*\"two\" + 0.030*\"liked\" + 0.026*\"last\" + 0.022*\"movie,\" + 0.019*\"up.\" + 0.018*\"minute\" + 0.017*\"fantastic\" + 0.015*\"cannot\" + 0.014*\"movie\" + 0.014*\"joker\" - Frequency: 71.75016021728516\n",
      "Topic 44: 0.054*\"call\" + 0.040*\"movie.\" + 0.035*\"enough\" + 0.027*\"wait\" + 0.026*\"american\" + 0.026*\"gun\" + 0.023*\"supposed\" + 0.018*\"best\" + 0.014*\"different\" + 0.013*\"her,\" - Frequency: 71.439208984375\n",
      "Topic 11: 0.046*\"people\" + 0.046*\"kid\" + 0.037*\"letterboxd\" + 0.032*\"living\" + 0.032*\"see\" + 0.018*\"out.\" + 0.015*\"money\" + 0.013*\"world,\" + 0.013*\"right?\" + 0.012*\"account\" - Frequency: 71.38314056396484\n",
      "Topic 16: 0.045*\"part\" + 0.035*\"2\" + 0.034*\"yes\" + 0.032*\"heâ??s\" + 0.019*\"â??you\" + 0.018*\"reference\" + 0.015*\"movie:\" + 0.015*\"favourite\" + 0.015*\"trust\" + 0.015*\"harry\" - Frequency: 70.30331420898438\n",
      "Topic 18: 0.027*\"what's\" + 0.026*\"birthday\" + 0.025*\"la\" + 0.023*\"name\" + 0.021*\"whole\" + 0.020*\"eat\" + 0.016*\"pay\" + 0.016*\"scare\" + 0.016*\"color\" + 0.015*\"moment\" - Frequency: 69.41655731201172\n",
      "Topic 15: 0.067*\"give\" + 0.039*\"as\" + 0.032*\"line\" + 0.027*\"theyâ??re\" + 0.024*\"set\" + 0.020*\"john\" + 0.017*\"him,\" + 0.016*\"exactly\" + 0.015*\"experience\" + 0.015*\"bill\" - Frequency: 69.19671630859375\n",
      "Topic 4: 0.068*\"boy\" + 0.026*\"dream\" + 0.024*\"dick\" + 0.022*\"big\" + 0.022*\"allowed\" + 0.020*\"aaron\" + 0.019*\"emily\" + 0.019*\"trip\" + 0.017*\"villain\" + 0.016*\"every\" - Frequency: 66.89289093017578\n",
      "Topic 20: 0.094*\"bad\" + 0.051*\"review\" + 0.031*\"may\" + 0.026*\"us\" + 0.022*\"cast\" + 0.018*\"based\" + 0.016*\"de\" + 0.012*\"march\" + 0.012*\"starring\" + 0.011*\"bob\" - Frequency: 65.44293975830078\n",
      "Topic 17: 0.042*\"old\" + 0.033*\"biggest\" + 0.027*\"honestly\" + 0.024*\"political\" + 0.020*\"ever\" + 0.017*\"another\" + 0.017*\"appreciate\" + 0.016*\"side\" + 0.016*\"dude\" + 0.015*\"together\" - Frequency: 62.17954635620117\n",
      "Topic 48: 0.059*\"that's\" + 0.056*\"away\" + 0.046*\"ok\" + 0.039*\"cried\" + 0.029*\"le\" + 0.022*\"tom\" + 0.018*\"also\" + 0.018*\"would've\" + 0.017*\"technical\" + 0.016*\"absolute\" - Frequency: 61.3624153137207\n",
      "Topic 25: 0.293*\"â\" + 0.056*\"hand\" + 0.027*\"flex\" + 0.022*\"show\" + 0.021*\"dance\" + 0.019*\"might\" + 0.015*\"thinking\" + 0.013*\"weâ??re\" + 0.013*\"mom\" + 0.010*\"hug\" - Frequency: 56.80876541137695\n",
      "Topic 7: 0.035*\"half\" + 0.031*\"room\" + 0.031*\"fight\" + 0.019*\"nickel\" + 0.017*\"boyfriend\" + 0.017*\"twice\" + 0.016*\"throughout\" + 0.014*\"body\" + 0.014*\"obsessed\" + 0.012*\"screamed\" - Frequency: 54.68831253051758\n",
      "Topic 50: 0.057*\"find\" + 0.049*\"seeing\" + 0.043*\"happened\" + 0.032*\"episode\" + 0.025*\"buddy\" + 0.022*\"gotta\" + 0.021*\"grandma\" + 0.015*\"minion\" + 0.014*\"havenâ??t\" + 0.014*\"peak\" - Frequency: 53.702369689941406\n",
      "Topic 6: 0.524*\"?â\" + 0.010*\"â\" + 0.009*\":)\" + 0.007*\"rudd\" + 0.007*\"y'all\" + 0.005*\"¿â\" + 0.005*\"mode\" + 0.005*\"?â¡?â\" + 0.003*\"?\" + 0.003*\"?â¢?â£\" - Frequency: 44.05459976196289\n"
     ]
    },
    {
     "name": "stdout",
     "output_type": "stream",
     "text": [
      "\n",
      "Topics for Dataset 2 (N=5):\n",
      "Topic 4: 0.009*\"life\" + 0.007*\"new\" + 0.007*\"find\" + 0.007*\"young\" + 0.006*\"one\" + 0.005*\"two\" + 0.005*\"family\" + 0.004*\"love\" + 0.004*\"take\" + 0.004*\"woman\" - Frequency: 6936.876953125\n",
      "Topic 2: 0.010*\"film\" + 0.008*\"story\" + 0.004*\"one\" + 0.004*\"life\" + 0.004*\"documentary\" + 0.004*\"american\" + 0.003*\"world\" + 0.003*\"films)\" + 0.003*\"war\" + 0.003*\"first\" - Frequency: 2701.322265625\n",
      "Topic 1: 0.005*\"must\" + 0.004*\"team\" + 0.003*\"agent\" + 0.003*\"find\" + 0.003*\"get\" + 0.003*\"save\" + 0.003*\"go\" + 0.003*\"-\" + 0.002*\"take\" + 0.002*\"help\" - Frequency: 1673.2886962890625\n",
      "Topic 5: 0.002*\"jack\" + 0.002*\"henry\" + 0.001*\"dying\" + 0.001*\"(kevin\" + 0.001*\"hunter\" + 0.001*\"grant\" + 0.001*\"mary\" + 0.001*\"vow\" + 0.001*\"pal\" + 0.001*\"hole\" - Frequency: 776.2637329101562\n",
      "Topic 3: 0.006*\"century\" + 0.004*\"fox)\" + 0.004*\"(20th\" + 0.003*\"cinema)\" + 0.003*\"based\" + 0.003*\"(new\" + 0.002*\"line\" + 0.002*\"alien\" + 0.002*\"--\" + 0.002*\"serial\" - Frequency: 742.9730224609375\n",
      "\n",
      "Topics for Dataset 2 (N=10):\n",
      "Topic 10: 0.013*\"life\" + 0.010*\"new\" + 0.009*\"young\" + 0.009*\"find\" + 0.007*\"one\" + 0.006*\"love\" + 0.006*\"two\" + 0.006*\"family\" + 0.006*\"woman\" + 0.006*\"friend\" - Frequency: 4551.529296875\n",
      "Topic 3: 0.016*\"film\" + 0.016*\"story\" + 0.008*\"life\" + 0.007*\"based\" + 0.007*\"one\" + 0.006*\"world\" + 0.005*\"american\" + 0.005*\"set\" + 0.005*\"true\" + 0.005*\"documentary\" - Frequency: 2520.58984375\n",
      "Topic 8: 0.008*\"find\" + 0.006*\"one\" + 0.006*\"go\" + 0.005*\"must\" + 0.005*\"get\" + 0.005*\"police\" + 0.004*\"murder\" + 0.004*\"crime\" + 0.004*\"take\" + 0.004*\"family\" - Frequency: 1896.06201171875\n",
      "Topic 4: 0.007*\"world\" + 0.007*\"team\" + 0.007*\"must\" + 0.005*\"force\" + 0.005*\"save\" + 0.004*\"battle\" + 0.004*\"evil\" + 0.004*\"one\" + 0.004*\"fight\" + 0.004*\"group\" - Frequency: 1545.026611328125\n",
      "Topic 9: 0.006*\"comedy\" + 0.006*\"pictures)\" + 0.005*\"--\" + 0.004*\"hilarious\" + 0.003*\"star\" + 0.003*\"comic\" + 0.003*\"rock\" + 0.003*\"movie\" + 0.002*\"look\" + 0.002*\"disney\" - Frequency: 866.656982421875\n",
      "Topic 6: 0.009*\"fox)\" + 0.009*\"century\" + 0.008*\"(20th\" + 0.004*\"ben\" + 0.004*\"undercover\" + 0.004*\"kate\" + 0.004*\"joe\" + 0.003*\"dating\" + 0.002*\"business.\" + 0.002*\"sex,\" - Frequency: 501.1167907714844\n",
      "Topic 2: 0.004*\"pilot\" + 0.004*\"jonathan\" + 0.004*\"thief\" + 0.004*\"crazy\" + 0.003*\"15\" + 0.003*\"louis\" + 0.002*\"vampire\" + 0.002*\"placed\" + 0.002*\"(nicolas\" + 0.002*\"god\" - Frequency: 258.3809509277344\n",
      "Topic 1: 0.011*\"(new\" + 0.010*\"cinema)\" + 0.008*\"line\" + 0.005*\"outrageous\" + 0.004*\"thriller,\" + 0.004*\"(kevin\" + 0.004*\"dave\" + 0.003*\"strip\" + 0.003*\"israeli\" + 0.003*\"niece\" - Frequency: 197.89320373535156\n",
      "Topic 5: 0.008*\"gate\" + 0.007*\"(lions\" + 0.004*\"misfit\" + 0.004*\"studios)\" + 0.003*\"halloween\" + 0.003*\"bride\" + 0.003*\"earlier,\" + 0.003*\"killer,\" + 0.002*\"insane\" + 0.002*\"diamond\" - Frequency: 166.99859619140625\n",
      "Topic 7: 0.013*\"serial\" + 0.003*\"guardian\" + 0.003*\"will,\" + 0.003*\"mogul\" + 0.003*\"navy\" + 0.003*\"korean\" + 0.003*\"havoc\" + 0.003*\"ricky\" + 0.002*\"one-night\" + 0.002*\"virginia\" - Frequency: 124.19274139404297\n",
      "\n",
      "Topics for Dataset 2 (N=20):\n",
      "Topic 8: 0.013*\"life\" + 0.012*\"find\" + 0.011*\"new\" + 0.010*\"one\" + 0.009*\"young\" + 0.007*\"family\" + 0.007*\"get\" + 0.007*\"two\" + 0.006*\"friend\" + 0.006*\"take\" - Frequency: 4737.5986328125\n",
      "Topic 5: 0.020*\"story\" + 0.018*\"film\" + 0.011*\"life\" + 0.008*\"one\" + 0.007*\"new\" + 0.007*\"set\" + 0.007*\"films)\" + 0.007*\"world\" + 0.006*\"love\" + 0.006*\"follows\" - Frequency: 2420.94384765625\n",
      "Topic 2: 0.010*\"must\" + 0.010*\"team\" + 0.009*\"world\" + 0.007*\"battle\" + 0.007*\"war\" + 0.006*\"save\" + 0.006*\"set\" + 0.006*\"force\" + 0.006*\"killer\" + 0.005*\"agent\" - Frequency: 1392.8182373046875\n",
      "Topic 12: 0.023*\"school\" + 0.020*\"high\" + 0.012*\"drug\" + 0.006*\"student\" + 0.006*\"bank\" + 0.005*\"police\" + 0.005*\"car\" + 0.005*\"hotel\" + 0.005*\"senior\" + 0.005*\"crime\" - Frequency: 525.9185180664062\n",
      "Topic 18: 0.009*\"comedy\" + 0.008*\"frank\" + 0.005*\"romantic\" + 0.005*\"releasing)\" + 0.004*\"ready\" + 0.004*\"california\" + 0.004*\"(strand\" + 0.004*\"(samuel\" + 0.004*\"dad\" + 0.004*\"goldwyn\" - Frequency: 448.6810302734375\n",
      "Topic 19: 0.011*\"based\" + 0.009*\"comic\" + 0.009*\"book\" + 0.008*\"novel\" + 0.006*\"dance\" + 0.006*\"author\" + 0.006*\"disney\" + 0.005*\"classic\" + 0.004*\"tale\" + 0.004*\"obsessed\" - Frequency: 363.786865234375\n",
      "Topic 11: 0.027*\"(warner\" + 0.019*\"bros.)\" + 0.013*\"soldier\" + 0.008*\"corrupt\" + 0.007*\"united\" + 0.006*\"u.s.\" + 0.006*\"warrior\" + 0.006*\"war\" + 0.005*\"robert\" + 0.005*\"business.\" - Frequency: 311.0850524902344\n",
      "Topic 3: 0.027*\"century\" + 0.018*\"fox)\" + 0.015*\"(20th\" + 0.015*\"los\" + 0.011*\"line\" + 0.011*\"angeles\" + 0.010*\"cinema)\" + 0.010*\"(new\" + 0.009*\"la\" + 0.007*\"hunter\" - Frequency: 284.7523193359375\n",
      "Topic 1: 0.011*\"entertainment)\" + 0.005*\"l.a.\" + 0.004*\"executive\" + 0.004*\"marine\" + 0.004*\"buddy\" + 0.004*\"believe\" + 0.004*\"disappearance\" + 0.004*\"honor\" + 0.004*\"agency\" + 0.004*\"write\" - Frequency: 283.1468200683594\n",
      "Topic 9: 0.006*\"monster\" + 0.006*\"tommy\" + 0.005*\"earth\" + 0.005*\"supernatural\" + 0.005*\"disturbing\" + 0.005*\"earth,\" + 0.005*\"figure\" + 0.004*\"arrive\" + 0.004*\"relationship.\" + 0.004*\"future,\" - Frequency: 239.6495819091797\n",
      "Topic 17: 0.012*\"sam\" + 0.006*\"miss\" + 0.006*\"god\" + 0.005*\"elizabeth\" + 0.005*\"lucy\" + 0.005*\"bachelor\" + 0.005*\"twin\" + 0.004*\"[sony\" + 0.004*\"dave\" + 0.004*\"fighter\" - Frequency: 238.1304931640625\n",
      "Topic 15: 0.010*\"gate\" + 0.008*\"(lions\" + 0.007*\"demon\" + 0.005*\"[lionsgate]\" + 0.005*\"romance.\" + 0.004*\"sarah\" + 0.004*\"paid\" + 0.004*\"mother.\" + 0.004*\"volatile\" + 0.004*\"guest\" - Frequency: 199.1617889404297\n",
      "Topic 4: 0.011*\"(universal\" + 0.007*\"jonathan\" + 0.007*\"lethal\" + 0.007*\"football\" + 0.006*\"controversial\" + 0.006*\"ring\" + 0.006*\"lee\" + 0.005*\"studios)\" + 0.005*\"peter\" + 0.005*\"remake\" - Frequency: 182.12249755859375\n",
      "Topic 7: 0.014*\"wrong\" + 0.012*\"(mgm)\" + 0.010*\"vampire\" + 0.009*\"house.\" + 0.007*\"woman's\" + 0.007*\"(sony)\" + 0.006*\"(kevin\" + 0.005*\"rid\" + 0.005*\"intent\" + 0.005*\"niece\" - Frequency: 169.0493621826172\n",
      "Topic 20: 0.015*\"charlie\" + 0.015*\"adam\" + 0.008*\"(universal)\" + 0.006*\".\" + 0.006*\"jerry\" + 0.006*\"roommate\" + 0.006*\"pilot\" + 0.005*\"dead.\" + 0.005*\"pas\" + 0.005*\"june\" - Frequency: 144.11228942871094\n",
      "Topic 13: 0.012*\"jason\" + 0.008*\"crazy\" + 0.007*\"rogue\" + 0.007*\"revenge,\" + 0.006*\"dinner\" + 0.005*\"searchlight\" + 0.005*\"(fox\" + 0.005*\"sending\" + 0.005*\"towns\" + 0.004*\"hilariously\" - Frequency: 116.91409301757812\n",
      "Topic 10: 0.012*\"mike\" + 0.012*\"cat\" + 0.011*\"danny\" + 0.008*\"solve\" + 0.007*\"animated\" + 0.007*\"angeles,\" + 0.006*\"federal\" + 0.006*\"gorgeous\" + 0.005*\"yorker\" + 0.005*\"cure\" - Frequency: 113.74614715576172\n",
      "Topic 14: 0.024*\"jack\" + 0.009*\"jimmy\" + 0.008*\"eddie\" + 0.008*\"brian\" + 0.007*\"sacrifice\" + 0.007*\"paul\" + 0.005*\"vietnam\" + 0.005*\"francisco\" + 0.005*\"bobby\" + 0.005*\"kidnap\" - Frequency: 111.2046127319336\n",
      "Topic 6: 0.014*\"terror\" + 0.010*\"nuclear\" + 0.007*\"(ben\" + 0.007*\"brothers)\" + 0.006*\"maggie\" + 0.006*\"mentally\" + 0.006*\"japan\" + 0.006*\"trade\" + 0.005*\"change.\" + 0.005*\"mogul\" - Frequency: 86.39649963378906\n",
      "Topic 16: 0.006*\"internet\" + 0.005*\"navy\" + 0.005*\"rose\" + 0.004*\"targeted\" + 0.004*\"smith\" + 0.004*\"attack,\" + 0.004*\"ernest\" + 0.004*\"intelligent\" + 0.004*\"noah\" + 0.004*\"hardened\" - Frequency: 82.51251220703125\n",
      "\n",
      "Topics for Dataset 2 (N=50):\n",
      "Topic 36: 0.017*\"find\" + 0.017*\"one\" + 0.016*\"life\" + 0.012*\"friend\" + 0.011*\"new\" + 0.011*\"get\" + 0.011*\"town\" + 0.009*\"\" + 0.009*\"go\" + 0.009*\"begin\" - Frequency: 1359.792724609375\n",
      "Topic 42: 0.047*\"story\" + 0.039*\"film\" + 0.023*\"life\" + 0.016*\"based\" + 0.015*\"films)\" + 0.013*\"set\" + 0.013*\"true\" + 0.012*\"one\" + 0.011*\"tell\" + 0.011*\"love\" - Frequency: 1116.5418701171875\n",
      "Topic 49: 0.018*\"new\" + 0.015*\"world\" + 0.014*\"one\" + 0.013*\"-\" + 0.010*\"life\" + 0.008*\"take\" + 0.007*\"york\" + 0.007*\"people\" + 0.007*\"power\" + 0.007*\"city\" - Frequency: 912.5509643554688\n",
      "Topic 48: 0.025*\"girl\" + 0.018*\"young\" + 0.016*\"find\" + 0.014*\"love\" + 0.014*\"dream\" + 0.012*\"new\" + 0.011*\"boy\" + 0.009*\"two\" + 0.009*\"get\" + 0.009*\"help\" - Frequency: 631.6593627929688\n",
      "Topic 30: 0.033*\"woman\" + 0.032*\"young\" + 0.029*\"love\" + 0.016*\"wife\" + 0.016*\"life\" + 0.012*\"man\" + 0.012*\"husband\" + 0.012*\"fall\" + 0.011*\"beautiful\" + 0.010*\"affair\" - Frequency: 596.4398803710938\n",
      "Topic 7: 0.016*\"life\" + 0.016*\"new\" + 0.013*\"two\" + 0.013*\"get\" + 0.010*\"team\" + 0.010*\"road\" + 0.009*\"trip\" + 0.009*\"find\" + 0.008*\"college\" + 0.007*\"take\" - Frequency: 586.5460205078125\n",
      "Topic 10: 0.017*\"family\" + 0.016*\"home\" + 0.016*\"father\" + 0.015*\"brother\" + 0.014*\"sister\" + 0.012*\"mother\" + 0.011*\"son\" + 0.011*\"year\" + 0.011*\"return\" + 0.009*\"find\" - Frequency: 570.1441040039062\n",
      "Topic 33: 0.023*\"must\" + 0.018*\"war\" + 0.015*\"world\" + 0.015*\"agent\" + 0.014*\"force\" + 0.014*\"deadly\" + 0.014*\"find\" + 0.013*\"mission\" + 0.013*\"save\" + 0.010*\"group\" - Frequency: 520.407958984375\n",
      "Topic 41: 0.022*\"year\" + 0.016*\"killer\" + 0.008*\"one\" + 0.008*\"serial\" + 0.008*\"young\" + 0.008*\"death\" + 0.007*\"woman\" + 0.007*\"men\" + 0.007*\"two\" + 0.006*\"three\" - Frequency: 479.20367431640625\n",
      "Topic 9: 0.013*\"show\" + 0.009*\"two\" + 0.008*\"one\" + 0.008*\"run\" + 0.007*\"features)\" + 0.007*\"stranger\" + 0.006*\"life\" + 0.006*\"brother,\" + 0.006*\"day\" + 0.006*\"(first\" - Frequency: 406.84429931640625\n",
      "Topic 29: 0.055*\"school\" + 0.050*\"high\" + 0.040*\"--\" + 0.019*\"jack\" + 0.014*\"student\" + 0.013*\"pictures)\" + 0.010*\"kid\" + 0.010*\"star\" + 0.009*\"entertainment)\" + 0.008*\"senior\" - Frequency: 312.09100341796875\n",
      "Topic 27: 0.031*\"drug\" + 0.017*\"crime\" + 0.011*\"car\" + 0.011*\"street\" + 0.010*\"fight\" + 0.009*\"go\" + 0.009*\"james\" + 0.009*\"find\" + 0.009*\"corrupt\" + 0.008*\"break\" - Frequency: 274.66180419921875\n",
      "Topic 22: 0.027*\"state\" + 0.024*\"american\" + 0.018*\"political\" + 0.014*\"united\" + 0.014*\"documentary\" + 0.011*\"america.\" + 0.011*\"president\" + 0.009*\"texas\" + 0.009*\"public\" + 0.009*\"east\" - Frequency: 227.57508850097656\n",
      "Topic 50: 0.038*\"murder\" + 0.034*\"detective\" + 0.033*\"police\" + 0.024*\"cop\" + 0.015*\"thriller\" + 0.014*\"undercover\" + 0.012*\"mystery\" + 0.011*\"officer\" + 0.010*\"solve\" + 0.010*\"gang\" - Frequency: 202.84664916992188\n",
      "Topic 21: 0.014*\"la\" + 0.013*\"supernatural\" + 0.012*\"summer\" + 0.010*\"vega\" + 0.009*\"monster\" + 0.009*\"rural\" + 0.008*\"water\" + 0.008*\"lethal\" + 0.008*\"neighbor\" + 0.006*\"innocent\" - Frequency: 200.8524627685547\n",
      "Topic 24: 0.019*\"gay\" + 0.015*\"henry\" + 0.013*\"part\" + 0.013*\"david\" + 0.010*\"charles\" + 0.009*\"love,\" + 0.007*\"charismatic\" + 0.007*\"instead\" + 0.007*\"friendship,\" + 0.007*\"lover\" - Frequency: 178.09454345703125\n",
      "Topic 26: 0.031*\"adventure\" + 0.025*\"evil\" + 0.019*\"epic\" + 0.016*\"dark\" + 0.016*\"quest\" + 0.015*\"journey\" + 0.015*\"pictures)\" + 0.014*\"world\" + 0.014*\"warrior\" + 0.013*\"magic\" - Frequency: 177.1024169921875\n"
     ]
    },
    {
     "name": "stdout",
     "output_type": "stream",
     "text": [
      "Topic 37: 0.038*\"line\" + 0.021*\"(new\" + 0.020*\"sam\" + 0.019*\"cinema)\" + 0.011*\"max\" + 0.009*\"l.a.\" + 0.008*\"black\" + 0.008*\"inadvertently\" + 0.007*\"agency\" + 0.007*\"child.\" - Frequency: 170.46939086914062\n",
      "Topic 38: 0.045*\"pictures)\" + 0.032*\"classic\" + 0.028*\"(paramount\" + 0.024*\"king\" + 0.023*\"tale\" + 0.022*\"(universal\" + 0.022*\"comic\" + 0.017*\"queen\" + 0.012*\"elizabeth\" + 0.011*\"version\" - Frequency: 159.50271606445312\n",
      "Topic 44: 0.096*\"comedy\" + 0.056*\"romantic\" + 0.023*\"tom\" + 0.021*\"dog\" + 0.014*\"hot\" + 0.013*\"guy\" + 0.010*\"wind\" + 0.009*\"love\" + 0.008*\"tough\" + 0.008*\"romance.\" - Frequency: 146.554931640625\n",
      "Topic 6: 0.064*\"century\" + 0.037*\"fox)\" + 0.032*\"(20th\" + 0.013*\"security\" + 0.010*\"alive.\" + 0.009*\"video\" + 0.008*\"revenge,\" + 0.008*\"technology\" + 0.008*\"everyday\" + 0.008*\"internet\" - Frequency: 145.5489044189453\n",
      "Topic 18: 0.013*\"scientist\" + 0.013*\"pictures]\" + 0.012*\"holiday\" + 0.011*\"protect\" + 0.009*\"completely\" + 0.009*\"darkness\" + 0.009*\"hate\" + 0.008*\"honor\" + 0.008*\"tested\" + 0.008*\"vow\" - Frequency: 140.94613647460938\n",
      "Topic 14: 0.022*\"wedding\" + 0.012*\"married\" + 0.012*\"farm\" + 0.011*\"walk\" + 0.011*\"concert\" + 0.010*\"year-old\" + 0.009*\"birthday\" + 0.008*\"happily\" + 0.008*\"party,\" + 0.008*\"partner\" - Frequency: 136.5972442626953\n",
      "Topic 1: 0.032*\"rescue\" + 0.014*\"hell\" + 0.011*\"attorney\" + 0.011*\"colorful\" + 0.008*\"earth.\" + 0.008*\"duo\" + 0.008*\"mike\" + 0.008*\"federal\" + 0.008*\"fatal\" + 0.008*\"possession\" - Frequency: 136.06105041503906\n",
      "Topic 28: 0.012*\"sport\" + 0.012*\"manhattan\" + 0.012*\"basketball\" + 0.011*\"crazy\" + 0.010*\"funny\" + 0.010*\"guest\" + 0.009*\"playing\" + 0.009*\"league\" + 0.007*\"record\" + 0.007*\"june\" - Frequency: 132.00938415527344\n",
      "Topic 34: 0.017*\"kate\" + 0.017*\"alex\" + 0.014*\"\" + 0.011*\"chris\" + 0.010*\"loyalty\" + 0.010*\"rogue\" + 0.009*\"destroy\" + 0.008*\"singer\" + 0.008*\"happen\" + 0.008*\"(ben\" - Frequency: 122.39159393310547\n",
      "Topic 15: 0.017*\"jason\" + 0.012*\"victim\" + 0.011*\"buddy\" + 0.010*\"(james\" + 0.009*\"european\" + 0.008*\"terrorist\" + 0.008*\"graduate\" + 0.008*\"israeli\" + 0.008*\"town's\" + 0.007*\"phil\" - Frequency: 121.62495422363281\n",
      "Topic 5: 0.013*\"bill\" + 0.012*\"killed\" + 0.011*\"hill\" + 0.011*\"cult\" + 0.011*\"returning\" + 0.010*\"eddie\" + 0.009*\"obsession\" + 0.009*\"money\" + 0.009*\"scott\" + 0.008*\"confronted\" - Frequency: 120.24411010742188\n",
      "Topic 4: 0.014*\"christian\" + 0.013*\"billy\" + 0.012*\"manager\" + 0.009*\"count\" + 0.009*\"taylor\" + 0.007*\"target\" + 0.007*\"club,\" + 0.007*\"odds\" + 0.007*\"anger\" + 0.007*\"disappeared\" - Frequency: 118.58538055419922\n",
      "Topic 35: 0.030*\"teen\" + 0.013*\"tommy\" + 0.011*\"hotel\" + 0.010*\"spin\" + 0.010*\"kevin\" + 0.009*\"winter\" + 0.009*\"grace\" + 0.008*\"survival.\" + 0.008*\"son's\" + 0.008*\"transforms\" - Frequency: 118.4518051147461\n",
      "Topic 43: 0.027*\"peter\" + 0.016*\"justice\" + 0.013*\"rebellious\" + 0.011*\"way,\" + 0.010*\"america\" + 0.010*\"(thinkfilm)\" + 0.008*\"starring\" + 0.008*\"union\" + 0.008*\"nurse\" + 0.007*\"bobby\" - Frequency: 117.10672760009766\n",
      "Topic 46: 0.047*\"los\" + 0.028*\"angeles\" + 0.017*\"football\" + 0.012*\"lord\" + 0.012*\"con\" + 0.012*\"coach\" + 0.011*\"[warner\" + 0.009*\"bros.]\" + 0.008*\"victor\" + 0.008*\"prepare\" - Frequency: 114.67669677734375\n",
      "Topic 12: 0.025*\"nick\" + 0.014*\"pilot\" + 0.013*\"hometown\" + 0.012*\"bachelor\" + 0.012*\"hunting\" + 0.009*\"baby\" + 0.009*\"abandoned\" + 0.008*\"rising\" + 0.008*\"up.\" + 0.008*\"true.\" - Frequency: 110.22862243652344\n",
      "Topic 23: 0.022*\"(mgm)\" + 0.018*\"art\" + 0.015*\"outrageous\" + 0.014*\"cia\" + 0.012*\"painting\" + 0.010*\"ahead\" + 0.009*\"remake\" + 0.009*\"humorous\" + 0.009*\"royal\" + 0.009*\"grand\" - Frequency: 109.9481430053711\n",
      "Topic 16: 0.020*\"sarah\" + 0.019*\"vampire\" + 0.017*\"films)\" + 0.014*\"chicago\" + 0.010*\"campaign\" + 0.009*\"(miramax\" + 0.007*\"pulled\" + 0.007*\"charged\" + 0.007*\"short\" + 0.006*\"family's\" - Frequency: 107.93920135498047\n",
      "Topic 11: 0.028*\"earth\" + 0.022*\"gate\" + 0.017*\"(lions\" + 0.015*\"space\" + 0.014*\"woman's\" + 0.012*\"gorgeous\" + 0.012*\"profound\" + 0.011*\"rob\" + 0.011*\"recruited\" + 0.011*\"films)\" - Frequency: 107.57012176513672\n",
      "Topic 47: 0.023*\"jake\" + 0.021*\"animal\" + 0.016*\"best-selling\" + 0.015*\"demon\" + 0.013*\"patient\" + 0.013*\"jane\" + 0.013*\"executive\" + 0.013*\"novel\" + 0.013*\"sex,\" + 0.012*\"bay\" - Frequency: 106.19185638427734\n",
      "Topic 19: 0.069*\"(sony\" + 0.040*\"picture\" + 0.035*\"classics)\" + 0.023*\"fashion\" + 0.020*\"jewish\" + 0.013*\"rose\" + 0.012*\"daniel\" + 0.011*\"women.\" + 0.011*\"famed\" + 0.010*\"obstacle\" - Frequency: 100.3497085571289\n",
      "Topic 25: 0.038*\"prison\" + 0.034*\"frank\" + 0.022*\"revenge\" + 0.017*\"prison,\" + 0.015*\"mob\" + 0.013*\"heist\" + 0.013*\"father's\" + 0.012*\"releasing]\" + 0.012*\"released\" + 0.011*\"priest\" - Frequency: 97.60464477539062\n",
      "Topic 40: 0.035*\"bank\" + 0.029*\"wrong\" + 0.022*\"criminal\" + 0.019*\"cat\" + 0.019*\"(fox\" + 0.016*\"daring\" + 0.016*\"chase\" + 0.014*\"thief\" + 0.011*\"author\" + 0.010*\"arm\" - Frequency: 97.33419799804688\n",
      "Topic 2: 0.019*\"paul\" + 0.014*\"wood\" + 0.012*\"master\" + 0.012*\"entertainment]\" + 0.010*\"jerry\" + 0.010*\"loyal\" + 0.009*\"spot\" + 0.009*\"planet\" + 0.009*\"resistance\" + 0.007*\"pass\" - Frequency: 92.42317962646484\n",
      "Topic 31: 0.016*\"punk\" + 0.015*\"george\" + 0.012*\"installment\" + 0.011*\"client\" + 0.010*\"exciting\" + 0.010*\"husband.\" + 0.009*\"matt\" + 0.009*\"sacrifice\" + 0.009*\"third\" + 0.008*\"cure\" - Frequency: 87.37442779541016\n",
      "Topic 45: 0.021*\"talent\" + 0.015*\"camp\" + 0.015*\"lucy\" + 0.012*\"san\" + 0.011*\".\" + 0.011*\"dinner\" + 0.010*\"novel,\" + 0.010*\"hitman\" + 0.009*\"francisco\" + 0.008*\"marrying\" - Frequency: 86.57260131835938\n",
      "Topic 39: 0.031*\"charlie\" + 0.020*\"store\" + 0.017*\"(touchstone\" + 0.012*\"fox]\" + 0.011*\"[20th\" + 0.011*\"alliance\" + 0.011*\"catholic\" + 0.010*\"guy\" + 0.009*\"party.\" + 0.009*\"century\" - Frequency: 82.83464813232422\n",
      "Topic 8: 0.086*\"(warner\" + 0.061*\"bros.)\" + 0.030*\"wake\" + 0.015*\"harry\" + 0.015*\"bros.\" + 0.014*\"relationship.\" + 0.012*\"knew\" + 0.010*\"killer,\" + 0.009*\"samuel\" + 0.009*\"revolves\" - Frequency: 79.87947845458984\n",
      "Topic 3: 0.015*\"highly\" + 0.013*\"soul\" + 0.012*\"hole\" + 0.012*\"studios)\" + 0.009*\"busy\" + 0.008*\"comedic\" + 0.008*\"corner\" + 0.008*\"ii,\" + 0.008*\"trusted\" + 0.008*\"hilarious,\" - Frequency: 79.72303771972656\n",
      "Topic 17: 0.028*\"actor\" + 0.019*\"winning\" + 0.017*\"native\" + 0.017*\"productions)\" + 0.015*\"award\" + 0.013*\"perform\" + 0.013*\"musician\" + 0.012*\"gun\" + 0.011*\"restaurant\" + 0.011*\"academy\" - Frequency: 75.71704864501953\n",
      "Topic 13: 0.034*\"(sony)\" + 0.015*\"competition\" + 0.014*\"[lionsgate]\" + 0.014*\"laura\" + 0.012*\"combat\" + 0.012*\"veteran\" + 0.011*\"niece\" + 0.011*\"martial\" + 0.010*\"die\" + 0.009*\"prepares\" - Frequency: 74.54464721679688\n",
      "Topic 32: 0.035*\"(the\" + 0.023*\"company)\" + 0.022*\"weinstein\" + 0.017*\"arrive\" + 0.014*\"(samuel\" + 0.014*\"goldwyn\" + 0.013*\"hall\" + 0.012*\"recover\" + 0.011*\"professor\" + 0.011*\"focusing\" - Frequency: 65.50459289550781\n",
      "Topic 20: 0.038*\"book\" + 0.026*\"(miramax)\" + 0.024*\"ride\" + 0.022*\"hilarious\" + 0.017*\"brutally\" + 0.016*\"weapon\" + 0.014*\"europe\" + 0.013*\"baseball\" + 0.012*\"paid\" + 0.011*\"psychiatrist\" - Frequency: 58.401485443115234\n"
     ]
    }
   ],
   "source": [
    "import gensim\n",
    "from gensim import corpora\n",
    "from gensim.models import LdaModel\n",
    "\n",
    "# Step 1: Define the function to apply LDA and display topics in descending order of frequency\n",
    "def apply_lda_and_display_topics(data, num_topics_list, dataset_name=\"Dataset\"):\n",
    "    # Tokenize the cleaned text\n",
    "    texts = [text.split() for text in data['cleaned_text']]\n",
    "\n",
    "    # Create a dictionary and corpus for the dataset\n",
    "    dictionary = corpora.Dictionary(texts)\n",
    "    corpus = [dictionary.doc2bow(text) for text in texts]\n",
    "\n",
    "    # Looping through each value of N (number of topics)\n",
    "    for num_topics in num_topics_list:\n",
    "        lda_model = LdaModel(corpus, num_topics=num_topics, id2word=dictionary, passes=15)\n",
    "        \n",
    "        print(f\"\\nTopics for {dataset_name} (N={num_topics}):\")\n",
    "        \n",
    "        # Get the topics sorted by frequency (descending order)\n",
    "        topic_list = lda_model.print_topics(num_words=5)\n",
    "        \n",
    "        # Calculate frequency of each topic\n",
    "        topic_frequency = {}\n",
    "        for doc in corpus:\n",
    "            topics = lda_model.get_document_topics(doc)\n",
    "            for topic_id, topic_prob in topics:\n",
    "                if topic_id not in topic_frequency:\n",
    "                    topic_frequency[topic_id] = topic_prob\n",
    "                else:\n",
    "                    topic_frequency[topic_id] += topic_prob\n",
    "\n",
    "        # Sort topics by frequency in descending order\n",
    "        sorted_topic_frequency = sorted(topic_frequency.items(), key=lambda x: x[1], reverse=True)\n",
    "        \n",
    "        # Display the sorted topics in descending order of frequency\n",
    "        for topic_id, freq in sorted_topic_frequency:\n",
    "            print(f\"Topic {topic_id+1}: {lda_model.print_topic(topic_id)} - Frequency: {freq}\")\n",
    "\n",
    "# Step 2: Apply LDA to both datasets\n",
    "num_topics_list = [5, 10, 20, 50]\n",
    "\n",
    "# Apply LDA and display topics for the first dataset\n",
    "apply_lda_and_display_topics(data, num_topics_list, dataset_name=\"Dataset 1\")\n",
    "\n",
    "# Apply LDA and display topics for the second dataset\n",
    "apply_lda_and_display_topics(data2, num_topics_list, dataset_name=\"Dataset 2\")\n"
   ]
  },
  {
   "cell_type": "code",
   "execution_count": 8,
   "id": "5c53995c",
   "metadata": {},
   "outputs": [
    {
     "data": {
      "text/html": [
       "        <script type=\"text/javascript\">\n",
       "        window.PlotlyConfig = {MathJaxConfig: 'local'};\n",
       "        if (window.MathJax && window.MathJax.Hub && window.MathJax.Hub.Config) {window.MathJax.Hub.Config({SVG: {font: \"STIX-Web\"}});}\n",
       "        if (typeof require !== 'undefined') {\n",
       "        require.undef(\"plotly\");\n",
       "        requirejs.config({\n",
       "            paths: {\n",
       "                'plotly': ['https://cdn.plot.ly/plotly-2.12.1.min']\n",
       "            }\n",
       "        });\n",
       "        require(['plotly'], function(Plotly) {\n",
       "            window._Plotly = Plotly;\n",
       "        });\n",
       "        }\n",
       "        </script>\n",
       "        "
      ]
     },
     "metadata": {},
     "output_type": "display_data"
    },
    {
     "data": {
      "application/vnd.plotly.v1+json": {
       "config": {
        "plotlyServerURL": "https://plot.ly"
       },
       "data": [
        {
         "domain": {
          "x": [
           0,
           1
          ],
          "y": [
           0,
           1
          ]
         },
         "hole": 0.3,
         "hovertemplate": "label=%{label}<br>value=%{value}<extra></extra>",
         "labels": [
          "Topic 1",
          "Topic 2",
          "Topic 3",
          "Topic 4",
          "Topic 5"
         ],
         "legendgroup": "",
         "name": "",
         "showlegend": true,
         "type": "pie",
         "values": [
          748.8564463499933,
          1032.6985480971634,
          1049.2198452875018,
          956.6008628774434,
          801.6014915211126
         ]
        }
       ],
       "layout": {
        "legend": {
         "tracegroupgap": 0
        },
        "template": {
         "data": {
          "bar": [
           {
            "error_x": {
             "color": "#2a3f5f"
            },
            "error_y": {
             "color": "#2a3f5f"
            },
            "marker": {
             "line": {
              "color": "#E5ECF6",
              "width": 0.5
             },
             "pattern": {
              "fillmode": "overlay",
              "size": 10,
              "solidity": 0.2
             }
            },
            "type": "bar"
           }
          ],
          "barpolar": [
           {
            "marker": {
             "line": {
              "color": "#E5ECF6",
              "width": 0.5
             },
             "pattern": {
              "fillmode": "overlay",
              "size": 10,
              "solidity": 0.2
             }
            },
            "type": "barpolar"
           }
          ],
          "carpet": [
           {
            "aaxis": {
             "endlinecolor": "#2a3f5f",
             "gridcolor": "white",
             "linecolor": "white",
             "minorgridcolor": "white",
             "startlinecolor": "#2a3f5f"
            },
            "baxis": {
             "endlinecolor": "#2a3f5f",
             "gridcolor": "white",
             "linecolor": "white",
             "minorgridcolor": "white",
             "startlinecolor": "#2a3f5f"
            },
            "type": "carpet"
           }
          ],
          "choropleth": [
           {
            "colorbar": {
             "outlinewidth": 0,
             "ticks": ""
            },
            "type": "choropleth"
           }
          ],
          "contour": [
           {
            "colorbar": {
             "outlinewidth": 0,
             "ticks": ""
            },
            "colorscale": [
             [
              0,
              "#0d0887"
             ],
             [
              0.1111111111111111,
              "#46039f"
             ],
             [
              0.2222222222222222,
              "#7201a8"
             ],
             [
              0.3333333333333333,
              "#9c179e"
             ],
             [
              0.4444444444444444,
              "#bd3786"
             ],
             [
              0.5555555555555556,
              "#d8576b"
             ],
             [
              0.6666666666666666,
              "#ed7953"
             ],
             [
              0.7777777777777778,
              "#fb9f3a"
             ],
             [
              0.8888888888888888,
              "#fdca26"
             ],
             [
              1,
              "#f0f921"
             ]
            ],
            "type": "contour"
           }
          ],
          "contourcarpet": [
           {
            "colorbar": {
             "outlinewidth": 0,
             "ticks": ""
            },
            "type": "contourcarpet"
           }
          ],
          "heatmap": [
           {
            "colorbar": {
             "outlinewidth": 0,
             "ticks": ""
            },
            "colorscale": [
             [
              0,
              "#0d0887"
             ],
             [
              0.1111111111111111,
              "#46039f"
             ],
             [
              0.2222222222222222,
              "#7201a8"
             ],
             [
              0.3333333333333333,
              "#9c179e"
             ],
             [
              0.4444444444444444,
              "#bd3786"
             ],
             [
              0.5555555555555556,
              "#d8576b"
             ],
             [
              0.6666666666666666,
              "#ed7953"
             ],
             [
              0.7777777777777778,
              "#fb9f3a"
             ],
             [
              0.8888888888888888,
              "#fdca26"
             ],
             [
              1,
              "#f0f921"
             ]
            ],
            "type": "heatmap"
           }
          ],
          "heatmapgl": [
           {
            "colorbar": {
             "outlinewidth": 0,
             "ticks": ""
            },
            "colorscale": [
             [
              0,
              "#0d0887"
             ],
             [
              0.1111111111111111,
              "#46039f"
             ],
             [
              0.2222222222222222,
              "#7201a8"
             ],
             [
              0.3333333333333333,
              "#9c179e"
             ],
             [
              0.4444444444444444,
              "#bd3786"
             ],
             [
              0.5555555555555556,
              "#d8576b"
             ],
             [
              0.6666666666666666,
              "#ed7953"
             ],
             [
              0.7777777777777778,
              "#fb9f3a"
             ],
             [
              0.8888888888888888,
              "#fdca26"
             ],
             [
              1,
              "#f0f921"
             ]
            ],
            "type": "heatmapgl"
           }
          ],
          "histogram": [
           {
            "marker": {
             "pattern": {
              "fillmode": "overlay",
              "size": 10,
              "solidity": 0.2
             }
            },
            "type": "histogram"
           }
          ],
          "histogram2d": [
           {
            "colorbar": {
             "outlinewidth": 0,
             "ticks": ""
            },
            "colorscale": [
             [
              0,
              "#0d0887"
             ],
             [
              0.1111111111111111,
              "#46039f"
             ],
             [
              0.2222222222222222,
              "#7201a8"
             ],
             [
              0.3333333333333333,
              "#9c179e"
             ],
             [
              0.4444444444444444,
              "#bd3786"
             ],
             [
              0.5555555555555556,
              "#d8576b"
             ],
             [
              0.6666666666666666,
              "#ed7953"
             ],
             [
              0.7777777777777778,
              "#fb9f3a"
             ],
             [
              0.8888888888888888,
              "#fdca26"
             ],
             [
              1,
              "#f0f921"
             ]
            ],
            "type": "histogram2d"
           }
          ],
          "histogram2dcontour": [
           {
            "colorbar": {
             "outlinewidth": 0,
             "ticks": ""
            },
            "colorscale": [
             [
              0,
              "#0d0887"
             ],
             [
              0.1111111111111111,
              "#46039f"
             ],
             [
              0.2222222222222222,
              "#7201a8"
             ],
             [
              0.3333333333333333,
              "#9c179e"
             ],
             [
              0.4444444444444444,
              "#bd3786"
             ],
             [
              0.5555555555555556,
              "#d8576b"
             ],
             [
              0.6666666666666666,
              "#ed7953"
             ],
             [
              0.7777777777777778,
              "#fb9f3a"
             ],
             [
              0.8888888888888888,
              "#fdca26"
             ],
             [
              1,
              "#f0f921"
             ]
            ],
            "type": "histogram2dcontour"
           }
          ],
          "mesh3d": [
           {
            "colorbar": {
             "outlinewidth": 0,
             "ticks": ""
            },
            "type": "mesh3d"
           }
          ],
          "parcoords": [
           {
            "line": {
             "colorbar": {
              "outlinewidth": 0,
              "ticks": ""
             }
            },
            "type": "parcoords"
           }
          ],
          "pie": [
           {
            "automargin": true,
            "type": "pie"
           }
          ],
          "scatter": [
           {
            "fillpattern": {
             "fillmode": "overlay",
             "size": 10,
             "solidity": 0.2
            },
            "type": "scatter"
           }
          ],
          "scatter3d": [
           {
            "line": {
             "colorbar": {
              "outlinewidth": 0,
              "ticks": ""
             }
            },
            "marker": {
             "colorbar": {
              "outlinewidth": 0,
              "ticks": ""
             }
            },
            "type": "scatter3d"
           }
          ],
          "scattercarpet": [
           {
            "marker": {
             "colorbar": {
              "outlinewidth": 0,
              "ticks": ""
             }
            },
            "type": "scattercarpet"
           }
          ],
          "scattergeo": [
           {
            "marker": {
             "colorbar": {
              "outlinewidth": 0,
              "ticks": ""
             }
            },
            "type": "scattergeo"
           }
          ],
          "scattergl": [
           {
            "marker": {
             "colorbar": {
              "outlinewidth": 0,
              "ticks": ""
             }
            },
            "type": "scattergl"
           }
          ],
          "scattermapbox": [
           {
            "marker": {
             "colorbar": {
              "outlinewidth": 0,
              "ticks": ""
             }
            },
            "type": "scattermapbox"
           }
          ],
          "scatterpolar": [
           {
            "marker": {
             "colorbar": {
              "outlinewidth": 0,
              "ticks": ""
             }
            },
            "type": "scatterpolar"
           }
          ],
          "scatterpolargl": [
           {
            "marker": {
             "colorbar": {
              "outlinewidth": 0,
              "ticks": ""
             }
            },
            "type": "scatterpolargl"
           }
          ],
          "scatterternary": [
           {
            "marker": {
             "colorbar": {
              "outlinewidth": 0,
              "ticks": ""
             }
            },
            "type": "scatterternary"
           }
          ],
          "surface": [
           {
            "colorbar": {
             "outlinewidth": 0,
             "ticks": ""
            },
            "colorscale": [
             [
              0,
              "#0d0887"
             ],
             [
              0.1111111111111111,
              "#46039f"
             ],
             [
              0.2222222222222222,
              "#7201a8"
             ],
             [
              0.3333333333333333,
              "#9c179e"
             ],
             [
              0.4444444444444444,
              "#bd3786"
             ],
             [
              0.5555555555555556,
              "#d8576b"
             ],
             [
              0.6666666666666666,
              "#ed7953"
             ],
             [
              0.7777777777777778,
              "#fb9f3a"
             ],
             [
              0.8888888888888888,
              "#fdca26"
             ],
             [
              1,
              "#f0f921"
             ]
            ],
            "type": "surface"
           }
          ],
          "table": [
           {
            "cells": {
             "fill": {
              "color": "#EBF0F8"
             },
             "line": {
              "color": "white"
             }
            },
            "header": {
             "fill": {
              "color": "#C8D4E3"
             },
             "line": {
              "color": "white"
             }
            },
            "type": "table"
           }
          ]
         },
         "layout": {
          "annotationdefaults": {
           "arrowcolor": "#2a3f5f",
           "arrowhead": 0,
           "arrowwidth": 1
          },
          "autotypenumbers": "strict",
          "coloraxis": {
           "colorbar": {
            "outlinewidth": 0,
            "ticks": ""
           }
          },
          "colorscale": {
           "diverging": [
            [
             0,
             "#8e0152"
            ],
            [
             0.1,
             "#c51b7d"
            ],
            [
             0.2,
             "#de77ae"
            ],
            [
             0.3,
             "#f1b6da"
            ],
            [
             0.4,
             "#fde0ef"
            ],
            [
             0.5,
             "#f7f7f7"
            ],
            [
             0.6,
             "#e6f5d0"
            ],
            [
             0.7,
             "#b8e186"
            ],
            [
             0.8,
             "#7fbc41"
            ],
            [
             0.9,
             "#4d9221"
            ],
            [
             1,
             "#276419"
            ]
           ],
           "sequential": [
            [
             0,
             "#0d0887"
            ],
            [
             0.1111111111111111,
             "#46039f"
            ],
            [
             0.2222222222222222,
             "#7201a8"
            ],
            [
             0.3333333333333333,
             "#9c179e"
            ],
            [
             0.4444444444444444,
             "#bd3786"
            ],
            [
             0.5555555555555556,
             "#d8576b"
            ],
            [
             0.6666666666666666,
             "#ed7953"
            ],
            [
             0.7777777777777778,
             "#fb9f3a"
            ],
            [
             0.8888888888888888,
             "#fdca26"
            ],
            [
             1,
             "#f0f921"
            ]
           ],
           "sequentialminus": [
            [
             0,
             "#0d0887"
            ],
            [
             0.1111111111111111,
             "#46039f"
            ],
            [
             0.2222222222222222,
             "#7201a8"
            ],
            [
             0.3333333333333333,
             "#9c179e"
            ],
            [
             0.4444444444444444,
             "#bd3786"
            ],
            [
             0.5555555555555556,
             "#d8576b"
            ],
            [
             0.6666666666666666,
             "#ed7953"
            ],
            [
             0.7777777777777778,
             "#fb9f3a"
            ],
            [
             0.8888888888888888,
             "#fdca26"
            ],
            [
             1,
             "#f0f921"
            ]
           ]
          },
          "colorway": [
           "#636efa",
           "#EF553B",
           "#00cc96",
           "#ab63fa",
           "#FFA15A",
           "#19d3f3",
           "#FF6692",
           "#B6E880",
           "#FF97FF",
           "#FECB52"
          ],
          "font": {
           "color": "#2a3f5f"
          },
          "geo": {
           "bgcolor": "white",
           "lakecolor": "white",
           "landcolor": "#E5ECF6",
           "showlakes": true,
           "showland": true,
           "subunitcolor": "white"
          },
          "hoverlabel": {
           "align": "left"
          },
          "hovermode": "closest",
          "mapbox": {
           "style": "light"
          },
          "paper_bgcolor": "white",
          "plot_bgcolor": "#E5ECF6",
          "polar": {
           "angularaxis": {
            "gridcolor": "white",
            "linecolor": "white",
            "ticks": ""
           },
           "bgcolor": "#E5ECF6",
           "radialaxis": {
            "gridcolor": "white",
            "linecolor": "white",
            "ticks": ""
           }
          },
          "scene": {
           "xaxis": {
            "backgroundcolor": "#E5ECF6",
            "gridcolor": "white",
            "gridwidth": 2,
            "linecolor": "white",
            "showbackground": true,
            "ticks": "",
            "zerolinecolor": "white"
           },
           "yaxis": {
            "backgroundcolor": "#E5ECF6",
            "gridcolor": "white",
            "gridwidth": 2,
            "linecolor": "white",
            "showbackground": true,
            "ticks": "",
            "zerolinecolor": "white"
           },
           "zaxis": {
            "backgroundcolor": "#E5ECF6",
            "gridcolor": "white",
            "gridwidth": 2,
            "linecolor": "white",
            "showbackground": true,
            "ticks": "",
            "zerolinecolor": "white"
           }
          },
          "shapedefaults": {
           "line": {
            "color": "#2a3f5f"
           }
          },
          "ternary": {
           "aaxis": {
            "gridcolor": "white",
            "linecolor": "white",
            "ticks": ""
           },
           "baxis": {
            "gridcolor": "white",
            "linecolor": "white",
            "ticks": ""
           },
           "bgcolor": "#E5ECF6",
           "caxis": {
            "gridcolor": "white",
            "linecolor": "white",
            "ticks": ""
           }
          },
          "title": {
           "x": 0.05
          },
          "xaxis": {
           "automargin": true,
           "gridcolor": "white",
           "linecolor": "white",
           "ticks": "",
           "title": {
            "standoff": 15
           },
           "zerolinecolor": "white",
           "zerolinewidth": 2
          },
          "yaxis": {
           "automargin": true,
           "gridcolor": "white",
           "linecolor": "white",
           "ticks": "",
           "title": {
            "standoff": 15
           },
           "zerolinecolor": "white",
           "zerolinewidth": 2
          }
         }
        },
        "title": {
         "text": "Topic Distribution in Dataset 1 (N=5)"
        }
       }
      },
      "text/html": [
       "<div>                            <div id=\"ac819b93-8241-483b-b66a-18b41ea139d6\" class=\"plotly-graph-div\" style=\"height:525px; width:100%;\"></div>            <script type=\"text/javascript\">                require([\"plotly\"], function(Plotly) {                    window.PLOTLYENV=window.PLOTLYENV || {};                                    if (document.getElementById(\"ac819b93-8241-483b-b66a-18b41ea139d6\")) {                    Plotly.newPlot(                        \"ac819b93-8241-483b-b66a-18b41ea139d6\",                        [{\"domain\":{\"x\":[0.0,1.0],\"y\":[0.0,1.0]},\"hole\":0.3,\"hovertemplate\":\"label=%{label}<br>value=%{value}<extra></extra>\",\"labels\":[\"Topic 1\",\"Topic 2\",\"Topic 3\",\"Topic 4\",\"Topic 5\"],\"legendgroup\":\"\",\"name\":\"\",\"showlegend\":true,\"values\":[748.8564463499933,1032.6985480971634,1049.2198452875018,956.6008628774434,801.6014915211126],\"type\":\"pie\"}],                        {\"template\":{\"data\":{\"histogram2dcontour\":[{\"type\":\"histogram2dcontour\",\"colorbar\":{\"outlinewidth\":0,\"ticks\":\"\"},\"colorscale\":[[0.0,\"#0d0887\"],[0.1111111111111111,\"#46039f\"],[0.2222222222222222,\"#7201a8\"],[0.3333333333333333,\"#9c179e\"],[0.4444444444444444,\"#bd3786\"],[0.5555555555555556,\"#d8576b\"],[0.6666666666666666,\"#ed7953\"],[0.7777777777777778,\"#fb9f3a\"],[0.8888888888888888,\"#fdca26\"],[1.0,\"#f0f921\"]]}],\"choropleth\":[{\"type\":\"choropleth\",\"colorbar\":{\"outlinewidth\":0,\"ticks\":\"\"}}],\"histogram2d\":[{\"type\":\"histogram2d\",\"colorbar\":{\"outlinewidth\":0,\"ticks\":\"\"},\"colorscale\":[[0.0,\"#0d0887\"],[0.1111111111111111,\"#46039f\"],[0.2222222222222222,\"#7201a8\"],[0.3333333333333333,\"#9c179e\"],[0.4444444444444444,\"#bd3786\"],[0.5555555555555556,\"#d8576b\"],[0.6666666666666666,\"#ed7953\"],[0.7777777777777778,\"#fb9f3a\"],[0.8888888888888888,\"#fdca26\"],[1.0,\"#f0f921\"]]}],\"heatmap\":[{\"type\":\"heatmap\",\"colorbar\":{\"outlinewidth\":0,\"ticks\":\"\"},\"colorscale\":[[0.0,\"#0d0887\"],[0.1111111111111111,\"#46039f\"],[0.2222222222222222,\"#7201a8\"],[0.3333333333333333,\"#9c179e\"],[0.4444444444444444,\"#bd3786\"],[0.5555555555555556,\"#d8576b\"],[0.6666666666666666,\"#ed7953\"],[0.7777777777777778,\"#fb9f3a\"],[0.8888888888888888,\"#fdca26\"],[1.0,\"#f0f921\"]]}],\"heatmapgl\":[{\"type\":\"heatmapgl\",\"colorbar\":{\"outlinewidth\":0,\"ticks\":\"\"},\"colorscale\":[[0.0,\"#0d0887\"],[0.1111111111111111,\"#46039f\"],[0.2222222222222222,\"#7201a8\"],[0.3333333333333333,\"#9c179e\"],[0.4444444444444444,\"#bd3786\"],[0.5555555555555556,\"#d8576b\"],[0.6666666666666666,\"#ed7953\"],[0.7777777777777778,\"#fb9f3a\"],[0.8888888888888888,\"#fdca26\"],[1.0,\"#f0f921\"]]}],\"contourcarpet\":[{\"type\":\"contourcarpet\",\"colorbar\":{\"outlinewidth\":0,\"ticks\":\"\"}}],\"contour\":[{\"type\":\"contour\",\"colorbar\":{\"outlinewidth\":0,\"ticks\":\"\"},\"colorscale\":[[0.0,\"#0d0887\"],[0.1111111111111111,\"#46039f\"],[0.2222222222222222,\"#7201a8\"],[0.3333333333333333,\"#9c179e\"],[0.4444444444444444,\"#bd3786\"],[0.5555555555555556,\"#d8576b\"],[0.6666666666666666,\"#ed7953\"],[0.7777777777777778,\"#fb9f3a\"],[0.8888888888888888,\"#fdca26\"],[1.0,\"#f0f921\"]]}],\"surface\":[{\"type\":\"surface\",\"colorbar\":{\"outlinewidth\":0,\"ticks\":\"\"},\"colorscale\":[[0.0,\"#0d0887\"],[0.1111111111111111,\"#46039f\"],[0.2222222222222222,\"#7201a8\"],[0.3333333333333333,\"#9c179e\"],[0.4444444444444444,\"#bd3786\"],[0.5555555555555556,\"#d8576b\"],[0.6666666666666666,\"#ed7953\"],[0.7777777777777778,\"#fb9f3a\"],[0.8888888888888888,\"#fdca26\"],[1.0,\"#f0f921\"]]}],\"mesh3d\":[{\"type\":\"mesh3d\",\"colorbar\":{\"outlinewidth\":0,\"ticks\":\"\"}}],\"scatter\":[{\"fillpattern\":{\"fillmode\":\"overlay\",\"size\":10,\"solidity\":0.2},\"type\":\"scatter\"}],\"parcoords\":[{\"type\":\"parcoords\",\"line\":{\"colorbar\":{\"outlinewidth\":0,\"ticks\":\"\"}}}],\"scatterpolargl\":[{\"type\":\"scatterpolargl\",\"marker\":{\"colorbar\":{\"outlinewidth\":0,\"ticks\":\"\"}}}],\"bar\":[{\"error_x\":{\"color\":\"#2a3f5f\"},\"error_y\":{\"color\":\"#2a3f5f\"},\"marker\":{\"line\":{\"color\":\"#E5ECF6\",\"width\":0.5},\"pattern\":{\"fillmode\":\"overlay\",\"size\":10,\"solidity\":0.2}},\"type\":\"bar\"}],\"scattergeo\":[{\"type\":\"scattergeo\",\"marker\":{\"colorbar\":{\"outlinewidth\":0,\"ticks\":\"\"}}}],\"scatterpolar\":[{\"type\":\"scatterpolar\",\"marker\":{\"colorbar\":{\"outlinewidth\":0,\"ticks\":\"\"}}}],\"histogram\":[{\"marker\":{\"pattern\":{\"fillmode\":\"overlay\",\"size\":10,\"solidity\":0.2}},\"type\":\"histogram\"}],\"scattergl\":[{\"type\":\"scattergl\",\"marker\":{\"colorbar\":{\"outlinewidth\":0,\"ticks\":\"\"}}}],\"scatter3d\":[{\"type\":\"scatter3d\",\"line\":{\"colorbar\":{\"outlinewidth\":0,\"ticks\":\"\"}},\"marker\":{\"colorbar\":{\"outlinewidth\":0,\"ticks\":\"\"}}}],\"scattermapbox\":[{\"type\":\"scattermapbox\",\"marker\":{\"colorbar\":{\"outlinewidth\":0,\"ticks\":\"\"}}}],\"scatterternary\":[{\"type\":\"scatterternary\",\"marker\":{\"colorbar\":{\"outlinewidth\":0,\"ticks\":\"\"}}}],\"scattercarpet\":[{\"type\":\"scattercarpet\",\"marker\":{\"colorbar\":{\"outlinewidth\":0,\"ticks\":\"\"}}}],\"carpet\":[{\"aaxis\":{\"endlinecolor\":\"#2a3f5f\",\"gridcolor\":\"white\",\"linecolor\":\"white\",\"minorgridcolor\":\"white\",\"startlinecolor\":\"#2a3f5f\"},\"baxis\":{\"endlinecolor\":\"#2a3f5f\",\"gridcolor\":\"white\",\"linecolor\":\"white\",\"minorgridcolor\":\"white\",\"startlinecolor\":\"#2a3f5f\"},\"type\":\"carpet\"}],\"table\":[{\"cells\":{\"fill\":{\"color\":\"#EBF0F8\"},\"line\":{\"color\":\"white\"}},\"header\":{\"fill\":{\"color\":\"#C8D4E3\"},\"line\":{\"color\":\"white\"}},\"type\":\"table\"}],\"barpolar\":[{\"marker\":{\"line\":{\"color\":\"#E5ECF6\",\"width\":0.5},\"pattern\":{\"fillmode\":\"overlay\",\"size\":10,\"solidity\":0.2}},\"type\":\"barpolar\"}],\"pie\":[{\"automargin\":true,\"type\":\"pie\"}]},\"layout\":{\"autotypenumbers\":\"strict\",\"colorway\":[\"#636efa\",\"#EF553B\",\"#00cc96\",\"#ab63fa\",\"#FFA15A\",\"#19d3f3\",\"#FF6692\",\"#B6E880\",\"#FF97FF\",\"#FECB52\"],\"font\":{\"color\":\"#2a3f5f\"},\"hovermode\":\"closest\",\"hoverlabel\":{\"align\":\"left\"},\"paper_bgcolor\":\"white\",\"plot_bgcolor\":\"#E5ECF6\",\"polar\":{\"bgcolor\":\"#E5ECF6\",\"angularaxis\":{\"gridcolor\":\"white\",\"linecolor\":\"white\",\"ticks\":\"\"},\"radialaxis\":{\"gridcolor\":\"white\",\"linecolor\":\"white\",\"ticks\":\"\"}},\"ternary\":{\"bgcolor\":\"#E5ECF6\",\"aaxis\":{\"gridcolor\":\"white\",\"linecolor\":\"white\",\"ticks\":\"\"},\"baxis\":{\"gridcolor\":\"white\",\"linecolor\":\"white\",\"ticks\":\"\"},\"caxis\":{\"gridcolor\":\"white\",\"linecolor\":\"white\",\"ticks\":\"\"}},\"coloraxis\":{\"colorbar\":{\"outlinewidth\":0,\"ticks\":\"\"}},\"colorscale\":{\"sequential\":[[0.0,\"#0d0887\"],[0.1111111111111111,\"#46039f\"],[0.2222222222222222,\"#7201a8\"],[0.3333333333333333,\"#9c179e\"],[0.4444444444444444,\"#bd3786\"],[0.5555555555555556,\"#d8576b\"],[0.6666666666666666,\"#ed7953\"],[0.7777777777777778,\"#fb9f3a\"],[0.8888888888888888,\"#fdca26\"],[1.0,\"#f0f921\"]],\"sequentialminus\":[[0.0,\"#0d0887\"],[0.1111111111111111,\"#46039f\"],[0.2222222222222222,\"#7201a8\"],[0.3333333333333333,\"#9c179e\"],[0.4444444444444444,\"#bd3786\"],[0.5555555555555556,\"#d8576b\"],[0.6666666666666666,\"#ed7953\"],[0.7777777777777778,\"#fb9f3a\"],[0.8888888888888888,\"#fdca26\"],[1.0,\"#f0f921\"]],\"diverging\":[[0,\"#8e0152\"],[0.1,\"#c51b7d\"],[0.2,\"#de77ae\"],[0.3,\"#f1b6da\"],[0.4,\"#fde0ef\"],[0.5,\"#f7f7f7\"],[0.6,\"#e6f5d0\"],[0.7,\"#b8e186\"],[0.8,\"#7fbc41\"],[0.9,\"#4d9221\"],[1,\"#276419\"]]},\"xaxis\":{\"gridcolor\":\"white\",\"linecolor\":\"white\",\"ticks\":\"\",\"title\":{\"standoff\":15},\"zerolinecolor\":\"white\",\"automargin\":true,\"zerolinewidth\":2},\"yaxis\":{\"gridcolor\":\"white\",\"linecolor\":\"white\",\"ticks\":\"\",\"title\":{\"standoff\":15},\"zerolinecolor\":\"white\",\"automargin\":true,\"zerolinewidth\":2},\"scene\":{\"xaxis\":{\"backgroundcolor\":\"#E5ECF6\",\"gridcolor\":\"white\",\"linecolor\":\"white\",\"showbackground\":true,\"ticks\":\"\",\"zerolinecolor\":\"white\",\"gridwidth\":2},\"yaxis\":{\"backgroundcolor\":\"#E5ECF6\",\"gridcolor\":\"white\",\"linecolor\":\"white\",\"showbackground\":true,\"ticks\":\"\",\"zerolinecolor\":\"white\",\"gridwidth\":2},\"zaxis\":{\"backgroundcolor\":\"#E5ECF6\",\"gridcolor\":\"white\",\"linecolor\":\"white\",\"showbackground\":true,\"ticks\":\"\",\"zerolinecolor\":\"white\",\"gridwidth\":2}},\"shapedefaults\":{\"line\":{\"color\":\"#2a3f5f\"}},\"annotationdefaults\":{\"arrowcolor\":\"#2a3f5f\",\"arrowhead\":0,\"arrowwidth\":1},\"geo\":{\"bgcolor\":\"white\",\"landcolor\":\"#E5ECF6\",\"subunitcolor\":\"white\",\"showland\":true,\"showlakes\":true,\"lakecolor\":\"white\"},\"title\":{\"x\":0.05},\"mapbox\":{\"style\":\"light\"}}},\"legend\":{\"tracegroupgap\":0},\"title\":{\"text\":\"Topic Distribution in Dataset 1 (N=5)\"}},                        {\"responsive\": true}                    ).then(function(){\n",
       "                            \n",
       "var gd = document.getElementById('ac819b93-8241-483b-b66a-18b41ea139d6');\n",
       "var x = new MutationObserver(function (mutations, observer) {{\n",
       "        var display = window.getComputedStyle(gd).display;\n",
       "        if (!display || display === 'none') {{\n",
       "            console.log([gd, 'removed!']);\n",
       "            Plotly.purge(gd);\n",
       "            observer.disconnect();\n",
       "        }}\n",
       "}});\n",
       "\n",
       "// Listen for the removal of the full notebook cells\n",
       "var notebookContainer = gd.closest('#notebook-container');\n",
       "if (notebookContainer) {{\n",
       "    x.observe(notebookContainer, {childList: true});\n",
       "}}\n",
       "\n",
       "// Listen for the clearing of the current output cell\n",
       "var outputEl = gd.closest('.output');\n",
       "if (outputEl) {{\n",
       "    x.observe(outputEl, {childList: true});\n",
       "}}\n",
       "\n",
       "                        })                };                });            </script>        </div>"
      ]
     },
     "metadata": {},
     "output_type": "display_data"
    },
    {
     "data": {
      "application/vnd.plotly.v1+json": {
       "config": {
        "plotlyServerURL": "https://plot.ly"
       },
       "data": [
        {
         "domain": {
          "x": [
           0,
           1
          ],
          "y": [
           0,
           1
          ]
         },
         "hole": 0.3,
         "hovertemplate": "label=%{label}<br>value=%{value}<extra></extra>",
         "labels": [
          "Topic 1",
          "Topic 2",
          "Topic 3",
          "Topic 4",
          "Topic 5",
          "Topic 6",
          "Topic 7",
          "Topic 8",
          "Topic 9",
          "Topic 10"
         ],
         "legendgroup": "",
         "name": "",
         "showlegend": true,
         "type": "pie",
         "values": [
          295.1975969802588,
          410.30859003495425,
          649.66181448102,
          460.1354065462947,
          343.30477817356586,
          594.92270324938,
          416.13058697991073,
          331.28854752425104,
          412.3720679571852,
          620.3295312011614
         ]
        }
       ],
       "layout": {
        "legend": {
         "tracegroupgap": 0
        },
        "template": {
         "data": {
          "bar": [
           {
            "error_x": {
             "color": "#2a3f5f"
            },
            "error_y": {
             "color": "#2a3f5f"
            },
            "marker": {
             "line": {
              "color": "#E5ECF6",
              "width": 0.5
             },
             "pattern": {
              "fillmode": "overlay",
              "size": 10,
              "solidity": 0.2
             }
            },
            "type": "bar"
           }
          ],
          "barpolar": [
           {
            "marker": {
             "line": {
              "color": "#E5ECF6",
              "width": 0.5
             },
             "pattern": {
              "fillmode": "overlay",
              "size": 10,
              "solidity": 0.2
             }
            },
            "type": "barpolar"
           }
          ],
          "carpet": [
           {
            "aaxis": {
             "endlinecolor": "#2a3f5f",
             "gridcolor": "white",
             "linecolor": "white",
             "minorgridcolor": "white",
             "startlinecolor": "#2a3f5f"
            },
            "baxis": {
             "endlinecolor": "#2a3f5f",
             "gridcolor": "white",
             "linecolor": "white",
             "minorgridcolor": "white",
             "startlinecolor": "#2a3f5f"
            },
            "type": "carpet"
           }
          ],
          "choropleth": [
           {
            "colorbar": {
             "outlinewidth": 0,
             "ticks": ""
            },
            "type": "choropleth"
           }
          ],
          "contour": [
           {
            "colorbar": {
             "outlinewidth": 0,
             "ticks": ""
            },
            "colorscale": [
             [
              0,
              "#0d0887"
             ],
             [
              0.1111111111111111,
              "#46039f"
             ],
             [
              0.2222222222222222,
              "#7201a8"
             ],
             [
              0.3333333333333333,
              "#9c179e"
             ],
             [
              0.4444444444444444,
              "#bd3786"
             ],
             [
              0.5555555555555556,
              "#d8576b"
             ],
             [
              0.6666666666666666,
              "#ed7953"
             ],
             [
              0.7777777777777778,
              "#fb9f3a"
             ],
             [
              0.8888888888888888,
              "#fdca26"
             ],
             [
              1,
              "#f0f921"
             ]
            ],
            "type": "contour"
           }
          ],
          "contourcarpet": [
           {
            "colorbar": {
             "outlinewidth": 0,
             "ticks": ""
            },
            "type": "contourcarpet"
           }
          ],
          "heatmap": [
           {
            "colorbar": {
             "outlinewidth": 0,
             "ticks": ""
            },
            "colorscale": [
             [
              0,
              "#0d0887"
             ],
             [
              0.1111111111111111,
              "#46039f"
             ],
             [
              0.2222222222222222,
              "#7201a8"
             ],
             [
              0.3333333333333333,
              "#9c179e"
             ],
             [
              0.4444444444444444,
              "#bd3786"
             ],
             [
              0.5555555555555556,
              "#d8576b"
             ],
             [
              0.6666666666666666,
              "#ed7953"
             ],
             [
              0.7777777777777778,
              "#fb9f3a"
             ],
             [
              0.8888888888888888,
              "#fdca26"
             ],
             [
              1,
              "#f0f921"
             ]
            ],
            "type": "heatmap"
           }
          ],
          "heatmapgl": [
           {
            "colorbar": {
             "outlinewidth": 0,
             "ticks": ""
            },
            "colorscale": [
             [
              0,
              "#0d0887"
             ],
             [
              0.1111111111111111,
              "#46039f"
             ],
             [
              0.2222222222222222,
              "#7201a8"
             ],
             [
              0.3333333333333333,
              "#9c179e"
             ],
             [
              0.4444444444444444,
              "#bd3786"
             ],
             [
              0.5555555555555556,
              "#d8576b"
             ],
             [
              0.6666666666666666,
              "#ed7953"
             ],
             [
              0.7777777777777778,
              "#fb9f3a"
             ],
             [
              0.8888888888888888,
              "#fdca26"
             ],
             [
              1,
              "#f0f921"
             ]
            ],
            "type": "heatmapgl"
           }
          ],
          "histogram": [
           {
            "marker": {
             "pattern": {
              "fillmode": "overlay",
              "size": 10,
              "solidity": 0.2
             }
            },
            "type": "histogram"
           }
          ],
          "histogram2d": [
           {
            "colorbar": {
             "outlinewidth": 0,
             "ticks": ""
            },
            "colorscale": [
             [
              0,
              "#0d0887"
             ],
             [
              0.1111111111111111,
              "#46039f"
             ],
             [
              0.2222222222222222,
              "#7201a8"
             ],
             [
              0.3333333333333333,
              "#9c179e"
             ],
             [
              0.4444444444444444,
              "#bd3786"
             ],
             [
              0.5555555555555556,
              "#d8576b"
             ],
             [
              0.6666666666666666,
              "#ed7953"
             ],
             [
              0.7777777777777778,
              "#fb9f3a"
             ],
             [
              0.8888888888888888,
              "#fdca26"
             ],
             [
              1,
              "#f0f921"
             ]
            ],
            "type": "histogram2d"
           }
          ],
          "histogram2dcontour": [
           {
            "colorbar": {
             "outlinewidth": 0,
             "ticks": ""
            },
            "colorscale": [
             [
              0,
              "#0d0887"
             ],
             [
              0.1111111111111111,
              "#46039f"
             ],
             [
              0.2222222222222222,
              "#7201a8"
             ],
             [
              0.3333333333333333,
              "#9c179e"
             ],
             [
              0.4444444444444444,
              "#bd3786"
             ],
             [
              0.5555555555555556,
              "#d8576b"
             ],
             [
              0.6666666666666666,
              "#ed7953"
             ],
             [
              0.7777777777777778,
              "#fb9f3a"
             ],
             [
              0.8888888888888888,
              "#fdca26"
             ],
             [
              1,
              "#f0f921"
             ]
            ],
            "type": "histogram2dcontour"
           }
          ],
          "mesh3d": [
           {
            "colorbar": {
             "outlinewidth": 0,
             "ticks": ""
            },
            "type": "mesh3d"
           }
          ],
          "parcoords": [
           {
            "line": {
             "colorbar": {
              "outlinewidth": 0,
              "ticks": ""
             }
            },
            "type": "parcoords"
           }
          ],
          "pie": [
           {
            "automargin": true,
            "type": "pie"
           }
          ],
          "scatter": [
           {
            "fillpattern": {
             "fillmode": "overlay",
             "size": 10,
             "solidity": 0.2
            },
            "type": "scatter"
           }
          ],
          "scatter3d": [
           {
            "line": {
             "colorbar": {
              "outlinewidth": 0,
              "ticks": ""
             }
            },
            "marker": {
             "colorbar": {
              "outlinewidth": 0,
              "ticks": ""
             }
            },
            "type": "scatter3d"
           }
          ],
          "scattercarpet": [
           {
            "marker": {
             "colorbar": {
              "outlinewidth": 0,
              "ticks": ""
             }
            },
            "type": "scattercarpet"
           }
          ],
          "scattergeo": [
           {
            "marker": {
             "colorbar": {
              "outlinewidth": 0,
              "ticks": ""
             }
            },
            "type": "scattergeo"
           }
          ],
          "scattergl": [
           {
            "marker": {
             "colorbar": {
              "outlinewidth": 0,
              "ticks": ""
             }
            },
            "type": "scattergl"
           }
          ],
          "scattermapbox": [
           {
            "marker": {
             "colorbar": {
              "outlinewidth": 0,
              "ticks": ""
             }
            },
            "type": "scattermapbox"
           }
          ],
          "scatterpolar": [
           {
            "marker": {
             "colorbar": {
              "outlinewidth": 0,
              "ticks": ""
             }
            },
            "type": "scatterpolar"
           }
          ],
          "scatterpolargl": [
           {
            "marker": {
             "colorbar": {
              "outlinewidth": 0,
              "ticks": ""
             }
            },
            "type": "scatterpolargl"
           }
          ],
          "scatterternary": [
           {
            "marker": {
             "colorbar": {
              "outlinewidth": 0,
              "ticks": ""
             }
            },
            "type": "scatterternary"
           }
          ],
          "surface": [
           {
            "colorbar": {
             "outlinewidth": 0,
             "ticks": ""
            },
            "colorscale": [
             [
              0,
              "#0d0887"
             ],
             [
              0.1111111111111111,
              "#46039f"
             ],
             [
              0.2222222222222222,
              "#7201a8"
             ],
             [
              0.3333333333333333,
              "#9c179e"
             ],
             [
              0.4444444444444444,
              "#bd3786"
             ],
             [
              0.5555555555555556,
              "#d8576b"
             ],
             [
              0.6666666666666666,
              "#ed7953"
             ],
             [
              0.7777777777777778,
              "#fb9f3a"
             ],
             [
              0.8888888888888888,
              "#fdca26"
             ],
             [
              1,
              "#f0f921"
             ]
            ],
            "type": "surface"
           }
          ],
          "table": [
           {
            "cells": {
             "fill": {
              "color": "#EBF0F8"
             },
             "line": {
              "color": "white"
             }
            },
            "header": {
             "fill": {
              "color": "#C8D4E3"
             },
             "line": {
              "color": "white"
             }
            },
            "type": "table"
           }
          ]
         },
         "layout": {
          "annotationdefaults": {
           "arrowcolor": "#2a3f5f",
           "arrowhead": 0,
           "arrowwidth": 1
          },
          "autotypenumbers": "strict",
          "coloraxis": {
           "colorbar": {
            "outlinewidth": 0,
            "ticks": ""
           }
          },
          "colorscale": {
           "diverging": [
            [
             0,
             "#8e0152"
            ],
            [
             0.1,
             "#c51b7d"
            ],
            [
             0.2,
             "#de77ae"
            ],
            [
             0.3,
             "#f1b6da"
            ],
            [
             0.4,
             "#fde0ef"
            ],
            [
             0.5,
             "#f7f7f7"
            ],
            [
             0.6,
             "#e6f5d0"
            ],
            [
             0.7,
             "#b8e186"
            ],
            [
             0.8,
             "#7fbc41"
            ],
            [
             0.9,
             "#4d9221"
            ],
            [
             1,
             "#276419"
            ]
           ],
           "sequential": [
            [
             0,
             "#0d0887"
            ],
            [
             0.1111111111111111,
             "#46039f"
            ],
            [
             0.2222222222222222,
             "#7201a8"
            ],
            [
             0.3333333333333333,
             "#9c179e"
            ],
            [
             0.4444444444444444,
             "#bd3786"
            ],
            [
             0.5555555555555556,
             "#d8576b"
            ],
            [
             0.6666666666666666,
             "#ed7953"
            ],
            [
             0.7777777777777778,
             "#fb9f3a"
            ],
            [
             0.8888888888888888,
             "#fdca26"
            ],
            [
             1,
             "#f0f921"
            ]
           ],
           "sequentialminus": [
            [
             0,
             "#0d0887"
            ],
            [
             0.1111111111111111,
             "#46039f"
            ],
            [
             0.2222222222222222,
             "#7201a8"
            ],
            [
             0.3333333333333333,
             "#9c179e"
            ],
            [
             0.4444444444444444,
             "#bd3786"
            ],
            [
             0.5555555555555556,
             "#d8576b"
            ],
            [
             0.6666666666666666,
             "#ed7953"
            ],
            [
             0.7777777777777778,
             "#fb9f3a"
            ],
            [
             0.8888888888888888,
             "#fdca26"
            ],
            [
             1,
             "#f0f921"
            ]
           ]
          },
          "colorway": [
           "#636efa",
           "#EF553B",
           "#00cc96",
           "#ab63fa",
           "#FFA15A",
           "#19d3f3",
           "#FF6692",
           "#B6E880",
           "#FF97FF",
           "#FECB52"
          ],
          "font": {
           "color": "#2a3f5f"
          },
          "geo": {
           "bgcolor": "white",
           "lakecolor": "white",
           "landcolor": "#E5ECF6",
           "showlakes": true,
           "showland": true,
           "subunitcolor": "white"
          },
          "hoverlabel": {
           "align": "left"
          },
          "hovermode": "closest",
          "mapbox": {
           "style": "light"
          },
          "paper_bgcolor": "white",
          "plot_bgcolor": "#E5ECF6",
          "polar": {
           "angularaxis": {
            "gridcolor": "white",
            "linecolor": "white",
            "ticks": ""
           },
           "bgcolor": "#E5ECF6",
           "radialaxis": {
            "gridcolor": "white",
            "linecolor": "white",
            "ticks": ""
           }
          },
          "scene": {
           "xaxis": {
            "backgroundcolor": "#E5ECF6",
            "gridcolor": "white",
            "gridwidth": 2,
            "linecolor": "white",
            "showbackground": true,
            "ticks": "",
            "zerolinecolor": "white"
           },
           "yaxis": {
            "backgroundcolor": "#E5ECF6",
            "gridcolor": "white",
            "gridwidth": 2,
            "linecolor": "white",
            "showbackground": true,
            "ticks": "",
            "zerolinecolor": "white"
           },
           "zaxis": {
            "backgroundcolor": "#E5ECF6",
            "gridcolor": "white",
            "gridwidth": 2,
            "linecolor": "white",
            "showbackground": true,
            "ticks": "",
            "zerolinecolor": "white"
           }
          },
          "shapedefaults": {
           "line": {
            "color": "#2a3f5f"
           }
          },
          "ternary": {
           "aaxis": {
            "gridcolor": "white",
            "linecolor": "white",
            "ticks": ""
           },
           "baxis": {
            "gridcolor": "white",
            "linecolor": "white",
            "ticks": ""
           },
           "bgcolor": "#E5ECF6",
           "caxis": {
            "gridcolor": "white",
            "linecolor": "white",
            "ticks": ""
           }
          },
          "title": {
           "x": 0.05
          },
          "xaxis": {
           "automargin": true,
           "gridcolor": "white",
           "linecolor": "white",
           "ticks": "",
           "title": {
            "standoff": 15
           },
           "zerolinecolor": "white",
           "zerolinewidth": 2
          },
          "yaxis": {
           "automargin": true,
           "gridcolor": "white",
           "linecolor": "white",
           "ticks": "",
           "title": {
            "standoff": 15
           },
           "zerolinecolor": "white",
           "zerolinewidth": 2
          }
         }
        },
        "title": {
         "text": "Topic Distribution in Dataset 1 (N=10)"
        }
       }
      },
      "text/html": [
       "<div>                            <div id=\"08c95ef4-65ec-41c6-a884-76dc88149e68\" class=\"plotly-graph-div\" style=\"height:525px; width:100%;\"></div>            <script type=\"text/javascript\">                require([\"plotly\"], function(Plotly) {                    window.PLOTLYENV=window.PLOTLYENV || {};                                    if (document.getElementById(\"08c95ef4-65ec-41c6-a884-76dc88149e68\")) {                    Plotly.newPlot(                        \"08c95ef4-65ec-41c6-a884-76dc88149e68\",                        [{\"domain\":{\"x\":[0.0,1.0],\"y\":[0.0,1.0]},\"hole\":0.3,\"hovertemplate\":\"label=%{label}<br>value=%{value}<extra></extra>\",\"labels\":[\"Topic 1\",\"Topic 2\",\"Topic 3\",\"Topic 4\",\"Topic 5\",\"Topic 6\",\"Topic 7\",\"Topic 8\",\"Topic 9\",\"Topic 10\"],\"legendgroup\":\"\",\"name\":\"\",\"showlegend\":true,\"values\":[295.1975969802588,410.30859003495425,649.66181448102,460.1354065462947,343.30477817356586,594.92270324938,416.13058697991073,331.28854752425104,412.3720679571852,620.3295312011614],\"type\":\"pie\"}],                        {\"template\":{\"data\":{\"histogram2dcontour\":[{\"type\":\"histogram2dcontour\",\"colorbar\":{\"outlinewidth\":0,\"ticks\":\"\"},\"colorscale\":[[0.0,\"#0d0887\"],[0.1111111111111111,\"#46039f\"],[0.2222222222222222,\"#7201a8\"],[0.3333333333333333,\"#9c179e\"],[0.4444444444444444,\"#bd3786\"],[0.5555555555555556,\"#d8576b\"],[0.6666666666666666,\"#ed7953\"],[0.7777777777777778,\"#fb9f3a\"],[0.8888888888888888,\"#fdca26\"],[1.0,\"#f0f921\"]]}],\"choropleth\":[{\"type\":\"choropleth\",\"colorbar\":{\"outlinewidth\":0,\"ticks\":\"\"}}],\"histogram2d\":[{\"type\":\"histogram2d\",\"colorbar\":{\"outlinewidth\":0,\"ticks\":\"\"},\"colorscale\":[[0.0,\"#0d0887\"],[0.1111111111111111,\"#46039f\"],[0.2222222222222222,\"#7201a8\"],[0.3333333333333333,\"#9c179e\"],[0.4444444444444444,\"#bd3786\"],[0.5555555555555556,\"#d8576b\"],[0.6666666666666666,\"#ed7953\"],[0.7777777777777778,\"#fb9f3a\"],[0.8888888888888888,\"#fdca26\"],[1.0,\"#f0f921\"]]}],\"heatmap\":[{\"type\":\"heatmap\",\"colorbar\":{\"outlinewidth\":0,\"ticks\":\"\"},\"colorscale\":[[0.0,\"#0d0887\"],[0.1111111111111111,\"#46039f\"],[0.2222222222222222,\"#7201a8\"],[0.3333333333333333,\"#9c179e\"],[0.4444444444444444,\"#bd3786\"],[0.5555555555555556,\"#d8576b\"],[0.6666666666666666,\"#ed7953\"],[0.7777777777777778,\"#fb9f3a\"],[0.8888888888888888,\"#fdca26\"],[1.0,\"#f0f921\"]]}],\"heatmapgl\":[{\"type\":\"heatmapgl\",\"colorbar\":{\"outlinewidth\":0,\"ticks\":\"\"},\"colorscale\":[[0.0,\"#0d0887\"],[0.1111111111111111,\"#46039f\"],[0.2222222222222222,\"#7201a8\"],[0.3333333333333333,\"#9c179e\"],[0.4444444444444444,\"#bd3786\"],[0.5555555555555556,\"#d8576b\"],[0.6666666666666666,\"#ed7953\"],[0.7777777777777778,\"#fb9f3a\"],[0.8888888888888888,\"#fdca26\"],[1.0,\"#f0f921\"]]}],\"contourcarpet\":[{\"type\":\"contourcarpet\",\"colorbar\":{\"outlinewidth\":0,\"ticks\":\"\"}}],\"contour\":[{\"type\":\"contour\",\"colorbar\":{\"outlinewidth\":0,\"ticks\":\"\"},\"colorscale\":[[0.0,\"#0d0887\"],[0.1111111111111111,\"#46039f\"],[0.2222222222222222,\"#7201a8\"],[0.3333333333333333,\"#9c179e\"],[0.4444444444444444,\"#bd3786\"],[0.5555555555555556,\"#d8576b\"],[0.6666666666666666,\"#ed7953\"],[0.7777777777777778,\"#fb9f3a\"],[0.8888888888888888,\"#fdca26\"],[1.0,\"#f0f921\"]]}],\"surface\":[{\"type\":\"surface\",\"colorbar\":{\"outlinewidth\":0,\"ticks\":\"\"},\"colorscale\":[[0.0,\"#0d0887\"],[0.1111111111111111,\"#46039f\"],[0.2222222222222222,\"#7201a8\"],[0.3333333333333333,\"#9c179e\"],[0.4444444444444444,\"#bd3786\"],[0.5555555555555556,\"#d8576b\"],[0.6666666666666666,\"#ed7953\"],[0.7777777777777778,\"#fb9f3a\"],[0.8888888888888888,\"#fdca26\"],[1.0,\"#f0f921\"]]}],\"mesh3d\":[{\"type\":\"mesh3d\",\"colorbar\":{\"outlinewidth\":0,\"ticks\":\"\"}}],\"scatter\":[{\"fillpattern\":{\"fillmode\":\"overlay\",\"size\":10,\"solidity\":0.2},\"type\":\"scatter\"}],\"parcoords\":[{\"type\":\"parcoords\",\"line\":{\"colorbar\":{\"outlinewidth\":0,\"ticks\":\"\"}}}],\"scatterpolargl\":[{\"type\":\"scatterpolargl\",\"marker\":{\"colorbar\":{\"outlinewidth\":0,\"ticks\":\"\"}}}],\"bar\":[{\"error_x\":{\"color\":\"#2a3f5f\"},\"error_y\":{\"color\":\"#2a3f5f\"},\"marker\":{\"line\":{\"color\":\"#E5ECF6\",\"width\":0.5},\"pattern\":{\"fillmode\":\"overlay\",\"size\":10,\"solidity\":0.2}},\"type\":\"bar\"}],\"scattergeo\":[{\"type\":\"scattergeo\",\"marker\":{\"colorbar\":{\"outlinewidth\":0,\"ticks\":\"\"}}}],\"scatterpolar\":[{\"type\":\"scatterpolar\",\"marker\":{\"colorbar\":{\"outlinewidth\":0,\"ticks\":\"\"}}}],\"histogram\":[{\"marker\":{\"pattern\":{\"fillmode\":\"overlay\",\"size\":10,\"solidity\":0.2}},\"type\":\"histogram\"}],\"scattergl\":[{\"type\":\"scattergl\",\"marker\":{\"colorbar\":{\"outlinewidth\":0,\"ticks\":\"\"}}}],\"scatter3d\":[{\"type\":\"scatter3d\",\"line\":{\"colorbar\":{\"outlinewidth\":0,\"ticks\":\"\"}},\"marker\":{\"colorbar\":{\"outlinewidth\":0,\"ticks\":\"\"}}}],\"scattermapbox\":[{\"type\":\"scattermapbox\",\"marker\":{\"colorbar\":{\"outlinewidth\":0,\"ticks\":\"\"}}}],\"scatterternary\":[{\"type\":\"scatterternary\",\"marker\":{\"colorbar\":{\"outlinewidth\":0,\"ticks\":\"\"}}}],\"scattercarpet\":[{\"type\":\"scattercarpet\",\"marker\":{\"colorbar\":{\"outlinewidth\":0,\"ticks\":\"\"}}}],\"carpet\":[{\"aaxis\":{\"endlinecolor\":\"#2a3f5f\",\"gridcolor\":\"white\",\"linecolor\":\"white\",\"minorgridcolor\":\"white\",\"startlinecolor\":\"#2a3f5f\"},\"baxis\":{\"endlinecolor\":\"#2a3f5f\",\"gridcolor\":\"white\",\"linecolor\":\"white\",\"minorgridcolor\":\"white\",\"startlinecolor\":\"#2a3f5f\"},\"type\":\"carpet\"}],\"table\":[{\"cells\":{\"fill\":{\"color\":\"#EBF0F8\"},\"line\":{\"color\":\"white\"}},\"header\":{\"fill\":{\"color\":\"#C8D4E3\"},\"line\":{\"color\":\"white\"}},\"type\":\"table\"}],\"barpolar\":[{\"marker\":{\"line\":{\"color\":\"#E5ECF6\",\"width\":0.5},\"pattern\":{\"fillmode\":\"overlay\",\"size\":10,\"solidity\":0.2}},\"type\":\"barpolar\"}],\"pie\":[{\"automargin\":true,\"type\":\"pie\"}]},\"layout\":{\"autotypenumbers\":\"strict\",\"colorway\":[\"#636efa\",\"#EF553B\",\"#00cc96\",\"#ab63fa\",\"#FFA15A\",\"#19d3f3\",\"#FF6692\",\"#B6E880\",\"#FF97FF\",\"#FECB52\"],\"font\":{\"color\":\"#2a3f5f\"},\"hovermode\":\"closest\",\"hoverlabel\":{\"align\":\"left\"},\"paper_bgcolor\":\"white\",\"plot_bgcolor\":\"#E5ECF6\",\"polar\":{\"bgcolor\":\"#E5ECF6\",\"angularaxis\":{\"gridcolor\":\"white\",\"linecolor\":\"white\",\"ticks\":\"\"},\"radialaxis\":{\"gridcolor\":\"white\",\"linecolor\":\"white\",\"ticks\":\"\"}},\"ternary\":{\"bgcolor\":\"#E5ECF6\",\"aaxis\":{\"gridcolor\":\"white\",\"linecolor\":\"white\",\"ticks\":\"\"},\"baxis\":{\"gridcolor\":\"white\",\"linecolor\":\"white\",\"ticks\":\"\"},\"caxis\":{\"gridcolor\":\"white\",\"linecolor\":\"white\",\"ticks\":\"\"}},\"coloraxis\":{\"colorbar\":{\"outlinewidth\":0,\"ticks\":\"\"}},\"colorscale\":{\"sequential\":[[0.0,\"#0d0887\"],[0.1111111111111111,\"#46039f\"],[0.2222222222222222,\"#7201a8\"],[0.3333333333333333,\"#9c179e\"],[0.4444444444444444,\"#bd3786\"],[0.5555555555555556,\"#d8576b\"],[0.6666666666666666,\"#ed7953\"],[0.7777777777777778,\"#fb9f3a\"],[0.8888888888888888,\"#fdca26\"],[1.0,\"#f0f921\"]],\"sequentialminus\":[[0.0,\"#0d0887\"],[0.1111111111111111,\"#46039f\"],[0.2222222222222222,\"#7201a8\"],[0.3333333333333333,\"#9c179e\"],[0.4444444444444444,\"#bd3786\"],[0.5555555555555556,\"#d8576b\"],[0.6666666666666666,\"#ed7953\"],[0.7777777777777778,\"#fb9f3a\"],[0.8888888888888888,\"#fdca26\"],[1.0,\"#f0f921\"]],\"diverging\":[[0,\"#8e0152\"],[0.1,\"#c51b7d\"],[0.2,\"#de77ae\"],[0.3,\"#f1b6da\"],[0.4,\"#fde0ef\"],[0.5,\"#f7f7f7\"],[0.6,\"#e6f5d0\"],[0.7,\"#b8e186\"],[0.8,\"#7fbc41\"],[0.9,\"#4d9221\"],[1,\"#276419\"]]},\"xaxis\":{\"gridcolor\":\"white\",\"linecolor\":\"white\",\"ticks\":\"\",\"title\":{\"standoff\":15},\"zerolinecolor\":\"white\",\"automargin\":true,\"zerolinewidth\":2},\"yaxis\":{\"gridcolor\":\"white\",\"linecolor\":\"white\",\"ticks\":\"\",\"title\":{\"standoff\":15},\"zerolinecolor\":\"white\",\"automargin\":true,\"zerolinewidth\":2},\"scene\":{\"xaxis\":{\"backgroundcolor\":\"#E5ECF6\",\"gridcolor\":\"white\",\"linecolor\":\"white\",\"showbackground\":true,\"ticks\":\"\",\"zerolinecolor\":\"white\",\"gridwidth\":2},\"yaxis\":{\"backgroundcolor\":\"#E5ECF6\",\"gridcolor\":\"white\",\"linecolor\":\"white\",\"showbackground\":true,\"ticks\":\"\",\"zerolinecolor\":\"white\",\"gridwidth\":2},\"zaxis\":{\"backgroundcolor\":\"#E5ECF6\",\"gridcolor\":\"white\",\"linecolor\":\"white\",\"showbackground\":true,\"ticks\":\"\",\"zerolinecolor\":\"white\",\"gridwidth\":2}},\"shapedefaults\":{\"line\":{\"color\":\"#2a3f5f\"}},\"annotationdefaults\":{\"arrowcolor\":\"#2a3f5f\",\"arrowhead\":0,\"arrowwidth\":1},\"geo\":{\"bgcolor\":\"white\",\"landcolor\":\"#E5ECF6\",\"subunitcolor\":\"white\",\"showland\":true,\"showlakes\":true,\"lakecolor\":\"white\"},\"title\":{\"x\":0.05},\"mapbox\":{\"style\":\"light\"}}},\"legend\":{\"tracegroupgap\":0},\"title\":{\"text\":\"Topic Distribution in Dataset 1 (N=10)\"}},                        {\"responsive\": true}                    ).then(function(){\n",
       "                            \n",
       "var gd = document.getElementById('08c95ef4-65ec-41c6-a884-76dc88149e68');\n",
       "var x = new MutationObserver(function (mutations, observer) {{\n",
       "        var display = window.getComputedStyle(gd).display;\n",
       "        if (!display || display === 'none') {{\n",
       "            console.log([gd, 'removed!']);\n",
       "            Plotly.purge(gd);\n",
       "            observer.disconnect();\n",
       "        }}\n",
       "}});\n",
       "\n",
       "// Listen for the removal of the full notebook cells\n",
       "var notebookContainer = gd.closest('#notebook-container');\n",
       "if (notebookContainer) {{\n",
       "    x.observe(notebookContainer, {childList: true});\n",
       "}}\n",
       "\n",
       "// Listen for the clearing of the current output cell\n",
       "var outputEl = gd.closest('.output');\n",
       "if (outputEl) {{\n",
       "    x.observe(outputEl, {childList: true});\n",
       "}}\n",
       "\n",
       "                        })                };                });            </script>        </div>"
      ]
     },
     "metadata": {},
     "output_type": "display_data"
    },
    {
     "data": {
      "application/vnd.plotly.v1+json": {
       "config": {
        "plotlyServerURL": "https://plot.ly"
       },
       "data": [
        {
         "domain": {
          "x": [
           0,
           1
          ],
          "y": [
           0,
           1
          ]
         },
         "hole": 0.3,
         "hovertemplate": "label=%{label}<br>value=%{value}<extra></extra>",
         "labels": [
          "Topic 1",
          "Topic 2",
          "Topic 3",
          "Topic 4",
          "Topic 5",
          "Topic 6",
          "Topic 7",
          "Topic 8",
          "Topic 9",
          "Topic 10",
          "Topic 11",
          "Topic 12",
          "Topic 13",
          "Topic 14",
          "Topic 15",
          "Topic 16",
          "Topic 17",
          "Topic 18",
          "Topic 19",
          "Topic 20"
         ],
         "legendgroup": "",
         "name": "",
         "showlegend": true,
         "type": "pie",
         "values": [
          231.12640509661287,
          173.73100950941443,
          126.0730231301859,
          185.0662391493097,
          141.37094790302217,
          181.15289991535246,
          252.0623875381425,
          205.16676677763462,
          225.76088218204677,
          225.8489157082513,
          382.55040292907506,
          156.0403333939612,
          268.8250886136666,
          299.6407598275691,
          141.32329313084483,
          231.92450193222612,
          222.58806789014488,
          198.13590274192393,
          177.9301923001185,
          355.5121507588774
         ]
        }
       ],
       "layout": {
        "legend": {
         "tracegroupgap": 0
        },
        "template": {
         "data": {
          "bar": [
           {
            "error_x": {
             "color": "#2a3f5f"
            },
            "error_y": {
             "color": "#2a3f5f"
            },
            "marker": {
             "line": {
              "color": "#E5ECF6",
              "width": 0.5
             },
             "pattern": {
              "fillmode": "overlay",
              "size": 10,
              "solidity": 0.2
             }
            },
            "type": "bar"
           }
          ],
          "barpolar": [
           {
            "marker": {
             "line": {
              "color": "#E5ECF6",
              "width": 0.5
             },
             "pattern": {
              "fillmode": "overlay",
              "size": 10,
              "solidity": 0.2
             }
            },
            "type": "barpolar"
           }
          ],
          "carpet": [
           {
            "aaxis": {
             "endlinecolor": "#2a3f5f",
             "gridcolor": "white",
             "linecolor": "white",
             "minorgridcolor": "white",
             "startlinecolor": "#2a3f5f"
            },
            "baxis": {
             "endlinecolor": "#2a3f5f",
             "gridcolor": "white",
             "linecolor": "white",
             "minorgridcolor": "white",
             "startlinecolor": "#2a3f5f"
            },
            "type": "carpet"
           }
          ],
          "choropleth": [
           {
            "colorbar": {
             "outlinewidth": 0,
             "ticks": ""
            },
            "type": "choropleth"
           }
          ],
          "contour": [
           {
            "colorbar": {
             "outlinewidth": 0,
             "ticks": ""
            },
            "colorscale": [
             [
              0,
              "#0d0887"
             ],
             [
              0.1111111111111111,
              "#46039f"
             ],
             [
              0.2222222222222222,
              "#7201a8"
             ],
             [
              0.3333333333333333,
              "#9c179e"
             ],
             [
              0.4444444444444444,
              "#bd3786"
             ],
             [
              0.5555555555555556,
              "#d8576b"
             ],
             [
              0.6666666666666666,
              "#ed7953"
             ],
             [
              0.7777777777777778,
              "#fb9f3a"
             ],
             [
              0.8888888888888888,
              "#fdca26"
             ],
             [
              1,
              "#f0f921"
             ]
            ],
            "type": "contour"
           }
          ],
          "contourcarpet": [
           {
            "colorbar": {
             "outlinewidth": 0,
             "ticks": ""
            },
            "type": "contourcarpet"
           }
          ],
          "heatmap": [
           {
            "colorbar": {
             "outlinewidth": 0,
             "ticks": ""
            },
            "colorscale": [
             [
              0,
              "#0d0887"
             ],
             [
              0.1111111111111111,
              "#46039f"
             ],
             [
              0.2222222222222222,
              "#7201a8"
             ],
             [
              0.3333333333333333,
              "#9c179e"
             ],
             [
              0.4444444444444444,
              "#bd3786"
             ],
             [
              0.5555555555555556,
              "#d8576b"
             ],
             [
              0.6666666666666666,
              "#ed7953"
             ],
             [
              0.7777777777777778,
              "#fb9f3a"
             ],
             [
              0.8888888888888888,
              "#fdca26"
             ],
             [
              1,
              "#f0f921"
             ]
            ],
            "type": "heatmap"
           }
          ],
          "heatmapgl": [
           {
            "colorbar": {
             "outlinewidth": 0,
             "ticks": ""
            },
            "colorscale": [
             [
              0,
              "#0d0887"
             ],
             [
              0.1111111111111111,
              "#46039f"
             ],
             [
              0.2222222222222222,
              "#7201a8"
             ],
             [
              0.3333333333333333,
              "#9c179e"
             ],
             [
              0.4444444444444444,
              "#bd3786"
             ],
             [
              0.5555555555555556,
              "#d8576b"
             ],
             [
              0.6666666666666666,
              "#ed7953"
             ],
             [
              0.7777777777777778,
              "#fb9f3a"
             ],
             [
              0.8888888888888888,
              "#fdca26"
             ],
             [
              1,
              "#f0f921"
             ]
            ],
            "type": "heatmapgl"
           }
          ],
          "histogram": [
           {
            "marker": {
             "pattern": {
              "fillmode": "overlay",
              "size": 10,
              "solidity": 0.2
             }
            },
            "type": "histogram"
           }
          ],
          "histogram2d": [
           {
            "colorbar": {
             "outlinewidth": 0,
             "ticks": ""
            },
            "colorscale": [
             [
              0,
              "#0d0887"
             ],
             [
              0.1111111111111111,
              "#46039f"
             ],
             [
              0.2222222222222222,
              "#7201a8"
             ],
             [
              0.3333333333333333,
              "#9c179e"
             ],
             [
              0.4444444444444444,
              "#bd3786"
             ],
             [
              0.5555555555555556,
              "#d8576b"
             ],
             [
              0.6666666666666666,
              "#ed7953"
             ],
             [
              0.7777777777777778,
              "#fb9f3a"
             ],
             [
              0.8888888888888888,
              "#fdca26"
             ],
             [
              1,
              "#f0f921"
             ]
            ],
            "type": "histogram2d"
           }
          ],
          "histogram2dcontour": [
           {
            "colorbar": {
             "outlinewidth": 0,
             "ticks": ""
            },
            "colorscale": [
             [
              0,
              "#0d0887"
             ],
             [
              0.1111111111111111,
              "#46039f"
             ],
             [
              0.2222222222222222,
              "#7201a8"
             ],
             [
              0.3333333333333333,
              "#9c179e"
             ],
             [
              0.4444444444444444,
              "#bd3786"
             ],
             [
              0.5555555555555556,
              "#d8576b"
             ],
             [
              0.6666666666666666,
              "#ed7953"
             ],
             [
              0.7777777777777778,
              "#fb9f3a"
             ],
             [
              0.8888888888888888,
              "#fdca26"
             ],
             [
              1,
              "#f0f921"
             ]
            ],
            "type": "histogram2dcontour"
           }
          ],
          "mesh3d": [
           {
            "colorbar": {
             "outlinewidth": 0,
             "ticks": ""
            },
            "type": "mesh3d"
           }
          ],
          "parcoords": [
           {
            "line": {
             "colorbar": {
              "outlinewidth": 0,
              "ticks": ""
             }
            },
            "type": "parcoords"
           }
          ],
          "pie": [
           {
            "automargin": true,
            "type": "pie"
           }
          ],
          "scatter": [
           {
            "fillpattern": {
             "fillmode": "overlay",
             "size": 10,
             "solidity": 0.2
            },
            "type": "scatter"
           }
          ],
          "scatter3d": [
           {
            "line": {
             "colorbar": {
              "outlinewidth": 0,
              "ticks": ""
             }
            },
            "marker": {
             "colorbar": {
              "outlinewidth": 0,
              "ticks": ""
             }
            },
            "type": "scatter3d"
           }
          ],
          "scattercarpet": [
           {
            "marker": {
             "colorbar": {
              "outlinewidth": 0,
              "ticks": ""
             }
            },
            "type": "scattercarpet"
           }
          ],
          "scattergeo": [
           {
            "marker": {
             "colorbar": {
              "outlinewidth": 0,
              "ticks": ""
             }
            },
            "type": "scattergeo"
           }
          ],
          "scattergl": [
           {
            "marker": {
             "colorbar": {
              "outlinewidth": 0,
              "ticks": ""
             }
            },
            "type": "scattergl"
           }
          ],
          "scattermapbox": [
           {
            "marker": {
             "colorbar": {
              "outlinewidth": 0,
              "ticks": ""
             }
            },
            "type": "scattermapbox"
           }
          ],
          "scatterpolar": [
           {
            "marker": {
             "colorbar": {
              "outlinewidth": 0,
              "ticks": ""
             }
            },
            "type": "scatterpolar"
           }
          ],
          "scatterpolargl": [
           {
            "marker": {
             "colorbar": {
              "outlinewidth": 0,
              "ticks": ""
             }
            },
            "type": "scatterpolargl"
           }
          ],
          "scatterternary": [
           {
            "marker": {
             "colorbar": {
              "outlinewidth": 0,
              "ticks": ""
             }
            },
            "type": "scatterternary"
           }
          ],
          "surface": [
           {
            "colorbar": {
             "outlinewidth": 0,
             "ticks": ""
            },
            "colorscale": [
             [
              0,
              "#0d0887"
             ],
             [
              0.1111111111111111,
              "#46039f"
             ],
             [
              0.2222222222222222,
              "#7201a8"
             ],
             [
              0.3333333333333333,
              "#9c179e"
             ],
             [
              0.4444444444444444,
              "#bd3786"
             ],
             [
              0.5555555555555556,
              "#d8576b"
             ],
             [
              0.6666666666666666,
              "#ed7953"
             ],
             [
              0.7777777777777778,
              "#fb9f3a"
             ],
             [
              0.8888888888888888,
              "#fdca26"
             ],
             [
              1,
              "#f0f921"
             ]
            ],
            "type": "surface"
           }
          ],
          "table": [
           {
            "cells": {
             "fill": {
              "color": "#EBF0F8"
             },
             "line": {
              "color": "white"
             }
            },
            "header": {
             "fill": {
              "color": "#C8D4E3"
             },
             "line": {
              "color": "white"
             }
            },
            "type": "table"
           }
          ]
         },
         "layout": {
          "annotationdefaults": {
           "arrowcolor": "#2a3f5f",
           "arrowhead": 0,
           "arrowwidth": 1
          },
          "autotypenumbers": "strict",
          "coloraxis": {
           "colorbar": {
            "outlinewidth": 0,
            "ticks": ""
           }
          },
          "colorscale": {
           "diverging": [
            [
             0,
             "#8e0152"
            ],
            [
             0.1,
             "#c51b7d"
            ],
            [
             0.2,
             "#de77ae"
            ],
            [
             0.3,
             "#f1b6da"
            ],
            [
             0.4,
             "#fde0ef"
            ],
            [
             0.5,
             "#f7f7f7"
            ],
            [
             0.6,
             "#e6f5d0"
            ],
            [
             0.7,
             "#b8e186"
            ],
            [
             0.8,
             "#7fbc41"
            ],
            [
             0.9,
             "#4d9221"
            ],
            [
             1,
             "#276419"
            ]
           ],
           "sequential": [
            [
             0,
             "#0d0887"
            ],
            [
             0.1111111111111111,
             "#46039f"
            ],
            [
             0.2222222222222222,
             "#7201a8"
            ],
            [
             0.3333333333333333,
             "#9c179e"
            ],
            [
             0.4444444444444444,
             "#bd3786"
            ],
            [
             0.5555555555555556,
             "#d8576b"
            ],
            [
             0.6666666666666666,
             "#ed7953"
            ],
            [
             0.7777777777777778,
             "#fb9f3a"
            ],
            [
             0.8888888888888888,
             "#fdca26"
            ],
            [
             1,
             "#f0f921"
            ]
           ],
           "sequentialminus": [
            [
             0,
             "#0d0887"
            ],
            [
             0.1111111111111111,
             "#46039f"
            ],
            [
             0.2222222222222222,
             "#7201a8"
            ],
            [
             0.3333333333333333,
             "#9c179e"
            ],
            [
             0.4444444444444444,
             "#bd3786"
            ],
            [
             0.5555555555555556,
             "#d8576b"
            ],
            [
             0.6666666666666666,
             "#ed7953"
            ],
            [
             0.7777777777777778,
             "#fb9f3a"
            ],
            [
             0.8888888888888888,
             "#fdca26"
            ],
            [
             1,
             "#f0f921"
            ]
           ]
          },
          "colorway": [
           "#636efa",
           "#EF553B",
           "#00cc96",
           "#ab63fa",
           "#FFA15A",
           "#19d3f3",
           "#FF6692",
           "#B6E880",
           "#FF97FF",
           "#FECB52"
          ],
          "font": {
           "color": "#2a3f5f"
          },
          "geo": {
           "bgcolor": "white",
           "lakecolor": "white",
           "landcolor": "#E5ECF6",
           "showlakes": true,
           "showland": true,
           "subunitcolor": "white"
          },
          "hoverlabel": {
           "align": "left"
          },
          "hovermode": "closest",
          "mapbox": {
           "style": "light"
          },
          "paper_bgcolor": "white",
          "plot_bgcolor": "#E5ECF6",
          "polar": {
           "angularaxis": {
            "gridcolor": "white",
            "linecolor": "white",
            "ticks": ""
           },
           "bgcolor": "#E5ECF6",
           "radialaxis": {
            "gridcolor": "white",
            "linecolor": "white",
            "ticks": ""
           }
          },
          "scene": {
           "xaxis": {
            "backgroundcolor": "#E5ECF6",
            "gridcolor": "white",
            "gridwidth": 2,
            "linecolor": "white",
            "showbackground": true,
            "ticks": "",
            "zerolinecolor": "white"
           },
           "yaxis": {
            "backgroundcolor": "#E5ECF6",
            "gridcolor": "white",
            "gridwidth": 2,
            "linecolor": "white",
            "showbackground": true,
            "ticks": "",
            "zerolinecolor": "white"
           },
           "zaxis": {
            "backgroundcolor": "#E5ECF6",
            "gridcolor": "white",
            "gridwidth": 2,
            "linecolor": "white",
            "showbackground": true,
            "ticks": "",
            "zerolinecolor": "white"
           }
          },
          "shapedefaults": {
           "line": {
            "color": "#2a3f5f"
           }
          },
          "ternary": {
           "aaxis": {
            "gridcolor": "white",
            "linecolor": "white",
            "ticks": ""
           },
           "baxis": {
            "gridcolor": "white",
            "linecolor": "white",
            "ticks": ""
           },
           "bgcolor": "#E5ECF6",
           "caxis": {
            "gridcolor": "white",
            "linecolor": "white",
            "ticks": ""
           }
          },
          "title": {
           "x": 0.05
          },
          "xaxis": {
           "automargin": true,
           "gridcolor": "white",
           "linecolor": "white",
           "ticks": "",
           "title": {
            "standoff": 15
           },
           "zerolinecolor": "white",
           "zerolinewidth": 2
          },
          "yaxis": {
           "automargin": true,
           "gridcolor": "white",
           "linecolor": "white",
           "ticks": "",
           "title": {
            "standoff": 15
           },
           "zerolinecolor": "white",
           "zerolinewidth": 2
          }
         }
        },
        "title": {
         "text": "Topic Distribution in Dataset 1 (N=20)"
        }
       }
      },
      "text/html": [
       "<div>                            <div id=\"0a6d639d-e06e-44a6-aee7-e03c81740fd2\" class=\"plotly-graph-div\" style=\"height:525px; width:100%;\"></div>            <script type=\"text/javascript\">                require([\"plotly\"], function(Plotly) {                    window.PLOTLYENV=window.PLOTLYENV || {};                                    if (document.getElementById(\"0a6d639d-e06e-44a6-aee7-e03c81740fd2\")) {                    Plotly.newPlot(                        \"0a6d639d-e06e-44a6-aee7-e03c81740fd2\",                        [{\"domain\":{\"x\":[0.0,1.0],\"y\":[0.0,1.0]},\"hole\":0.3,\"hovertemplate\":\"label=%{label}<br>value=%{value}<extra></extra>\",\"labels\":[\"Topic 1\",\"Topic 2\",\"Topic 3\",\"Topic 4\",\"Topic 5\",\"Topic 6\",\"Topic 7\",\"Topic 8\",\"Topic 9\",\"Topic 10\",\"Topic 11\",\"Topic 12\",\"Topic 13\",\"Topic 14\",\"Topic 15\",\"Topic 16\",\"Topic 17\",\"Topic 18\",\"Topic 19\",\"Topic 20\"],\"legendgroup\":\"\",\"name\":\"\",\"showlegend\":true,\"values\":[231.12640509661287,173.73100950941443,126.0730231301859,185.0662391493097,141.37094790302217,181.15289991535246,252.0623875381425,205.16676677763462,225.76088218204677,225.8489157082513,382.55040292907506,156.0403333939612,268.8250886136666,299.6407598275691,141.32329313084483,231.92450193222612,222.58806789014488,198.13590274192393,177.9301923001185,355.5121507588774],\"type\":\"pie\"}],                        {\"template\":{\"data\":{\"histogram2dcontour\":[{\"type\":\"histogram2dcontour\",\"colorbar\":{\"outlinewidth\":0,\"ticks\":\"\"},\"colorscale\":[[0.0,\"#0d0887\"],[0.1111111111111111,\"#46039f\"],[0.2222222222222222,\"#7201a8\"],[0.3333333333333333,\"#9c179e\"],[0.4444444444444444,\"#bd3786\"],[0.5555555555555556,\"#d8576b\"],[0.6666666666666666,\"#ed7953\"],[0.7777777777777778,\"#fb9f3a\"],[0.8888888888888888,\"#fdca26\"],[1.0,\"#f0f921\"]]}],\"choropleth\":[{\"type\":\"choropleth\",\"colorbar\":{\"outlinewidth\":0,\"ticks\":\"\"}}],\"histogram2d\":[{\"type\":\"histogram2d\",\"colorbar\":{\"outlinewidth\":0,\"ticks\":\"\"},\"colorscale\":[[0.0,\"#0d0887\"],[0.1111111111111111,\"#46039f\"],[0.2222222222222222,\"#7201a8\"],[0.3333333333333333,\"#9c179e\"],[0.4444444444444444,\"#bd3786\"],[0.5555555555555556,\"#d8576b\"],[0.6666666666666666,\"#ed7953\"],[0.7777777777777778,\"#fb9f3a\"],[0.8888888888888888,\"#fdca26\"],[1.0,\"#f0f921\"]]}],\"heatmap\":[{\"type\":\"heatmap\",\"colorbar\":{\"outlinewidth\":0,\"ticks\":\"\"},\"colorscale\":[[0.0,\"#0d0887\"],[0.1111111111111111,\"#46039f\"],[0.2222222222222222,\"#7201a8\"],[0.3333333333333333,\"#9c179e\"],[0.4444444444444444,\"#bd3786\"],[0.5555555555555556,\"#d8576b\"],[0.6666666666666666,\"#ed7953\"],[0.7777777777777778,\"#fb9f3a\"],[0.8888888888888888,\"#fdca26\"],[1.0,\"#f0f921\"]]}],\"heatmapgl\":[{\"type\":\"heatmapgl\",\"colorbar\":{\"outlinewidth\":0,\"ticks\":\"\"},\"colorscale\":[[0.0,\"#0d0887\"],[0.1111111111111111,\"#46039f\"],[0.2222222222222222,\"#7201a8\"],[0.3333333333333333,\"#9c179e\"],[0.4444444444444444,\"#bd3786\"],[0.5555555555555556,\"#d8576b\"],[0.6666666666666666,\"#ed7953\"],[0.7777777777777778,\"#fb9f3a\"],[0.8888888888888888,\"#fdca26\"],[1.0,\"#f0f921\"]]}],\"contourcarpet\":[{\"type\":\"contourcarpet\",\"colorbar\":{\"outlinewidth\":0,\"ticks\":\"\"}}],\"contour\":[{\"type\":\"contour\",\"colorbar\":{\"outlinewidth\":0,\"ticks\":\"\"},\"colorscale\":[[0.0,\"#0d0887\"],[0.1111111111111111,\"#46039f\"],[0.2222222222222222,\"#7201a8\"],[0.3333333333333333,\"#9c179e\"],[0.4444444444444444,\"#bd3786\"],[0.5555555555555556,\"#d8576b\"],[0.6666666666666666,\"#ed7953\"],[0.7777777777777778,\"#fb9f3a\"],[0.8888888888888888,\"#fdca26\"],[1.0,\"#f0f921\"]]}],\"surface\":[{\"type\":\"surface\",\"colorbar\":{\"outlinewidth\":0,\"ticks\":\"\"},\"colorscale\":[[0.0,\"#0d0887\"],[0.1111111111111111,\"#46039f\"],[0.2222222222222222,\"#7201a8\"],[0.3333333333333333,\"#9c179e\"],[0.4444444444444444,\"#bd3786\"],[0.5555555555555556,\"#d8576b\"],[0.6666666666666666,\"#ed7953\"],[0.7777777777777778,\"#fb9f3a\"],[0.8888888888888888,\"#fdca26\"],[1.0,\"#f0f921\"]]}],\"mesh3d\":[{\"type\":\"mesh3d\",\"colorbar\":{\"outlinewidth\":0,\"ticks\":\"\"}}],\"scatter\":[{\"fillpattern\":{\"fillmode\":\"overlay\",\"size\":10,\"solidity\":0.2},\"type\":\"scatter\"}],\"parcoords\":[{\"type\":\"parcoords\",\"line\":{\"colorbar\":{\"outlinewidth\":0,\"ticks\":\"\"}}}],\"scatterpolargl\":[{\"type\":\"scatterpolargl\",\"marker\":{\"colorbar\":{\"outlinewidth\":0,\"ticks\":\"\"}}}],\"bar\":[{\"error_x\":{\"color\":\"#2a3f5f\"},\"error_y\":{\"color\":\"#2a3f5f\"},\"marker\":{\"line\":{\"color\":\"#E5ECF6\",\"width\":0.5},\"pattern\":{\"fillmode\":\"overlay\",\"size\":10,\"solidity\":0.2}},\"type\":\"bar\"}],\"scattergeo\":[{\"type\":\"scattergeo\",\"marker\":{\"colorbar\":{\"outlinewidth\":0,\"ticks\":\"\"}}}],\"scatterpolar\":[{\"type\":\"scatterpolar\",\"marker\":{\"colorbar\":{\"outlinewidth\":0,\"ticks\":\"\"}}}],\"histogram\":[{\"marker\":{\"pattern\":{\"fillmode\":\"overlay\",\"size\":10,\"solidity\":0.2}},\"type\":\"histogram\"}],\"scattergl\":[{\"type\":\"scattergl\",\"marker\":{\"colorbar\":{\"outlinewidth\":0,\"ticks\":\"\"}}}],\"scatter3d\":[{\"type\":\"scatter3d\",\"line\":{\"colorbar\":{\"outlinewidth\":0,\"ticks\":\"\"}},\"marker\":{\"colorbar\":{\"outlinewidth\":0,\"ticks\":\"\"}}}],\"scattermapbox\":[{\"type\":\"scattermapbox\",\"marker\":{\"colorbar\":{\"outlinewidth\":0,\"ticks\":\"\"}}}],\"scatterternary\":[{\"type\":\"scatterternary\",\"marker\":{\"colorbar\":{\"outlinewidth\":0,\"ticks\":\"\"}}}],\"scattercarpet\":[{\"type\":\"scattercarpet\",\"marker\":{\"colorbar\":{\"outlinewidth\":0,\"ticks\":\"\"}}}],\"carpet\":[{\"aaxis\":{\"endlinecolor\":\"#2a3f5f\",\"gridcolor\":\"white\",\"linecolor\":\"white\",\"minorgridcolor\":\"white\",\"startlinecolor\":\"#2a3f5f\"},\"baxis\":{\"endlinecolor\":\"#2a3f5f\",\"gridcolor\":\"white\",\"linecolor\":\"white\",\"minorgridcolor\":\"white\",\"startlinecolor\":\"#2a3f5f\"},\"type\":\"carpet\"}],\"table\":[{\"cells\":{\"fill\":{\"color\":\"#EBF0F8\"},\"line\":{\"color\":\"white\"}},\"header\":{\"fill\":{\"color\":\"#C8D4E3\"},\"line\":{\"color\":\"white\"}},\"type\":\"table\"}],\"barpolar\":[{\"marker\":{\"line\":{\"color\":\"#E5ECF6\",\"width\":0.5},\"pattern\":{\"fillmode\":\"overlay\",\"size\":10,\"solidity\":0.2}},\"type\":\"barpolar\"}],\"pie\":[{\"automargin\":true,\"type\":\"pie\"}]},\"layout\":{\"autotypenumbers\":\"strict\",\"colorway\":[\"#636efa\",\"#EF553B\",\"#00cc96\",\"#ab63fa\",\"#FFA15A\",\"#19d3f3\",\"#FF6692\",\"#B6E880\",\"#FF97FF\",\"#FECB52\"],\"font\":{\"color\":\"#2a3f5f\"},\"hovermode\":\"closest\",\"hoverlabel\":{\"align\":\"left\"},\"paper_bgcolor\":\"white\",\"plot_bgcolor\":\"#E5ECF6\",\"polar\":{\"bgcolor\":\"#E5ECF6\",\"angularaxis\":{\"gridcolor\":\"white\",\"linecolor\":\"white\",\"ticks\":\"\"},\"radialaxis\":{\"gridcolor\":\"white\",\"linecolor\":\"white\",\"ticks\":\"\"}},\"ternary\":{\"bgcolor\":\"#E5ECF6\",\"aaxis\":{\"gridcolor\":\"white\",\"linecolor\":\"white\",\"ticks\":\"\"},\"baxis\":{\"gridcolor\":\"white\",\"linecolor\":\"white\",\"ticks\":\"\"},\"caxis\":{\"gridcolor\":\"white\",\"linecolor\":\"white\",\"ticks\":\"\"}},\"coloraxis\":{\"colorbar\":{\"outlinewidth\":0,\"ticks\":\"\"}},\"colorscale\":{\"sequential\":[[0.0,\"#0d0887\"],[0.1111111111111111,\"#46039f\"],[0.2222222222222222,\"#7201a8\"],[0.3333333333333333,\"#9c179e\"],[0.4444444444444444,\"#bd3786\"],[0.5555555555555556,\"#d8576b\"],[0.6666666666666666,\"#ed7953\"],[0.7777777777777778,\"#fb9f3a\"],[0.8888888888888888,\"#fdca26\"],[1.0,\"#f0f921\"]],\"sequentialminus\":[[0.0,\"#0d0887\"],[0.1111111111111111,\"#46039f\"],[0.2222222222222222,\"#7201a8\"],[0.3333333333333333,\"#9c179e\"],[0.4444444444444444,\"#bd3786\"],[0.5555555555555556,\"#d8576b\"],[0.6666666666666666,\"#ed7953\"],[0.7777777777777778,\"#fb9f3a\"],[0.8888888888888888,\"#fdca26\"],[1.0,\"#f0f921\"]],\"diverging\":[[0,\"#8e0152\"],[0.1,\"#c51b7d\"],[0.2,\"#de77ae\"],[0.3,\"#f1b6da\"],[0.4,\"#fde0ef\"],[0.5,\"#f7f7f7\"],[0.6,\"#e6f5d0\"],[0.7,\"#b8e186\"],[0.8,\"#7fbc41\"],[0.9,\"#4d9221\"],[1,\"#276419\"]]},\"xaxis\":{\"gridcolor\":\"white\",\"linecolor\":\"white\",\"ticks\":\"\",\"title\":{\"standoff\":15},\"zerolinecolor\":\"white\",\"automargin\":true,\"zerolinewidth\":2},\"yaxis\":{\"gridcolor\":\"white\",\"linecolor\":\"white\",\"ticks\":\"\",\"title\":{\"standoff\":15},\"zerolinecolor\":\"white\",\"automargin\":true,\"zerolinewidth\":2},\"scene\":{\"xaxis\":{\"backgroundcolor\":\"#E5ECF6\",\"gridcolor\":\"white\",\"linecolor\":\"white\",\"showbackground\":true,\"ticks\":\"\",\"zerolinecolor\":\"white\",\"gridwidth\":2},\"yaxis\":{\"backgroundcolor\":\"#E5ECF6\",\"gridcolor\":\"white\",\"linecolor\":\"white\",\"showbackground\":true,\"ticks\":\"\",\"zerolinecolor\":\"white\",\"gridwidth\":2},\"zaxis\":{\"backgroundcolor\":\"#E5ECF6\",\"gridcolor\":\"white\",\"linecolor\":\"white\",\"showbackground\":true,\"ticks\":\"\",\"zerolinecolor\":\"white\",\"gridwidth\":2}},\"shapedefaults\":{\"line\":{\"color\":\"#2a3f5f\"}},\"annotationdefaults\":{\"arrowcolor\":\"#2a3f5f\",\"arrowhead\":0,\"arrowwidth\":1},\"geo\":{\"bgcolor\":\"white\",\"landcolor\":\"#E5ECF6\",\"subunitcolor\":\"white\",\"showland\":true,\"showlakes\":true,\"lakecolor\":\"white\"},\"title\":{\"x\":0.05},\"mapbox\":{\"style\":\"light\"}}},\"legend\":{\"tracegroupgap\":0},\"title\":{\"text\":\"Topic Distribution in Dataset 1 (N=20)\"}},                        {\"responsive\": true}                    ).then(function(){\n",
       "                            \n",
       "var gd = document.getElementById('0a6d639d-e06e-44a6-aee7-e03c81740fd2');\n",
       "var x = new MutationObserver(function (mutations, observer) {{\n",
       "        var display = window.getComputedStyle(gd).display;\n",
       "        if (!display || display === 'none') {{\n",
       "            console.log([gd, 'removed!']);\n",
       "            Plotly.purge(gd);\n",
       "            observer.disconnect();\n",
       "        }}\n",
       "}});\n",
       "\n",
       "// Listen for the removal of the full notebook cells\n",
       "var notebookContainer = gd.closest('#notebook-container');\n",
       "if (notebookContainer) {{\n",
       "    x.observe(notebookContainer, {childList: true});\n",
       "}}\n",
       "\n",
       "// Listen for the clearing of the current output cell\n",
       "var outputEl = gd.closest('.output');\n",
       "if (outputEl) {{\n",
       "    x.observe(outputEl, {childList: true});\n",
       "}}\n",
       "\n",
       "                        })                };                });            </script>        </div>"
      ]
     },
     "metadata": {},
     "output_type": "display_data"
    },
    {
     "data": {
      "application/vnd.plotly.v1+json": {
       "config": {
        "plotlyServerURL": "https://plot.ly"
       },
       "data": [
        {
         "domain": {
          "x": [
           0,
           1
          ],
          "y": [
           0,
           1
          ]
         },
         "hole": 0.3,
         "hovertemplate": "label=%{label}<br>value=%{value}<extra></extra>",
         "labels": [
          "Topic 1",
          "Topic 2",
          "Topic 3",
          "Topic 4",
          "Topic 5"
         ],
         "legendgroup": "",
         "name": "",
         "showlegend": true,
         "type": "pie",
         "values": [
          613.2839199826121,
          653.0659096436575,
          1323.5972135877237,
          2523.6393901370466,
          7712.981203298084
         ]
        }
       ],
       "layout": {
        "legend": {
         "tracegroupgap": 0
        },
        "template": {
         "data": {
          "bar": [
           {
            "error_x": {
             "color": "#2a3f5f"
            },
            "error_y": {
             "color": "#2a3f5f"
            },
            "marker": {
             "line": {
              "color": "#E5ECF6",
              "width": 0.5
             },
             "pattern": {
              "fillmode": "overlay",
              "size": 10,
              "solidity": 0.2
             }
            },
            "type": "bar"
           }
          ],
          "barpolar": [
           {
            "marker": {
             "line": {
              "color": "#E5ECF6",
              "width": 0.5
             },
             "pattern": {
              "fillmode": "overlay",
              "size": 10,
              "solidity": 0.2
             }
            },
            "type": "barpolar"
           }
          ],
          "carpet": [
           {
            "aaxis": {
             "endlinecolor": "#2a3f5f",
             "gridcolor": "white",
             "linecolor": "white",
             "minorgridcolor": "white",
             "startlinecolor": "#2a3f5f"
            },
            "baxis": {
             "endlinecolor": "#2a3f5f",
             "gridcolor": "white",
             "linecolor": "white",
             "minorgridcolor": "white",
             "startlinecolor": "#2a3f5f"
            },
            "type": "carpet"
           }
          ],
          "choropleth": [
           {
            "colorbar": {
             "outlinewidth": 0,
             "ticks": ""
            },
            "type": "choropleth"
           }
          ],
          "contour": [
           {
            "colorbar": {
             "outlinewidth": 0,
             "ticks": ""
            },
            "colorscale": [
             [
              0,
              "#0d0887"
             ],
             [
              0.1111111111111111,
              "#46039f"
             ],
             [
              0.2222222222222222,
              "#7201a8"
             ],
             [
              0.3333333333333333,
              "#9c179e"
             ],
             [
              0.4444444444444444,
              "#bd3786"
             ],
             [
              0.5555555555555556,
              "#d8576b"
             ],
             [
              0.6666666666666666,
              "#ed7953"
             ],
             [
              0.7777777777777778,
              "#fb9f3a"
             ],
             [
              0.8888888888888888,
              "#fdca26"
             ],
             [
              1,
              "#f0f921"
             ]
            ],
            "type": "contour"
           }
          ],
          "contourcarpet": [
           {
            "colorbar": {
             "outlinewidth": 0,
             "ticks": ""
            },
            "type": "contourcarpet"
           }
          ],
          "heatmap": [
           {
            "colorbar": {
             "outlinewidth": 0,
             "ticks": ""
            },
            "colorscale": [
             [
              0,
              "#0d0887"
             ],
             [
              0.1111111111111111,
              "#46039f"
             ],
             [
              0.2222222222222222,
              "#7201a8"
             ],
             [
              0.3333333333333333,
              "#9c179e"
             ],
             [
              0.4444444444444444,
              "#bd3786"
             ],
             [
              0.5555555555555556,
              "#d8576b"
             ],
             [
              0.6666666666666666,
              "#ed7953"
             ],
             [
              0.7777777777777778,
              "#fb9f3a"
             ],
             [
              0.8888888888888888,
              "#fdca26"
             ],
             [
              1,
              "#f0f921"
             ]
            ],
            "type": "heatmap"
           }
          ],
          "heatmapgl": [
           {
            "colorbar": {
             "outlinewidth": 0,
             "ticks": ""
            },
            "colorscale": [
             [
              0,
              "#0d0887"
             ],
             [
              0.1111111111111111,
              "#46039f"
             ],
             [
              0.2222222222222222,
              "#7201a8"
             ],
             [
              0.3333333333333333,
              "#9c179e"
             ],
             [
              0.4444444444444444,
              "#bd3786"
             ],
             [
              0.5555555555555556,
              "#d8576b"
             ],
             [
              0.6666666666666666,
              "#ed7953"
             ],
             [
              0.7777777777777778,
              "#fb9f3a"
             ],
             [
              0.8888888888888888,
              "#fdca26"
             ],
             [
              1,
              "#f0f921"
             ]
            ],
            "type": "heatmapgl"
           }
          ],
          "histogram": [
           {
            "marker": {
             "pattern": {
              "fillmode": "overlay",
              "size": 10,
              "solidity": 0.2
             }
            },
            "type": "histogram"
           }
          ],
          "histogram2d": [
           {
            "colorbar": {
             "outlinewidth": 0,
             "ticks": ""
            },
            "colorscale": [
             [
              0,
              "#0d0887"
             ],
             [
              0.1111111111111111,
              "#46039f"
             ],
             [
              0.2222222222222222,
              "#7201a8"
             ],
             [
              0.3333333333333333,
              "#9c179e"
             ],
             [
              0.4444444444444444,
              "#bd3786"
             ],
             [
              0.5555555555555556,
              "#d8576b"
             ],
             [
              0.6666666666666666,
              "#ed7953"
             ],
             [
              0.7777777777777778,
              "#fb9f3a"
             ],
             [
              0.8888888888888888,
              "#fdca26"
             ],
             [
              1,
              "#f0f921"
             ]
            ],
            "type": "histogram2d"
           }
          ],
          "histogram2dcontour": [
           {
            "colorbar": {
             "outlinewidth": 0,
             "ticks": ""
            },
            "colorscale": [
             [
              0,
              "#0d0887"
             ],
             [
              0.1111111111111111,
              "#46039f"
             ],
             [
              0.2222222222222222,
              "#7201a8"
             ],
             [
              0.3333333333333333,
              "#9c179e"
             ],
             [
              0.4444444444444444,
              "#bd3786"
             ],
             [
              0.5555555555555556,
              "#d8576b"
             ],
             [
              0.6666666666666666,
              "#ed7953"
             ],
             [
              0.7777777777777778,
              "#fb9f3a"
             ],
             [
              0.8888888888888888,
              "#fdca26"
             ],
             [
              1,
              "#f0f921"
             ]
            ],
            "type": "histogram2dcontour"
           }
          ],
          "mesh3d": [
           {
            "colorbar": {
             "outlinewidth": 0,
             "ticks": ""
            },
            "type": "mesh3d"
           }
          ],
          "parcoords": [
           {
            "line": {
             "colorbar": {
              "outlinewidth": 0,
              "ticks": ""
             }
            },
            "type": "parcoords"
           }
          ],
          "pie": [
           {
            "automargin": true,
            "type": "pie"
           }
          ],
          "scatter": [
           {
            "fillpattern": {
             "fillmode": "overlay",
             "size": 10,
             "solidity": 0.2
            },
            "type": "scatter"
           }
          ],
          "scatter3d": [
           {
            "line": {
             "colorbar": {
              "outlinewidth": 0,
              "ticks": ""
             }
            },
            "marker": {
             "colorbar": {
              "outlinewidth": 0,
              "ticks": ""
             }
            },
            "type": "scatter3d"
           }
          ],
          "scattercarpet": [
           {
            "marker": {
             "colorbar": {
              "outlinewidth": 0,
              "ticks": ""
             }
            },
            "type": "scattercarpet"
           }
          ],
          "scattergeo": [
           {
            "marker": {
             "colorbar": {
              "outlinewidth": 0,
              "ticks": ""
             }
            },
            "type": "scattergeo"
           }
          ],
          "scattergl": [
           {
            "marker": {
             "colorbar": {
              "outlinewidth": 0,
              "ticks": ""
             }
            },
            "type": "scattergl"
           }
          ],
          "scattermapbox": [
           {
            "marker": {
             "colorbar": {
              "outlinewidth": 0,
              "ticks": ""
             }
            },
            "type": "scattermapbox"
           }
          ],
          "scatterpolar": [
           {
            "marker": {
             "colorbar": {
              "outlinewidth": 0,
              "ticks": ""
             }
            },
            "type": "scatterpolar"
           }
          ],
          "scatterpolargl": [
           {
            "marker": {
             "colorbar": {
              "outlinewidth": 0,
              "ticks": ""
             }
            },
            "type": "scatterpolargl"
           }
          ],
          "scatterternary": [
           {
            "marker": {
             "colorbar": {
              "outlinewidth": 0,
              "ticks": ""
             }
            },
            "type": "scatterternary"
           }
          ],
          "surface": [
           {
            "colorbar": {
             "outlinewidth": 0,
             "ticks": ""
            },
            "colorscale": [
             [
              0,
              "#0d0887"
             ],
             [
              0.1111111111111111,
              "#46039f"
             ],
             [
              0.2222222222222222,
              "#7201a8"
             ],
             [
              0.3333333333333333,
              "#9c179e"
             ],
             [
              0.4444444444444444,
              "#bd3786"
             ],
             [
              0.5555555555555556,
              "#d8576b"
             ],
             [
              0.6666666666666666,
              "#ed7953"
             ],
             [
              0.7777777777777778,
              "#fb9f3a"
             ],
             [
              0.8888888888888888,
              "#fdca26"
             ],
             [
              1,
              "#f0f921"
             ]
            ],
            "type": "surface"
           }
          ],
          "table": [
           {
            "cells": {
             "fill": {
              "color": "#EBF0F8"
             },
             "line": {
              "color": "white"
             }
            },
            "header": {
             "fill": {
              "color": "#C8D4E3"
             },
             "line": {
              "color": "white"
             }
            },
            "type": "table"
           }
          ]
         },
         "layout": {
          "annotationdefaults": {
           "arrowcolor": "#2a3f5f",
           "arrowhead": 0,
           "arrowwidth": 1
          },
          "autotypenumbers": "strict",
          "coloraxis": {
           "colorbar": {
            "outlinewidth": 0,
            "ticks": ""
           }
          },
          "colorscale": {
           "diverging": [
            [
             0,
             "#8e0152"
            ],
            [
             0.1,
             "#c51b7d"
            ],
            [
             0.2,
             "#de77ae"
            ],
            [
             0.3,
             "#f1b6da"
            ],
            [
             0.4,
             "#fde0ef"
            ],
            [
             0.5,
             "#f7f7f7"
            ],
            [
             0.6,
             "#e6f5d0"
            ],
            [
             0.7,
             "#b8e186"
            ],
            [
             0.8,
             "#7fbc41"
            ],
            [
             0.9,
             "#4d9221"
            ],
            [
             1,
             "#276419"
            ]
           ],
           "sequential": [
            [
             0,
             "#0d0887"
            ],
            [
             0.1111111111111111,
             "#46039f"
            ],
            [
             0.2222222222222222,
             "#7201a8"
            ],
            [
             0.3333333333333333,
             "#9c179e"
            ],
            [
             0.4444444444444444,
             "#bd3786"
            ],
            [
             0.5555555555555556,
             "#d8576b"
            ],
            [
             0.6666666666666666,
             "#ed7953"
            ],
            [
             0.7777777777777778,
             "#fb9f3a"
            ],
            [
             0.8888888888888888,
             "#fdca26"
            ],
            [
             1,
             "#f0f921"
            ]
           ],
           "sequentialminus": [
            [
             0,
             "#0d0887"
            ],
            [
             0.1111111111111111,
             "#46039f"
            ],
            [
             0.2222222222222222,
             "#7201a8"
            ],
            [
             0.3333333333333333,
             "#9c179e"
            ],
            [
             0.4444444444444444,
             "#bd3786"
            ],
            [
             0.5555555555555556,
             "#d8576b"
            ],
            [
             0.6666666666666666,
             "#ed7953"
            ],
            [
             0.7777777777777778,
             "#fb9f3a"
            ],
            [
             0.8888888888888888,
             "#fdca26"
            ],
            [
             1,
             "#f0f921"
            ]
           ]
          },
          "colorway": [
           "#636efa",
           "#EF553B",
           "#00cc96",
           "#ab63fa",
           "#FFA15A",
           "#19d3f3",
           "#FF6692",
           "#B6E880",
           "#FF97FF",
           "#FECB52"
          ],
          "font": {
           "color": "#2a3f5f"
          },
          "geo": {
           "bgcolor": "white",
           "lakecolor": "white",
           "landcolor": "#E5ECF6",
           "showlakes": true,
           "showland": true,
           "subunitcolor": "white"
          },
          "hoverlabel": {
           "align": "left"
          },
          "hovermode": "closest",
          "mapbox": {
           "style": "light"
          },
          "paper_bgcolor": "white",
          "plot_bgcolor": "#E5ECF6",
          "polar": {
           "angularaxis": {
            "gridcolor": "white",
            "linecolor": "white",
            "ticks": ""
           },
           "bgcolor": "#E5ECF6",
           "radialaxis": {
            "gridcolor": "white",
            "linecolor": "white",
            "ticks": ""
           }
          },
          "scene": {
           "xaxis": {
            "backgroundcolor": "#E5ECF6",
            "gridcolor": "white",
            "gridwidth": 2,
            "linecolor": "white",
            "showbackground": true,
            "ticks": "",
            "zerolinecolor": "white"
           },
           "yaxis": {
            "backgroundcolor": "#E5ECF6",
            "gridcolor": "white",
            "gridwidth": 2,
            "linecolor": "white",
            "showbackground": true,
            "ticks": "",
            "zerolinecolor": "white"
           },
           "zaxis": {
            "backgroundcolor": "#E5ECF6",
            "gridcolor": "white",
            "gridwidth": 2,
            "linecolor": "white",
            "showbackground": true,
            "ticks": "",
            "zerolinecolor": "white"
           }
          },
          "shapedefaults": {
           "line": {
            "color": "#2a3f5f"
           }
          },
          "ternary": {
           "aaxis": {
            "gridcolor": "white",
            "linecolor": "white",
            "ticks": ""
           },
           "baxis": {
            "gridcolor": "white",
            "linecolor": "white",
            "ticks": ""
           },
           "bgcolor": "#E5ECF6",
           "caxis": {
            "gridcolor": "white",
            "linecolor": "white",
            "ticks": ""
           }
          },
          "title": {
           "x": 0.05
          },
          "xaxis": {
           "automargin": true,
           "gridcolor": "white",
           "linecolor": "white",
           "ticks": "",
           "title": {
            "standoff": 15
           },
           "zerolinecolor": "white",
           "zerolinewidth": 2
          },
          "yaxis": {
           "automargin": true,
           "gridcolor": "white",
           "linecolor": "white",
           "ticks": "",
           "title": {
            "standoff": 15
           },
           "zerolinecolor": "white",
           "zerolinewidth": 2
          }
         }
        },
        "title": {
         "text": "Topic Distribution in Dataset 2 (N=5)"
        }
       }
      },
      "text/html": [
       "<div>                            <div id=\"eb2ced37-7359-4254-b50b-6045864fc1d9\" class=\"plotly-graph-div\" style=\"height:525px; width:100%;\"></div>            <script type=\"text/javascript\">                require([\"plotly\"], function(Plotly) {                    window.PLOTLYENV=window.PLOTLYENV || {};                                    if (document.getElementById(\"eb2ced37-7359-4254-b50b-6045864fc1d9\")) {                    Plotly.newPlot(                        \"eb2ced37-7359-4254-b50b-6045864fc1d9\",                        [{\"domain\":{\"x\":[0.0,1.0],\"y\":[0.0,1.0]},\"hole\":0.3,\"hovertemplate\":\"label=%{label}<br>value=%{value}<extra></extra>\",\"labels\":[\"Topic 1\",\"Topic 2\",\"Topic 3\",\"Topic 4\",\"Topic 5\"],\"legendgroup\":\"\",\"name\":\"\",\"showlegend\":true,\"values\":[613.2839199826121,653.0659096436575,1323.5972135877237,2523.6393901370466,7712.981203298084],\"type\":\"pie\"}],                        {\"template\":{\"data\":{\"histogram2dcontour\":[{\"type\":\"histogram2dcontour\",\"colorbar\":{\"outlinewidth\":0,\"ticks\":\"\"},\"colorscale\":[[0.0,\"#0d0887\"],[0.1111111111111111,\"#46039f\"],[0.2222222222222222,\"#7201a8\"],[0.3333333333333333,\"#9c179e\"],[0.4444444444444444,\"#bd3786\"],[0.5555555555555556,\"#d8576b\"],[0.6666666666666666,\"#ed7953\"],[0.7777777777777778,\"#fb9f3a\"],[0.8888888888888888,\"#fdca26\"],[1.0,\"#f0f921\"]]}],\"choropleth\":[{\"type\":\"choropleth\",\"colorbar\":{\"outlinewidth\":0,\"ticks\":\"\"}}],\"histogram2d\":[{\"type\":\"histogram2d\",\"colorbar\":{\"outlinewidth\":0,\"ticks\":\"\"},\"colorscale\":[[0.0,\"#0d0887\"],[0.1111111111111111,\"#46039f\"],[0.2222222222222222,\"#7201a8\"],[0.3333333333333333,\"#9c179e\"],[0.4444444444444444,\"#bd3786\"],[0.5555555555555556,\"#d8576b\"],[0.6666666666666666,\"#ed7953\"],[0.7777777777777778,\"#fb9f3a\"],[0.8888888888888888,\"#fdca26\"],[1.0,\"#f0f921\"]]}],\"heatmap\":[{\"type\":\"heatmap\",\"colorbar\":{\"outlinewidth\":0,\"ticks\":\"\"},\"colorscale\":[[0.0,\"#0d0887\"],[0.1111111111111111,\"#46039f\"],[0.2222222222222222,\"#7201a8\"],[0.3333333333333333,\"#9c179e\"],[0.4444444444444444,\"#bd3786\"],[0.5555555555555556,\"#d8576b\"],[0.6666666666666666,\"#ed7953\"],[0.7777777777777778,\"#fb9f3a\"],[0.8888888888888888,\"#fdca26\"],[1.0,\"#f0f921\"]]}],\"heatmapgl\":[{\"type\":\"heatmapgl\",\"colorbar\":{\"outlinewidth\":0,\"ticks\":\"\"},\"colorscale\":[[0.0,\"#0d0887\"],[0.1111111111111111,\"#46039f\"],[0.2222222222222222,\"#7201a8\"],[0.3333333333333333,\"#9c179e\"],[0.4444444444444444,\"#bd3786\"],[0.5555555555555556,\"#d8576b\"],[0.6666666666666666,\"#ed7953\"],[0.7777777777777778,\"#fb9f3a\"],[0.8888888888888888,\"#fdca26\"],[1.0,\"#f0f921\"]]}],\"contourcarpet\":[{\"type\":\"contourcarpet\",\"colorbar\":{\"outlinewidth\":0,\"ticks\":\"\"}}],\"contour\":[{\"type\":\"contour\",\"colorbar\":{\"outlinewidth\":0,\"ticks\":\"\"},\"colorscale\":[[0.0,\"#0d0887\"],[0.1111111111111111,\"#46039f\"],[0.2222222222222222,\"#7201a8\"],[0.3333333333333333,\"#9c179e\"],[0.4444444444444444,\"#bd3786\"],[0.5555555555555556,\"#d8576b\"],[0.6666666666666666,\"#ed7953\"],[0.7777777777777778,\"#fb9f3a\"],[0.8888888888888888,\"#fdca26\"],[1.0,\"#f0f921\"]]}],\"surface\":[{\"type\":\"surface\",\"colorbar\":{\"outlinewidth\":0,\"ticks\":\"\"},\"colorscale\":[[0.0,\"#0d0887\"],[0.1111111111111111,\"#46039f\"],[0.2222222222222222,\"#7201a8\"],[0.3333333333333333,\"#9c179e\"],[0.4444444444444444,\"#bd3786\"],[0.5555555555555556,\"#d8576b\"],[0.6666666666666666,\"#ed7953\"],[0.7777777777777778,\"#fb9f3a\"],[0.8888888888888888,\"#fdca26\"],[1.0,\"#f0f921\"]]}],\"mesh3d\":[{\"type\":\"mesh3d\",\"colorbar\":{\"outlinewidth\":0,\"ticks\":\"\"}}],\"scatter\":[{\"fillpattern\":{\"fillmode\":\"overlay\",\"size\":10,\"solidity\":0.2},\"type\":\"scatter\"}],\"parcoords\":[{\"type\":\"parcoords\",\"line\":{\"colorbar\":{\"outlinewidth\":0,\"ticks\":\"\"}}}],\"scatterpolargl\":[{\"type\":\"scatterpolargl\",\"marker\":{\"colorbar\":{\"outlinewidth\":0,\"ticks\":\"\"}}}],\"bar\":[{\"error_x\":{\"color\":\"#2a3f5f\"},\"error_y\":{\"color\":\"#2a3f5f\"},\"marker\":{\"line\":{\"color\":\"#E5ECF6\",\"width\":0.5},\"pattern\":{\"fillmode\":\"overlay\",\"size\":10,\"solidity\":0.2}},\"type\":\"bar\"}],\"scattergeo\":[{\"type\":\"scattergeo\",\"marker\":{\"colorbar\":{\"outlinewidth\":0,\"ticks\":\"\"}}}],\"scatterpolar\":[{\"type\":\"scatterpolar\",\"marker\":{\"colorbar\":{\"outlinewidth\":0,\"ticks\":\"\"}}}],\"histogram\":[{\"marker\":{\"pattern\":{\"fillmode\":\"overlay\",\"size\":10,\"solidity\":0.2}},\"type\":\"histogram\"}],\"scattergl\":[{\"type\":\"scattergl\",\"marker\":{\"colorbar\":{\"outlinewidth\":0,\"ticks\":\"\"}}}],\"scatter3d\":[{\"type\":\"scatter3d\",\"line\":{\"colorbar\":{\"outlinewidth\":0,\"ticks\":\"\"}},\"marker\":{\"colorbar\":{\"outlinewidth\":0,\"ticks\":\"\"}}}],\"scattermapbox\":[{\"type\":\"scattermapbox\",\"marker\":{\"colorbar\":{\"outlinewidth\":0,\"ticks\":\"\"}}}],\"scatterternary\":[{\"type\":\"scatterternary\",\"marker\":{\"colorbar\":{\"outlinewidth\":0,\"ticks\":\"\"}}}],\"scattercarpet\":[{\"type\":\"scattercarpet\",\"marker\":{\"colorbar\":{\"outlinewidth\":0,\"ticks\":\"\"}}}],\"carpet\":[{\"aaxis\":{\"endlinecolor\":\"#2a3f5f\",\"gridcolor\":\"white\",\"linecolor\":\"white\",\"minorgridcolor\":\"white\",\"startlinecolor\":\"#2a3f5f\"},\"baxis\":{\"endlinecolor\":\"#2a3f5f\",\"gridcolor\":\"white\",\"linecolor\":\"white\",\"minorgridcolor\":\"white\",\"startlinecolor\":\"#2a3f5f\"},\"type\":\"carpet\"}],\"table\":[{\"cells\":{\"fill\":{\"color\":\"#EBF0F8\"},\"line\":{\"color\":\"white\"}},\"header\":{\"fill\":{\"color\":\"#C8D4E3\"},\"line\":{\"color\":\"white\"}},\"type\":\"table\"}],\"barpolar\":[{\"marker\":{\"line\":{\"color\":\"#E5ECF6\",\"width\":0.5},\"pattern\":{\"fillmode\":\"overlay\",\"size\":10,\"solidity\":0.2}},\"type\":\"barpolar\"}],\"pie\":[{\"automargin\":true,\"type\":\"pie\"}]},\"layout\":{\"autotypenumbers\":\"strict\",\"colorway\":[\"#636efa\",\"#EF553B\",\"#00cc96\",\"#ab63fa\",\"#FFA15A\",\"#19d3f3\",\"#FF6692\",\"#B6E880\",\"#FF97FF\",\"#FECB52\"],\"font\":{\"color\":\"#2a3f5f\"},\"hovermode\":\"closest\",\"hoverlabel\":{\"align\":\"left\"},\"paper_bgcolor\":\"white\",\"plot_bgcolor\":\"#E5ECF6\",\"polar\":{\"bgcolor\":\"#E5ECF6\",\"angularaxis\":{\"gridcolor\":\"white\",\"linecolor\":\"white\",\"ticks\":\"\"},\"radialaxis\":{\"gridcolor\":\"white\",\"linecolor\":\"white\",\"ticks\":\"\"}},\"ternary\":{\"bgcolor\":\"#E5ECF6\",\"aaxis\":{\"gridcolor\":\"white\",\"linecolor\":\"white\",\"ticks\":\"\"},\"baxis\":{\"gridcolor\":\"white\",\"linecolor\":\"white\",\"ticks\":\"\"},\"caxis\":{\"gridcolor\":\"white\",\"linecolor\":\"white\",\"ticks\":\"\"}},\"coloraxis\":{\"colorbar\":{\"outlinewidth\":0,\"ticks\":\"\"}},\"colorscale\":{\"sequential\":[[0.0,\"#0d0887\"],[0.1111111111111111,\"#46039f\"],[0.2222222222222222,\"#7201a8\"],[0.3333333333333333,\"#9c179e\"],[0.4444444444444444,\"#bd3786\"],[0.5555555555555556,\"#d8576b\"],[0.6666666666666666,\"#ed7953\"],[0.7777777777777778,\"#fb9f3a\"],[0.8888888888888888,\"#fdca26\"],[1.0,\"#f0f921\"]],\"sequentialminus\":[[0.0,\"#0d0887\"],[0.1111111111111111,\"#46039f\"],[0.2222222222222222,\"#7201a8\"],[0.3333333333333333,\"#9c179e\"],[0.4444444444444444,\"#bd3786\"],[0.5555555555555556,\"#d8576b\"],[0.6666666666666666,\"#ed7953\"],[0.7777777777777778,\"#fb9f3a\"],[0.8888888888888888,\"#fdca26\"],[1.0,\"#f0f921\"]],\"diverging\":[[0,\"#8e0152\"],[0.1,\"#c51b7d\"],[0.2,\"#de77ae\"],[0.3,\"#f1b6da\"],[0.4,\"#fde0ef\"],[0.5,\"#f7f7f7\"],[0.6,\"#e6f5d0\"],[0.7,\"#b8e186\"],[0.8,\"#7fbc41\"],[0.9,\"#4d9221\"],[1,\"#276419\"]]},\"xaxis\":{\"gridcolor\":\"white\",\"linecolor\":\"white\",\"ticks\":\"\",\"title\":{\"standoff\":15},\"zerolinecolor\":\"white\",\"automargin\":true,\"zerolinewidth\":2},\"yaxis\":{\"gridcolor\":\"white\",\"linecolor\":\"white\",\"ticks\":\"\",\"title\":{\"standoff\":15},\"zerolinecolor\":\"white\",\"automargin\":true,\"zerolinewidth\":2},\"scene\":{\"xaxis\":{\"backgroundcolor\":\"#E5ECF6\",\"gridcolor\":\"white\",\"linecolor\":\"white\",\"showbackground\":true,\"ticks\":\"\",\"zerolinecolor\":\"white\",\"gridwidth\":2},\"yaxis\":{\"backgroundcolor\":\"#E5ECF6\",\"gridcolor\":\"white\",\"linecolor\":\"white\",\"showbackground\":true,\"ticks\":\"\",\"zerolinecolor\":\"white\",\"gridwidth\":2},\"zaxis\":{\"backgroundcolor\":\"#E5ECF6\",\"gridcolor\":\"white\",\"linecolor\":\"white\",\"showbackground\":true,\"ticks\":\"\",\"zerolinecolor\":\"white\",\"gridwidth\":2}},\"shapedefaults\":{\"line\":{\"color\":\"#2a3f5f\"}},\"annotationdefaults\":{\"arrowcolor\":\"#2a3f5f\",\"arrowhead\":0,\"arrowwidth\":1},\"geo\":{\"bgcolor\":\"white\",\"landcolor\":\"#E5ECF6\",\"subunitcolor\":\"white\",\"showland\":true,\"showlakes\":true,\"lakecolor\":\"white\"},\"title\":{\"x\":0.05},\"mapbox\":{\"style\":\"light\"}}},\"legend\":{\"tracegroupgap\":0},\"title\":{\"text\":\"Topic Distribution in Dataset 2 (N=5)\"}},                        {\"responsive\": true}                    ).then(function(){\n",
       "                            \n",
       "var gd = document.getElementById('eb2ced37-7359-4254-b50b-6045864fc1d9');\n",
       "var x = new MutationObserver(function (mutations, observer) {{\n",
       "        var display = window.getComputedStyle(gd).display;\n",
       "        if (!display || display === 'none') {{\n",
       "            console.log([gd, 'removed!']);\n",
       "            Plotly.purge(gd);\n",
       "            observer.disconnect();\n",
       "        }}\n",
       "}});\n",
       "\n",
       "// Listen for the removal of the full notebook cells\n",
       "var notebookContainer = gd.closest('#notebook-container');\n",
       "if (notebookContainer) {{\n",
       "    x.observe(notebookContainer, {childList: true});\n",
       "}}\n",
       "\n",
       "// Listen for the clearing of the current output cell\n",
       "var outputEl = gd.closest('.output');\n",
       "if (outputEl) {{\n",
       "    x.observe(outputEl, {childList: true});\n",
       "}}\n",
       "\n",
       "                        })                };                });            </script>        </div>"
      ]
     },
     "metadata": {},
     "output_type": "display_data"
    },
    {
     "data": {
      "application/vnd.plotly.v1+json": {
       "config": {
        "plotlyServerURL": "https://plot.ly"
       },
       "data": [
        {
         "domain": {
          "x": [
           0,
           1
          ],
          "y": [
           0,
           1
          ]
         },
         "hole": 0.3,
         "hovertemplate": "label=%{label}<br>value=%{value}<extra></extra>",
         "labels": [
          "Topic 1",
          "Topic 2",
          "Topic 3",
          "Topic 4",
          "Topic 5",
          "Topic 6",
          "Topic 7",
          "Topic 8",
          "Topic 9",
          "Topic 10"
         ],
         "legendgroup": "",
         "name": "",
         "showlegend": true,
         "type": "pie",
         "values": [
          265.9849432371557,
          5510.0158521886915,
          90.70520043186843,
          295.74275380931795,
          367.0501345479861,
          3220.5134792197496,
          547.8540440583602,
          1916.72346186731,
          286.7585167940706,
          117.87769560236484
         ]
        }
       ],
       "layout": {
        "legend": {
         "tracegroupgap": 0
        },
        "template": {
         "data": {
          "bar": [
           {
            "error_x": {
             "color": "#2a3f5f"
            },
            "error_y": {
             "color": "#2a3f5f"
            },
            "marker": {
             "line": {
              "color": "#E5ECF6",
              "width": 0.5
             },
             "pattern": {
              "fillmode": "overlay",
              "size": 10,
              "solidity": 0.2
             }
            },
            "type": "bar"
           }
          ],
          "barpolar": [
           {
            "marker": {
             "line": {
              "color": "#E5ECF6",
              "width": 0.5
             },
             "pattern": {
              "fillmode": "overlay",
              "size": 10,
              "solidity": 0.2
             }
            },
            "type": "barpolar"
           }
          ],
          "carpet": [
           {
            "aaxis": {
             "endlinecolor": "#2a3f5f",
             "gridcolor": "white",
             "linecolor": "white",
             "minorgridcolor": "white",
             "startlinecolor": "#2a3f5f"
            },
            "baxis": {
             "endlinecolor": "#2a3f5f",
             "gridcolor": "white",
             "linecolor": "white",
             "minorgridcolor": "white",
             "startlinecolor": "#2a3f5f"
            },
            "type": "carpet"
           }
          ],
          "choropleth": [
           {
            "colorbar": {
             "outlinewidth": 0,
             "ticks": ""
            },
            "type": "choropleth"
           }
          ],
          "contour": [
           {
            "colorbar": {
             "outlinewidth": 0,
             "ticks": ""
            },
            "colorscale": [
             [
              0,
              "#0d0887"
             ],
             [
              0.1111111111111111,
              "#46039f"
             ],
             [
              0.2222222222222222,
              "#7201a8"
             ],
             [
              0.3333333333333333,
              "#9c179e"
             ],
             [
              0.4444444444444444,
              "#bd3786"
             ],
             [
              0.5555555555555556,
              "#d8576b"
             ],
             [
              0.6666666666666666,
              "#ed7953"
             ],
             [
              0.7777777777777778,
              "#fb9f3a"
             ],
             [
              0.8888888888888888,
              "#fdca26"
             ],
             [
              1,
              "#f0f921"
             ]
            ],
            "type": "contour"
           }
          ],
          "contourcarpet": [
           {
            "colorbar": {
             "outlinewidth": 0,
             "ticks": ""
            },
            "type": "contourcarpet"
           }
          ],
          "heatmap": [
           {
            "colorbar": {
             "outlinewidth": 0,
             "ticks": ""
            },
            "colorscale": [
             [
              0,
              "#0d0887"
             ],
             [
              0.1111111111111111,
              "#46039f"
             ],
             [
              0.2222222222222222,
              "#7201a8"
             ],
             [
              0.3333333333333333,
              "#9c179e"
             ],
             [
              0.4444444444444444,
              "#bd3786"
             ],
             [
              0.5555555555555556,
              "#d8576b"
             ],
             [
              0.6666666666666666,
              "#ed7953"
             ],
             [
              0.7777777777777778,
              "#fb9f3a"
             ],
             [
              0.8888888888888888,
              "#fdca26"
             ],
             [
              1,
              "#f0f921"
             ]
            ],
            "type": "heatmap"
           }
          ],
          "heatmapgl": [
           {
            "colorbar": {
             "outlinewidth": 0,
             "ticks": ""
            },
            "colorscale": [
             [
              0,
              "#0d0887"
             ],
             [
              0.1111111111111111,
              "#46039f"
             ],
             [
              0.2222222222222222,
              "#7201a8"
             ],
             [
              0.3333333333333333,
              "#9c179e"
             ],
             [
              0.4444444444444444,
              "#bd3786"
             ],
             [
              0.5555555555555556,
              "#d8576b"
             ],
             [
              0.6666666666666666,
              "#ed7953"
             ],
             [
              0.7777777777777778,
              "#fb9f3a"
             ],
             [
              0.8888888888888888,
              "#fdca26"
             ],
             [
              1,
              "#f0f921"
             ]
            ],
            "type": "heatmapgl"
           }
          ],
          "histogram": [
           {
            "marker": {
             "pattern": {
              "fillmode": "overlay",
              "size": 10,
              "solidity": 0.2
             }
            },
            "type": "histogram"
           }
          ],
          "histogram2d": [
           {
            "colorbar": {
             "outlinewidth": 0,
             "ticks": ""
            },
            "colorscale": [
             [
              0,
              "#0d0887"
             ],
             [
              0.1111111111111111,
              "#46039f"
             ],
             [
              0.2222222222222222,
              "#7201a8"
             ],
             [
              0.3333333333333333,
              "#9c179e"
             ],
             [
              0.4444444444444444,
              "#bd3786"
             ],
             [
              0.5555555555555556,
              "#d8576b"
             ],
             [
              0.6666666666666666,
              "#ed7953"
             ],
             [
              0.7777777777777778,
              "#fb9f3a"
             ],
             [
              0.8888888888888888,
              "#fdca26"
             ],
             [
              1,
              "#f0f921"
             ]
            ],
            "type": "histogram2d"
           }
          ],
          "histogram2dcontour": [
           {
            "colorbar": {
             "outlinewidth": 0,
             "ticks": ""
            },
            "colorscale": [
             [
              0,
              "#0d0887"
             ],
             [
              0.1111111111111111,
              "#46039f"
             ],
             [
              0.2222222222222222,
              "#7201a8"
             ],
             [
              0.3333333333333333,
              "#9c179e"
             ],
             [
              0.4444444444444444,
              "#bd3786"
             ],
             [
              0.5555555555555556,
              "#d8576b"
             ],
             [
              0.6666666666666666,
              "#ed7953"
             ],
             [
              0.7777777777777778,
              "#fb9f3a"
             ],
             [
              0.8888888888888888,
              "#fdca26"
             ],
             [
              1,
              "#f0f921"
             ]
            ],
            "type": "histogram2dcontour"
           }
          ],
          "mesh3d": [
           {
            "colorbar": {
             "outlinewidth": 0,
             "ticks": ""
            },
            "type": "mesh3d"
           }
          ],
          "parcoords": [
           {
            "line": {
             "colorbar": {
              "outlinewidth": 0,
              "ticks": ""
             }
            },
            "type": "parcoords"
           }
          ],
          "pie": [
           {
            "automargin": true,
            "type": "pie"
           }
          ],
          "scatter": [
           {
            "fillpattern": {
             "fillmode": "overlay",
             "size": 10,
             "solidity": 0.2
            },
            "type": "scatter"
           }
          ],
          "scatter3d": [
           {
            "line": {
             "colorbar": {
              "outlinewidth": 0,
              "ticks": ""
             }
            },
            "marker": {
             "colorbar": {
              "outlinewidth": 0,
              "ticks": ""
             }
            },
            "type": "scatter3d"
           }
          ],
          "scattercarpet": [
           {
            "marker": {
             "colorbar": {
              "outlinewidth": 0,
              "ticks": ""
             }
            },
            "type": "scattercarpet"
           }
          ],
          "scattergeo": [
           {
            "marker": {
             "colorbar": {
              "outlinewidth": 0,
              "ticks": ""
             }
            },
            "type": "scattergeo"
           }
          ],
          "scattergl": [
           {
            "marker": {
             "colorbar": {
              "outlinewidth": 0,
              "ticks": ""
             }
            },
            "type": "scattergl"
           }
          ],
          "scattermapbox": [
           {
            "marker": {
             "colorbar": {
              "outlinewidth": 0,
              "ticks": ""
             }
            },
            "type": "scattermapbox"
           }
          ],
          "scatterpolar": [
           {
            "marker": {
             "colorbar": {
              "outlinewidth": 0,
              "ticks": ""
             }
            },
            "type": "scatterpolar"
           }
          ],
          "scatterpolargl": [
           {
            "marker": {
             "colorbar": {
              "outlinewidth": 0,
              "ticks": ""
             }
            },
            "type": "scatterpolargl"
           }
          ],
          "scatterternary": [
           {
            "marker": {
             "colorbar": {
              "outlinewidth": 0,
              "ticks": ""
             }
            },
            "type": "scatterternary"
           }
          ],
          "surface": [
           {
            "colorbar": {
             "outlinewidth": 0,
             "ticks": ""
            },
            "colorscale": [
             [
              0,
              "#0d0887"
             ],
             [
              0.1111111111111111,
              "#46039f"
             ],
             [
              0.2222222222222222,
              "#7201a8"
             ],
             [
              0.3333333333333333,
              "#9c179e"
             ],
             [
              0.4444444444444444,
              "#bd3786"
             ],
             [
              0.5555555555555556,
              "#d8576b"
             ],
             [
              0.6666666666666666,
              "#ed7953"
             ],
             [
              0.7777777777777778,
              "#fb9f3a"
             ],
             [
              0.8888888888888888,
              "#fdca26"
             ],
             [
              1,
              "#f0f921"
             ]
            ],
            "type": "surface"
           }
          ],
          "table": [
           {
            "cells": {
             "fill": {
              "color": "#EBF0F8"
             },
             "line": {
              "color": "white"
             }
            },
            "header": {
             "fill": {
              "color": "#C8D4E3"
             },
             "line": {
              "color": "white"
             }
            },
            "type": "table"
           }
          ]
         },
         "layout": {
          "annotationdefaults": {
           "arrowcolor": "#2a3f5f",
           "arrowhead": 0,
           "arrowwidth": 1
          },
          "autotypenumbers": "strict",
          "coloraxis": {
           "colorbar": {
            "outlinewidth": 0,
            "ticks": ""
           }
          },
          "colorscale": {
           "diverging": [
            [
             0,
             "#8e0152"
            ],
            [
             0.1,
             "#c51b7d"
            ],
            [
             0.2,
             "#de77ae"
            ],
            [
             0.3,
             "#f1b6da"
            ],
            [
             0.4,
             "#fde0ef"
            ],
            [
             0.5,
             "#f7f7f7"
            ],
            [
             0.6,
             "#e6f5d0"
            ],
            [
             0.7,
             "#b8e186"
            ],
            [
             0.8,
             "#7fbc41"
            ],
            [
             0.9,
             "#4d9221"
            ],
            [
             1,
             "#276419"
            ]
           ],
           "sequential": [
            [
             0,
             "#0d0887"
            ],
            [
             0.1111111111111111,
             "#46039f"
            ],
            [
             0.2222222222222222,
             "#7201a8"
            ],
            [
             0.3333333333333333,
             "#9c179e"
            ],
            [
             0.4444444444444444,
             "#bd3786"
            ],
            [
             0.5555555555555556,
             "#d8576b"
            ],
            [
             0.6666666666666666,
             "#ed7953"
            ],
            [
             0.7777777777777778,
             "#fb9f3a"
            ],
            [
             0.8888888888888888,
             "#fdca26"
            ],
            [
             1,
             "#f0f921"
            ]
           ],
           "sequentialminus": [
            [
             0,
             "#0d0887"
            ],
            [
             0.1111111111111111,
             "#46039f"
            ],
            [
             0.2222222222222222,
             "#7201a8"
            ],
            [
             0.3333333333333333,
             "#9c179e"
            ],
            [
             0.4444444444444444,
             "#bd3786"
            ],
            [
             0.5555555555555556,
             "#d8576b"
            ],
            [
             0.6666666666666666,
             "#ed7953"
            ],
            [
             0.7777777777777778,
             "#fb9f3a"
            ],
            [
             0.8888888888888888,
             "#fdca26"
            ],
            [
             1,
             "#f0f921"
            ]
           ]
          },
          "colorway": [
           "#636efa",
           "#EF553B",
           "#00cc96",
           "#ab63fa",
           "#FFA15A",
           "#19d3f3",
           "#FF6692",
           "#B6E880",
           "#FF97FF",
           "#FECB52"
          ],
          "font": {
           "color": "#2a3f5f"
          },
          "geo": {
           "bgcolor": "white",
           "lakecolor": "white",
           "landcolor": "#E5ECF6",
           "showlakes": true,
           "showland": true,
           "subunitcolor": "white"
          },
          "hoverlabel": {
           "align": "left"
          },
          "hovermode": "closest",
          "mapbox": {
           "style": "light"
          },
          "paper_bgcolor": "white",
          "plot_bgcolor": "#E5ECF6",
          "polar": {
           "angularaxis": {
            "gridcolor": "white",
            "linecolor": "white",
            "ticks": ""
           },
           "bgcolor": "#E5ECF6",
           "radialaxis": {
            "gridcolor": "white",
            "linecolor": "white",
            "ticks": ""
           }
          },
          "scene": {
           "xaxis": {
            "backgroundcolor": "#E5ECF6",
            "gridcolor": "white",
            "gridwidth": 2,
            "linecolor": "white",
            "showbackground": true,
            "ticks": "",
            "zerolinecolor": "white"
           },
           "yaxis": {
            "backgroundcolor": "#E5ECF6",
            "gridcolor": "white",
            "gridwidth": 2,
            "linecolor": "white",
            "showbackground": true,
            "ticks": "",
            "zerolinecolor": "white"
           },
           "zaxis": {
            "backgroundcolor": "#E5ECF6",
            "gridcolor": "white",
            "gridwidth": 2,
            "linecolor": "white",
            "showbackground": true,
            "ticks": "",
            "zerolinecolor": "white"
           }
          },
          "shapedefaults": {
           "line": {
            "color": "#2a3f5f"
           }
          },
          "ternary": {
           "aaxis": {
            "gridcolor": "white",
            "linecolor": "white",
            "ticks": ""
           },
           "baxis": {
            "gridcolor": "white",
            "linecolor": "white",
            "ticks": ""
           },
           "bgcolor": "#E5ECF6",
           "caxis": {
            "gridcolor": "white",
            "linecolor": "white",
            "ticks": ""
           }
          },
          "title": {
           "x": 0.05
          },
          "xaxis": {
           "automargin": true,
           "gridcolor": "white",
           "linecolor": "white",
           "ticks": "",
           "title": {
            "standoff": 15
           },
           "zerolinecolor": "white",
           "zerolinewidth": 2
          },
          "yaxis": {
           "automargin": true,
           "gridcolor": "white",
           "linecolor": "white",
           "ticks": "",
           "title": {
            "standoff": 15
           },
           "zerolinecolor": "white",
           "zerolinewidth": 2
          }
         }
        },
        "title": {
         "text": "Topic Distribution in Dataset 2 (N=10)"
        }
       }
      },
      "text/html": [
       "<div>                            <div id=\"03492941-3368-42e4-923e-0f5d7a55ca05\" class=\"plotly-graph-div\" style=\"height:525px; width:100%;\"></div>            <script type=\"text/javascript\">                require([\"plotly\"], function(Plotly) {                    window.PLOTLYENV=window.PLOTLYENV || {};                                    if (document.getElementById(\"03492941-3368-42e4-923e-0f5d7a55ca05\")) {                    Plotly.newPlot(                        \"03492941-3368-42e4-923e-0f5d7a55ca05\",                        [{\"domain\":{\"x\":[0.0,1.0],\"y\":[0.0,1.0]},\"hole\":0.3,\"hovertemplate\":\"label=%{label}<br>value=%{value}<extra></extra>\",\"labels\":[\"Topic 1\",\"Topic 2\",\"Topic 3\",\"Topic 4\",\"Topic 5\",\"Topic 6\",\"Topic 7\",\"Topic 8\",\"Topic 9\",\"Topic 10\"],\"legendgroup\":\"\",\"name\":\"\",\"showlegend\":true,\"values\":[265.9849432371557,5510.0158521886915,90.70520043186843,295.74275380931795,367.0501345479861,3220.5134792197496,547.8540440583602,1916.72346186731,286.7585167940706,117.87769560236484],\"type\":\"pie\"}],                        {\"template\":{\"data\":{\"histogram2dcontour\":[{\"type\":\"histogram2dcontour\",\"colorbar\":{\"outlinewidth\":0,\"ticks\":\"\"},\"colorscale\":[[0.0,\"#0d0887\"],[0.1111111111111111,\"#46039f\"],[0.2222222222222222,\"#7201a8\"],[0.3333333333333333,\"#9c179e\"],[0.4444444444444444,\"#bd3786\"],[0.5555555555555556,\"#d8576b\"],[0.6666666666666666,\"#ed7953\"],[0.7777777777777778,\"#fb9f3a\"],[0.8888888888888888,\"#fdca26\"],[1.0,\"#f0f921\"]]}],\"choropleth\":[{\"type\":\"choropleth\",\"colorbar\":{\"outlinewidth\":0,\"ticks\":\"\"}}],\"histogram2d\":[{\"type\":\"histogram2d\",\"colorbar\":{\"outlinewidth\":0,\"ticks\":\"\"},\"colorscale\":[[0.0,\"#0d0887\"],[0.1111111111111111,\"#46039f\"],[0.2222222222222222,\"#7201a8\"],[0.3333333333333333,\"#9c179e\"],[0.4444444444444444,\"#bd3786\"],[0.5555555555555556,\"#d8576b\"],[0.6666666666666666,\"#ed7953\"],[0.7777777777777778,\"#fb9f3a\"],[0.8888888888888888,\"#fdca26\"],[1.0,\"#f0f921\"]]}],\"heatmap\":[{\"type\":\"heatmap\",\"colorbar\":{\"outlinewidth\":0,\"ticks\":\"\"},\"colorscale\":[[0.0,\"#0d0887\"],[0.1111111111111111,\"#46039f\"],[0.2222222222222222,\"#7201a8\"],[0.3333333333333333,\"#9c179e\"],[0.4444444444444444,\"#bd3786\"],[0.5555555555555556,\"#d8576b\"],[0.6666666666666666,\"#ed7953\"],[0.7777777777777778,\"#fb9f3a\"],[0.8888888888888888,\"#fdca26\"],[1.0,\"#f0f921\"]]}],\"heatmapgl\":[{\"type\":\"heatmapgl\",\"colorbar\":{\"outlinewidth\":0,\"ticks\":\"\"},\"colorscale\":[[0.0,\"#0d0887\"],[0.1111111111111111,\"#46039f\"],[0.2222222222222222,\"#7201a8\"],[0.3333333333333333,\"#9c179e\"],[0.4444444444444444,\"#bd3786\"],[0.5555555555555556,\"#d8576b\"],[0.6666666666666666,\"#ed7953\"],[0.7777777777777778,\"#fb9f3a\"],[0.8888888888888888,\"#fdca26\"],[1.0,\"#f0f921\"]]}],\"contourcarpet\":[{\"type\":\"contourcarpet\",\"colorbar\":{\"outlinewidth\":0,\"ticks\":\"\"}}],\"contour\":[{\"type\":\"contour\",\"colorbar\":{\"outlinewidth\":0,\"ticks\":\"\"},\"colorscale\":[[0.0,\"#0d0887\"],[0.1111111111111111,\"#46039f\"],[0.2222222222222222,\"#7201a8\"],[0.3333333333333333,\"#9c179e\"],[0.4444444444444444,\"#bd3786\"],[0.5555555555555556,\"#d8576b\"],[0.6666666666666666,\"#ed7953\"],[0.7777777777777778,\"#fb9f3a\"],[0.8888888888888888,\"#fdca26\"],[1.0,\"#f0f921\"]]}],\"surface\":[{\"type\":\"surface\",\"colorbar\":{\"outlinewidth\":0,\"ticks\":\"\"},\"colorscale\":[[0.0,\"#0d0887\"],[0.1111111111111111,\"#46039f\"],[0.2222222222222222,\"#7201a8\"],[0.3333333333333333,\"#9c179e\"],[0.4444444444444444,\"#bd3786\"],[0.5555555555555556,\"#d8576b\"],[0.6666666666666666,\"#ed7953\"],[0.7777777777777778,\"#fb9f3a\"],[0.8888888888888888,\"#fdca26\"],[1.0,\"#f0f921\"]]}],\"mesh3d\":[{\"type\":\"mesh3d\",\"colorbar\":{\"outlinewidth\":0,\"ticks\":\"\"}}],\"scatter\":[{\"fillpattern\":{\"fillmode\":\"overlay\",\"size\":10,\"solidity\":0.2},\"type\":\"scatter\"}],\"parcoords\":[{\"type\":\"parcoords\",\"line\":{\"colorbar\":{\"outlinewidth\":0,\"ticks\":\"\"}}}],\"scatterpolargl\":[{\"type\":\"scatterpolargl\",\"marker\":{\"colorbar\":{\"outlinewidth\":0,\"ticks\":\"\"}}}],\"bar\":[{\"error_x\":{\"color\":\"#2a3f5f\"},\"error_y\":{\"color\":\"#2a3f5f\"},\"marker\":{\"line\":{\"color\":\"#E5ECF6\",\"width\":0.5},\"pattern\":{\"fillmode\":\"overlay\",\"size\":10,\"solidity\":0.2}},\"type\":\"bar\"}],\"scattergeo\":[{\"type\":\"scattergeo\",\"marker\":{\"colorbar\":{\"outlinewidth\":0,\"ticks\":\"\"}}}],\"scatterpolar\":[{\"type\":\"scatterpolar\",\"marker\":{\"colorbar\":{\"outlinewidth\":0,\"ticks\":\"\"}}}],\"histogram\":[{\"marker\":{\"pattern\":{\"fillmode\":\"overlay\",\"size\":10,\"solidity\":0.2}},\"type\":\"histogram\"}],\"scattergl\":[{\"type\":\"scattergl\",\"marker\":{\"colorbar\":{\"outlinewidth\":0,\"ticks\":\"\"}}}],\"scatter3d\":[{\"type\":\"scatter3d\",\"line\":{\"colorbar\":{\"outlinewidth\":0,\"ticks\":\"\"}},\"marker\":{\"colorbar\":{\"outlinewidth\":0,\"ticks\":\"\"}}}],\"scattermapbox\":[{\"type\":\"scattermapbox\",\"marker\":{\"colorbar\":{\"outlinewidth\":0,\"ticks\":\"\"}}}],\"scatterternary\":[{\"type\":\"scatterternary\",\"marker\":{\"colorbar\":{\"outlinewidth\":0,\"ticks\":\"\"}}}],\"scattercarpet\":[{\"type\":\"scattercarpet\",\"marker\":{\"colorbar\":{\"outlinewidth\":0,\"ticks\":\"\"}}}],\"carpet\":[{\"aaxis\":{\"endlinecolor\":\"#2a3f5f\",\"gridcolor\":\"white\",\"linecolor\":\"white\",\"minorgridcolor\":\"white\",\"startlinecolor\":\"#2a3f5f\"},\"baxis\":{\"endlinecolor\":\"#2a3f5f\",\"gridcolor\":\"white\",\"linecolor\":\"white\",\"minorgridcolor\":\"white\",\"startlinecolor\":\"#2a3f5f\"},\"type\":\"carpet\"}],\"table\":[{\"cells\":{\"fill\":{\"color\":\"#EBF0F8\"},\"line\":{\"color\":\"white\"}},\"header\":{\"fill\":{\"color\":\"#C8D4E3\"},\"line\":{\"color\":\"white\"}},\"type\":\"table\"}],\"barpolar\":[{\"marker\":{\"line\":{\"color\":\"#E5ECF6\",\"width\":0.5},\"pattern\":{\"fillmode\":\"overlay\",\"size\":10,\"solidity\":0.2}},\"type\":\"barpolar\"}],\"pie\":[{\"automargin\":true,\"type\":\"pie\"}]},\"layout\":{\"autotypenumbers\":\"strict\",\"colorway\":[\"#636efa\",\"#EF553B\",\"#00cc96\",\"#ab63fa\",\"#FFA15A\",\"#19d3f3\",\"#FF6692\",\"#B6E880\",\"#FF97FF\",\"#FECB52\"],\"font\":{\"color\":\"#2a3f5f\"},\"hovermode\":\"closest\",\"hoverlabel\":{\"align\":\"left\"},\"paper_bgcolor\":\"white\",\"plot_bgcolor\":\"#E5ECF6\",\"polar\":{\"bgcolor\":\"#E5ECF6\",\"angularaxis\":{\"gridcolor\":\"white\",\"linecolor\":\"white\",\"ticks\":\"\"},\"radialaxis\":{\"gridcolor\":\"white\",\"linecolor\":\"white\",\"ticks\":\"\"}},\"ternary\":{\"bgcolor\":\"#E5ECF6\",\"aaxis\":{\"gridcolor\":\"white\",\"linecolor\":\"white\",\"ticks\":\"\"},\"baxis\":{\"gridcolor\":\"white\",\"linecolor\":\"white\",\"ticks\":\"\"},\"caxis\":{\"gridcolor\":\"white\",\"linecolor\":\"white\",\"ticks\":\"\"}},\"coloraxis\":{\"colorbar\":{\"outlinewidth\":0,\"ticks\":\"\"}},\"colorscale\":{\"sequential\":[[0.0,\"#0d0887\"],[0.1111111111111111,\"#46039f\"],[0.2222222222222222,\"#7201a8\"],[0.3333333333333333,\"#9c179e\"],[0.4444444444444444,\"#bd3786\"],[0.5555555555555556,\"#d8576b\"],[0.6666666666666666,\"#ed7953\"],[0.7777777777777778,\"#fb9f3a\"],[0.8888888888888888,\"#fdca26\"],[1.0,\"#f0f921\"]],\"sequentialminus\":[[0.0,\"#0d0887\"],[0.1111111111111111,\"#46039f\"],[0.2222222222222222,\"#7201a8\"],[0.3333333333333333,\"#9c179e\"],[0.4444444444444444,\"#bd3786\"],[0.5555555555555556,\"#d8576b\"],[0.6666666666666666,\"#ed7953\"],[0.7777777777777778,\"#fb9f3a\"],[0.8888888888888888,\"#fdca26\"],[1.0,\"#f0f921\"]],\"diverging\":[[0,\"#8e0152\"],[0.1,\"#c51b7d\"],[0.2,\"#de77ae\"],[0.3,\"#f1b6da\"],[0.4,\"#fde0ef\"],[0.5,\"#f7f7f7\"],[0.6,\"#e6f5d0\"],[0.7,\"#b8e186\"],[0.8,\"#7fbc41\"],[0.9,\"#4d9221\"],[1,\"#276419\"]]},\"xaxis\":{\"gridcolor\":\"white\",\"linecolor\":\"white\",\"ticks\":\"\",\"title\":{\"standoff\":15},\"zerolinecolor\":\"white\",\"automargin\":true,\"zerolinewidth\":2},\"yaxis\":{\"gridcolor\":\"white\",\"linecolor\":\"white\",\"ticks\":\"\",\"title\":{\"standoff\":15},\"zerolinecolor\":\"white\",\"automargin\":true,\"zerolinewidth\":2},\"scene\":{\"xaxis\":{\"backgroundcolor\":\"#E5ECF6\",\"gridcolor\":\"white\",\"linecolor\":\"white\",\"showbackground\":true,\"ticks\":\"\",\"zerolinecolor\":\"white\",\"gridwidth\":2},\"yaxis\":{\"backgroundcolor\":\"#E5ECF6\",\"gridcolor\":\"white\",\"linecolor\":\"white\",\"showbackground\":true,\"ticks\":\"\",\"zerolinecolor\":\"white\",\"gridwidth\":2},\"zaxis\":{\"backgroundcolor\":\"#E5ECF6\",\"gridcolor\":\"white\",\"linecolor\":\"white\",\"showbackground\":true,\"ticks\":\"\",\"zerolinecolor\":\"white\",\"gridwidth\":2}},\"shapedefaults\":{\"line\":{\"color\":\"#2a3f5f\"}},\"annotationdefaults\":{\"arrowcolor\":\"#2a3f5f\",\"arrowhead\":0,\"arrowwidth\":1},\"geo\":{\"bgcolor\":\"white\",\"landcolor\":\"#E5ECF6\",\"subunitcolor\":\"white\",\"showland\":true,\"showlakes\":true,\"lakecolor\":\"white\"},\"title\":{\"x\":0.05},\"mapbox\":{\"style\":\"light\"}}},\"legend\":{\"tracegroupgap\":0},\"title\":{\"text\":\"Topic Distribution in Dataset 2 (N=10)\"}},                        {\"responsive\": true}                    ).then(function(){\n",
       "                            \n",
       "var gd = document.getElementById('03492941-3368-42e4-923e-0f5d7a55ca05');\n",
       "var x = new MutationObserver(function (mutations, observer) {{\n",
       "        var display = window.getComputedStyle(gd).display;\n",
       "        if (!display || display === 'none') {{\n",
       "            console.log([gd, 'removed!']);\n",
       "            Plotly.purge(gd);\n",
       "            observer.disconnect();\n",
       "        }}\n",
       "}});\n",
       "\n",
       "// Listen for the removal of the full notebook cells\n",
       "var notebookContainer = gd.closest('#notebook-container');\n",
       "if (notebookContainer) {{\n",
       "    x.observe(notebookContainer, {childList: true});\n",
       "}}\n",
       "\n",
       "// Listen for the clearing of the current output cell\n",
       "var outputEl = gd.closest('.output');\n",
       "if (outputEl) {{\n",
       "    x.observe(outputEl, {childList: true});\n",
       "}}\n",
       "\n",
       "                        })                };                });            </script>        </div>"
      ]
     },
     "metadata": {},
     "output_type": "display_data"
    },
    {
     "data": {
      "application/vnd.plotly.v1+json": {
       "config": {
        "plotlyServerURL": "https://plot.ly"
       },
       "data": [
        {
         "domain": {
          "x": [
           0,
           1
          ],
          "y": [
           0,
           1
          ]
         },
         "hole": 0.3,
         "hovertemplate": "label=%{label}<br>value=%{value}<extra></extra>",
         "labels": [
          "Topic 1",
          "Topic 2",
          "Topic 3",
          "Topic 4",
          "Topic 5",
          "Topic 6",
          "Topic 7",
          "Topic 8",
          "Topic 9",
          "Topic 10",
          "Topic 11",
          "Topic 12",
          "Topic 13",
          "Topic 14",
          "Topic 15",
          "Topic 16",
          "Topic 17",
          "Topic 18",
          "Topic 19",
          "Topic 20"
         ],
         "legendgroup": "",
         "name": "",
         "showlegend": true,
         "type": "pie",
         "values": [
          112.75485195219517,
          2401.9033372215927,
          195.3349475795403,
          148.46659224573523,
          418.2933071181178,
          158.25125758722425,
          317.53179363533854,
          280.3905816162005,
          1245.244084060192,
          1438.8289164407179,
          216.1600436437875,
          238.65027698967606,
          300.229010110721,
          147.21579683478922,
          308.88494267500937,
          1943.684098479338,
          2329.1527051934972,
          74.53884849697351,
          73.90049624536186,
          105.03470568731427
         ]
        }
       ],
       "layout": {
        "legend": {
         "tracegroupgap": 0
        },
        "template": {
         "data": {
          "bar": [
           {
            "error_x": {
             "color": "#2a3f5f"
            },
            "error_y": {
             "color": "#2a3f5f"
            },
            "marker": {
             "line": {
              "color": "#E5ECF6",
              "width": 0.5
             },
             "pattern": {
              "fillmode": "overlay",
              "size": 10,
              "solidity": 0.2
             }
            },
            "type": "bar"
           }
          ],
          "barpolar": [
           {
            "marker": {
             "line": {
              "color": "#E5ECF6",
              "width": 0.5
             },
             "pattern": {
              "fillmode": "overlay",
              "size": 10,
              "solidity": 0.2
             }
            },
            "type": "barpolar"
           }
          ],
          "carpet": [
           {
            "aaxis": {
             "endlinecolor": "#2a3f5f",
             "gridcolor": "white",
             "linecolor": "white",
             "minorgridcolor": "white",
             "startlinecolor": "#2a3f5f"
            },
            "baxis": {
             "endlinecolor": "#2a3f5f",
             "gridcolor": "white",
             "linecolor": "white",
             "minorgridcolor": "white",
             "startlinecolor": "#2a3f5f"
            },
            "type": "carpet"
           }
          ],
          "choropleth": [
           {
            "colorbar": {
             "outlinewidth": 0,
             "ticks": ""
            },
            "type": "choropleth"
           }
          ],
          "contour": [
           {
            "colorbar": {
             "outlinewidth": 0,
             "ticks": ""
            },
            "colorscale": [
             [
              0,
              "#0d0887"
             ],
             [
              0.1111111111111111,
              "#46039f"
             ],
             [
              0.2222222222222222,
              "#7201a8"
             ],
             [
              0.3333333333333333,
              "#9c179e"
             ],
             [
              0.4444444444444444,
              "#bd3786"
             ],
             [
              0.5555555555555556,
              "#d8576b"
             ],
             [
              0.6666666666666666,
              "#ed7953"
             ],
             [
              0.7777777777777778,
              "#fb9f3a"
             ],
             [
              0.8888888888888888,
              "#fdca26"
             ],
             [
              1,
              "#f0f921"
             ]
            ],
            "type": "contour"
           }
          ],
          "contourcarpet": [
           {
            "colorbar": {
             "outlinewidth": 0,
             "ticks": ""
            },
            "type": "contourcarpet"
           }
          ],
          "heatmap": [
           {
            "colorbar": {
             "outlinewidth": 0,
             "ticks": ""
            },
            "colorscale": [
             [
              0,
              "#0d0887"
             ],
             [
              0.1111111111111111,
              "#46039f"
             ],
             [
              0.2222222222222222,
              "#7201a8"
             ],
             [
              0.3333333333333333,
              "#9c179e"
             ],
             [
              0.4444444444444444,
              "#bd3786"
             ],
             [
              0.5555555555555556,
              "#d8576b"
             ],
             [
              0.6666666666666666,
              "#ed7953"
             ],
             [
              0.7777777777777778,
              "#fb9f3a"
             ],
             [
              0.8888888888888888,
              "#fdca26"
             ],
             [
              1,
              "#f0f921"
             ]
            ],
            "type": "heatmap"
           }
          ],
          "heatmapgl": [
           {
            "colorbar": {
             "outlinewidth": 0,
             "ticks": ""
            },
            "colorscale": [
             [
              0,
              "#0d0887"
             ],
             [
              0.1111111111111111,
              "#46039f"
             ],
             [
              0.2222222222222222,
              "#7201a8"
             ],
             [
              0.3333333333333333,
              "#9c179e"
             ],
             [
              0.4444444444444444,
              "#bd3786"
             ],
             [
              0.5555555555555556,
              "#d8576b"
             ],
             [
              0.6666666666666666,
              "#ed7953"
             ],
             [
              0.7777777777777778,
              "#fb9f3a"
             ],
             [
              0.8888888888888888,
              "#fdca26"
             ],
             [
              1,
              "#f0f921"
             ]
            ],
            "type": "heatmapgl"
           }
          ],
          "histogram": [
           {
            "marker": {
             "pattern": {
              "fillmode": "overlay",
              "size": 10,
              "solidity": 0.2
             }
            },
            "type": "histogram"
           }
          ],
          "histogram2d": [
           {
            "colorbar": {
             "outlinewidth": 0,
             "ticks": ""
            },
            "colorscale": [
             [
              0,
              "#0d0887"
             ],
             [
              0.1111111111111111,
              "#46039f"
             ],
             [
              0.2222222222222222,
              "#7201a8"
             ],
             [
              0.3333333333333333,
              "#9c179e"
             ],
             [
              0.4444444444444444,
              "#bd3786"
             ],
             [
              0.5555555555555556,
              "#d8576b"
             ],
             [
              0.6666666666666666,
              "#ed7953"
             ],
             [
              0.7777777777777778,
              "#fb9f3a"
             ],
             [
              0.8888888888888888,
              "#fdca26"
             ],
             [
              1,
              "#f0f921"
             ]
            ],
            "type": "histogram2d"
           }
          ],
          "histogram2dcontour": [
           {
            "colorbar": {
             "outlinewidth": 0,
             "ticks": ""
            },
            "colorscale": [
             [
              0,
              "#0d0887"
             ],
             [
              0.1111111111111111,
              "#46039f"
             ],
             [
              0.2222222222222222,
              "#7201a8"
             ],
             [
              0.3333333333333333,
              "#9c179e"
             ],
             [
              0.4444444444444444,
              "#bd3786"
             ],
             [
              0.5555555555555556,
              "#d8576b"
             ],
             [
              0.6666666666666666,
              "#ed7953"
             ],
             [
              0.7777777777777778,
              "#fb9f3a"
             ],
             [
              0.8888888888888888,
              "#fdca26"
             ],
             [
              1,
              "#f0f921"
             ]
            ],
            "type": "histogram2dcontour"
           }
          ],
          "mesh3d": [
           {
            "colorbar": {
             "outlinewidth": 0,
             "ticks": ""
            },
            "type": "mesh3d"
           }
          ],
          "parcoords": [
           {
            "line": {
             "colorbar": {
              "outlinewidth": 0,
              "ticks": ""
             }
            },
            "type": "parcoords"
           }
          ],
          "pie": [
           {
            "automargin": true,
            "type": "pie"
           }
          ],
          "scatter": [
           {
            "fillpattern": {
             "fillmode": "overlay",
             "size": 10,
             "solidity": 0.2
            },
            "type": "scatter"
           }
          ],
          "scatter3d": [
           {
            "line": {
             "colorbar": {
              "outlinewidth": 0,
              "ticks": ""
             }
            },
            "marker": {
             "colorbar": {
              "outlinewidth": 0,
              "ticks": ""
             }
            },
            "type": "scatter3d"
           }
          ],
          "scattercarpet": [
           {
            "marker": {
             "colorbar": {
              "outlinewidth": 0,
              "ticks": ""
             }
            },
            "type": "scattercarpet"
           }
          ],
          "scattergeo": [
           {
            "marker": {
             "colorbar": {
              "outlinewidth": 0,
              "ticks": ""
             }
            },
            "type": "scattergeo"
           }
          ],
          "scattergl": [
           {
            "marker": {
             "colorbar": {
              "outlinewidth": 0,
              "ticks": ""
             }
            },
            "type": "scattergl"
           }
          ],
          "scattermapbox": [
           {
            "marker": {
             "colorbar": {
              "outlinewidth": 0,
              "ticks": ""
             }
            },
            "type": "scattermapbox"
           }
          ],
          "scatterpolar": [
           {
            "marker": {
             "colorbar": {
              "outlinewidth": 0,
              "ticks": ""
             }
            },
            "type": "scatterpolar"
           }
          ],
          "scatterpolargl": [
           {
            "marker": {
             "colorbar": {
              "outlinewidth": 0,
              "ticks": ""
             }
            },
            "type": "scatterpolargl"
           }
          ],
          "scatterternary": [
           {
            "marker": {
             "colorbar": {
              "outlinewidth": 0,
              "ticks": ""
             }
            },
            "type": "scatterternary"
           }
          ],
          "surface": [
           {
            "colorbar": {
             "outlinewidth": 0,
             "ticks": ""
            },
            "colorscale": [
             [
              0,
              "#0d0887"
             ],
             [
              0.1111111111111111,
              "#46039f"
             ],
             [
              0.2222222222222222,
              "#7201a8"
             ],
             [
              0.3333333333333333,
              "#9c179e"
             ],
             [
              0.4444444444444444,
              "#bd3786"
             ],
             [
              0.5555555555555556,
              "#d8576b"
             ],
             [
              0.6666666666666666,
              "#ed7953"
             ],
             [
              0.7777777777777778,
              "#fb9f3a"
             ],
             [
              0.8888888888888888,
              "#fdca26"
             ],
             [
              1,
              "#f0f921"
             ]
            ],
            "type": "surface"
           }
          ],
          "table": [
           {
            "cells": {
             "fill": {
              "color": "#EBF0F8"
             },
             "line": {
              "color": "white"
             }
            },
            "header": {
             "fill": {
              "color": "#C8D4E3"
             },
             "line": {
              "color": "white"
             }
            },
            "type": "table"
           }
          ]
         },
         "layout": {
          "annotationdefaults": {
           "arrowcolor": "#2a3f5f",
           "arrowhead": 0,
           "arrowwidth": 1
          },
          "autotypenumbers": "strict",
          "coloraxis": {
           "colorbar": {
            "outlinewidth": 0,
            "ticks": ""
           }
          },
          "colorscale": {
           "diverging": [
            [
             0,
             "#8e0152"
            ],
            [
             0.1,
             "#c51b7d"
            ],
            [
             0.2,
             "#de77ae"
            ],
            [
             0.3,
             "#f1b6da"
            ],
            [
             0.4,
             "#fde0ef"
            ],
            [
             0.5,
             "#f7f7f7"
            ],
            [
             0.6,
             "#e6f5d0"
            ],
            [
             0.7,
             "#b8e186"
            ],
            [
             0.8,
             "#7fbc41"
            ],
            [
             0.9,
             "#4d9221"
            ],
            [
             1,
             "#276419"
            ]
           ],
           "sequential": [
            [
             0,
             "#0d0887"
            ],
            [
             0.1111111111111111,
             "#46039f"
            ],
            [
             0.2222222222222222,
             "#7201a8"
            ],
            [
             0.3333333333333333,
             "#9c179e"
            ],
            [
             0.4444444444444444,
             "#bd3786"
            ],
            [
             0.5555555555555556,
             "#d8576b"
            ],
            [
             0.6666666666666666,
             "#ed7953"
            ],
            [
             0.7777777777777778,
             "#fb9f3a"
            ],
            [
             0.8888888888888888,
             "#fdca26"
            ],
            [
             1,
             "#f0f921"
            ]
           ],
           "sequentialminus": [
            [
             0,
             "#0d0887"
            ],
            [
             0.1111111111111111,
             "#46039f"
            ],
            [
             0.2222222222222222,
             "#7201a8"
            ],
            [
             0.3333333333333333,
             "#9c179e"
            ],
            [
             0.4444444444444444,
             "#bd3786"
            ],
            [
             0.5555555555555556,
             "#d8576b"
            ],
            [
             0.6666666666666666,
             "#ed7953"
            ],
            [
             0.7777777777777778,
             "#fb9f3a"
            ],
            [
             0.8888888888888888,
             "#fdca26"
            ],
            [
             1,
             "#f0f921"
            ]
           ]
          },
          "colorway": [
           "#636efa",
           "#EF553B",
           "#00cc96",
           "#ab63fa",
           "#FFA15A",
           "#19d3f3",
           "#FF6692",
           "#B6E880",
           "#FF97FF",
           "#FECB52"
          ],
          "font": {
           "color": "#2a3f5f"
          },
          "geo": {
           "bgcolor": "white",
           "lakecolor": "white",
           "landcolor": "#E5ECF6",
           "showlakes": true,
           "showland": true,
           "subunitcolor": "white"
          },
          "hoverlabel": {
           "align": "left"
          },
          "hovermode": "closest",
          "mapbox": {
           "style": "light"
          },
          "paper_bgcolor": "white",
          "plot_bgcolor": "#E5ECF6",
          "polar": {
           "angularaxis": {
            "gridcolor": "white",
            "linecolor": "white",
            "ticks": ""
           },
           "bgcolor": "#E5ECF6",
           "radialaxis": {
            "gridcolor": "white",
            "linecolor": "white",
            "ticks": ""
           }
          },
          "scene": {
           "xaxis": {
            "backgroundcolor": "#E5ECF6",
            "gridcolor": "white",
            "gridwidth": 2,
            "linecolor": "white",
            "showbackground": true,
            "ticks": "",
            "zerolinecolor": "white"
           },
           "yaxis": {
            "backgroundcolor": "#E5ECF6",
            "gridcolor": "white",
            "gridwidth": 2,
            "linecolor": "white",
            "showbackground": true,
            "ticks": "",
            "zerolinecolor": "white"
           },
           "zaxis": {
            "backgroundcolor": "#E5ECF6",
            "gridcolor": "white",
            "gridwidth": 2,
            "linecolor": "white",
            "showbackground": true,
            "ticks": "",
            "zerolinecolor": "white"
           }
          },
          "shapedefaults": {
           "line": {
            "color": "#2a3f5f"
           }
          },
          "ternary": {
           "aaxis": {
            "gridcolor": "white",
            "linecolor": "white",
            "ticks": ""
           },
           "baxis": {
            "gridcolor": "white",
            "linecolor": "white",
            "ticks": ""
           },
           "bgcolor": "#E5ECF6",
           "caxis": {
            "gridcolor": "white",
            "linecolor": "white",
            "ticks": ""
           }
          },
          "title": {
           "x": 0.05
          },
          "xaxis": {
           "automargin": true,
           "gridcolor": "white",
           "linecolor": "white",
           "ticks": "",
           "title": {
            "standoff": 15
           },
           "zerolinecolor": "white",
           "zerolinewidth": 2
          },
          "yaxis": {
           "automargin": true,
           "gridcolor": "white",
           "linecolor": "white",
           "ticks": "",
           "title": {
            "standoff": 15
           },
           "zerolinecolor": "white",
           "zerolinewidth": 2
          }
         }
        },
        "title": {
         "text": "Topic Distribution in Dataset 2 (N=20)"
        }
       }
      },
      "text/html": [
       "<div>                            <div id=\"7de42cfa-c2b5-4691-a155-9a4cd8e1a27f\" class=\"plotly-graph-div\" style=\"height:525px; width:100%;\"></div>            <script type=\"text/javascript\">                require([\"plotly\"], function(Plotly) {                    window.PLOTLYENV=window.PLOTLYENV || {};                                    if (document.getElementById(\"7de42cfa-c2b5-4691-a155-9a4cd8e1a27f\")) {                    Plotly.newPlot(                        \"7de42cfa-c2b5-4691-a155-9a4cd8e1a27f\",                        [{\"domain\":{\"x\":[0.0,1.0],\"y\":[0.0,1.0]},\"hole\":0.3,\"hovertemplate\":\"label=%{label}<br>value=%{value}<extra></extra>\",\"labels\":[\"Topic 1\",\"Topic 2\",\"Topic 3\",\"Topic 4\",\"Topic 5\",\"Topic 6\",\"Topic 7\",\"Topic 8\",\"Topic 9\",\"Topic 10\",\"Topic 11\",\"Topic 12\",\"Topic 13\",\"Topic 14\",\"Topic 15\",\"Topic 16\",\"Topic 17\",\"Topic 18\",\"Topic 19\",\"Topic 20\"],\"legendgroup\":\"\",\"name\":\"\",\"showlegend\":true,\"values\":[112.75485195219517,2401.9033372215927,195.3349475795403,148.46659224573523,418.2933071181178,158.25125758722425,317.53179363533854,280.3905816162005,1245.244084060192,1438.8289164407179,216.1600436437875,238.65027698967606,300.229010110721,147.21579683478922,308.88494267500937,1943.684098479338,2329.1527051934972,74.53884849697351,73.90049624536186,105.03470568731427],\"type\":\"pie\"}],                        {\"template\":{\"data\":{\"histogram2dcontour\":[{\"type\":\"histogram2dcontour\",\"colorbar\":{\"outlinewidth\":0,\"ticks\":\"\"},\"colorscale\":[[0.0,\"#0d0887\"],[0.1111111111111111,\"#46039f\"],[0.2222222222222222,\"#7201a8\"],[0.3333333333333333,\"#9c179e\"],[0.4444444444444444,\"#bd3786\"],[0.5555555555555556,\"#d8576b\"],[0.6666666666666666,\"#ed7953\"],[0.7777777777777778,\"#fb9f3a\"],[0.8888888888888888,\"#fdca26\"],[1.0,\"#f0f921\"]]}],\"choropleth\":[{\"type\":\"choropleth\",\"colorbar\":{\"outlinewidth\":0,\"ticks\":\"\"}}],\"histogram2d\":[{\"type\":\"histogram2d\",\"colorbar\":{\"outlinewidth\":0,\"ticks\":\"\"},\"colorscale\":[[0.0,\"#0d0887\"],[0.1111111111111111,\"#46039f\"],[0.2222222222222222,\"#7201a8\"],[0.3333333333333333,\"#9c179e\"],[0.4444444444444444,\"#bd3786\"],[0.5555555555555556,\"#d8576b\"],[0.6666666666666666,\"#ed7953\"],[0.7777777777777778,\"#fb9f3a\"],[0.8888888888888888,\"#fdca26\"],[1.0,\"#f0f921\"]]}],\"heatmap\":[{\"type\":\"heatmap\",\"colorbar\":{\"outlinewidth\":0,\"ticks\":\"\"},\"colorscale\":[[0.0,\"#0d0887\"],[0.1111111111111111,\"#46039f\"],[0.2222222222222222,\"#7201a8\"],[0.3333333333333333,\"#9c179e\"],[0.4444444444444444,\"#bd3786\"],[0.5555555555555556,\"#d8576b\"],[0.6666666666666666,\"#ed7953\"],[0.7777777777777778,\"#fb9f3a\"],[0.8888888888888888,\"#fdca26\"],[1.0,\"#f0f921\"]]}],\"heatmapgl\":[{\"type\":\"heatmapgl\",\"colorbar\":{\"outlinewidth\":0,\"ticks\":\"\"},\"colorscale\":[[0.0,\"#0d0887\"],[0.1111111111111111,\"#46039f\"],[0.2222222222222222,\"#7201a8\"],[0.3333333333333333,\"#9c179e\"],[0.4444444444444444,\"#bd3786\"],[0.5555555555555556,\"#d8576b\"],[0.6666666666666666,\"#ed7953\"],[0.7777777777777778,\"#fb9f3a\"],[0.8888888888888888,\"#fdca26\"],[1.0,\"#f0f921\"]]}],\"contourcarpet\":[{\"type\":\"contourcarpet\",\"colorbar\":{\"outlinewidth\":0,\"ticks\":\"\"}}],\"contour\":[{\"type\":\"contour\",\"colorbar\":{\"outlinewidth\":0,\"ticks\":\"\"},\"colorscale\":[[0.0,\"#0d0887\"],[0.1111111111111111,\"#46039f\"],[0.2222222222222222,\"#7201a8\"],[0.3333333333333333,\"#9c179e\"],[0.4444444444444444,\"#bd3786\"],[0.5555555555555556,\"#d8576b\"],[0.6666666666666666,\"#ed7953\"],[0.7777777777777778,\"#fb9f3a\"],[0.8888888888888888,\"#fdca26\"],[1.0,\"#f0f921\"]]}],\"surface\":[{\"type\":\"surface\",\"colorbar\":{\"outlinewidth\":0,\"ticks\":\"\"},\"colorscale\":[[0.0,\"#0d0887\"],[0.1111111111111111,\"#46039f\"],[0.2222222222222222,\"#7201a8\"],[0.3333333333333333,\"#9c179e\"],[0.4444444444444444,\"#bd3786\"],[0.5555555555555556,\"#d8576b\"],[0.6666666666666666,\"#ed7953\"],[0.7777777777777778,\"#fb9f3a\"],[0.8888888888888888,\"#fdca26\"],[1.0,\"#f0f921\"]]}],\"mesh3d\":[{\"type\":\"mesh3d\",\"colorbar\":{\"outlinewidth\":0,\"ticks\":\"\"}}],\"scatter\":[{\"fillpattern\":{\"fillmode\":\"overlay\",\"size\":10,\"solidity\":0.2},\"type\":\"scatter\"}],\"parcoords\":[{\"type\":\"parcoords\",\"line\":{\"colorbar\":{\"outlinewidth\":0,\"ticks\":\"\"}}}],\"scatterpolargl\":[{\"type\":\"scatterpolargl\",\"marker\":{\"colorbar\":{\"outlinewidth\":0,\"ticks\":\"\"}}}],\"bar\":[{\"error_x\":{\"color\":\"#2a3f5f\"},\"error_y\":{\"color\":\"#2a3f5f\"},\"marker\":{\"line\":{\"color\":\"#E5ECF6\",\"width\":0.5},\"pattern\":{\"fillmode\":\"overlay\",\"size\":10,\"solidity\":0.2}},\"type\":\"bar\"}],\"scattergeo\":[{\"type\":\"scattergeo\",\"marker\":{\"colorbar\":{\"outlinewidth\":0,\"ticks\":\"\"}}}],\"scatterpolar\":[{\"type\":\"scatterpolar\",\"marker\":{\"colorbar\":{\"outlinewidth\":0,\"ticks\":\"\"}}}],\"histogram\":[{\"marker\":{\"pattern\":{\"fillmode\":\"overlay\",\"size\":10,\"solidity\":0.2}},\"type\":\"histogram\"}],\"scattergl\":[{\"type\":\"scattergl\",\"marker\":{\"colorbar\":{\"outlinewidth\":0,\"ticks\":\"\"}}}],\"scatter3d\":[{\"type\":\"scatter3d\",\"line\":{\"colorbar\":{\"outlinewidth\":0,\"ticks\":\"\"}},\"marker\":{\"colorbar\":{\"outlinewidth\":0,\"ticks\":\"\"}}}],\"scattermapbox\":[{\"type\":\"scattermapbox\",\"marker\":{\"colorbar\":{\"outlinewidth\":0,\"ticks\":\"\"}}}],\"scatterternary\":[{\"type\":\"scatterternary\",\"marker\":{\"colorbar\":{\"outlinewidth\":0,\"ticks\":\"\"}}}],\"scattercarpet\":[{\"type\":\"scattercarpet\",\"marker\":{\"colorbar\":{\"outlinewidth\":0,\"ticks\":\"\"}}}],\"carpet\":[{\"aaxis\":{\"endlinecolor\":\"#2a3f5f\",\"gridcolor\":\"white\",\"linecolor\":\"white\",\"minorgridcolor\":\"white\",\"startlinecolor\":\"#2a3f5f\"},\"baxis\":{\"endlinecolor\":\"#2a3f5f\",\"gridcolor\":\"white\",\"linecolor\":\"white\",\"minorgridcolor\":\"white\",\"startlinecolor\":\"#2a3f5f\"},\"type\":\"carpet\"}],\"table\":[{\"cells\":{\"fill\":{\"color\":\"#EBF0F8\"},\"line\":{\"color\":\"white\"}},\"header\":{\"fill\":{\"color\":\"#C8D4E3\"},\"line\":{\"color\":\"white\"}},\"type\":\"table\"}],\"barpolar\":[{\"marker\":{\"line\":{\"color\":\"#E5ECF6\",\"width\":0.5},\"pattern\":{\"fillmode\":\"overlay\",\"size\":10,\"solidity\":0.2}},\"type\":\"barpolar\"}],\"pie\":[{\"automargin\":true,\"type\":\"pie\"}]},\"layout\":{\"autotypenumbers\":\"strict\",\"colorway\":[\"#636efa\",\"#EF553B\",\"#00cc96\",\"#ab63fa\",\"#FFA15A\",\"#19d3f3\",\"#FF6692\",\"#B6E880\",\"#FF97FF\",\"#FECB52\"],\"font\":{\"color\":\"#2a3f5f\"},\"hovermode\":\"closest\",\"hoverlabel\":{\"align\":\"left\"},\"paper_bgcolor\":\"white\",\"plot_bgcolor\":\"#E5ECF6\",\"polar\":{\"bgcolor\":\"#E5ECF6\",\"angularaxis\":{\"gridcolor\":\"white\",\"linecolor\":\"white\",\"ticks\":\"\"},\"radialaxis\":{\"gridcolor\":\"white\",\"linecolor\":\"white\",\"ticks\":\"\"}},\"ternary\":{\"bgcolor\":\"#E5ECF6\",\"aaxis\":{\"gridcolor\":\"white\",\"linecolor\":\"white\",\"ticks\":\"\"},\"baxis\":{\"gridcolor\":\"white\",\"linecolor\":\"white\",\"ticks\":\"\"},\"caxis\":{\"gridcolor\":\"white\",\"linecolor\":\"white\",\"ticks\":\"\"}},\"coloraxis\":{\"colorbar\":{\"outlinewidth\":0,\"ticks\":\"\"}},\"colorscale\":{\"sequential\":[[0.0,\"#0d0887\"],[0.1111111111111111,\"#46039f\"],[0.2222222222222222,\"#7201a8\"],[0.3333333333333333,\"#9c179e\"],[0.4444444444444444,\"#bd3786\"],[0.5555555555555556,\"#d8576b\"],[0.6666666666666666,\"#ed7953\"],[0.7777777777777778,\"#fb9f3a\"],[0.8888888888888888,\"#fdca26\"],[1.0,\"#f0f921\"]],\"sequentialminus\":[[0.0,\"#0d0887\"],[0.1111111111111111,\"#46039f\"],[0.2222222222222222,\"#7201a8\"],[0.3333333333333333,\"#9c179e\"],[0.4444444444444444,\"#bd3786\"],[0.5555555555555556,\"#d8576b\"],[0.6666666666666666,\"#ed7953\"],[0.7777777777777778,\"#fb9f3a\"],[0.8888888888888888,\"#fdca26\"],[1.0,\"#f0f921\"]],\"diverging\":[[0,\"#8e0152\"],[0.1,\"#c51b7d\"],[0.2,\"#de77ae\"],[0.3,\"#f1b6da\"],[0.4,\"#fde0ef\"],[0.5,\"#f7f7f7\"],[0.6,\"#e6f5d0\"],[0.7,\"#b8e186\"],[0.8,\"#7fbc41\"],[0.9,\"#4d9221\"],[1,\"#276419\"]]},\"xaxis\":{\"gridcolor\":\"white\",\"linecolor\":\"white\",\"ticks\":\"\",\"title\":{\"standoff\":15},\"zerolinecolor\":\"white\",\"automargin\":true,\"zerolinewidth\":2},\"yaxis\":{\"gridcolor\":\"white\",\"linecolor\":\"white\",\"ticks\":\"\",\"title\":{\"standoff\":15},\"zerolinecolor\":\"white\",\"automargin\":true,\"zerolinewidth\":2},\"scene\":{\"xaxis\":{\"backgroundcolor\":\"#E5ECF6\",\"gridcolor\":\"white\",\"linecolor\":\"white\",\"showbackground\":true,\"ticks\":\"\",\"zerolinecolor\":\"white\",\"gridwidth\":2},\"yaxis\":{\"backgroundcolor\":\"#E5ECF6\",\"gridcolor\":\"white\",\"linecolor\":\"white\",\"showbackground\":true,\"ticks\":\"\",\"zerolinecolor\":\"white\",\"gridwidth\":2},\"zaxis\":{\"backgroundcolor\":\"#E5ECF6\",\"gridcolor\":\"white\",\"linecolor\":\"white\",\"showbackground\":true,\"ticks\":\"\",\"zerolinecolor\":\"white\",\"gridwidth\":2}},\"shapedefaults\":{\"line\":{\"color\":\"#2a3f5f\"}},\"annotationdefaults\":{\"arrowcolor\":\"#2a3f5f\",\"arrowhead\":0,\"arrowwidth\":1},\"geo\":{\"bgcolor\":\"white\",\"landcolor\":\"#E5ECF6\",\"subunitcolor\":\"white\",\"showland\":true,\"showlakes\":true,\"lakecolor\":\"white\"},\"title\":{\"x\":0.05},\"mapbox\":{\"style\":\"light\"}}},\"legend\":{\"tracegroupgap\":0},\"title\":{\"text\":\"Topic Distribution in Dataset 2 (N=20)\"}},                        {\"responsive\": true}                    ).then(function(){\n",
       "                            \n",
       "var gd = document.getElementById('7de42cfa-c2b5-4691-a155-9a4cd8e1a27f');\n",
       "var x = new MutationObserver(function (mutations, observer) {{\n",
       "        var display = window.getComputedStyle(gd).display;\n",
       "        if (!display || display === 'none') {{\n",
       "            console.log([gd, 'removed!']);\n",
       "            Plotly.purge(gd);\n",
       "            observer.disconnect();\n",
       "        }}\n",
       "}});\n",
       "\n",
       "// Listen for the removal of the full notebook cells\n",
       "var notebookContainer = gd.closest('#notebook-container');\n",
       "if (notebookContainer) {{\n",
       "    x.observe(notebookContainer, {childList: true});\n",
       "}}\n",
       "\n",
       "// Listen for the clearing of the current output cell\n",
       "var outputEl = gd.closest('.output');\n",
       "if (outputEl) {{\n",
       "    x.observe(outputEl, {childList: true});\n",
       "}}\n",
       "\n",
       "                        })                };                });            </script>        </div>"
      ]
     },
     "metadata": {},
     "output_type": "display_data"
    }
   ],
   "source": [
    "import plotly.express as px\n",
    "import plotly.offline as pyo\n",
    "import plotly.io as pio\n",
    "import gensim\n",
    "from gensim import corpora\n",
    "from gensim.models import LdaModel\n",
    "\n",
    "# Initialize Plotly in notebook mode\n",
    "pyo.init_notebook_mode(connected=True)\n",
    "\n",
    "# Define the function to apply LDA and plot donut charts\n",
    "def apply_lda_and_plot_donut(data, num_topics_list, dataset_name=\"Dataset\"):\n",
    "    # Tokenize the cleaned text\n",
    "    texts = [text.split() for text in data['cleaned_text']]\n",
    "\n",
    "    # Create a dictionary and corpus for the dataset\n",
    "    dictionary = corpora.Dictionary(texts)\n",
    "    corpus = [dictionary.doc2bow(text) for text in texts]\n",
    "\n",
    "    # Loop through each value of N (number of topics)\n",
    "    for num_topics in num_topics_list:\n",
    "        lda_model = LdaModel(corpus, num_topics=num_topics, id2word=dictionary, passes=15)\n",
    "\n",
    "        # Get the topic frequencies\n",
    "        topic_frequency = {i: 0 for i in range(num_topics)}\n",
    "        for doc in corpus:\n",
    "            topics = lda_model.get_document_topics(doc)\n",
    "            for topic_id, topic_prob in topics:\n",
    "                topic_frequency[topic_id] += topic_prob\n",
    "        \n",
    "        # Prepare data for plotting\n",
    "        topic_labels = [f\"Topic {i+1}\" for i in range(num_topics)]\n",
    "        topic_counts = [topic_frequency[i] for i in range(num_topics)]\n",
    "\n",
    "        # Plot donut chart for the current dataset and number of topics\n",
    "        fig = px.pie(names=topic_labels, values=topic_counts, hole=0.3, title=f\"Topic Distribution in {dataset_name} (N={num_topics})\")\n",
    "        \n",
    "        # To ensure plot is displayed using plotly.io.show()\n",
    "        pio.show(fig)\n",
    "\n",
    "# Step 2: Apply LDA to both datasets for 5, 10, 20 topics\n",
    "num_topics_list = [5, 10, 20]\n",
    "\n",
    "# Applying LDA and plot donut charts for the first dataset\n",
    "apply_lda_and_plot_donut(data, num_topics_list, dataset_name=\"Dataset 1\")\n",
    "\n",
    "# Applying LDA and plot donut charts for the second dataset\n",
    "apply_lda_and_plot_donut(data2, num_topics_list, dataset_name=\"Dataset 2\")\n"
   ]
  },
  {
   "cell_type": "code",
   "execution_count": 9,
   "id": "99388155",
   "metadata": {},
   "outputs": [
    {
     "name": "stdout",
     "output_type": "stream",
     "text": [
      "Saved C:/Users/b0161166/Downloads/Dataset_1_topic_distribution_N5.html\n",
      "Saved C:/Users/b0161166/Downloads/Dataset_1_topic_distribution_N10.html\n",
      "Saved C:/Users/b0161166/Downloads/Dataset_1_topic_distribution_N20.html\n",
      "Saved C:/Users/b0161166/Downloads/Dataset_2_topic_distribution_N5.html\n",
      "Saved C:/Users/b0161166/Downloads/Dataset_2_topic_distribution_N10.html\n",
      "Saved C:/Users/b0161166/Downloads/Dataset_2_topic_distribution_N20.html\n"
     ]
    }
   ],
   "source": [
    "# To save the figures as HTML files with specific paths for each dataset and number of topics\n",
    "def save_figures_as_html(fig, num_topics, dataset_name, output_dir=\"C:/Users/b0161166/Downloads/\"):\n",
    "    # Create a unique filename based on the dataset name and number of topics\n",
    "    output_file = f\"{output_dir}{dataset_name}_topic_distribution_N{num_topics}.html\"\n",
    "    fig.write_html(output_file)\n",
    "    print(f\"Saved {output_file}\")\n",
    "\n",
    "# Inside the apply_lda_and_plot_donut function, we shall save each figure as HTML:\n",
    "def apply_lda_and_plot_donut(data, num_topics_list, dataset_name=\"Dataset\", output_dir=\"C:/Users/b0161166/Downloads/\"):\n",
    "    # Tokenize the cleaned text\n",
    "    texts = [text.split() for text in data['cleaned_text']]\n",
    "\n",
    "    # Create a dictionary and corpus for the dataset\n",
    "    dictionary = corpora.Dictionary(texts)\n",
    "    corpus = [dictionary.doc2bow(text) for text in texts]\n",
    "\n",
    "    # Loop through each value of N (number of topics)\n",
    "    for num_topics in num_topics_list:\n",
    "        lda_model = LdaModel(corpus, num_topics=num_topics, id2word=dictionary, passes=15)\n",
    "\n",
    "        # Get the topic frequencies\n",
    "        topic_frequency = {i: 0 for i in range(num_topics)}\n",
    "        for doc in corpus:\n",
    "            topics = lda_model.get_document_topics(doc)\n",
    "            for topic_id, topic_prob in topics:\n",
    "                topic_frequency[topic_id] += topic_prob\n",
    "\n",
    "        # Preparing data for plotting\n",
    "        topic_labels = [f\"Topic {i+1}\" for i in range(num_topics)]\n",
    "        topic_counts = [topic_frequency[i] for i in range(num_topics)]\n",
    "\n",
    "        # To plot donut chart for the current dataset and number of topics\n",
    "        fig = px.pie(names=topic_labels, values=topic_counts, hole=0.3, title=f\"Topic Distribution in {dataset_name} (N={num_topics})\")\n",
    "        \n",
    "        # To save the figure as an HTML file using the helper function\n",
    "        save_figures_as_html(fig, num_topics, dataset_name, output_dir)\n",
    "\n",
    "# Applying LDA to both datasets for 5, 10, 20 topics\n",
    "num_topics_list = [5, 10, 20]\n",
    "\n",
    "# Applying LDA and plot donut charts for the first dataset and save HTML files\n",
    "apply_lda_and_plot_donut(data, num_topics_list, dataset_name=\"Dataset_1\")\n",
    "\n",
    "# Applying LDA and plot donut charts for the second dataset and save HTML files\n",
    "apply_lda_and_plot_donut(data2, num_topics_list, dataset_name=\"Dataset_2\")\n"
   ]
  },
  {
   "cell_type": "code",
   "execution_count": null,
   "id": "1fbaa153",
   "metadata": {},
   "outputs": [],
   "source": []
  }
 ],
 "metadata": {
  "kernelspec": {
   "display_name": "Python 3 (ipykernel)",
   "language": "python",
   "name": "python3"
  },
  "language_info": {
   "codemirror_mode": {
    "name": "ipython",
    "version": 3
   },
   "file_extension": ".py",
   "mimetype": "text/x-python",
   "name": "python",
   "nbconvert_exporter": "python",
   "pygments_lexer": "ipython3",
   "version": "3.11.5"
  }
 },
 "nbformat": 4,
 "nbformat_minor": 5
}
