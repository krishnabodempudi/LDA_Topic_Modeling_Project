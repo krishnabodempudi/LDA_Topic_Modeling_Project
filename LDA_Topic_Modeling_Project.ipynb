{
 "cells": [
  {
   "cell_type": "code",
   "execution_count": 2,
   "id": "cc23ab55",
   "metadata": {},
   "outputs": [
    {
     "name": "stdout",
     "output_type": "stream",
     "text": [
      "Requirement already satisfied: numpy in c:\\users\\b0161166\\downloads\\anaconda\\lib\\site-packages (1.24.4)\n",
      "Requirement already satisfied: pandas in c:\\users\\b0161166\\downloads\\anaconda\\lib\\site-packages (1.5.3)\n",
      "Requirement already satisfied: matplotlib in c:\\users\\b0161166\\downloads\\anaconda\\lib\\site-packages (3.7.2)\n",
      "Requirement already satisfied: plotly in c:\\users\\b0161166\\downloads\\anaconda\\lib\\site-packages (5.9.0)\n",
      "Requirement already satisfied: gensim in c:\\users\\b0161166\\downloads\\anaconda\\lib\\site-packages (4.3.0)\n",
      "Requirement already satisfied: scikit-learn in c:\\users\\b0161166\\downloads\\anaconda\\lib\\site-packages (1.3.0)\n",
      "Requirement already satisfied: nltk in c:\\users\\b0161166\\downloads\\anaconda\\lib\\site-packages (3.8.1)\n",
      "Requirement already satisfied: python-dateutil>=2.8.1 in c:\\users\\b0161166\\downloads\\anaconda\\lib\\site-packages (from pandas) (2.8.2)\n",
      "Requirement already satisfied: pytz>=2020.1 in c:\\users\\b0161166\\downloads\\anaconda\\lib\\site-packages (from pandas) (2023.3.post1)\n",
      "Requirement already satisfied: contourpy>=1.0.1 in c:\\users\\b0161166\\downloads\\anaconda\\lib\\site-packages (from matplotlib) (1.0.5)\n",
      "Requirement already satisfied: cycler>=0.10 in c:\\users\\b0161166\\downloads\\anaconda\\lib\\site-packages (from matplotlib) (0.11.0)\n",
      "Requirement already satisfied: fonttools>=4.22.0 in c:\\users\\b0161166\\downloads\\anaconda\\lib\\site-packages (from matplotlib) (4.25.0)\n",
      "Requirement already satisfied: kiwisolver>=1.0.1 in c:\\users\\b0161166\\downloads\\anaconda\\lib\\site-packages (from matplotlib) (1.4.4)\n",
      "Requirement already satisfied: packaging>=20.0 in c:\\users\\b0161166\\downloads\\anaconda\\lib\\site-packages (from matplotlib) (23.1)\n",
      "Requirement already satisfied: pillow>=6.2.0 in c:\\users\\b0161166\\downloads\\anaconda\\lib\\site-packages (from matplotlib) (9.4.0)\n",
      "Requirement already satisfied: pyparsing<3.1,>=2.3.1 in c:\\users\\b0161166\\downloads\\anaconda\\lib\\site-packages (from matplotlib) (3.0.9)\n",
      "Requirement already satisfied: tenacity>=6.2.0 in c:\\users\\b0161166\\downloads\\anaconda\\lib\\site-packages (from plotly) (8.2.2)\n",
      "Requirement already satisfied: scipy>=1.7.0 in c:\\users\\b0161166\\downloads\\anaconda\\lib\\site-packages (from gensim) (1.10.1)\n",
      "Requirement already satisfied: smart-open>=1.8.1 in c:\\users\\b0161166\\downloads\\anaconda\\lib\\site-packages (from gensim) (5.2.1)\n",
      "Requirement already satisfied: FuzzyTM>=0.4.0 in c:\\users\\b0161166\\downloads\\anaconda\\lib\\site-packages (from gensim) (2.0.9)\n",
      "Requirement already satisfied: joblib>=1.1.1 in c:\\users\\b0161166\\downloads\\anaconda\\lib\\site-packages (from scikit-learn) (1.2.0)\n",
      "Requirement already satisfied: threadpoolctl>=2.0.0 in c:\\users\\b0161166\\downloads\\anaconda\\lib\\site-packages (from scikit-learn) (2.2.0)\n",
      "Requirement already satisfied: click in c:\\users\\b0161166\\downloads\\anaconda\\lib\\site-packages (from nltk) (8.0.4)\n",
      "Requirement already satisfied: regex>=2021.8.3 in c:\\users\\b0161166\\downloads\\anaconda\\lib\\site-packages (from nltk) (2022.7.9)\n",
      "Requirement already satisfied: tqdm in c:\\users\\b0161166\\downloads\\anaconda\\lib\\site-packages (from nltk) (4.65.0)\n",
      "Requirement already satisfied: pyfume in c:\\users\\b0161166\\downloads\\anaconda\\lib\\site-packages (from FuzzyTM>=0.4.0->gensim) (0.3.4)\n",
      "Requirement already satisfied: six>=1.5 in c:\\users\\b0161166\\downloads\\anaconda\\lib\\site-packages (from python-dateutil>=2.8.1->pandas) (1.16.0)\n",
      "Requirement already satisfied: colorama in c:\\users\\b0161166\\downloads\\anaconda\\lib\\site-packages (from click->nltk) (0.4.6)\n",
      "Requirement already satisfied: simpful==2.12.0 in c:\\users\\b0161166\\downloads\\anaconda\\lib\\site-packages (from pyfume->FuzzyTM>=0.4.0->gensim) (2.12.0)\n",
      "Requirement already satisfied: fst-pso==1.8.1 in c:\\users\\b0161166\\downloads\\anaconda\\lib\\site-packages (from pyfume->FuzzyTM>=0.4.0->gensim) (1.8.1)\n",
      "Requirement already satisfied: miniful in c:\\users\\b0161166\\downloads\\anaconda\\lib\\site-packages (from fst-pso==1.8.1->pyfume->FuzzyTM>=0.4.0->gensim) (0.0.6)\n"
     ]
    }
   ],
   "source": [
    "!pip install numpy pandas matplotlib plotly gensim scikit-learn nltk\n"
   ]
  },
  {
   "cell_type": "code",
   "execution_count": null,
   "id": "81064d31",
   "metadata": {},
   "outputs": [],
   "source": [
    "import numpy as np\n",
    "import pandas as pd\n",
    "import matplotlib.pyplot as plt\n",
    "import plotly.express as px\n",
    "import gensim\n",
    "import nltk\n",
    "from sklearn.feature_extraction.text import CountVectorizer\n"
   ]
  },
  {
   "cell_type": "code",
   "execution_count": 5,
   "id": "b4d1bc7a",
   "metadata": {},
   "outputs": [
    {
     "name": "stdout",
     "output_type": "stream",
     "text": [
      "                                 Movie name Release Year           Rating  \\\n",
      "0                           Aftersun (2022)         2022   â??â??â??â??Â½   \n",
      "1                              Joker (2019)         2019  â??â??â??â??â??   \n",
      "2       Puss in Boots: The Last Wish (2022)         2022            â??Â½   \n",
      "3          The Banshees of Inisherin (2022)         2022  â??â??â??â??â??   \n",
      "4  Everything Everywhere All at Once (2022)         2022         â??â??Â½   \n",
      "\n",
      "     Reviewer name Review date  \\\n",
      "0           Tuomas   12-Jan-20   \n",
      "1             Joao   20-Dec-22   \n",
      "2         NicoPico   15-Sep-22   \n",
      "3        Ella Kemp    8-Apr-22   \n",
      "4  CosmonautMarkie   14-Aug-19   \n",
      "\n",
      "                                              Review Comment count  \\\n",
      "0                  This review may contain spoilers.           130   \n",
      "1  if youâ??ve never swam in the ocean then of co...          1.8K   \n",
      "2                Puss in Boots: Into the Pussy-Verse          6  2   \n",
      "3  I will NOT leave my donkey outside when Iâ??m sad           NaN   \n",
      "4  Watch it and have fun before film Twitter tell...           355   \n",
      "\n",
      "              Like count  \n",
      "0        22,44 6   likes  \n",
      "1           22,032 likes  \n",
      "2  21, 6   6   6   likes  \n",
      "3        21, 6  09 likes  \n",
      "4        20, 6  88 likes  \n",
      "            Movie name Release Date       Rating  \\\n",
      "0        Touch of Evil     1-Feb-58      | PG-13   \n",
      "1        Seven Samurai    19-Nov-56  | Not Rated   \n",
      "2       The Wild Bunch    18-Jun-69          | R   \n",
      "3  Au hasard Balthazar    16-Sep-66  | Not Rated   \n",
      "4    The Lady Vanishes     1-Nov-38   | Approved   \n",
      "\n",
      "                                             summary User rating  \\\n",
      "0  This film noir portrait of corruption and mora...         8.4   \n",
      "1  Seven Samurai (Shichinin no samurai) tells the...         8.8   \n",
      "2  An aging group of outlaws look for one last bi...         7.6   \n",
      "3  Robert Bresson's 1966 film focuses on the stor...         7.1   \n",
      "4  While travelling in continental Europe, a rich...         8.1   \n",
      "\n",
      "   Website rating  \n",
      "0              99  \n",
      "1              98  \n",
      "2              98  \n",
      "3              98  \n",
      "4              98  \n"
     ]
    }
   ],
   "source": [
    "import pandas as pd\n",
    "\n",
    "# Load the first dataset (replace with your dataset path)\n",
    "data = pd.read_csv(r'C:\\Users\\b0161166\\Downloads\\MovieReviews\\letterboxd-reviews.csv', encoding='ISO-8859-1')\n",
    "\n",
    "# Load the second dataset (replace with your dataset path)\n",
    "data2 = pd.read_csv(r'C:\\Users\\b0161166\\Downloads\\MovieReviews\\metacritic-reviews.csv', encoding='ISO-8859-1', on_bad_lines='skip')\n",
    "\n",
    "# Display the first few rows of both datasets to confirm they've loaded correctly\n",
    "print(data.head())\n",
    "print(data2.head())\n"
   ]
  },
  {
   "cell_type": "code",
   "execution_count": 6,
   "id": "54c9a873",
   "metadata": {},
   "outputs": [
    {
     "name": "stderr",
     "output_type": "stream",
     "text": [
      "[nltk_data] Downloading package stopwords to\n",
      "[nltk_data]     C:\\Users\\b0161166\\AppData\\Roaming\\nltk_data...\n",
      "[nltk_data]   Package stopwords is already up-to-date!\n",
      "[nltk_data] Downloading package wordnet to\n",
      "[nltk_data]     C:\\Users\\b0161166\\AppData\\Roaming\\nltk_data...\n",
      "[nltk_data]   Package wordnet is already up-to-date!\n"
     ]
    },
    {
     "name": "stdout",
     "output_type": "stream",
     "text": [
      "First dataset cleaned text:\n",
      "                                              Review  \\\n",
      "0                  This review may contain spoilers.   \n",
      "1  if youâ??ve never swam in the ocean then of co...   \n",
      "2                Puss in Boots: Into the Pussy-Verse   \n",
      "3  I will NOT leave my donkey outside when Iâ??m sad   \n",
      "4  Watch it and have fun before film Twitter tell...   \n",
      "\n",
      "                                        cleaned_text  \n",
      "0                       review may contain spoilers.  \n",
      "1  youâ??ve never swam ocean course pool seems deep.  \n",
      "2                             pus boots: pussy-verse  \n",
      "3                     leave donkey outside iâ??m sad  \n",
      "4       watch fun film twitter tell itâ??s overrated  \n",
      "\n",
      "Second dataset cleaned text:\n",
      "                                             summary  \\\n",
      "0  This film noir portrait of corruption and mora...   \n",
      "1  Seven Samurai (Shichinin no samurai) tells the...   \n",
      "2  An aging group of outlaws look for one last bi...   \n",
      "3  Robert Bresson's 1966 film focuses on the stor...   \n",
      "4  While travelling in continental Europe, a rich...   \n",
      "\n",
      "                                        cleaned_text  \n",
      "0  film noir portrait corruption morally-compromi...  \n",
      "1  seven samurai (shichinin samurai) tell story s...  \n",
      "2  aging group outlaw look one last big score \"tr...  \n",
      "3  robert bresson's 1966 film focus story donkey ...  \n",
      "4  travelling continental europe, rich young play...  \n"
     ]
    }
   ],
   "source": [
    "import nltk\n",
    "from nltk.corpus import stopwords\n",
    "from nltk.stem import WordNetLemmatizer\n",
    "\n",
    "# Download required NLTK resources (run this only once)\n",
    "nltk.download('stopwords')\n",
    "nltk.download('wordnet')\n",
    "\n",
    "# Define the preprocessing function\n",
    "def preprocess_text(text):\n",
    "    # Check if text is a valid string\n",
    "    if isinstance(text, str):\n",
    "        stop_words = set(stopwords.words('english'))  # Get English stopwords\n",
    "        lemmatizer = WordNetLemmatizer()  # Initialize lemmatizer\n",
    "        tokens = text.split()  # Split text into words\n",
    "        # Remove stopwords and lemmatize\n",
    "        tokens = [lemmatizer.lemmatize(word.lower()) for word in tokens if word.lower() not in stop_words]\n",
    "        return \" \".join(tokens)\n",
    "    else:\n",
    "        # If text is not valid, return an empty string\n",
    "        return \"\"\n",
    "\n",
    "# Apply the preprocessing function to the 'Review' column in the first dataset\n",
    "data['cleaned_text'] = data['Review'].apply(preprocess_text)\n",
    "\n",
    "# Apply the preprocessing function to the 'summary' column in the second dataset\n",
    "data2['cleaned_text'] = data2['summary'].apply(preprocess_text)\n",
    "\n",
    "# Display the first few rows of the cleaned text from both datasets\n",
    "print(\"First dataset cleaned text:\")\n",
    "print(data[['Review', 'cleaned_text']].head())\n",
    "\n",
    "print(\"\\nSecond dataset cleaned text:\")\n",
    "print(data2[['summary', 'cleaned_text']].head())\n"
   ]
  },
  {
   "cell_type": "code",
   "execution_count": 37,
   "id": "9cad46c3",
   "metadata": {},
   "outputs": [
    {
     "name": "stdout",
     "output_type": "stream",
     "text": [
      "\n",
      "Topics for Dataset 1 (N=5):\n",
      "Topic 4: 0.025*\"movie\" + 0.016*\"â\" + 0.010*\"like\" + 0.005*\"time\" + 0.005*\"one\" + 0.005*\"get\" + 0.005*\"best\" + 0.004*\"people\" + 0.004*\"give\" + 0.004*\"love\" - Frequency: 1132.8553466796875\n",
      "Topic 3: 0.010*\"movie\" + 0.008*\"like\" + 0.008*\"ever\" + 0.007*\"film\" + 0.006*\"iâ??m\" + 0.006*\"one\" + 0.006*\"fuck\" + 0.005*\"think\" + 0.005*\"watch\" + 0.004*\"want\" - Frequency: 1081.7041015625\n",
      "Topic 5: 0.011*\"movie\" + 0.011*\"like\" + 0.008*\"good\" + 0.008*\"film\" + 0.005*\"really\" + 0.005*\"every\" + 0.005*\"actually\" + 0.005*\"one\" + 0.005*\"make\" + 0.004*\"know\" - Frequency: 1003.79541015625\n",
      "Topic 1: 0.010*\"like\" + 0.006*\"movie\" + 0.005*\"gay\" + 0.005*\"know\" + 0.005*\"want\" + 0.005*\"get\" + 0.004*\"one\" + 0.004*\"song\" + 0.003*\"look\" + 0.003*\"really\" - Frequency: 858.4805297851562\n",
      "Topic 2: 0.093*\"?â\" + 0.003*\"birthday\" + 0.003*\"happened\" + 0.003*\"gonna\" + 0.002*\"decided\" + 0.002*\"woof\" + 0.002*\"2\" + 0.002*\"full\" + 0.002*\"suck\" + 0.002*\"?\" - Frequency: 512.2046508789062\n",
      "\n",
      "Topics for Dataset 1 (N=10):\n",
      "Topic 9: 0.028*\"movie\" + 0.011*\"like\" + 0.009*\"fuck\" + 0.008*\"time\" + 0.008*\"one\" + 0.007*\"itâ??s\" + 0.007*\"get\" + 0.006*\"film\" + 0.006*\"every\" + 0.006*\"want\" - Frequency: 638.754638671875\n",
      "Topic 5: 0.016*\"like\" + 0.014*\"movie\" + 0.009*\"good\" + 0.008*\"seen\" + 0.008*\"scene\" + 0.006*\"watching\" + 0.006*\"one\" + 0.006*\"ð??­\" + 0.005*\"ever\" + 0.005*\"said\" - Frequency: 576.5623168945312\n",
      "Topic 1: 0.018*\"movie\" + 0.009*\"one\" + 0.008*\"think\" + 0.007*\"know\" + 0.007*\"ever\" + 0.007*\"best\" + 0.006*\"film\" + 0.006*\"star\" + 0.006*\"nothing\" + 0.006*\"get\" - Frequency: 545.630859375\n",
      "Topic 2: 0.014*\"movie\" + 0.010*\"like\" + 0.008*\"get\" + 0.007*\"film\" + 0.007*\"love\" + 0.007*\"time\" + 0.006*\"first\" + 0.006*\"make\" + 0.006*\"people\" + 0.005*\"every\" - Frequency: 524.8439331054688\n",
      "Topic 7: 0.018*\"movie\" + 0.012*\"like\" + 0.010*\"ever\" + 0.008*\"character\" + 0.007*\"thing\" + 0.006*\"really\" + 0.005*\"one\" + 0.005*\"feel\" + 0.005*\"film\" + 0.005*\"stop\" - Frequency: 487.1896667480469\n",
      "Topic 6: 0.011*\"like\" + 0.007*\"man\" + 0.006*\"time\" + 0.006*\"go\" + 0.006*\"happened\" + 0.006*\"love\" + 0.005*\"call\" + 0.004*\"gay\" + 0.004*\"woman\" + 0.004*\"academy\" - Frequency: 413.9815979003906\n",
      "Topic 10: 0.011*\"love\" + 0.007*\"right\" + 0.007*\"straight\" + 0.006*\"fucking\" + 0.006*\"every\" + 0.005*\"best\" + 0.005*\"boy\" + 0.005*\"say\" + 0.005*\"film\" + 0.005*\"tarantino\" - Frequency: 388.473876953125\n",
      "Topic 4: 0.055*\"â\" + 0.015*\"like\" + 0.009*\"oh\" + 0.007*\"gay\" + 0.007*\"me:\" + 0.006*\"_/\" + 0.006*\"\\_\" + 0.006*\"think\" + 0.006*\"know\" + 0.005*\"iâ??m\" - Frequency: 365.1695556640625\n",
      "Topic 8: 0.010*\"much\" + 0.008*\"one\" + 0.006*\"cool\" + 0.006*\"del\" + 0.005*\"found\" + 0.005*\"crush\" + 0.005*\"dead\" + 0.005*\"tv\" + 0.004*\"lana\" + 0.004*\"tell\" - Frequency: 331.2546081542969\n",
      "Topic 3: 0.176*\"?â\" + 0.010*\"ð??\" + 0.005*\"wow\" + 0.005*\"next\" + 0.005*\"period\" + 0.005*\"guess\" + 0.004*\"handle\" + 0.004*\"suck\" + 0.004*\"?\" + 0.003*\"would\" - Frequency: 261.65142822265625\n",
      "\n",
      "Topics for Dataset 1 (N=20):\n",
      "Topic 18: 0.051*\"movie\" + 0.026*\"know\" + 0.024*\"good\" + 0.022*\"one\" + 0.022*\"ever\" + 0.019*\"film\" + 0.019*\"said\" + 0.017*\"thing\" + 0.016*\"would\" + 0.016*\"best\" - Frequency: 339.17059326171875\n",
      "Topic 20: 0.038*\"like\" + 0.028*\"feel\" + 0.026*\"itâ??s\" + 0.024*\"movie\" + 0.016*\"think\" + 0.014*\"iâ??m\" + 0.013*\"donâ??t\" + 0.012*\"film\" + 0.012*\"take\" + 0.012*\"right\" - Frequency: 337.0325927734375\n",
      "Topic 14: 0.026*\"movie\" + 0.020*\"way\" + 0.019*\"see\" + 0.018*\"like\" + 0.016*\"man\" + 0.015*\"horror\" + 0.015*\"itâ??s\" + 0.015*\"look\" + 0.014*\"one\" + 0.012*\"oh\" - Frequency: 297.0619201660156\n",
      "Topic 8: 0.036*\"want\" + 0.025*\"movie\" + 0.022*\"fuck\" + 0.021*\"film\" + 0.016*\"watch\" + 0.015*\"star\" + 0.014*\"tell\" + 0.013*\"bitch\" + 0.012*\"ever\" + 0.011*\"watched\" - Frequency: 295.32147216796875\n",
      "Topic 4: 0.016*\"movie\" + 0.016*\"shit\" + 0.014*\"get\" + 0.012*\"got\" + 0.012*\"this.\" + 0.010*\"imagine\" + 0.009*\"2\" + 0.009*\"going\" + 0.008*\"piece\" + 0.008*\"enough\" - Frequency: 250.7190704345703\n",
      "Topic 19: 0.020*\"seen\" + 0.019*\"movie\" + 0.017*\"make\" + 0.015*\"one\" + 0.014*\"two\" + 0.012*\"film\" + 0.011*\"it.\" + 0.011*\"iâ??m\" + 0.011*\"fucking\" + 0.010*\"night\" - Frequency: 245.65614318847656\n",
      "Topic 15: 0.020*\"wish\" + 0.019*\"get\" + 0.015*\"fun\" + 0.014*\"hot\" + 0.014*\"year\" + 0.012*\"back\" + 0.011*\"men\" + 0.011*\"like\" + 0.010*\"yes\" + 0.010*\"trying\" - Frequency: 239.0306854248047\n",
      "Topic 17: 0.038*\"gay\" + 0.023*\"love\" + 0.020*\"hand\" + 0.013*\"one\" + 0.012*\"straight\" + 0.012*\"family\" + 0.012*\"someone\" + 0.010*\"sheâ??s\" + 0.010*\"like\" + 0.010*\"flex\" - Frequency: 226.091796875\n",
      "Topic 1: 0.021*\"like\" + 0.017*\"ð??­\" + 0.015*\"iâ??m\" + 0.014*\"watch\" + 0.013*\"sorry\" + 0.011*\"second\" + 0.010*\"thought\" + 0.010*\"loved\" + 0.010*\"instead\" + 0.010*\"started\" - Frequency: 216.76751708984375\n",
      "Topic 5: 0.020*\"movie\" + 0.017*\"great\" + 0.017*\"ð??\" + 0.014*\"long\" + 0.013*\"love\" + 0.013*\"power\" + 0.012*\"cried\" + 0.012*\"musical\" + 0.011*\"first\" + 0.010*\"white\" - Frequency: 202.88340759277344\n",
      "Topic 12: 0.021*\"woman\" + 0.020*\"6\" + 0.015*\"minute\" + 0.015*\"people\" + 0.014*\"like\" + 0.012*\"ð???\" + 0.011*\"nothing\" + 0.010*\"letterboxd\" + 0.010*\"wow\" + 0.009*\"relate\" - Frequency: 202.55239868164062\n",
      "Topic 9: 0.019*\"girl\" + 0.012*\"school\" + 0.010*\"really\" + 0.010*\"like\" + 0.009*\"loved\" + 0.009*\"saw\" + 0.009*\"here,\" + 0.009*\"perfect\" + 0.009*\"gun\" + 0.009*\"get\" - Frequency: 199.3814697265625\n",
      "Topic 11: 0.016*\"guy\" + 0.016*\"idea\" + 0.014*\"-\" + 0.014*\"sex\" + 0.012*\"as\" + 0.011*\"believe\" + 0.011*\"fucking\" + 0.011*\"canâ??t\" + 0.011*\"scene\" + 0.011*\"\"i\" - Frequency: 198.50076293945312\n",
      "Topic 7: 0.019*\"cry\" + 0.015*\"like\" + 0.012*\"actor\" + 0.012*\"willem\" + 0.011*\"paul\" + 0.011*\".\" + 0.010*\"sometimes\" + 0.010*\"dafoe\" + 0.009*\"hard\" + 0.008*\"nice\" - Frequency: 188.6685333251953\n",
      "Topic 10: 0.056*\"every\" + 0.021*\"time\" + 0.017*\"day\" + 0.016*\"single\" + 0.013*\"movie\" + 0.012*\"might\" + 0.011*\"ok\" + 0.010*\"work\" + 0.010*\"actually\" + 0.009*\"miss\" - Frequency: 187.5580596923828\n",
      "Topic 16: 0.024*\"never\" + 0.016*\"support\" + 0.014*\"try\" + 0.014*\"put\" + 0.013*\"know\" + 0.010*\"crush\" + 0.010*\"moment\" + 0.010*\"wrong\" + 0.009*\"emotional\" + 0.009*\"you.\" - Frequency: 178.98858642578125\n",
      "Topic 13: 0.031*\"boy\" + 0.020*\"friend\" + 0.018*\"dead\" + 0.013*\"found\" + 0.011*\"ever\" + 0.011*\"what's\" + 0.009*\"handle\" + 0.009*\"write\" + 0.009*\"find\" + 0.008*\"change\" - Frequency: 173.62612915039062\n",
      "Topic 3: 0.020*\"movie.\" + 0.017*\"that's\" + 0.015*\"that.\" + 0.014*\"act\" + 0.012*\"eye\" + 0.011*\"le\" + 0.010*\"action\" + 0.010*\"sequence\" + 0.009*\"rachel\" + 0.009*\"like\" - Frequency: 149.7807159423828\n",
      "Topic 6: 0.148*\"â\" + 0.021*\"gonna\" + 0.018*\"young\" + 0.013*\"birthday\" + 0.013*\"away\" + 0.009*\"history\" + 0.008*\"fan\" + 0.007*\"future\" + 0.007*\"terrible\" + 0.007*\"travis\" - Frequency: 139.88722229003906\n",
      "Topic 2: 0.327*\"?â\" + 0.009*\"dog\" + 0.009*\"late\" + 0.008*\"thing.\" + 0.008*\"classic\" + 0.007*\"?\" + 0.006*\"â\" + 0.004*\"finger\" + 0.004*\"drunk\" + 0.003*\"one's\" - Frequency: 113.49905395507812\n",
      "\n",
      "Topics for Dataset 1 (N=50):\n",
      "Topic 50: 0.091*\"time\" + 0.088*\"every\" + 0.068*\"movie\" + 0.026*\"want\" + 0.021*\"single\" + 0.020*\"review\" + 0.020*\"put\" + 0.019*\"watch\" + 0.018*\"new\" + 0.017*\"get\" - Frequency: 150.55917358398438\n",
      "Topic 16: 0.052*\"movie\" + 0.036*\"one\" + 0.035*\"give\" + 0.034*\"star\" + 0.031*\"better\" + 0.030*\"believe\" + 0.029*\"canâ??t\" + 0.023*\"would\" + 0.023*\"5\" + 0.022*\"think\" - Frequency: 130.0210723876953\n",
      "Topic 8: 0.107*\"movie\" + 0.052*\"made\" + 0.027*\"story\" + 0.025*\"great\" + 0.023*\"ever\" + 0.022*\"damn\" + 0.019*\"nice\" + 0.017*\"thing\" + 0.017*\"favorite\" + 0.016*\"three\" - Frequency: 126.16925811767578\n",
      "Topic 49: 0.109*\"film\" + 0.068*\"feel\" + 0.055*\"like\" + 0.051*\"see\" + 0.048*\"make\" + 0.038*\"one\" + 0.024*\"best\" + 0.020*\"sometimes\" + 0.019*\"never\" + 0.018*\"horror\" - Frequency: 123.44896697998047\n",
      "Topic 46: 0.057*\"life\" + 0.050*\"think\" + 0.050*\"like\" + 0.043*\"u\" + 0.031*\"love\" + 0.027*\"nothing\" + 0.021*\"hate\" + 0.021*\"know\" + 0.015*\"oscar\" + 0.015*\"movie\" - Frequency: 119.19815826416016\n",
      "Topic 23: 0.046*\"itâ??s\" + 0.041*\"real\" + 0.034*\"cry\" + 0.032*\"never\" + 0.029*\"something\" + 0.025*\"cinematic\" + 0.024*\"hard\" + 0.023*\"actually\" + 0.022*\"maybe\" + 0.020*\"always\" - Frequency: 113.78602600097656\n",
      "Topic 4: 0.047*\"go\" + 0.041*\"call\" + 0.032*\"song\" + 0.031*\"there's\" + 0.030*\"someone\" + 0.024*\"holy\" + 0.019*\"heâ??s\" + 0.019*\"eye\" + 0.017*\"movie\" + 0.015*\"shit\" - Frequency: 103.29457092285156\n",
      "Topic 7: 0.064*\"need\" + 0.042*\"movie\" + 0.036*\"everyone\" + 0.029*\"stop\" + 0.026*\"isnâ??t\" + 0.024*\"live\" + 0.020*\"first\" + 0.017*\"here,\" + 0.017*\"second\" + 0.016*\"wouldâ??ve\" - Frequency: 102.36331939697266\n",
      "Topic 38: 0.041*\"ever\" + 0.037*\"say\" + 0.034*\"white\" + 0.028*\"beautiful\" + 0.027*\"fun\" + 0.023*\"shot\" + 0.023*\"thing\" + 0.020*\"truly\" + 0.020*\"love\" + 0.017*\"culture\" - Frequency: 102.17491149902344\n",
      "Topic 29: 0.038*\"like\" + 0.035*\"way\" + 0.030*\"back\" + 0.025*\"try\" + 0.020*\"set\" + 0.020*\"next\" + 0.019*\"20\" + 0.018*\"year\" + 0.018*\"me.\" + 0.017*\"used\" - Frequency: 101.5515365600586\n",
      "Topic 32: 0.099*\"iâ??m\" + 0.057*\"going\" + 0.043*\"absolutely\" + 0.043*\"men\" + 0.027*\"sorry\" + 0.022*\"sure\" + 0.022*\"one\" + 0.016*\"hell\" + 0.015*\"people\" + 0.015*\"â??i\" - Frequency: 101.47575378417969\n",
      "Topic 31: 0.040*\"let\" + 0.039*\"want\" + 0.039*\"could\" + 0.039*\"bitch\" + 0.029*\"sex\" + 0.028*\"know\" + 0.027*\"saw\" + 0.020*\"movie\" + 0.020*\"called\" + 0.019*\"think\" - Frequency: 98.54305267333984\n",
      "Topic 10: 0.099*\"man\" + 0.067*\"really\" + 0.042*\"like\" + 0.042*\"anything\" + 0.028*\"said\" + 0.027*\"find\" + 0.017*\"good\" + 0.017*\"poster\" + 0.013*\"comedy\" + 0.013*\"needed\" - Frequency: 91.21284484863281\n",
      "Topic 43: 0.051*\"seen\" + 0.039*\"iâ??ve\" + 0.032*\"lot\" + 0.025*\"ever\" + 0.024*\"watching\" + 0.023*\"baby\" + 0.022*\"movie\" + 0.021*\"really\" + 0.016*\"one\" + 0.016*\"political\" - Frequency: 87.01644134521484\n",
      "Topic 34: 0.046*\"hot\" + 0.043*\"that's\" + 0.035*\"this.\" + 0.032*\"far\" + 0.028*\"power\" + 0.027*\"big\" + 0.020*\".\" + 0.020*\"biggest\" + 0.019*\"crush\" + 0.017*\"them.\" - Frequency: 85.52600860595703\n",
      "Topic 44: 0.096*\"like\" + 0.060*\"look\" + 0.028*\"thought\" + 0.025*\"music\" + 0.025*\"felt\" + 0.023*\"birthday\" + 0.017*\"masterpiece\" + 0.015*\"â??you\" + 0.014*\"make\" + 0.013*\"appreciate\" - Frequency: 85.4363021850586\n",
      "Topic 15: 0.071*\"good\" + 0.062*\"whole\" + 0.041*\"movie\" + 0.032*\"ok\" + 0.030*\"friend\" + 0.027*\"looking\" + 0.013*\"way.\" + 0.013*\"part\" + 0.012*\"attention\" + 0.012*\"david\" - Frequency: 82.92630767822266\n",
      "Topic 5: 0.042*\"film\" + 0.019*\"yeah\" + 0.018*\"watch\" + 0.018*\"people\" + 0.018*\"instead\" + 0.018*\"throw\" + 0.016*\"netflix\" + 0.016*\"disney\" + 0.015*\"sequence\" + 0.015*\"dog\" - Frequency: 82.47093200683594\n",
      "Topic 48: 0.100*\"get\" + 0.057*\"got\" + 0.035*\"pretty\" + 0.031*\"saying\" + 0.030*\"class\" + 0.026*\"talk\" + 0.025*\"trying\" + 0.021*\"immediately\" + 0.016*\"michael\" + 0.016*\"together\" - Frequency: 81.70751953125\n",
      "Topic 27: 0.064*\"two\" + 0.057*\"still\" + 0.032*\"like\" + 0.030*\"much\" + 0.026*\"went\" + 0.022*\"fucked\" + 0.017*\"five\" + 0.016*\"movie\" + 0.015*\"working\" + 0.013*\"clearly\" - Frequency: 81.59339141845703\n",
      "Topic 26: 0.050*\"character\" + 0.036*\"as\" + 0.034*\"perfect\" + 0.034*\"play\" + 0.033*\"movie\" + 0.023*\"john\" + 0.021*\"gun\" + 0.020*\"movie.\" + 0.020*\"deserves\" + 0.019*\"ask\" - Frequency: 80.48114013671875\n",
      "Topic 14: 0.049*\"anyone\" + 0.042*\"day\" + 0.039*\"&\" + 0.028*\"would\" + 0.023*\"\"i\" + 0.020*\"get\" + 0.019*\"line\" + 0.017*\"fear\" + 0.016*\"parent\" + 0.013*\"ready\" - Frequency: 80.1973876953125\n",
      "Topic 28: 0.049*\"family\" + 0.034*\"dead\" + 0.029*\"found\" + 0.025*\"weird\" + 0.022*\"name\" + 0.020*\"picture\" + 0.017*\"suicide\" + 0.016*\"trip\" + 0.015*\"miranda\" + 0.015*\"annoying\" - Frequency: 80.0526123046875\n",
      "Topic 37: 0.122*\"gay\" + 0.037*\"straight\" + 0.032*\"idea\" + 0.025*\"work\" + 0.016*\"mother\" + 0.015*\"else\" + 0.014*\"kinda\" + 0.014*\"way\" + 0.013*\"technical\" + 0.013*\"laugh\" - Frequency: 79.79690551757812\n",
      "Topic 41: 0.045*\"6\" + 0.035*\"long\" + 0.030*\"david\" + 0.030*\"turn\" + 0.027*\"sheâ??s\" + 0.021*\"god\" + 0.021*\"mind\" + 0.017*\"exist\" + 0.017*\"concept\" + 0.015*\"know\" - Frequency: 78.51165008544922\n",
      "Topic 1: 0.057*\"didnâ??t\" + 0.046*\"minute\" + 0.045*\"gonna\" + 0.043*\"night\" + 0.036*\"donâ??t\" + 0.033*\"take\" + 0.029*\"living\" + 0.027*\"away\" + 0.027*\"phone\" + 0.024*\"itâ??s\" - Frequency: 77.98802947998047\n",
      "Topic 30: 0.045*\"making\" + 0.030*\"funny\" + 0.023*\"movie\" + 0.021*\"young\" + 0.020*\"|\" + 0.019*\"movie,\" + 0.018*\"might\" + 0.018*\"sound\" + 0.016*\"would\" + 0.015*\"plot\" - Frequency: 77.7361831665039\n",
      "Topic 21: 0.050*\"old\" + 0.035*\"letterboxd\" + 0.029*\"can't\" + 0.025*\"wait\" + 0.020*\"came\" + 0.018*\"movie\" + 0.017*\"except\" + 0.016*\"choice\" + 0.015*\"said\" + 0.014*\"edward\" - Frequency: 77.55206298828125\n",
      "Topic 24: 0.072*\"guy\" + 0.060*\"wish\" + 0.036*\"dad\" + 0.030*\"full\" + 0.025*\"what's\" + 0.024*\"must\" + 0.020*\"late\" + 0.018*\"bad\" + 0.017*\"dude\" + 0.017*\"tear\" - Frequency: 76.29338836669922\n",
      "Topic 19: 0.034*\"kid\" + 0.030*\"kill\" + 0.027*\"eat\" + 0.027*\"paul\" + 0.027*\"hope\" + 0.026*\"jake\" + 0.014*\"daniel\" + 0.014*\"30\" + 0.013*\"le\" + 0.013*\"one\" - Frequency: 75.73751068115234\n",
      "Topic 45: 0.080*\"right\" + 0.032*\"seeing\" + 0.028*\"screen\" + 0.027*\"literally\" + 0.026*\"musical\" + 0.018*\"hit\" + 0.016*\"run\" + 0.016*\"like\" + 0.016*\"james\" + 0.016*\"business\" - Frequency: 75.71704864501953\n",
      "Topic 18: 0.131*\"fuck\" + 0.042*\"wanna\" + 0.025*\"amazing\" + 0.025*\"wes\" + 0.024*\"want\" + 0.023*\"fall\" + 0.019*\"anderson\" + 0.017*\"peter\" + 0.016*\"dance\" + 0.015*\"mark\" - Frequency: 75.54853820800781\n",
      "Topic 25: 0.032*\"imagine\" + 0.031*\"glad\" + 0.030*\"ð???\" + 0.029*\"cinema\" + 0.028*\"moment\" + 0.021*\"another\" + 0.020*\"dick\" + 0.019*\"guess\" + 0.018*\"dumb\" + 0.018*\"say\" - Frequency: 75.01271057128906\n",
      "Topic 36: 0.112*\"fucking\" + 0.036*\"yes\" + 0.035*\"enough\" + 0.035*\"support\" + 0.029*\"know\" + 0.027*\"wrong\" + 0.024*\"also\" + 0.018*\"emotional\" + 0.014*\"wasnâ??t\" + 0.014*\"dream\" - Frequency: 74.7801742553711\n",
      "Topic 6: 0.038*\"die\" + 0.038*\"movie.\" + 0.030*\"willem\" + 0.029*\"relate\" + 0.028*\"film.\" + 0.026*\"del\" + 0.026*\"dafoe\" + 0.021*\"social\" + 0.020*\"episode\" + 0.020*\"lana\" - Frequency: 73.12464904785156\n",
      "Topic 39: 0.047*\"ð??­\" + 0.042*\"ð??\" + 0.026*\"lesbian\" + 0.021*\"crazy\" + 0.020*\"end\" + 0.016*\"starting\" + 0.015*\"silly\" + 0.014*\"fan\" + 0.013*\"every\" + 0.013*\"little\" - Frequency: 72.95755004882812\n",
      "Topic 9: 0.060*\"little\" + 0.031*\"point\" + 0.028*\"academy\" + 0.026*\"harry\" + 0.021*\"bit\" + 0.020*\"car\" + 0.018*\"acting\" + 0.016*\"joy\" + 0.015*\"history\" + 0.013*\"career\" - Frequency: 71.62742614746094\n",
      "Topic 20: 0.046*\"shit\" + 0.036*\"child\" + 0.027*\"stupid\" + 0.023*\"theyâ??re\" + 0.021*\"face\" + 0.020*\"half\" + 0.019*\"genre\" + 0.018*\"found\" + 0.015*\"yet\" + 0.015*\"turned\" - Frequency: 71.58523559570312\n",
      "Topic 33: 0.055*\"woman\" + 0.031*\"playing\" + 0.029*\"brad\" + 0.027*\"people\" + 0.026*\"bro\" + 0.025*\"death\" + 0.023*\"horny\" + 0.023*\"sad\" + 0.022*\"pitt\" + 0.019*\"me,\" - Frequency: 71.12806701660156\n",
      "Topic 47: 0.033*\"mean\" + 0.023*\"movie\" + 0.021*\"game\" + 0.019*\"period\" + 0.018*\"rachel\" + 0.016*\"him,\" + 0.014*\"foot\" + 0.014*\"bird\" + 0.014*\"life\" + 0.014*\"itâ??s\" - Frequency: 70.03137969970703\n",
      "Topic 11: 0.043*\"bad\" + 0.037*\"tarantino\" + 0.035*\"me:\" + 0.025*\"care\" + 0.018*\"quentin\" + 0.017*\"wonderful\" + 0.016*\"rich\" + 0.016*\"emotionally\" + 0.014*\"understand\" + 0.014*\"16\" - Frequency: 69.73726654052734\n",
      "Topic 40: 0.056*\"home\" + 0.056*\"-\" + 0.029*\"school\" + 0.022*\"entire\" + 0.021*\"joke\" + 0.018*\"adam\" + 0.016*\"never\" + 0.016*\"like\" + 0.016*\"soon\" + 0.015*\"teacher\" - Frequency: 65.50675964355469\n",
      "Topic 22: 0.063*\"hand\" + 0.038*\"boy\" + 0.031*\"flex\" + 0.029*\"show\" + 0.026*\"hey\" + 0.017*\"pay\" + 0.017*\"wake\" + 0.015*\"worth\" + 0.015*\"issue\" + 0.015*\"least\" - Frequency: 65.34347534179688\n",
      "Topic 3: 0.029*\"that.\" + 0.026*\"actor\" + 0.023*\"good\" + 0.018*\"cocaine\" + 0.018*\"florence\" + 0.016*\"murder\" + 0.015*\"heart\" + 0.014*\"animal\" + 0.014*\"touch\" + 0.013*\"soundtrack\" - Frequency: 61.38750457763672\n",
      "Topic 2: 0.055*\"oh\" + 0.042*\"cried\" + 0.041*\"lady\" + 0.041*\"action\" + 0.027*\"hour\" + 0.025*\"tom\" + 0.024*\"gotta\" + 0.021*\"around\" + 0.019*\":\" + 0.017*\"horse\" - Frequency: 61.20832824707031\n",
      "Topic 35: 0.139*\"girl\" + 0.032*\"american\" + 0.024*\"allowed\" + 0.023*\"aaron\" + 0.016*\"phoenix\" + 0.012*\"johnson\" + 0.012*\"son\" + 0.011*\"place\" + 0.011*\"standing\" + 0.011*\"joaquin\" - Frequency: 60.80575942993164\n",
      "Topic 17: 0.292*\"â\" + 0.039*\"youâ??re\" + 0.025*\"cool\" + 0.016*\"2\" + 0.016*\"you.\" + 0.014*\"named\" + 0.014*\"travis\" + 0.013*\"course\" + 0.009*\"remake\" + 0.009*\"anything.\" - Frequency: 59.0639762878418\n",
      "Topic 42: 0.022*\"wear\" + 0.021*\"ending\" + 0.019*\"come\" + 0.019*\"giant\" + 0.014*\"fit\" + 0.013*\"green\" + 0.012*\"another\" + 0.011*\"chad\" + 0.010*\"shark\" + 0.010*\"boy\" - Frequency: 54.825016021728516\n",
      "Topic 12: 0.033*\"high\" + 0.024*\"suck\" + 0.018*\"bear\" + 0.017*\"reading\" + 0.015*\"rudd\" + 0.015*\"illness\" + 0.012*\"way,\" + 0.011*\"leaving\" + 0.011*\"book\" + 0.009*\"dinosaur\" - Frequency: 50.27420425415039\n",
      "Topic 13: 0.528*\"?â\" + 0.011*\"?\" + 0.010*\"â\" + 0.008*\"tension\" + 0.005*\"¿â\" + 0.005*\"ironic\" + 0.005*\"perspective\" + 0.005*\"80%\" + 0.005*\"?â¡?â\" + 0.004*\"remote\" - Frequency: 41.307411193847656\n",
      "\n",
      "Topics for Dataset 2 (N=5):\n",
      "Topic 4: 0.009*\"life\" + 0.008*\"find\" + 0.007*\"young\" + 0.006*\"new\" + 0.006*\"one\" + 0.005*\"family\" + 0.005*\"two\" + 0.004*\"friend\" + 0.004*\"woman\" + 0.004*\"get\" - Frequency: 5492.98388671875\n",
      "Topic 1: 0.012*\"film\" + 0.012*\"story\" + 0.006*\"life\" + 0.005*\"one\" + 0.004*\"films)\" + 0.004*\"based\" + 0.004*\"new\" + 0.004*\"documentary\" + 0.003*\"set\" + 0.003*\"love\" - Frequency: 2985.449951171875\n",
      "Topic 3: 0.004*\"one\" + 0.004*\"world\" + 0.004*\"must\" + 0.004*\"-\" + 0.003*\"new\" + 0.003*\"take\" + 0.003*\"find\" + 0.003*\"team\" + 0.002*\"force\" + 0.002*\"police\" - Frequency: 2875.690673828125\n",
      "Topic 5: 0.003*\"team\" + 0.002*\"alien\" + 0.001*\"star\" + 0.001*\"christmas\" + 0.001*\"vega\" + 0.001*\"coach\" + 0.001*\"basketball\" + 0.001*\"jason\" + 0.001*\"dr.\" + 0.001*\"catherine\" - Frequency: 1001.322998046875\n",
      "Topic 2: 0.002*\"crazy\" + 0.001*\"revolves\" + 0.001*\"chef\" + 0.001*\"computer\" + 0.001*\"will,\" + 0.001*\"psychiatric\" + 0.001*\"dumped\" + 0.001*\"food\" + 0.001*\"uptight\" + 0.001*\"supposed\" - Frequency: 477.8890686035156\n",
      "\n",
      "Topics for Dataset 2 (N=10):\n",
      "Topic 10: 0.009*\"life\" + 0.009*\"find\" + 0.008*\"new\" + 0.007*\"one\" + 0.007*\"young\" + 0.005*\"two\" + 0.005*\"family\" + 0.005*\"take\" + 0.005*\"get\" + 0.004*\"woman\" - Frequency: 6663.681640625\n",
      "Topic 7: 0.016*\"film\" + 0.011*\"story\" + 0.009*\"life\" + 0.007*\"films)\" + 0.005*\"documentary\" + 0.005*\"one\" + 0.005*\"new\" + 0.005*\"comedy\" + 0.004*\"set\" + 0.004*\"love\" - Frequency: 2277.28369140625\n",
      "Topic 2: 0.009*\"story\" + 0.008*\"world\" + 0.006*\"war\" + 0.005*\"true\" + 0.005*\"set\" + 0.005*\"team\" + 0.004*\"american\" + 0.004*\"based\" + 0.004*\"battle\" + 0.003*\"journey\" - Frequency: 2114.685791015625\n",
      "Topic 3: 0.005*\"win\" + 0.004*\"jason\" + 0.003*\"outrageous\" + 0.003*\"max\" + 0.003*\"cinema)\" + 0.003*\"(new\" + 0.003*\"radio\" + 0.003*\"crazy\" + 0.003*\"catherine\" + 0.003*\"monster\" - Frequency: 439.1323547363281\n",
      "Topic 5: 0.005*\"celebrity\" + 0.004*\"goldwyn\" + 0.004*\"jonathan\" + 0.003*\"(samuel\" + 0.003*\"duo\" + 0.003*\"brothers)\" + 0.003*\"bit\" + 0.002*\"another.\" + 0.002*\"bounty\" + 0.002*\"matt\" - Frequency: 279.1942443847656\n",
      "Topic 1: 0.006*\"father's\" + 0.004*\"bay\" + 0.004*\"rogue\" + 0.003*\"total\" + 0.003*\"dead.\" + 0.003*\"nurse\" + 0.003*\"ted\" + 0.003*\"boss,\" + 0.003*\"santa\" + 0.003*\"prepared\" - Frequency: 227.88084411621094\n",
      "Topic 8: 0.019*\"fox)\" + 0.016*\"(20th\" + 0.013*\"century\" + 0.005*\"nuclear\" + 0.004*\"restore\" + 0.003*\"vigilante\" + 0.003*\"(josh\" + 0.003*\"(dreamworks)\" + 0.003*\"dangerously\" + 0.003*\"patrol\" - Frequency: 174.5660400390625\n",
      "Topic 6: 0.005*\"(touchstone\" + 0.005*\"(columbia\" + 0.003*\"josh\" + 0.003*\"exciting\" + 0.003*\"nina\" + 0.003*\"plan.\" + 0.003*\"none\" + 0.003*\"sara\" + 0.003*\"cure\" + 0.003*\"dave\" - Frequency: 174.44984436035156\n",
      "Topic 4: 0.007*\"dealer\" + 0.005*\"larry\" + 0.004*\"happily\" + 0.004*\"recover\" + 0.003*\"killer,\" + 0.003*\"kelly\" + 0.003*\"waking\" + 0.003*\"jill\" + 0.003*\"amy\" + 0.002*\"terrorized\" - Frequency: 132.5491943359375\n",
      "Topic 9: 0.006*\"basketball\" + 0.003*\"immortal\" + 0.003*\"destruction.\" + 0.003*\"navy\" + 0.003*\"thug\" + 0.003*\"doll\" + 0.002*\"dick\" + 0.002*\"miranda\" + 0.002*\"expected.\" + 0.002*\"dump\" - Frequency: 125.13172149658203\n",
      "\n",
      "Topics for Dataset 2 (N=20):\n",
      "Topic 4: 0.011*\"find\" + 0.008*\"must\" + 0.008*\"one\" + 0.007*\"young\" + 0.007*\"new\" + 0.007*\"life\" + 0.006*\"world\" + 0.005*\"take\" + 0.005*\"family\" + 0.005*\"-\" - Frequency: 3507.134521484375\n",
      "Topic 6: 0.014*\"life\" + 0.011*\"new\" + 0.009*\"love\" + 0.009*\"one\" + 0.008*\"young\" + 0.008*\"find\" + 0.008*\"two\" + 0.008*\"friend\" + 0.007*\"woman\" + 0.006*\"get\" - Frequency: 3078.834716796875\n",
      "Topic 13: 0.021*\"film\" + 0.018*\"story\" + 0.013*\"life\" + 0.008*\"one\" + 0.007*\"films)\" + 0.007*\"world\" + 0.007*\"documentary\" + 0.007*\"new\" + 0.006*\"american\" + 0.006*\"journey\" - Frequency: 1692.8994140625\n",
      "Topic 1: 0.012*\"story\" + 0.009*\"set\" + 0.008*\"star\" + 0.008*\"based\" + 0.007*\"film\" + 0.007*\"comedy\" + 0.005*\"rise\" + 0.005*\"tale\" + 0.005*\"classic\" + 0.005*\"movie\" - Frequency: 910.501220703125\n",
      "Topic 11: 0.014*\"war\" + 0.010*\"agent\" + 0.008*\"american\" + 0.007*\"u.s.\" + 0.006*\"team\" + 0.005*\"fbi\" + 0.005*\"soldier\" + 0.005*\"world\" + 0.005*\"undercover\" + 0.005*\"state\" - Frequency: 652.0481567382812\n",
      "Topic 12: 0.022*\"killer\" + 0.016*\"jack\" + 0.011*\"car\" + 0.011*\"serial\" + 0.011*\"(new\" + 0.011*\"line\" + 0.010*\"cinema)\" + 0.010*\"can't\" + 0.007*\"detective\" + 0.007*\"thriller\" - Frequency: 295.2594909667969\n",
      "Topic 18: 0.010*\"nick\" + 0.007*\"(the\" + 0.007*\"cat\" + 0.006*\"company)\" + 0.006*\"weinstein\" + 0.005*\"football\" + 0.005*\"murder,\" + 0.005*\"thief\" + 0.005*\"attractions)\" + 0.005*\"(roadside\" - Frequency: 277.2515563964844\n",
      "Topic 20: 0.025*\"entertainment)\" + 0.005*\"someone\" + 0.005*\"imagined.\" + 0.005*\"bachelor\" + 0.005*\"(kate\" + 0.004*\"[lionsgate]\" + 0.004*\"york,\" + 0.004*\"romance,\" + 0.004*\"sex\" + 0.004*\"compete\" - Frequency: 272.90655517578125\n",
      "Topic 14: 0.011*\"charlie\" + 0.007*\"disney\" + 0.007*\"max\" + 0.007*\"house.\" + 0.006*\"hometown\" + 0.006*\"god\" + 0.005*\"(walt\" + 0.005*\"prince\" + 0.004*\"transform\" + 0.004*\"roommate\" - Frequency: 233.24844360351562\n",
      "Topic 15: 0.029*\"(warner\" + 0.024*\"bros.)\" + 0.011*\"corrupt\" + 0.011*\"prison\" + 0.010*\"bank\" + 0.007*\"danny\" + 0.007*\"terrorist\" + 0.007*\"buddy\" + 0.007*\"tommy\" + 0.006*\"attorney\" - Frequency: 212.68856811523438\n",
      "Topic 2: 0.012*\"henry\" + 0.008*\"frank\" + 0.005*\"operative\" + 0.005*\"dave\" + 0.005*\"angeles,\" + 0.005*\".\" + 0.005*\"(paramount)\" + 0.004*\"is,\" + 0.004*\"wrong.\" + 0.004*\"arm\" - Frequency: 189.0119171142578\n",
      "Topic 9: 0.010*\"kate\" + 0.009*\"space\" + 0.006*\"conspiracy\" + 0.005*\"computer\" + 0.005*\"duo\" + 0.005*\"remake\" + 0.004*\"screen\" + 0.004*\"trade\" + 0.004*\"executive\" + 0.004*\"then,\" - Frequency: 175.3323211669922\n",
      "Topic 16: 0.011*\"la\" + 0.009*\"vega\" + 0.008*\"quiet\" + 0.006*\"motion\" + 0.005*\"treasure\" + 0.005*\"niece\" + 0.005*\"shattered\" + 0.004*\"sara\" + 0.004*\"molly\" + 0.004*\"(robert\" - Frequency: 155.80972290039062\n",
      "Topic 19: 0.035*\"(sony\" + 0.018*\"classics)\" + 0.015*\"picture\" + 0.008*\"jonathan\" + 0.008*\"catherine\" + 0.005*\"modern-day\" + 0.005*\"mike\" + 0.005*\"festival\" + 0.004*\"unconventional\" + 0.004*\"painter\" - Frequency: 143.52833557128906\n",
      "Topic 17: 0.007*\"bay\" + 0.005*\"francisco\" + 0.005*\"prepared\" + 0.004*\"mentor\" + 0.004*\"cure\" + 0.004*\"outcast\" + 0.004*\"architect\" + 0.004*\"san\" + 0.004*\"robot\" + 0.004*\"reckless\" - Frequency: 143.40121459960938\n",
      "Topic 5: 0.022*\"christmas\" + 0.017*\"wrong\" + 0.011*\"(fox\" + 0.007*\"elizabeth\" + 0.007*\"discovering\" + 0.006*\"emily\" + 0.006*\"client\" + 0.006*\"searchlight)\" + 0.005*\"searchlight\" + 0.005*\"jungle\" - Frequency: 125.32913208007812\n",
      "Topic 7: 0.041*\"century\" + 0.032*\"fox)\" + 0.028*\"(20th\" + 0.012*\"twisted\" + 0.011*\"vampire\" + 0.006*\"count\" + 0.006*\"divorced\" + 0.005*\"comedic\" + 0.005*\"21st\" + 0.005*\"deepest\" - Frequency: 107.67224884033203\n",
      "Topic 8: 0.020*\"sam\" + 0.018*\"(sony)\" + 0.009*\"lucy\" + 0.007*\"leo\" + 0.007*\"15\" + 0.005*\"masked\" + 0.005*\"halloween\" + 0.005*\"psychiatric\" + 0.005*\"framed\" + 0.004*\"luke\" - Frequency: 99.08805084228516\n",
      "Topic 10: 0.010*\"[warner\" + 0.007*\"bros.]\" + 0.007*\"recover\" + 0.006*\"ted\" + 0.006*\"super\" + 0.006*\"mentally\" + 0.005*\"insurance\" + 0.005*\"thug\" + 0.005*\"earth,\" + 0.005*\"havoc\" - Frequency: 90.9984130859375\n",
      "Topic 3: 0.014*\"jason\" + 0.008*\"hole\" + 0.006*\"busy\" + 0.006*\"teaching\" + 0.005*\"instant\" + 0.005*\"graduation\" + 0.004*\"caring\" + 0.004*\"ex-wife\" + 0.004*\"(charlie\" + 0.004*\"mask\" - Frequency: 85.47872924804688\n",
      "\n",
      "Topics for Dataset 2 (N=50):\n",
      "Topic 5: 0.019*\"one\" + 0.017*\"find\" + 0.015*\"get\" + 0.014*\"friend\" + 0.011*\"life\" + 0.011*\"-\" + 0.011*\"two\" + 0.010*\"go\" + 0.009*\"new\" + 0.009*\"take\" - Frequency: 1503.36279296875\n",
      "Topic 35: 0.026*\"new\" + 0.024*\"family\" + 0.019*\"find\" + 0.017*\"life\" + 0.015*\"father\" + 0.015*\"young\" + 0.013*\"mother\" + 0.012*\"son\" + 0.011*\"wife\" + 0.010*\"york\" - Frequency: 1027.418701171875\n",
      "Topic 46: 0.027*\"love\" + 0.025*\"story\" + 0.018*\"young\" + 0.017*\"life\" + 0.015*\"--\" + 0.014*\"two\" + 0.014*\"pictures)\" + 0.012*\"woman\" + 0.012*\"films)\" + 0.011*\"fall\" - Frequency: 899.3969116210938\n",
      "Topic 39: 0.052*\"film\" + 0.023*\"story\" + 0.019*\"life\" + 0.017*\"documentary\" + 0.015*\"one\" + 0.014*\"set\" + 0.013*\"world\" + 0.013*\"art\" + 0.011*\"new\" + 0.011*\"movie\" - Frequency: 817.3213500976562\n",
      "Topic 22: 0.015*\"life\" + 0.015*\"year\" + 0.010*\"young\" + 0.010*\"take\" + 0.009*\"back\" + 0.008*\"set\" + 0.007*\"journey\" + 0.007*\"return\" + 0.007*\"turned\" + 0.007*\"new\" - Frequency: 762.1959228515625\n",
      "Topic 15: 0.013*\"love\" + 0.012*\"young\" + 0.011*\"life\" + 0.011*\"man\" + 0.010*\"meet\" + 0.010*\"begin\" + 0.009*\"one\" + 0.009*\"family\" + 0.008*\"woman\" + 0.008*\"make\" - Frequency: 587.7887573242188\n",
      "Topic 38: 0.015*\"story\" + 0.015*\"world\" + 0.014*\"-\" + 0.012*\"true\" + 0.010*\"war\" + 0.010*\"international\" + 0.009*\"american\" + 0.008*\"life\" + 0.007*\"soldier\" + 0.007*\"one\" - Frequency: 514.2842407226562\n",
      "Topic 3: 0.012*\"one\" + 0.008*\"hope\" + 0.008*\"u.s.\" + 0.007*\"\" + 0.007*\"city\" + 0.006*\"war\" + 0.006*\"battle\" + 0.006*\"unravel\" + 0.006*\"death\" + 0.006*\"-\" - Frequency: 369.9776916503906\n",
      "Topic 34: 0.022*\"game\" + 0.022*\"evil\" + 0.015*\"deadly\" + 0.014*\"force\" + 0.013*\"secret\" + 0.011*\"adventure\" + 0.010*\"must\" + 0.010*\"nick\" + 0.009*\"destroy\" + 0.009*\"find\" - Frequency: 314.4505920410156\n",
      "Topic 18: 0.024*\"films)\" + 0.012*\"horror\" + 0.012*\"story\" + 0.011*\"american\" + 0.010*\"jake\" + 0.009*\"gate\" + 0.009*\"rescue\" + 0.008*\"based\" + 0.008*\"(lions\" + 0.007*\"tale\" - Frequency: 306.4262390136719\n",
      "Topic 17: 0.013*\"man\" + 0.012*\"frank\" + 0.009*\"her,\" + 0.009*\"becomes\" + 0.007*\"sex\" + 0.007*\"wedding\" + 0.006*\"anyone\" + 0.006*\"run\" + 0.006*\"kill\" + 0.006*\"sinister\" - Frequency: 300.40692138671875\n",
      "Topic 43: 0.008*\"jack\" + 0.008*\"right\" + 0.008*\"case\" + 0.007*\"tour\" + 0.007*\"take\" + 0.007*\"show\" + 0.007*\"author\" + 0.007*\"challenge\" + 0.006*\"tony\" + 0.006*\"peaceful\" - Frequency: 256.6268310546875\n",
      "Topic 40: 0.018*\"releasing)\" + 0.011*\"german\" + 0.010*\"jewish\" + 0.009*\"consequence\" + 0.008*\"(strand\" + 0.008*\"religious\" + 0.008*\"nazi\" + 0.007*\"chinese\" + 0.007*\"box\" + 0.007*\"war\" - Frequency: 247.2582244873047\n",
      "Topic 45: 0.053*\"school\" + 0.042*\"student\" + 0.041*\"high\" + 0.037*\"college\" + 0.027*\"team\" + 0.012*\"teacher\" + 0.011*\"sarah\" + 0.010*\"football\" + 0.009*\"professor\" + 0.009*\"winning\" - Frequency: 220.2598876953125\n",
      "Topic 1: 0.046*\"town\" + 0.038*\"killer\" + 0.038*\"murder\" + 0.034*\"detective\" + 0.033*\"police\" + 0.031*\"small\" + 0.019*\"serial\" + 0.019*\"crime\" + 0.017*\"thriller\" + 0.013*\"supernatural\" - Frequency: 216.15525817871094\n",
      "Topic 37: 0.010*\"hotel\" + 0.010*\"apartment\" + 0.010*\"wife,\" + 0.009*\"terror\" + 0.008*\"stumble\" + 0.008*\"ghost\" + 0.007*\"alive.\" + 0.007*\"safe\" + 0.007*\"bachelor\" + 0.006*\"latest\" - Frequency: 210.4988250732422\n",
      "Topic 8: 0.030*\"line\" + 0.021*\"\" + 0.017*\"cinema)\" + 0.016*\"(new\" + 0.013*\"fashion\" + 0.012*\"short\" + 0.012*\"teenager\" + 0.009*\"nightmare\" + 0.009*\"popular\" + 0.009*\"time\" - Frequency: 199.1105194091797\n",
      "Topic 50: 0.012*\"assassin\" + 0.012*\"de\" + 0.012*\"hollywood\" + 0.009*\"that's\" + 0.009*\"harry\" + 0.009*\"lucy\" + 0.008*\"audience\" + 0.008*\"give\" + 0.008*\"food\" + 0.008*\"tradition\" - Frequency: 190.04148864746094\n",
      "Topic 41: 0.019*\"alien\" + 0.016*\"scientist\" + 0.011*\"human\" + 0.010*\"hero\" + 0.010*\"joe\" + 0.009*\"prove\" + 0.009*\"investigate\" + 0.009*\"best-selling\" + 0.009*\"van\" + 0.008*\"marine\" - Frequency: 181.19021606445312\n",
      "Topic 27: 0.023*\"must\" + 0.022*\"order\" + 0.016*\"king\" + 0.015*\"team\" + 0.014*\"battle\" + 0.011*\"special\" + 0.011*\"save\" + 0.011*\"japanese\" + 0.010*\"involving\" + 0.009*\"mission\" - Frequency: 174.0812530517578\n",
      "Topic 48: 0.040*\"music\" + 0.028*\"rock\" + 0.025*\"band\" + 0.024*\"intimate\" + 0.016*\"legendary\" + 0.014*\"ben\" + 0.014*\"fame\" + 0.012*\"creative\" + 0.011*\"punk\" + 0.011*\"rise\" - Frequency: 167.9039306640625\n",
      "Topic 9: 0.031*\"prison\" + 0.024*\"la\" + 0.022*\"wrong\" + 0.019*\"henry\" + 0.019*\"corrupt\" + 0.018*\"texas\" + 0.017*\"camp\" + 0.013*\"vega\" + 0.010*\"beach\" + 0.009*\"hunting\" - Frequency: 145.2528533935547\n",
      "Topic 11: 0.100*\"comedy\" + 0.035*\"romantic\" + 0.013*\"stuck\" + 0.012*\"elizabeth\" + 0.011*\"funny\" + 0.010*\"brian\" + 0.010*\"(fox\" + 0.010*\"producer\" + 0.010*\"roll\" + 0.010*\"investigates\" - Frequency: 143.7808380126953\n",
      "Topic 24: 0.020*\"adam\" + 0.015*\"vampire\" + 0.011*\"stranded\" + 0.010*\"johnny\" + 0.009*\"desert\" + 0.008*\"survive.\" + 0.008*\"foot\" + 0.007*\"(roadside\" + 0.007*\"attractions)\" + 0.007*\"treasure\" - Frequency: 136.39291381835938\n",
      "Topic 21: 0.055*\"(sony\" + 0.044*\"entertainment)\" + 0.044*\"picture\" + 0.027*\"classics)\" + 0.015*\"house.\" + 0.012*\"colorful\" + 0.010*\"novel\" + 0.010*\"[sony\" + 0.008*\"bob\" + 0.008*\"gun\" - Frequency: 125.13025665283203\n",
      "Topic 44: 0.063*\"(warner\" + 0.045*\"bros.)\" + 0.026*\"paul\" + 0.011*\"jane\" + 0.010*\"embark\" + 0.009*\"message\" + 0.008*\"intent\" + 0.008*\"sea\" + 0.008*\"planet.\" + 0.008*\"race\" - Frequency: 123.02670288085938\n",
      "Topic 6: 0.018*\"richard\" + 0.017*\"legend\" + 0.015*\"space\" + 0.014*\"planet\" + 0.013*\"uncovers\" + 0.011*\"crazy\" + 0.011*\"system\" + 0.011*\"thomas\" + 0.010*\"events,\" + 0.010*\"globe\" - Frequency: 121.56922149658203\n",
      "Topic 19: 0.013*\"tommy\" + 0.012*\"san\" + 0.012*\"car\" + 0.012*\"newly\" + 0.011*\"gold\" + 0.010*\"attorney\" + 0.009*\"idea\" + 0.009*\"frightening\" + 0.008*\"son's\" + 0.008*\"plot\" - Frequency: 119.79873657226562\n",
      "Topic 33: 0.016*\"danny\" + 0.014*\"manhattan\" + 0.012*\"larry\" + 0.010*\"soviet\" + 0.009*\"consequences.\" + 0.009*\"starring\" + 0.007*\"roommate\" + 0.007*\"(thinkfilm)\" + 0.007*\"roman\" + 0.007*\"throw\" - Frequency: 117.11650085449219\n",
      "Topic 23: 0.031*\"bank\" + 0.016*\"man.\" + 0.013*\"hot\" + 0.012*\"involved\" + 0.012*\"business.\" + 0.011*\"combat\" + 0.011*\"dead,\" + 0.010*\"crisis\" + 0.009*\"joseph\" + 0.009*\"obsessed\" - Frequency: 115.13749694824219\n",
      "Topic 7: 0.017*\"mike\" + 0.012*\"jimmy\" + 0.009*\"month\" + 0.009*\"letter\" + 0.009*\"compelling\" + 0.008*\"flee\" + 0.008*\"lethal\" + 0.008*\"unwittingly\" + 0.008*\"six\" + 0.008*\"identity,\" - Frequency: 114.65328979492188\n",
      "Topic 26: 0.081*\"century\" + 0.043*\"fox)\" + 0.037*\"(20th\" + 0.017*\"big\" + 0.017*\"hunter\" + 0.016*\"screen\" + 0.013*\"jonathan\" + 0.010*\"super\" + 0.010*\"\"the\" + 0.009*\"ultimate\" - Frequency: 114.4678955078125\n",
      "Topic 25: 0.021*\"dr.\" + 0.019*\"kate\" + 0.014*\"john\" + 0.013*\"evidence\" + 0.011*\"jim\" + 0.011*\"eddie\" + 0.011*\"spin\" + 0.010*\"disappearance\" + 0.009*\"novel,\" + 0.008*\"common\" - Frequency: 111.49835205078125\n",
      "Topic 36: 0.017*\"fire\" + 0.015*\"mary\" + 0.015*\"monster\" + 0.012*\"island\" + 0.011*\"wall\" + 0.011*\"for.\" + 0.009*\"girl.\" + 0.009*\"community\" + 0.008*\"provides\" + 0.008*\"rare\" - Frequency: 110.13587188720703\n",
      "Topic 14: 0.020*\"george\" + 0.019*\"(first\" + 0.016*\"miss\" + 0.014*\"run\" + 0.012*\"features)\" + 0.011*\"laura\" + 0.011*\"look\" + 0.010*\"steal\" + 0.010*\"whos\" + 0.010*\"jerry\" - Frequency: 108.54705810546875\n",
      "Topic 29: 0.028*\"fbi\" + 0.015*\"agent\" + 0.013*\"gay\" + 0.011*\"simon\" + 0.011*\"grant\" + 0.010*\"--\" + 0.009*\"(film\" + 0.008*\"maria\" + 0.008*\"state\" + 0.008*\"johnson\" - Frequency: 108.48231506347656\n",
      "Topic 30: 0.020*\"alex\" + 0.018*\"gang\" + 0.017*\"max\" + 0.014*\"california\" + 0.011*\"threatening\" + 0.011*\"vow\" + 0.010*\"(paramount)\" + 0.010*\"adopted\" + 0.010*\"unleash\" + 0.009*\"secrets.\" - Frequency: 100.50697326660156\n",
      "Topic 31: 0.053*\"los\" + 0.032*\"angeles\" + 0.013*\"france\" + 0.011*\"collide\" + 0.011*\"women.\" + 0.010*\"rebel\" + 0.009*\"dancer\" + 0.009*\"searching\" + 0.009*\"initially\" + 0.009*\"model\" - Frequency: 95.05252838134766\n",
      "Topic 49: 0.027*\"charlie\" + 0.015*\"honor\" + 0.015*\"reunite\" + 0.014*\"kid\" + 0.012*\"house,\" + 0.010*\"taylor\" + 0.010*\"mansion\" + 0.009*\"survival.\" + 0.009*\"eric\" + 0.008*\"online\" - Frequency: 92.95960998535156\n",
      "Topic 10: 0.031*\"sam\" + 0.018*\"enters\" + 0.014*\"actress\" + 0.013*\"rachel\" + 0.012*\"london,\" + 0.010*\"clue\" + 0.010*\"suspicious\" + 0.010*\"divorced\" + 0.009*\"anger\" + 0.008*\"ranger\" - Frequency: 88.00580596923828\n",
      "Topic 2: 0.022*\"tom\" + 0.020*\"daughter.\" + 0.019*\"revenge\" + 0.016*\"dating\" + 0.015*\"surviving\" + 0.013*\"competition\" + 0.012*\"seek\" + 0.011*\"dreams,\" + 0.010*\"paid\" + 0.010*\"agency\" - Frequency: 87.96090698242188\n",
      "Topic 47: 0.022*\"twisted\" + 0.021*\"father's\" + 0.015*\"strike\" + 0.015*\"rose\" + 0.014*\"david\" + 0.013*\"celebrity\" + 0.012*\"tragedy\" + 0.010*\"dog\" + 0.009*\"unleashed\" + 0.008*\"sharon\" - Frequency: 87.56185913085938\n",
      "Topic 16: 0.031*\"mr.\" + 0.026*\"holiday\" + 0.020*\"bill\" + 0.014*\"escaped\" + 0.012*\"idyllic\" + 0.012*\"green\" + 0.012*\"william\" + 0.012*\"scott\" + 0.010*\"mrs.\" + 0.010*\"superhero\" - Frequency: 84.1312255859375\n",
      "Topic 4: 0.041*\"christmas\" + 0.030*\"(the\" + 0.024*\"hired\" + 0.020*\"company)\" + 0.019*\"weinstein\" + 0.014*\"widowed\" + 0.012*\"internet\" + 0.011*\"native\" + 0.011*\"eve\" + 0.011*\"remake\" - Frequency: 78.89514923095703\n",
      "Topic 42: 0.022*\"alice\" + 0.019*\"psychological\" + 0.018*\"club\" + 0.014*\"tim\" + 0.013*\"dinner\" + 0.012*\"federal\" + 0.012*\"horrific\" + 0.012*\"profound\" + 0.010*\"club,\" + 0.010*\"focusing\" - Frequency: 77.75269317626953\n",
      "Topic 28: 0.017*\"helping\" + 0.015*\"responsible\" + 0.014*\"growing\" + 0.013*\"pal\" + 0.012*\"bridge\" + 0.011*\"kidnapping\" + 0.010*\"entertainment\" + 0.010*\"regain\" + 0.009*\"phenomenon\" + 0.009*\"beth\" - Frequency: 73.20902252197266\n",
      "Topic 13: 0.033*\"undercover\" + 0.024*\"version\" + 0.016*\"relationship.\" + 0.013*\"arm\" + 0.013*\"horse\" + 0.013*\"client\" + 0.013*\"getting\" + 0.012*\"promising\" + 0.011*\"jungle\" + 0.010*\"highly\" - Frequency: 63.868629455566406\n",
      "Topic 12: 0.020*\"outrageous\" + 0.018*\"radio\" + 0.013*\"america's\" + 0.013*\"painting\" + 0.011*\"dollar\" + 0.010*\"straight\" + 0.009*\"spell\" + 0.009*\"wendy\" + 0.008*\"unhappy\" + 0.008*\"forcing\" - Frequency: 63.822261810302734\n",
      "Topic 20: 0.027*\"jason\" + 0.020*\"hometown\" + 0.016*\"dying\" + 0.014*\"favorite\" + 0.013*\"brothers)\" + 0.013*\"brothers,\" + 0.010*\"robot\" + 0.010*\"will,\" + 0.008*\"(martin\" + 0.008*\"18th\" - Frequency: 56.23139953613281\n",
      "Topic 32: 0.020*\"pick\" + 0.018*\"starting\" + 0.018*\"away.\" + 0.015*\"moon\" + 0.013*\"homeless\" + 0.013*\"(nicolas\" + 0.013*\"cure\" + 0.013*\"prostitute\" + 0.012*\"status\" + 0.011*\"orleans\" - Frequency: 41.492130279541016\n"
     ]
    }
   ],
   "source": [
    "import gensim\n",
    "from gensim import corpora\n",
    "from gensim.models import LdaModel\n",
    "\n",
    "# Step 1: Define the function to apply LDA and display topics in descending order of frequency\n",
    "def apply_lda_and_display_topics(data, num_topics_list, dataset_name=\"Dataset\"):\n",
    "    # Tokenize the cleaned text\n",
    "    texts = [text.split() for text in data['cleaned_text']]\n",
    "\n",
    "    # Create a dictionary and corpus for the dataset\n",
    "    dictionary = corpora.Dictionary(texts)\n",
    "    corpus = [dictionary.doc2bow(text) for text in texts]\n",
    "\n",
    "    # Loop through each value of N (number of topics)\n",
    "    for num_topics in num_topics_list:\n",
    "        lda_model = LdaModel(corpus, num_topics=num_topics, id2word=dictionary, passes=15)\n",
    "        \n",
    "        print(f\"\\nTopics for {dataset_name} (N={num_topics}):\")\n",
    "        \n",
    "        # Get the topics sorted by frequency (descending order)\n",
    "        topic_list = lda_model.print_topics(num_words=5)\n",
    "        \n",
    "        # Calculate frequency of each topic\n",
    "        topic_frequency = {}\n",
    "        for doc in corpus:\n",
    "            topics = lda_model.get_document_topics(doc)\n",
    "            for topic_id, topic_prob in topics:\n",
    "                if topic_id not in topic_frequency:\n",
    "                    topic_frequency[topic_id] = topic_prob\n",
    "                else:\n",
    "                    topic_frequency[topic_id] += topic_prob\n",
    "\n",
    "        # Sort topics by frequency in descending order\n",
    "        sorted_topic_frequency = sorted(topic_frequency.items(), key=lambda x: x[1], reverse=True)\n",
    "        \n",
    "        # Display the sorted topics in descending order of frequency\n",
    "        for topic_id, freq in sorted_topic_frequency:\n",
    "            print(f\"Topic {topic_id+1}: {lda_model.print_topic(topic_id)} - Frequency: {freq}\")\n",
    "\n",
    "# Step 2: Apply LDA to both datasets\n",
    "num_topics_list = [5, 10, 20, 50]\n",
    "\n",
    "# Apply LDA and display topics for the first dataset\n",
    "apply_lda_and_display_topics(data, num_topics_list, dataset_name=\"Dataset 1\")\n",
    "\n",
    "# Apply LDA and display topics for the second dataset\n",
    "apply_lda_and_display_topics(data2, num_topics_list, dataset_name=\"Dataset 2\")\n"
   ]
  },
  {
   "cell_type": "code",
   "execution_count": 7,
   "id": "5c53995c",
   "metadata": {},
   "outputs": [
    {
     "data": {
      "text/html": [
       "        <script type=\"text/javascript\">\n",
       "        window.PlotlyConfig = {MathJaxConfig: 'local'};\n",
       "        if (window.MathJax && window.MathJax.Hub && window.MathJax.Hub.Config) {window.MathJax.Hub.Config({SVG: {font: \"STIX-Web\"}});}\n",
       "        if (typeof require !== 'undefined') {\n",
       "        require.undef(\"plotly\");\n",
       "        requirejs.config({\n",
       "            paths: {\n",
       "                'plotly': ['https://cdn.plot.ly/plotly-2.12.1.min']\n",
       "            }\n",
       "        });\n",
       "        require(['plotly'], function(Plotly) {\n",
       "            window._Plotly = Plotly;\n",
       "        });\n",
       "        }\n",
       "        </script>\n",
       "        "
      ]
     },
     "metadata": {},
     "output_type": "display_data"
    },
    {
     "data": {
      "application/vnd.plotly.v1+json": {
       "config": {
        "plotlyServerURL": "https://plot.ly"
       },
       "data": [
        {
         "domain": {
          "x": [
           0,
           1
          ],
          "y": [
           0,
           1
          ]
         },
         "hole": 0.3,
         "hovertemplate": "label=%{label}<br>value=%{value}<extra></extra>",
         "labels": [
          "Topic 1",
          "Topic 2",
          "Topic 3",
          "Topic 4",
          "Topic 5"
         ],
         "legendgroup": "",
         "name": "",
         "showlegend": true,
         "type": "pie",
         "values": [
          818.1685125892982,
          554.8758134245872,
          1496.9870217340067,
          854.6189381312579,
          864.3002880159765
         ]
        }
       ],
       "layout": {
        "legend": {
         "tracegroupgap": 0
        },
        "template": {
         "data": {
          "bar": [
           {
            "error_x": {
             "color": "#2a3f5f"
            },
            "error_y": {
             "color": "#2a3f5f"
            },
            "marker": {
             "line": {
              "color": "#E5ECF6",
              "width": 0.5
             },
             "pattern": {
              "fillmode": "overlay",
              "size": 10,
              "solidity": 0.2
             }
            },
            "type": "bar"
           }
          ],
          "barpolar": [
           {
            "marker": {
             "line": {
              "color": "#E5ECF6",
              "width": 0.5
             },
             "pattern": {
              "fillmode": "overlay",
              "size": 10,
              "solidity": 0.2
             }
            },
            "type": "barpolar"
           }
          ],
          "carpet": [
           {
            "aaxis": {
             "endlinecolor": "#2a3f5f",
             "gridcolor": "white",
             "linecolor": "white",
             "minorgridcolor": "white",
             "startlinecolor": "#2a3f5f"
            },
            "baxis": {
             "endlinecolor": "#2a3f5f",
             "gridcolor": "white",
             "linecolor": "white",
             "minorgridcolor": "white",
             "startlinecolor": "#2a3f5f"
            },
            "type": "carpet"
           }
          ],
          "choropleth": [
           {
            "colorbar": {
             "outlinewidth": 0,
             "ticks": ""
            },
            "type": "choropleth"
           }
          ],
          "contour": [
           {
            "colorbar": {
             "outlinewidth": 0,
             "ticks": ""
            },
            "colorscale": [
             [
              0,
              "#0d0887"
             ],
             [
              0.1111111111111111,
              "#46039f"
             ],
             [
              0.2222222222222222,
              "#7201a8"
             ],
             [
              0.3333333333333333,
              "#9c179e"
             ],
             [
              0.4444444444444444,
              "#bd3786"
             ],
             [
              0.5555555555555556,
              "#d8576b"
             ],
             [
              0.6666666666666666,
              "#ed7953"
             ],
             [
              0.7777777777777778,
              "#fb9f3a"
             ],
             [
              0.8888888888888888,
              "#fdca26"
             ],
             [
              1,
              "#f0f921"
             ]
            ],
            "type": "contour"
           }
          ],
          "contourcarpet": [
           {
            "colorbar": {
             "outlinewidth": 0,
             "ticks": ""
            },
            "type": "contourcarpet"
           }
          ],
          "heatmap": [
           {
            "colorbar": {
             "outlinewidth": 0,
             "ticks": ""
            },
            "colorscale": [
             [
              0,
              "#0d0887"
             ],
             [
              0.1111111111111111,
              "#46039f"
             ],
             [
              0.2222222222222222,
              "#7201a8"
             ],
             [
              0.3333333333333333,
              "#9c179e"
             ],
             [
              0.4444444444444444,
              "#bd3786"
             ],
             [
              0.5555555555555556,
              "#d8576b"
             ],
             [
              0.6666666666666666,
              "#ed7953"
             ],
             [
              0.7777777777777778,
              "#fb9f3a"
             ],
             [
              0.8888888888888888,
              "#fdca26"
             ],
             [
              1,
              "#f0f921"
             ]
            ],
            "type": "heatmap"
           }
          ],
          "heatmapgl": [
           {
            "colorbar": {
             "outlinewidth": 0,
             "ticks": ""
            },
            "colorscale": [
             [
              0,
              "#0d0887"
             ],
             [
              0.1111111111111111,
              "#46039f"
             ],
             [
              0.2222222222222222,
              "#7201a8"
             ],
             [
              0.3333333333333333,
              "#9c179e"
             ],
             [
              0.4444444444444444,
              "#bd3786"
             ],
             [
              0.5555555555555556,
              "#d8576b"
             ],
             [
              0.6666666666666666,
              "#ed7953"
             ],
             [
              0.7777777777777778,
              "#fb9f3a"
             ],
             [
              0.8888888888888888,
              "#fdca26"
             ],
             [
              1,
              "#f0f921"
             ]
            ],
            "type": "heatmapgl"
           }
          ],
          "histogram": [
           {
            "marker": {
             "pattern": {
              "fillmode": "overlay",
              "size": 10,
              "solidity": 0.2
             }
            },
            "type": "histogram"
           }
          ],
          "histogram2d": [
           {
            "colorbar": {
             "outlinewidth": 0,
             "ticks": ""
            },
            "colorscale": [
             [
              0,
              "#0d0887"
             ],
             [
              0.1111111111111111,
              "#46039f"
             ],
             [
              0.2222222222222222,
              "#7201a8"
             ],
             [
              0.3333333333333333,
              "#9c179e"
             ],
             [
              0.4444444444444444,
              "#bd3786"
             ],
             [
              0.5555555555555556,
              "#d8576b"
             ],
             [
              0.6666666666666666,
              "#ed7953"
             ],
             [
              0.7777777777777778,
              "#fb9f3a"
             ],
             [
              0.8888888888888888,
              "#fdca26"
             ],
             [
              1,
              "#f0f921"
             ]
            ],
            "type": "histogram2d"
           }
          ],
          "histogram2dcontour": [
           {
            "colorbar": {
             "outlinewidth": 0,
             "ticks": ""
            },
            "colorscale": [
             [
              0,
              "#0d0887"
             ],
             [
              0.1111111111111111,
              "#46039f"
             ],
             [
              0.2222222222222222,
              "#7201a8"
             ],
             [
              0.3333333333333333,
              "#9c179e"
             ],
             [
              0.4444444444444444,
              "#bd3786"
             ],
             [
              0.5555555555555556,
              "#d8576b"
             ],
             [
              0.6666666666666666,
              "#ed7953"
             ],
             [
              0.7777777777777778,
              "#fb9f3a"
             ],
             [
              0.8888888888888888,
              "#fdca26"
             ],
             [
              1,
              "#f0f921"
             ]
            ],
            "type": "histogram2dcontour"
           }
          ],
          "mesh3d": [
           {
            "colorbar": {
             "outlinewidth": 0,
             "ticks": ""
            },
            "type": "mesh3d"
           }
          ],
          "parcoords": [
           {
            "line": {
             "colorbar": {
              "outlinewidth": 0,
              "ticks": ""
             }
            },
            "type": "parcoords"
           }
          ],
          "pie": [
           {
            "automargin": true,
            "type": "pie"
           }
          ],
          "scatter": [
           {
            "fillpattern": {
             "fillmode": "overlay",
             "size": 10,
             "solidity": 0.2
            },
            "type": "scatter"
           }
          ],
          "scatter3d": [
           {
            "line": {
             "colorbar": {
              "outlinewidth": 0,
              "ticks": ""
             }
            },
            "marker": {
             "colorbar": {
              "outlinewidth": 0,
              "ticks": ""
             }
            },
            "type": "scatter3d"
           }
          ],
          "scattercarpet": [
           {
            "marker": {
             "colorbar": {
              "outlinewidth": 0,
              "ticks": ""
             }
            },
            "type": "scattercarpet"
           }
          ],
          "scattergeo": [
           {
            "marker": {
             "colorbar": {
              "outlinewidth": 0,
              "ticks": ""
             }
            },
            "type": "scattergeo"
           }
          ],
          "scattergl": [
           {
            "marker": {
             "colorbar": {
              "outlinewidth": 0,
              "ticks": ""
             }
            },
            "type": "scattergl"
           }
          ],
          "scattermapbox": [
           {
            "marker": {
             "colorbar": {
              "outlinewidth": 0,
              "ticks": ""
             }
            },
            "type": "scattermapbox"
           }
          ],
          "scatterpolar": [
           {
            "marker": {
             "colorbar": {
              "outlinewidth": 0,
              "ticks": ""
             }
            },
            "type": "scatterpolar"
           }
          ],
          "scatterpolargl": [
           {
            "marker": {
             "colorbar": {
              "outlinewidth": 0,
              "ticks": ""
             }
            },
            "type": "scatterpolargl"
           }
          ],
          "scatterternary": [
           {
            "marker": {
             "colorbar": {
              "outlinewidth": 0,
              "ticks": ""
             }
            },
            "type": "scatterternary"
           }
          ],
          "surface": [
           {
            "colorbar": {
             "outlinewidth": 0,
             "ticks": ""
            },
            "colorscale": [
             [
              0,
              "#0d0887"
             ],
             [
              0.1111111111111111,
              "#46039f"
             ],
             [
              0.2222222222222222,
              "#7201a8"
             ],
             [
              0.3333333333333333,
              "#9c179e"
             ],
             [
              0.4444444444444444,
              "#bd3786"
             ],
             [
              0.5555555555555556,
              "#d8576b"
             ],
             [
              0.6666666666666666,
              "#ed7953"
             ],
             [
              0.7777777777777778,
              "#fb9f3a"
             ],
             [
              0.8888888888888888,
              "#fdca26"
             ],
             [
              1,
              "#f0f921"
             ]
            ],
            "type": "surface"
           }
          ],
          "table": [
           {
            "cells": {
             "fill": {
              "color": "#EBF0F8"
             },
             "line": {
              "color": "white"
             }
            },
            "header": {
             "fill": {
              "color": "#C8D4E3"
             },
             "line": {
              "color": "white"
             }
            },
            "type": "table"
           }
          ]
         },
         "layout": {
          "annotationdefaults": {
           "arrowcolor": "#2a3f5f",
           "arrowhead": 0,
           "arrowwidth": 1
          },
          "autotypenumbers": "strict",
          "coloraxis": {
           "colorbar": {
            "outlinewidth": 0,
            "ticks": ""
           }
          },
          "colorscale": {
           "diverging": [
            [
             0,
             "#8e0152"
            ],
            [
             0.1,
             "#c51b7d"
            ],
            [
             0.2,
             "#de77ae"
            ],
            [
             0.3,
             "#f1b6da"
            ],
            [
             0.4,
             "#fde0ef"
            ],
            [
             0.5,
             "#f7f7f7"
            ],
            [
             0.6,
             "#e6f5d0"
            ],
            [
             0.7,
             "#b8e186"
            ],
            [
             0.8,
             "#7fbc41"
            ],
            [
             0.9,
             "#4d9221"
            ],
            [
             1,
             "#276419"
            ]
           ],
           "sequential": [
            [
             0,
             "#0d0887"
            ],
            [
             0.1111111111111111,
             "#46039f"
            ],
            [
             0.2222222222222222,
             "#7201a8"
            ],
            [
             0.3333333333333333,
             "#9c179e"
            ],
            [
             0.4444444444444444,
             "#bd3786"
            ],
            [
             0.5555555555555556,
             "#d8576b"
            ],
            [
             0.6666666666666666,
             "#ed7953"
            ],
            [
             0.7777777777777778,
             "#fb9f3a"
            ],
            [
             0.8888888888888888,
             "#fdca26"
            ],
            [
             1,
             "#f0f921"
            ]
           ],
           "sequentialminus": [
            [
             0,
             "#0d0887"
            ],
            [
             0.1111111111111111,
             "#46039f"
            ],
            [
             0.2222222222222222,
             "#7201a8"
            ],
            [
             0.3333333333333333,
             "#9c179e"
            ],
            [
             0.4444444444444444,
             "#bd3786"
            ],
            [
             0.5555555555555556,
             "#d8576b"
            ],
            [
             0.6666666666666666,
             "#ed7953"
            ],
            [
             0.7777777777777778,
             "#fb9f3a"
            ],
            [
             0.8888888888888888,
             "#fdca26"
            ],
            [
             1,
             "#f0f921"
            ]
           ]
          },
          "colorway": [
           "#636efa",
           "#EF553B",
           "#00cc96",
           "#ab63fa",
           "#FFA15A",
           "#19d3f3",
           "#FF6692",
           "#B6E880",
           "#FF97FF",
           "#FECB52"
          ],
          "font": {
           "color": "#2a3f5f"
          },
          "geo": {
           "bgcolor": "white",
           "lakecolor": "white",
           "landcolor": "#E5ECF6",
           "showlakes": true,
           "showland": true,
           "subunitcolor": "white"
          },
          "hoverlabel": {
           "align": "left"
          },
          "hovermode": "closest",
          "mapbox": {
           "style": "light"
          },
          "paper_bgcolor": "white",
          "plot_bgcolor": "#E5ECF6",
          "polar": {
           "angularaxis": {
            "gridcolor": "white",
            "linecolor": "white",
            "ticks": ""
           },
           "bgcolor": "#E5ECF6",
           "radialaxis": {
            "gridcolor": "white",
            "linecolor": "white",
            "ticks": ""
           }
          },
          "scene": {
           "xaxis": {
            "backgroundcolor": "#E5ECF6",
            "gridcolor": "white",
            "gridwidth": 2,
            "linecolor": "white",
            "showbackground": true,
            "ticks": "",
            "zerolinecolor": "white"
           },
           "yaxis": {
            "backgroundcolor": "#E5ECF6",
            "gridcolor": "white",
            "gridwidth": 2,
            "linecolor": "white",
            "showbackground": true,
            "ticks": "",
            "zerolinecolor": "white"
           },
           "zaxis": {
            "backgroundcolor": "#E5ECF6",
            "gridcolor": "white",
            "gridwidth": 2,
            "linecolor": "white",
            "showbackground": true,
            "ticks": "",
            "zerolinecolor": "white"
           }
          },
          "shapedefaults": {
           "line": {
            "color": "#2a3f5f"
           }
          },
          "ternary": {
           "aaxis": {
            "gridcolor": "white",
            "linecolor": "white",
            "ticks": ""
           },
           "baxis": {
            "gridcolor": "white",
            "linecolor": "white",
            "ticks": ""
           },
           "bgcolor": "#E5ECF6",
           "caxis": {
            "gridcolor": "white",
            "linecolor": "white",
            "ticks": ""
           }
          },
          "title": {
           "x": 0.05
          },
          "xaxis": {
           "automargin": true,
           "gridcolor": "white",
           "linecolor": "white",
           "ticks": "",
           "title": {
            "standoff": 15
           },
           "zerolinecolor": "white",
           "zerolinewidth": 2
          },
          "yaxis": {
           "automargin": true,
           "gridcolor": "white",
           "linecolor": "white",
           "ticks": "",
           "title": {
            "standoff": 15
           },
           "zerolinecolor": "white",
           "zerolinewidth": 2
          }
         }
        },
        "title": {
         "text": "Topic Distribution in Dataset 1 (N=5)"
        }
       }
      },
      "text/html": [
       "<div>                            <div id=\"7c3f5afd-7035-41ba-bd0d-860208028985\" class=\"plotly-graph-div\" style=\"height:525px; width:100%;\"></div>            <script type=\"text/javascript\">                require([\"plotly\"], function(Plotly) {                    window.PLOTLYENV=window.PLOTLYENV || {};                                    if (document.getElementById(\"7c3f5afd-7035-41ba-bd0d-860208028985\")) {                    Plotly.newPlot(                        \"7c3f5afd-7035-41ba-bd0d-860208028985\",                        [{\"domain\":{\"x\":[0.0,1.0],\"y\":[0.0,1.0]},\"hole\":0.3,\"hovertemplate\":\"label=%{label}<br>value=%{value}<extra></extra>\",\"labels\":[\"Topic 1\",\"Topic 2\",\"Topic 3\",\"Topic 4\",\"Topic 5\"],\"legendgroup\":\"\",\"name\":\"\",\"showlegend\":true,\"values\":[818.1685125892982,554.8758134245872,1496.9870217340067,854.6189381312579,864.3002880159765],\"type\":\"pie\"}],                        {\"template\":{\"data\":{\"histogram2dcontour\":[{\"type\":\"histogram2dcontour\",\"colorbar\":{\"outlinewidth\":0,\"ticks\":\"\"},\"colorscale\":[[0.0,\"#0d0887\"],[0.1111111111111111,\"#46039f\"],[0.2222222222222222,\"#7201a8\"],[0.3333333333333333,\"#9c179e\"],[0.4444444444444444,\"#bd3786\"],[0.5555555555555556,\"#d8576b\"],[0.6666666666666666,\"#ed7953\"],[0.7777777777777778,\"#fb9f3a\"],[0.8888888888888888,\"#fdca26\"],[1.0,\"#f0f921\"]]}],\"choropleth\":[{\"type\":\"choropleth\",\"colorbar\":{\"outlinewidth\":0,\"ticks\":\"\"}}],\"histogram2d\":[{\"type\":\"histogram2d\",\"colorbar\":{\"outlinewidth\":0,\"ticks\":\"\"},\"colorscale\":[[0.0,\"#0d0887\"],[0.1111111111111111,\"#46039f\"],[0.2222222222222222,\"#7201a8\"],[0.3333333333333333,\"#9c179e\"],[0.4444444444444444,\"#bd3786\"],[0.5555555555555556,\"#d8576b\"],[0.6666666666666666,\"#ed7953\"],[0.7777777777777778,\"#fb9f3a\"],[0.8888888888888888,\"#fdca26\"],[1.0,\"#f0f921\"]]}],\"heatmap\":[{\"type\":\"heatmap\",\"colorbar\":{\"outlinewidth\":0,\"ticks\":\"\"},\"colorscale\":[[0.0,\"#0d0887\"],[0.1111111111111111,\"#46039f\"],[0.2222222222222222,\"#7201a8\"],[0.3333333333333333,\"#9c179e\"],[0.4444444444444444,\"#bd3786\"],[0.5555555555555556,\"#d8576b\"],[0.6666666666666666,\"#ed7953\"],[0.7777777777777778,\"#fb9f3a\"],[0.8888888888888888,\"#fdca26\"],[1.0,\"#f0f921\"]]}],\"heatmapgl\":[{\"type\":\"heatmapgl\",\"colorbar\":{\"outlinewidth\":0,\"ticks\":\"\"},\"colorscale\":[[0.0,\"#0d0887\"],[0.1111111111111111,\"#46039f\"],[0.2222222222222222,\"#7201a8\"],[0.3333333333333333,\"#9c179e\"],[0.4444444444444444,\"#bd3786\"],[0.5555555555555556,\"#d8576b\"],[0.6666666666666666,\"#ed7953\"],[0.7777777777777778,\"#fb9f3a\"],[0.8888888888888888,\"#fdca26\"],[1.0,\"#f0f921\"]]}],\"contourcarpet\":[{\"type\":\"contourcarpet\",\"colorbar\":{\"outlinewidth\":0,\"ticks\":\"\"}}],\"contour\":[{\"type\":\"contour\",\"colorbar\":{\"outlinewidth\":0,\"ticks\":\"\"},\"colorscale\":[[0.0,\"#0d0887\"],[0.1111111111111111,\"#46039f\"],[0.2222222222222222,\"#7201a8\"],[0.3333333333333333,\"#9c179e\"],[0.4444444444444444,\"#bd3786\"],[0.5555555555555556,\"#d8576b\"],[0.6666666666666666,\"#ed7953\"],[0.7777777777777778,\"#fb9f3a\"],[0.8888888888888888,\"#fdca26\"],[1.0,\"#f0f921\"]]}],\"surface\":[{\"type\":\"surface\",\"colorbar\":{\"outlinewidth\":0,\"ticks\":\"\"},\"colorscale\":[[0.0,\"#0d0887\"],[0.1111111111111111,\"#46039f\"],[0.2222222222222222,\"#7201a8\"],[0.3333333333333333,\"#9c179e\"],[0.4444444444444444,\"#bd3786\"],[0.5555555555555556,\"#d8576b\"],[0.6666666666666666,\"#ed7953\"],[0.7777777777777778,\"#fb9f3a\"],[0.8888888888888888,\"#fdca26\"],[1.0,\"#f0f921\"]]}],\"mesh3d\":[{\"type\":\"mesh3d\",\"colorbar\":{\"outlinewidth\":0,\"ticks\":\"\"}}],\"scatter\":[{\"fillpattern\":{\"fillmode\":\"overlay\",\"size\":10,\"solidity\":0.2},\"type\":\"scatter\"}],\"parcoords\":[{\"type\":\"parcoords\",\"line\":{\"colorbar\":{\"outlinewidth\":0,\"ticks\":\"\"}}}],\"scatterpolargl\":[{\"type\":\"scatterpolargl\",\"marker\":{\"colorbar\":{\"outlinewidth\":0,\"ticks\":\"\"}}}],\"bar\":[{\"error_x\":{\"color\":\"#2a3f5f\"},\"error_y\":{\"color\":\"#2a3f5f\"},\"marker\":{\"line\":{\"color\":\"#E5ECF6\",\"width\":0.5},\"pattern\":{\"fillmode\":\"overlay\",\"size\":10,\"solidity\":0.2}},\"type\":\"bar\"}],\"scattergeo\":[{\"type\":\"scattergeo\",\"marker\":{\"colorbar\":{\"outlinewidth\":0,\"ticks\":\"\"}}}],\"scatterpolar\":[{\"type\":\"scatterpolar\",\"marker\":{\"colorbar\":{\"outlinewidth\":0,\"ticks\":\"\"}}}],\"histogram\":[{\"marker\":{\"pattern\":{\"fillmode\":\"overlay\",\"size\":10,\"solidity\":0.2}},\"type\":\"histogram\"}],\"scattergl\":[{\"type\":\"scattergl\",\"marker\":{\"colorbar\":{\"outlinewidth\":0,\"ticks\":\"\"}}}],\"scatter3d\":[{\"type\":\"scatter3d\",\"line\":{\"colorbar\":{\"outlinewidth\":0,\"ticks\":\"\"}},\"marker\":{\"colorbar\":{\"outlinewidth\":0,\"ticks\":\"\"}}}],\"scattermapbox\":[{\"type\":\"scattermapbox\",\"marker\":{\"colorbar\":{\"outlinewidth\":0,\"ticks\":\"\"}}}],\"scatterternary\":[{\"type\":\"scatterternary\",\"marker\":{\"colorbar\":{\"outlinewidth\":0,\"ticks\":\"\"}}}],\"scattercarpet\":[{\"type\":\"scattercarpet\",\"marker\":{\"colorbar\":{\"outlinewidth\":0,\"ticks\":\"\"}}}],\"carpet\":[{\"aaxis\":{\"endlinecolor\":\"#2a3f5f\",\"gridcolor\":\"white\",\"linecolor\":\"white\",\"minorgridcolor\":\"white\",\"startlinecolor\":\"#2a3f5f\"},\"baxis\":{\"endlinecolor\":\"#2a3f5f\",\"gridcolor\":\"white\",\"linecolor\":\"white\",\"minorgridcolor\":\"white\",\"startlinecolor\":\"#2a3f5f\"},\"type\":\"carpet\"}],\"table\":[{\"cells\":{\"fill\":{\"color\":\"#EBF0F8\"},\"line\":{\"color\":\"white\"}},\"header\":{\"fill\":{\"color\":\"#C8D4E3\"},\"line\":{\"color\":\"white\"}},\"type\":\"table\"}],\"barpolar\":[{\"marker\":{\"line\":{\"color\":\"#E5ECF6\",\"width\":0.5},\"pattern\":{\"fillmode\":\"overlay\",\"size\":10,\"solidity\":0.2}},\"type\":\"barpolar\"}],\"pie\":[{\"automargin\":true,\"type\":\"pie\"}]},\"layout\":{\"autotypenumbers\":\"strict\",\"colorway\":[\"#636efa\",\"#EF553B\",\"#00cc96\",\"#ab63fa\",\"#FFA15A\",\"#19d3f3\",\"#FF6692\",\"#B6E880\",\"#FF97FF\",\"#FECB52\"],\"font\":{\"color\":\"#2a3f5f\"},\"hovermode\":\"closest\",\"hoverlabel\":{\"align\":\"left\"},\"paper_bgcolor\":\"white\",\"plot_bgcolor\":\"#E5ECF6\",\"polar\":{\"bgcolor\":\"#E5ECF6\",\"angularaxis\":{\"gridcolor\":\"white\",\"linecolor\":\"white\",\"ticks\":\"\"},\"radialaxis\":{\"gridcolor\":\"white\",\"linecolor\":\"white\",\"ticks\":\"\"}},\"ternary\":{\"bgcolor\":\"#E5ECF6\",\"aaxis\":{\"gridcolor\":\"white\",\"linecolor\":\"white\",\"ticks\":\"\"},\"baxis\":{\"gridcolor\":\"white\",\"linecolor\":\"white\",\"ticks\":\"\"},\"caxis\":{\"gridcolor\":\"white\",\"linecolor\":\"white\",\"ticks\":\"\"}},\"coloraxis\":{\"colorbar\":{\"outlinewidth\":0,\"ticks\":\"\"}},\"colorscale\":{\"sequential\":[[0.0,\"#0d0887\"],[0.1111111111111111,\"#46039f\"],[0.2222222222222222,\"#7201a8\"],[0.3333333333333333,\"#9c179e\"],[0.4444444444444444,\"#bd3786\"],[0.5555555555555556,\"#d8576b\"],[0.6666666666666666,\"#ed7953\"],[0.7777777777777778,\"#fb9f3a\"],[0.8888888888888888,\"#fdca26\"],[1.0,\"#f0f921\"]],\"sequentialminus\":[[0.0,\"#0d0887\"],[0.1111111111111111,\"#46039f\"],[0.2222222222222222,\"#7201a8\"],[0.3333333333333333,\"#9c179e\"],[0.4444444444444444,\"#bd3786\"],[0.5555555555555556,\"#d8576b\"],[0.6666666666666666,\"#ed7953\"],[0.7777777777777778,\"#fb9f3a\"],[0.8888888888888888,\"#fdca26\"],[1.0,\"#f0f921\"]],\"diverging\":[[0,\"#8e0152\"],[0.1,\"#c51b7d\"],[0.2,\"#de77ae\"],[0.3,\"#f1b6da\"],[0.4,\"#fde0ef\"],[0.5,\"#f7f7f7\"],[0.6,\"#e6f5d0\"],[0.7,\"#b8e186\"],[0.8,\"#7fbc41\"],[0.9,\"#4d9221\"],[1,\"#276419\"]]},\"xaxis\":{\"gridcolor\":\"white\",\"linecolor\":\"white\",\"ticks\":\"\",\"title\":{\"standoff\":15},\"zerolinecolor\":\"white\",\"automargin\":true,\"zerolinewidth\":2},\"yaxis\":{\"gridcolor\":\"white\",\"linecolor\":\"white\",\"ticks\":\"\",\"title\":{\"standoff\":15},\"zerolinecolor\":\"white\",\"automargin\":true,\"zerolinewidth\":2},\"scene\":{\"xaxis\":{\"backgroundcolor\":\"#E5ECF6\",\"gridcolor\":\"white\",\"linecolor\":\"white\",\"showbackground\":true,\"ticks\":\"\",\"zerolinecolor\":\"white\",\"gridwidth\":2},\"yaxis\":{\"backgroundcolor\":\"#E5ECF6\",\"gridcolor\":\"white\",\"linecolor\":\"white\",\"showbackground\":true,\"ticks\":\"\",\"zerolinecolor\":\"white\",\"gridwidth\":2},\"zaxis\":{\"backgroundcolor\":\"#E5ECF6\",\"gridcolor\":\"white\",\"linecolor\":\"white\",\"showbackground\":true,\"ticks\":\"\",\"zerolinecolor\":\"white\",\"gridwidth\":2}},\"shapedefaults\":{\"line\":{\"color\":\"#2a3f5f\"}},\"annotationdefaults\":{\"arrowcolor\":\"#2a3f5f\",\"arrowhead\":0,\"arrowwidth\":1},\"geo\":{\"bgcolor\":\"white\",\"landcolor\":\"#E5ECF6\",\"subunitcolor\":\"white\",\"showland\":true,\"showlakes\":true,\"lakecolor\":\"white\"},\"title\":{\"x\":0.05},\"mapbox\":{\"style\":\"light\"}}},\"legend\":{\"tracegroupgap\":0},\"title\":{\"text\":\"Topic Distribution in Dataset 1 (N=5)\"}},                        {\"responsive\": true}                    ).then(function(){\n",
       "                            \n",
       "var gd = document.getElementById('7c3f5afd-7035-41ba-bd0d-860208028985');\n",
       "var x = new MutationObserver(function (mutations, observer) {{\n",
       "        var display = window.getComputedStyle(gd).display;\n",
       "        if (!display || display === 'none') {{\n",
       "            console.log([gd, 'removed!']);\n",
       "            Plotly.purge(gd);\n",
       "            observer.disconnect();\n",
       "        }}\n",
       "}});\n",
       "\n",
       "// Listen for the removal of the full notebook cells\n",
       "var notebookContainer = gd.closest('#notebook-container');\n",
       "if (notebookContainer) {{\n",
       "    x.observe(notebookContainer, {childList: true});\n",
       "}}\n",
       "\n",
       "// Listen for the clearing of the current output cell\n",
       "var outputEl = gd.closest('.output');\n",
       "if (outputEl) {{\n",
       "    x.observe(outputEl, {childList: true});\n",
       "}}\n",
       "\n",
       "                        })                };                });            </script>        </div>"
      ]
     },
     "metadata": {},
     "output_type": "display_data"
    },
    {
     "data": {
      "application/vnd.plotly.v1+json": {
       "config": {
        "plotlyServerURL": "https://plot.ly"
       },
       "data": [
        {
         "domain": {
          "x": [
           0,
           1
          ],
          "y": [
           0,
           1
          ]
         },
         "hole": 0.3,
         "hovertemplate": "label=%{label}<br>value=%{value}<extra></extra>",
         "labels": [
          "Topic 1",
          "Topic 2",
          "Topic 3",
          "Topic 4",
          "Topic 5",
          "Topic 6",
          "Topic 7",
          "Topic 8",
          "Topic 9",
          "Topic 10"
         ],
         "legendgroup": "",
         "name": "",
         "showlegend": true,
         "type": "pie",
         "values": [
          503.6918630832806,
          413.7258895561099,
          238.14955665823072,
          637.7611136818305,
          427.3921613562852,
          421.96942207124084,
          498.06294441316277,
          553.063001758419,
          333.05492332205176,
          507.05767522752285
         ]
        }
       ],
       "layout": {
        "legend": {
         "tracegroupgap": 0
        },
        "template": {
         "data": {
          "bar": [
           {
            "error_x": {
             "color": "#2a3f5f"
            },
            "error_y": {
             "color": "#2a3f5f"
            },
            "marker": {
             "line": {
              "color": "#E5ECF6",
              "width": 0.5
             },
             "pattern": {
              "fillmode": "overlay",
              "size": 10,
              "solidity": 0.2
             }
            },
            "type": "bar"
           }
          ],
          "barpolar": [
           {
            "marker": {
             "line": {
              "color": "#E5ECF6",
              "width": 0.5
             },
             "pattern": {
              "fillmode": "overlay",
              "size": 10,
              "solidity": 0.2
             }
            },
            "type": "barpolar"
           }
          ],
          "carpet": [
           {
            "aaxis": {
             "endlinecolor": "#2a3f5f",
             "gridcolor": "white",
             "linecolor": "white",
             "minorgridcolor": "white",
             "startlinecolor": "#2a3f5f"
            },
            "baxis": {
             "endlinecolor": "#2a3f5f",
             "gridcolor": "white",
             "linecolor": "white",
             "minorgridcolor": "white",
             "startlinecolor": "#2a3f5f"
            },
            "type": "carpet"
           }
          ],
          "choropleth": [
           {
            "colorbar": {
             "outlinewidth": 0,
             "ticks": ""
            },
            "type": "choropleth"
           }
          ],
          "contour": [
           {
            "colorbar": {
             "outlinewidth": 0,
             "ticks": ""
            },
            "colorscale": [
             [
              0,
              "#0d0887"
             ],
             [
              0.1111111111111111,
              "#46039f"
             ],
             [
              0.2222222222222222,
              "#7201a8"
             ],
             [
              0.3333333333333333,
              "#9c179e"
             ],
             [
              0.4444444444444444,
              "#bd3786"
             ],
             [
              0.5555555555555556,
              "#d8576b"
             ],
             [
              0.6666666666666666,
              "#ed7953"
             ],
             [
              0.7777777777777778,
              "#fb9f3a"
             ],
             [
              0.8888888888888888,
              "#fdca26"
             ],
             [
              1,
              "#f0f921"
             ]
            ],
            "type": "contour"
           }
          ],
          "contourcarpet": [
           {
            "colorbar": {
             "outlinewidth": 0,
             "ticks": ""
            },
            "type": "contourcarpet"
           }
          ],
          "heatmap": [
           {
            "colorbar": {
             "outlinewidth": 0,
             "ticks": ""
            },
            "colorscale": [
             [
              0,
              "#0d0887"
             ],
             [
              0.1111111111111111,
              "#46039f"
             ],
             [
              0.2222222222222222,
              "#7201a8"
             ],
             [
              0.3333333333333333,
              "#9c179e"
             ],
             [
              0.4444444444444444,
              "#bd3786"
             ],
             [
              0.5555555555555556,
              "#d8576b"
             ],
             [
              0.6666666666666666,
              "#ed7953"
             ],
             [
              0.7777777777777778,
              "#fb9f3a"
             ],
             [
              0.8888888888888888,
              "#fdca26"
             ],
             [
              1,
              "#f0f921"
             ]
            ],
            "type": "heatmap"
           }
          ],
          "heatmapgl": [
           {
            "colorbar": {
             "outlinewidth": 0,
             "ticks": ""
            },
            "colorscale": [
             [
              0,
              "#0d0887"
             ],
             [
              0.1111111111111111,
              "#46039f"
             ],
             [
              0.2222222222222222,
              "#7201a8"
             ],
             [
              0.3333333333333333,
              "#9c179e"
             ],
             [
              0.4444444444444444,
              "#bd3786"
             ],
             [
              0.5555555555555556,
              "#d8576b"
             ],
             [
              0.6666666666666666,
              "#ed7953"
             ],
             [
              0.7777777777777778,
              "#fb9f3a"
             ],
             [
              0.8888888888888888,
              "#fdca26"
             ],
             [
              1,
              "#f0f921"
             ]
            ],
            "type": "heatmapgl"
           }
          ],
          "histogram": [
           {
            "marker": {
             "pattern": {
              "fillmode": "overlay",
              "size": 10,
              "solidity": 0.2
             }
            },
            "type": "histogram"
           }
          ],
          "histogram2d": [
           {
            "colorbar": {
             "outlinewidth": 0,
             "ticks": ""
            },
            "colorscale": [
             [
              0,
              "#0d0887"
             ],
             [
              0.1111111111111111,
              "#46039f"
             ],
             [
              0.2222222222222222,
              "#7201a8"
             ],
             [
              0.3333333333333333,
              "#9c179e"
             ],
             [
              0.4444444444444444,
              "#bd3786"
             ],
             [
              0.5555555555555556,
              "#d8576b"
             ],
             [
              0.6666666666666666,
              "#ed7953"
             ],
             [
              0.7777777777777778,
              "#fb9f3a"
             ],
             [
              0.8888888888888888,
              "#fdca26"
             ],
             [
              1,
              "#f0f921"
             ]
            ],
            "type": "histogram2d"
           }
          ],
          "histogram2dcontour": [
           {
            "colorbar": {
             "outlinewidth": 0,
             "ticks": ""
            },
            "colorscale": [
             [
              0,
              "#0d0887"
             ],
             [
              0.1111111111111111,
              "#46039f"
             ],
             [
              0.2222222222222222,
              "#7201a8"
             ],
             [
              0.3333333333333333,
              "#9c179e"
             ],
             [
              0.4444444444444444,
              "#bd3786"
             ],
             [
              0.5555555555555556,
              "#d8576b"
             ],
             [
              0.6666666666666666,
              "#ed7953"
             ],
             [
              0.7777777777777778,
              "#fb9f3a"
             ],
             [
              0.8888888888888888,
              "#fdca26"
             ],
             [
              1,
              "#f0f921"
             ]
            ],
            "type": "histogram2dcontour"
           }
          ],
          "mesh3d": [
           {
            "colorbar": {
             "outlinewidth": 0,
             "ticks": ""
            },
            "type": "mesh3d"
           }
          ],
          "parcoords": [
           {
            "line": {
             "colorbar": {
              "outlinewidth": 0,
              "ticks": ""
             }
            },
            "type": "parcoords"
           }
          ],
          "pie": [
           {
            "automargin": true,
            "type": "pie"
           }
          ],
          "scatter": [
           {
            "fillpattern": {
             "fillmode": "overlay",
             "size": 10,
             "solidity": 0.2
            },
            "type": "scatter"
           }
          ],
          "scatter3d": [
           {
            "line": {
             "colorbar": {
              "outlinewidth": 0,
              "ticks": ""
             }
            },
            "marker": {
             "colorbar": {
              "outlinewidth": 0,
              "ticks": ""
             }
            },
            "type": "scatter3d"
           }
          ],
          "scattercarpet": [
           {
            "marker": {
             "colorbar": {
              "outlinewidth": 0,
              "ticks": ""
             }
            },
            "type": "scattercarpet"
           }
          ],
          "scattergeo": [
           {
            "marker": {
             "colorbar": {
              "outlinewidth": 0,
              "ticks": ""
             }
            },
            "type": "scattergeo"
           }
          ],
          "scattergl": [
           {
            "marker": {
             "colorbar": {
              "outlinewidth": 0,
              "ticks": ""
             }
            },
            "type": "scattergl"
           }
          ],
          "scattermapbox": [
           {
            "marker": {
             "colorbar": {
              "outlinewidth": 0,
              "ticks": ""
             }
            },
            "type": "scattermapbox"
           }
          ],
          "scatterpolar": [
           {
            "marker": {
             "colorbar": {
              "outlinewidth": 0,
              "ticks": ""
             }
            },
            "type": "scatterpolar"
           }
          ],
          "scatterpolargl": [
           {
            "marker": {
             "colorbar": {
              "outlinewidth": 0,
              "ticks": ""
             }
            },
            "type": "scatterpolargl"
           }
          ],
          "scatterternary": [
           {
            "marker": {
             "colorbar": {
              "outlinewidth": 0,
              "ticks": ""
             }
            },
            "type": "scatterternary"
           }
          ],
          "surface": [
           {
            "colorbar": {
             "outlinewidth": 0,
             "ticks": ""
            },
            "colorscale": [
             [
              0,
              "#0d0887"
             ],
             [
              0.1111111111111111,
              "#46039f"
             ],
             [
              0.2222222222222222,
              "#7201a8"
             ],
             [
              0.3333333333333333,
              "#9c179e"
             ],
             [
              0.4444444444444444,
              "#bd3786"
             ],
             [
              0.5555555555555556,
              "#d8576b"
             ],
             [
              0.6666666666666666,
              "#ed7953"
             ],
             [
              0.7777777777777778,
              "#fb9f3a"
             ],
             [
              0.8888888888888888,
              "#fdca26"
             ],
             [
              1,
              "#f0f921"
             ]
            ],
            "type": "surface"
           }
          ],
          "table": [
           {
            "cells": {
             "fill": {
              "color": "#EBF0F8"
             },
             "line": {
              "color": "white"
             }
            },
            "header": {
             "fill": {
              "color": "#C8D4E3"
             },
             "line": {
              "color": "white"
             }
            },
            "type": "table"
           }
          ]
         },
         "layout": {
          "annotationdefaults": {
           "arrowcolor": "#2a3f5f",
           "arrowhead": 0,
           "arrowwidth": 1
          },
          "autotypenumbers": "strict",
          "coloraxis": {
           "colorbar": {
            "outlinewidth": 0,
            "ticks": ""
           }
          },
          "colorscale": {
           "diverging": [
            [
             0,
             "#8e0152"
            ],
            [
             0.1,
             "#c51b7d"
            ],
            [
             0.2,
             "#de77ae"
            ],
            [
             0.3,
             "#f1b6da"
            ],
            [
             0.4,
             "#fde0ef"
            ],
            [
             0.5,
             "#f7f7f7"
            ],
            [
             0.6,
             "#e6f5d0"
            ],
            [
             0.7,
             "#b8e186"
            ],
            [
             0.8,
             "#7fbc41"
            ],
            [
             0.9,
             "#4d9221"
            ],
            [
             1,
             "#276419"
            ]
           ],
           "sequential": [
            [
             0,
             "#0d0887"
            ],
            [
             0.1111111111111111,
             "#46039f"
            ],
            [
             0.2222222222222222,
             "#7201a8"
            ],
            [
             0.3333333333333333,
             "#9c179e"
            ],
            [
             0.4444444444444444,
             "#bd3786"
            ],
            [
             0.5555555555555556,
             "#d8576b"
            ],
            [
             0.6666666666666666,
             "#ed7953"
            ],
            [
             0.7777777777777778,
             "#fb9f3a"
            ],
            [
             0.8888888888888888,
             "#fdca26"
            ],
            [
             1,
             "#f0f921"
            ]
           ],
           "sequentialminus": [
            [
             0,
             "#0d0887"
            ],
            [
             0.1111111111111111,
             "#46039f"
            ],
            [
             0.2222222222222222,
             "#7201a8"
            ],
            [
             0.3333333333333333,
             "#9c179e"
            ],
            [
             0.4444444444444444,
             "#bd3786"
            ],
            [
             0.5555555555555556,
             "#d8576b"
            ],
            [
             0.6666666666666666,
             "#ed7953"
            ],
            [
             0.7777777777777778,
             "#fb9f3a"
            ],
            [
             0.8888888888888888,
             "#fdca26"
            ],
            [
             1,
             "#f0f921"
            ]
           ]
          },
          "colorway": [
           "#636efa",
           "#EF553B",
           "#00cc96",
           "#ab63fa",
           "#FFA15A",
           "#19d3f3",
           "#FF6692",
           "#B6E880",
           "#FF97FF",
           "#FECB52"
          ],
          "font": {
           "color": "#2a3f5f"
          },
          "geo": {
           "bgcolor": "white",
           "lakecolor": "white",
           "landcolor": "#E5ECF6",
           "showlakes": true,
           "showland": true,
           "subunitcolor": "white"
          },
          "hoverlabel": {
           "align": "left"
          },
          "hovermode": "closest",
          "mapbox": {
           "style": "light"
          },
          "paper_bgcolor": "white",
          "plot_bgcolor": "#E5ECF6",
          "polar": {
           "angularaxis": {
            "gridcolor": "white",
            "linecolor": "white",
            "ticks": ""
           },
           "bgcolor": "#E5ECF6",
           "radialaxis": {
            "gridcolor": "white",
            "linecolor": "white",
            "ticks": ""
           }
          },
          "scene": {
           "xaxis": {
            "backgroundcolor": "#E5ECF6",
            "gridcolor": "white",
            "gridwidth": 2,
            "linecolor": "white",
            "showbackground": true,
            "ticks": "",
            "zerolinecolor": "white"
           },
           "yaxis": {
            "backgroundcolor": "#E5ECF6",
            "gridcolor": "white",
            "gridwidth": 2,
            "linecolor": "white",
            "showbackground": true,
            "ticks": "",
            "zerolinecolor": "white"
           },
           "zaxis": {
            "backgroundcolor": "#E5ECF6",
            "gridcolor": "white",
            "gridwidth": 2,
            "linecolor": "white",
            "showbackground": true,
            "ticks": "",
            "zerolinecolor": "white"
           }
          },
          "shapedefaults": {
           "line": {
            "color": "#2a3f5f"
           }
          },
          "ternary": {
           "aaxis": {
            "gridcolor": "white",
            "linecolor": "white",
            "ticks": ""
           },
           "baxis": {
            "gridcolor": "white",
            "linecolor": "white",
            "ticks": ""
           },
           "bgcolor": "#E5ECF6",
           "caxis": {
            "gridcolor": "white",
            "linecolor": "white",
            "ticks": ""
           }
          },
          "title": {
           "x": 0.05
          },
          "xaxis": {
           "automargin": true,
           "gridcolor": "white",
           "linecolor": "white",
           "ticks": "",
           "title": {
            "standoff": 15
           },
           "zerolinecolor": "white",
           "zerolinewidth": 2
          },
          "yaxis": {
           "automargin": true,
           "gridcolor": "white",
           "linecolor": "white",
           "ticks": "",
           "title": {
            "standoff": 15
           },
           "zerolinecolor": "white",
           "zerolinewidth": 2
          }
         }
        },
        "title": {
         "text": "Topic Distribution in Dataset 1 (N=10)"
        }
       }
      },
      "text/html": [
       "<div>                            <div id=\"723fe406-22c1-4846-aea7-a50787c97ec2\" class=\"plotly-graph-div\" style=\"height:525px; width:100%;\"></div>            <script type=\"text/javascript\">                require([\"plotly\"], function(Plotly) {                    window.PLOTLYENV=window.PLOTLYENV || {};                                    if (document.getElementById(\"723fe406-22c1-4846-aea7-a50787c97ec2\")) {                    Plotly.newPlot(                        \"723fe406-22c1-4846-aea7-a50787c97ec2\",                        [{\"domain\":{\"x\":[0.0,1.0],\"y\":[0.0,1.0]},\"hole\":0.3,\"hovertemplate\":\"label=%{label}<br>value=%{value}<extra></extra>\",\"labels\":[\"Topic 1\",\"Topic 2\",\"Topic 3\",\"Topic 4\",\"Topic 5\",\"Topic 6\",\"Topic 7\",\"Topic 8\",\"Topic 9\",\"Topic 10\"],\"legendgroup\":\"\",\"name\":\"\",\"showlegend\":true,\"values\":[503.6918630832806,413.7258895561099,238.14955665823072,637.7611136818305,427.3921613562852,421.96942207124084,498.06294441316277,553.063001758419,333.05492332205176,507.05767522752285],\"type\":\"pie\"}],                        {\"template\":{\"data\":{\"histogram2dcontour\":[{\"type\":\"histogram2dcontour\",\"colorbar\":{\"outlinewidth\":0,\"ticks\":\"\"},\"colorscale\":[[0.0,\"#0d0887\"],[0.1111111111111111,\"#46039f\"],[0.2222222222222222,\"#7201a8\"],[0.3333333333333333,\"#9c179e\"],[0.4444444444444444,\"#bd3786\"],[0.5555555555555556,\"#d8576b\"],[0.6666666666666666,\"#ed7953\"],[0.7777777777777778,\"#fb9f3a\"],[0.8888888888888888,\"#fdca26\"],[1.0,\"#f0f921\"]]}],\"choropleth\":[{\"type\":\"choropleth\",\"colorbar\":{\"outlinewidth\":0,\"ticks\":\"\"}}],\"histogram2d\":[{\"type\":\"histogram2d\",\"colorbar\":{\"outlinewidth\":0,\"ticks\":\"\"},\"colorscale\":[[0.0,\"#0d0887\"],[0.1111111111111111,\"#46039f\"],[0.2222222222222222,\"#7201a8\"],[0.3333333333333333,\"#9c179e\"],[0.4444444444444444,\"#bd3786\"],[0.5555555555555556,\"#d8576b\"],[0.6666666666666666,\"#ed7953\"],[0.7777777777777778,\"#fb9f3a\"],[0.8888888888888888,\"#fdca26\"],[1.0,\"#f0f921\"]]}],\"heatmap\":[{\"type\":\"heatmap\",\"colorbar\":{\"outlinewidth\":0,\"ticks\":\"\"},\"colorscale\":[[0.0,\"#0d0887\"],[0.1111111111111111,\"#46039f\"],[0.2222222222222222,\"#7201a8\"],[0.3333333333333333,\"#9c179e\"],[0.4444444444444444,\"#bd3786\"],[0.5555555555555556,\"#d8576b\"],[0.6666666666666666,\"#ed7953\"],[0.7777777777777778,\"#fb9f3a\"],[0.8888888888888888,\"#fdca26\"],[1.0,\"#f0f921\"]]}],\"heatmapgl\":[{\"type\":\"heatmapgl\",\"colorbar\":{\"outlinewidth\":0,\"ticks\":\"\"},\"colorscale\":[[0.0,\"#0d0887\"],[0.1111111111111111,\"#46039f\"],[0.2222222222222222,\"#7201a8\"],[0.3333333333333333,\"#9c179e\"],[0.4444444444444444,\"#bd3786\"],[0.5555555555555556,\"#d8576b\"],[0.6666666666666666,\"#ed7953\"],[0.7777777777777778,\"#fb9f3a\"],[0.8888888888888888,\"#fdca26\"],[1.0,\"#f0f921\"]]}],\"contourcarpet\":[{\"type\":\"contourcarpet\",\"colorbar\":{\"outlinewidth\":0,\"ticks\":\"\"}}],\"contour\":[{\"type\":\"contour\",\"colorbar\":{\"outlinewidth\":0,\"ticks\":\"\"},\"colorscale\":[[0.0,\"#0d0887\"],[0.1111111111111111,\"#46039f\"],[0.2222222222222222,\"#7201a8\"],[0.3333333333333333,\"#9c179e\"],[0.4444444444444444,\"#bd3786\"],[0.5555555555555556,\"#d8576b\"],[0.6666666666666666,\"#ed7953\"],[0.7777777777777778,\"#fb9f3a\"],[0.8888888888888888,\"#fdca26\"],[1.0,\"#f0f921\"]]}],\"surface\":[{\"type\":\"surface\",\"colorbar\":{\"outlinewidth\":0,\"ticks\":\"\"},\"colorscale\":[[0.0,\"#0d0887\"],[0.1111111111111111,\"#46039f\"],[0.2222222222222222,\"#7201a8\"],[0.3333333333333333,\"#9c179e\"],[0.4444444444444444,\"#bd3786\"],[0.5555555555555556,\"#d8576b\"],[0.6666666666666666,\"#ed7953\"],[0.7777777777777778,\"#fb9f3a\"],[0.8888888888888888,\"#fdca26\"],[1.0,\"#f0f921\"]]}],\"mesh3d\":[{\"type\":\"mesh3d\",\"colorbar\":{\"outlinewidth\":0,\"ticks\":\"\"}}],\"scatter\":[{\"fillpattern\":{\"fillmode\":\"overlay\",\"size\":10,\"solidity\":0.2},\"type\":\"scatter\"}],\"parcoords\":[{\"type\":\"parcoords\",\"line\":{\"colorbar\":{\"outlinewidth\":0,\"ticks\":\"\"}}}],\"scatterpolargl\":[{\"type\":\"scatterpolargl\",\"marker\":{\"colorbar\":{\"outlinewidth\":0,\"ticks\":\"\"}}}],\"bar\":[{\"error_x\":{\"color\":\"#2a3f5f\"},\"error_y\":{\"color\":\"#2a3f5f\"},\"marker\":{\"line\":{\"color\":\"#E5ECF6\",\"width\":0.5},\"pattern\":{\"fillmode\":\"overlay\",\"size\":10,\"solidity\":0.2}},\"type\":\"bar\"}],\"scattergeo\":[{\"type\":\"scattergeo\",\"marker\":{\"colorbar\":{\"outlinewidth\":0,\"ticks\":\"\"}}}],\"scatterpolar\":[{\"type\":\"scatterpolar\",\"marker\":{\"colorbar\":{\"outlinewidth\":0,\"ticks\":\"\"}}}],\"histogram\":[{\"marker\":{\"pattern\":{\"fillmode\":\"overlay\",\"size\":10,\"solidity\":0.2}},\"type\":\"histogram\"}],\"scattergl\":[{\"type\":\"scattergl\",\"marker\":{\"colorbar\":{\"outlinewidth\":0,\"ticks\":\"\"}}}],\"scatter3d\":[{\"type\":\"scatter3d\",\"line\":{\"colorbar\":{\"outlinewidth\":0,\"ticks\":\"\"}},\"marker\":{\"colorbar\":{\"outlinewidth\":0,\"ticks\":\"\"}}}],\"scattermapbox\":[{\"type\":\"scattermapbox\",\"marker\":{\"colorbar\":{\"outlinewidth\":0,\"ticks\":\"\"}}}],\"scatterternary\":[{\"type\":\"scatterternary\",\"marker\":{\"colorbar\":{\"outlinewidth\":0,\"ticks\":\"\"}}}],\"scattercarpet\":[{\"type\":\"scattercarpet\",\"marker\":{\"colorbar\":{\"outlinewidth\":0,\"ticks\":\"\"}}}],\"carpet\":[{\"aaxis\":{\"endlinecolor\":\"#2a3f5f\",\"gridcolor\":\"white\",\"linecolor\":\"white\",\"minorgridcolor\":\"white\",\"startlinecolor\":\"#2a3f5f\"},\"baxis\":{\"endlinecolor\":\"#2a3f5f\",\"gridcolor\":\"white\",\"linecolor\":\"white\",\"minorgridcolor\":\"white\",\"startlinecolor\":\"#2a3f5f\"},\"type\":\"carpet\"}],\"table\":[{\"cells\":{\"fill\":{\"color\":\"#EBF0F8\"},\"line\":{\"color\":\"white\"}},\"header\":{\"fill\":{\"color\":\"#C8D4E3\"},\"line\":{\"color\":\"white\"}},\"type\":\"table\"}],\"barpolar\":[{\"marker\":{\"line\":{\"color\":\"#E5ECF6\",\"width\":0.5},\"pattern\":{\"fillmode\":\"overlay\",\"size\":10,\"solidity\":0.2}},\"type\":\"barpolar\"}],\"pie\":[{\"automargin\":true,\"type\":\"pie\"}]},\"layout\":{\"autotypenumbers\":\"strict\",\"colorway\":[\"#636efa\",\"#EF553B\",\"#00cc96\",\"#ab63fa\",\"#FFA15A\",\"#19d3f3\",\"#FF6692\",\"#B6E880\",\"#FF97FF\",\"#FECB52\"],\"font\":{\"color\":\"#2a3f5f\"},\"hovermode\":\"closest\",\"hoverlabel\":{\"align\":\"left\"},\"paper_bgcolor\":\"white\",\"plot_bgcolor\":\"#E5ECF6\",\"polar\":{\"bgcolor\":\"#E5ECF6\",\"angularaxis\":{\"gridcolor\":\"white\",\"linecolor\":\"white\",\"ticks\":\"\"},\"radialaxis\":{\"gridcolor\":\"white\",\"linecolor\":\"white\",\"ticks\":\"\"}},\"ternary\":{\"bgcolor\":\"#E5ECF6\",\"aaxis\":{\"gridcolor\":\"white\",\"linecolor\":\"white\",\"ticks\":\"\"},\"baxis\":{\"gridcolor\":\"white\",\"linecolor\":\"white\",\"ticks\":\"\"},\"caxis\":{\"gridcolor\":\"white\",\"linecolor\":\"white\",\"ticks\":\"\"}},\"coloraxis\":{\"colorbar\":{\"outlinewidth\":0,\"ticks\":\"\"}},\"colorscale\":{\"sequential\":[[0.0,\"#0d0887\"],[0.1111111111111111,\"#46039f\"],[0.2222222222222222,\"#7201a8\"],[0.3333333333333333,\"#9c179e\"],[0.4444444444444444,\"#bd3786\"],[0.5555555555555556,\"#d8576b\"],[0.6666666666666666,\"#ed7953\"],[0.7777777777777778,\"#fb9f3a\"],[0.8888888888888888,\"#fdca26\"],[1.0,\"#f0f921\"]],\"sequentialminus\":[[0.0,\"#0d0887\"],[0.1111111111111111,\"#46039f\"],[0.2222222222222222,\"#7201a8\"],[0.3333333333333333,\"#9c179e\"],[0.4444444444444444,\"#bd3786\"],[0.5555555555555556,\"#d8576b\"],[0.6666666666666666,\"#ed7953\"],[0.7777777777777778,\"#fb9f3a\"],[0.8888888888888888,\"#fdca26\"],[1.0,\"#f0f921\"]],\"diverging\":[[0,\"#8e0152\"],[0.1,\"#c51b7d\"],[0.2,\"#de77ae\"],[0.3,\"#f1b6da\"],[0.4,\"#fde0ef\"],[0.5,\"#f7f7f7\"],[0.6,\"#e6f5d0\"],[0.7,\"#b8e186\"],[0.8,\"#7fbc41\"],[0.9,\"#4d9221\"],[1,\"#276419\"]]},\"xaxis\":{\"gridcolor\":\"white\",\"linecolor\":\"white\",\"ticks\":\"\",\"title\":{\"standoff\":15},\"zerolinecolor\":\"white\",\"automargin\":true,\"zerolinewidth\":2},\"yaxis\":{\"gridcolor\":\"white\",\"linecolor\":\"white\",\"ticks\":\"\",\"title\":{\"standoff\":15},\"zerolinecolor\":\"white\",\"automargin\":true,\"zerolinewidth\":2},\"scene\":{\"xaxis\":{\"backgroundcolor\":\"#E5ECF6\",\"gridcolor\":\"white\",\"linecolor\":\"white\",\"showbackground\":true,\"ticks\":\"\",\"zerolinecolor\":\"white\",\"gridwidth\":2},\"yaxis\":{\"backgroundcolor\":\"#E5ECF6\",\"gridcolor\":\"white\",\"linecolor\":\"white\",\"showbackground\":true,\"ticks\":\"\",\"zerolinecolor\":\"white\",\"gridwidth\":2},\"zaxis\":{\"backgroundcolor\":\"#E5ECF6\",\"gridcolor\":\"white\",\"linecolor\":\"white\",\"showbackground\":true,\"ticks\":\"\",\"zerolinecolor\":\"white\",\"gridwidth\":2}},\"shapedefaults\":{\"line\":{\"color\":\"#2a3f5f\"}},\"annotationdefaults\":{\"arrowcolor\":\"#2a3f5f\",\"arrowhead\":0,\"arrowwidth\":1},\"geo\":{\"bgcolor\":\"white\",\"landcolor\":\"#E5ECF6\",\"subunitcolor\":\"white\",\"showland\":true,\"showlakes\":true,\"lakecolor\":\"white\"},\"title\":{\"x\":0.05},\"mapbox\":{\"style\":\"light\"}}},\"legend\":{\"tracegroupgap\":0},\"title\":{\"text\":\"Topic Distribution in Dataset 1 (N=10)\"}},                        {\"responsive\": true}                    ).then(function(){\n",
       "                            \n",
       "var gd = document.getElementById('723fe406-22c1-4846-aea7-a50787c97ec2');\n",
       "var x = new MutationObserver(function (mutations, observer) {{\n",
       "        var display = window.getComputedStyle(gd).display;\n",
       "        if (!display || display === 'none') {{\n",
       "            console.log([gd, 'removed!']);\n",
       "            Plotly.purge(gd);\n",
       "            observer.disconnect();\n",
       "        }}\n",
       "}});\n",
       "\n",
       "// Listen for the removal of the full notebook cells\n",
       "var notebookContainer = gd.closest('#notebook-container');\n",
       "if (notebookContainer) {{\n",
       "    x.observe(notebookContainer, {childList: true});\n",
       "}}\n",
       "\n",
       "// Listen for the clearing of the current output cell\n",
       "var outputEl = gd.closest('.output');\n",
       "if (outputEl) {{\n",
       "    x.observe(outputEl, {childList: true});\n",
       "}}\n",
       "\n",
       "                        })                };                });            </script>        </div>"
      ]
     },
     "metadata": {},
     "output_type": "display_data"
    },
    {
     "data": {
      "application/vnd.plotly.v1+json": {
       "config": {
        "plotlyServerURL": "https://plot.ly"
       },
       "data": [
        {
         "domain": {
          "x": [
           0,
           1
          ],
          "y": [
           0,
           1
          ]
         },
         "hole": 0.3,
         "hovertemplate": "label=%{label}<br>value=%{value}<extra></extra>",
         "labels": [
          "Topic 1",
          "Topic 2",
          "Topic 3",
          "Topic 4",
          "Topic 5",
          "Topic 6",
          "Topic 7",
          "Topic 8",
          "Topic 9",
          "Topic 10",
          "Topic 11",
          "Topic 12",
          "Topic 13",
          "Topic 14",
          "Topic 15",
          "Topic 16",
          "Topic 17",
          "Topic 18",
          "Topic 19",
          "Topic 20"
         ],
         "legendgroup": "",
         "name": "",
         "showlegend": true,
         "type": "pie",
         "values": [
          127.24448244646192,
          290.27454455010593,
          178.759457109496,
          364.2707666279748,
          133.9556927504018,
          183.77475981693715,
          167.24703335855156,
          204.9056709576398,
          275.925640351139,
          140.71551759261638,
          250.44496837817132,
          396.74780352506787,
          250.76887627504766,
          229.1845227573067,
          219.00165373831987,
          192.47398866154253,
          188.62408899888396,
          173.42737380135804,
          237.60505935829133,
          175.99284370522946
         ]
        }
       ],
       "layout": {
        "legend": {
         "tracegroupgap": 0
        },
        "template": {
         "data": {
          "bar": [
           {
            "error_x": {
             "color": "#2a3f5f"
            },
            "error_y": {
             "color": "#2a3f5f"
            },
            "marker": {
             "line": {
              "color": "#E5ECF6",
              "width": 0.5
             },
             "pattern": {
              "fillmode": "overlay",
              "size": 10,
              "solidity": 0.2
             }
            },
            "type": "bar"
           }
          ],
          "barpolar": [
           {
            "marker": {
             "line": {
              "color": "#E5ECF6",
              "width": 0.5
             },
             "pattern": {
              "fillmode": "overlay",
              "size": 10,
              "solidity": 0.2
             }
            },
            "type": "barpolar"
           }
          ],
          "carpet": [
           {
            "aaxis": {
             "endlinecolor": "#2a3f5f",
             "gridcolor": "white",
             "linecolor": "white",
             "minorgridcolor": "white",
             "startlinecolor": "#2a3f5f"
            },
            "baxis": {
             "endlinecolor": "#2a3f5f",
             "gridcolor": "white",
             "linecolor": "white",
             "minorgridcolor": "white",
             "startlinecolor": "#2a3f5f"
            },
            "type": "carpet"
           }
          ],
          "choropleth": [
           {
            "colorbar": {
             "outlinewidth": 0,
             "ticks": ""
            },
            "type": "choropleth"
           }
          ],
          "contour": [
           {
            "colorbar": {
             "outlinewidth": 0,
             "ticks": ""
            },
            "colorscale": [
             [
              0,
              "#0d0887"
             ],
             [
              0.1111111111111111,
              "#46039f"
             ],
             [
              0.2222222222222222,
              "#7201a8"
             ],
             [
              0.3333333333333333,
              "#9c179e"
             ],
             [
              0.4444444444444444,
              "#bd3786"
             ],
             [
              0.5555555555555556,
              "#d8576b"
             ],
             [
              0.6666666666666666,
              "#ed7953"
             ],
             [
              0.7777777777777778,
              "#fb9f3a"
             ],
             [
              0.8888888888888888,
              "#fdca26"
             ],
             [
              1,
              "#f0f921"
             ]
            ],
            "type": "contour"
           }
          ],
          "contourcarpet": [
           {
            "colorbar": {
             "outlinewidth": 0,
             "ticks": ""
            },
            "type": "contourcarpet"
           }
          ],
          "heatmap": [
           {
            "colorbar": {
             "outlinewidth": 0,
             "ticks": ""
            },
            "colorscale": [
             [
              0,
              "#0d0887"
             ],
             [
              0.1111111111111111,
              "#46039f"
             ],
             [
              0.2222222222222222,
              "#7201a8"
             ],
             [
              0.3333333333333333,
              "#9c179e"
             ],
             [
              0.4444444444444444,
              "#bd3786"
             ],
             [
              0.5555555555555556,
              "#d8576b"
             ],
             [
              0.6666666666666666,
              "#ed7953"
             ],
             [
              0.7777777777777778,
              "#fb9f3a"
             ],
             [
              0.8888888888888888,
              "#fdca26"
             ],
             [
              1,
              "#f0f921"
             ]
            ],
            "type": "heatmap"
           }
          ],
          "heatmapgl": [
           {
            "colorbar": {
             "outlinewidth": 0,
             "ticks": ""
            },
            "colorscale": [
             [
              0,
              "#0d0887"
             ],
             [
              0.1111111111111111,
              "#46039f"
             ],
             [
              0.2222222222222222,
              "#7201a8"
             ],
             [
              0.3333333333333333,
              "#9c179e"
             ],
             [
              0.4444444444444444,
              "#bd3786"
             ],
             [
              0.5555555555555556,
              "#d8576b"
             ],
             [
              0.6666666666666666,
              "#ed7953"
             ],
             [
              0.7777777777777778,
              "#fb9f3a"
             ],
             [
              0.8888888888888888,
              "#fdca26"
             ],
             [
              1,
              "#f0f921"
             ]
            ],
            "type": "heatmapgl"
           }
          ],
          "histogram": [
           {
            "marker": {
             "pattern": {
              "fillmode": "overlay",
              "size": 10,
              "solidity": 0.2
             }
            },
            "type": "histogram"
           }
          ],
          "histogram2d": [
           {
            "colorbar": {
             "outlinewidth": 0,
             "ticks": ""
            },
            "colorscale": [
             [
              0,
              "#0d0887"
             ],
             [
              0.1111111111111111,
              "#46039f"
             ],
             [
              0.2222222222222222,
              "#7201a8"
             ],
             [
              0.3333333333333333,
              "#9c179e"
             ],
             [
              0.4444444444444444,
              "#bd3786"
             ],
             [
              0.5555555555555556,
              "#d8576b"
             ],
             [
              0.6666666666666666,
              "#ed7953"
             ],
             [
              0.7777777777777778,
              "#fb9f3a"
             ],
             [
              0.8888888888888888,
              "#fdca26"
             ],
             [
              1,
              "#f0f921"
             ]
            ],
            "type": "histogram2d"
           }
          ],
          "histogram2dcontour": [
           {
            "colorbar": {
             "outlinewidth": 0,
             "ticks": ""
            },
            "colorscale": [
             [
              0,
              "#0d0887"
             ],
             [
              0.1111111111111111,
              "#46039f"
             ],
             [
              0.2222222222222222,
              "#7201a8"
             ],
             [
              0.3333333333333333,
              "#9c179e"
             ],
             [
              0.4444444444444444,
              "#bd3786"
             ],
             [
              0.5555555555555556,
              "#d8576b"
             ],
             [
              0.6666666666666666,
              "#ed7953"
             ],
             [
              0.7777777777777778,
              "#fb9f3a"
             ],
             [
              0.8888888888888888,
              "#fdca26"
             ],
             [
              1,
              "#f0f921"
             ]
            ],
            "type": "histogram2dcontour"
           }
          ],
          "mesh3d": [
           {
            "colorbar": {
             "outlinewidth": 0,
             "ticks": ""
            },
            "type": "mesh3d"
           }
          ],
          "parcoords": [
           {
            "line": {
             "colorbar": {
              "outlinewidth": 0,
              "ticks": ""
             }
            },
            "type": "parcoords"
           }
          ],
          "pie": [
           {
            "automargin": true,
            "type": "pie"
           }
          ],
          "scatter": [
           {
            "fillpattern": {
             "fillmode": "overlay",
             "size": 10,
             "solidity": 0.2
            },
            "type": "scatter"
           }
          ],
          "scatter3d": [
           {
            "line": {
             "colorbar": {
              "outlinewidth": 0,
              "ticks": ""
             }
            },
            "marker": {
             "colorbar": {
              "outlinewidth": 0,
              "ticks": ""
             }
            },
            "type": "scatter3d"
           }
          ],
          "scattercarpet": [
           {
            "marker": {
             "colorbar": {
              "outlinewidth": 0,
              "ticks": ""
             }
            },
            "type": "scattercarpet"
           }
          ],
          "scattergeo": [
           {
            "marker": {
             "colorbar": {
              "outlinewidth": 0,
              "ticks": ""
             }
            },
            "type": "scattergeo"
           }
          ],
          "scattergl": [
           {
            "marker": {
             "colorbar": {
              "outlinewidth": 0,
              "ticks": ""
             }
            },
            "type": "scattergl"
           }
          ],
          "scattermapbox": [
           {
            "marker": {
             "colorbar": {
              "outlinewidth": 0,
              "ticks": ""
             }
            },
            "type": "scattermapbox"
           }
          ],
          "scatterpolar": [
           {
            "marker": {
             "colorbar": {
              "outlinewidth": 0,
              "ticks": ""
             }
            },
            "type": "scatterpolar"
           }
          ],
          "scatterpolargl": [
           {
            "marker": {
             "colorbar": {
              "outlinewidth": 0,
              "ticks": ""
             }
            },
            "type": "scatterpolargl"
           }
          ],
          "scatterternary": [
           {
            "marker": {
             "colorbar": {
              "outlinewidth": 0,
              "ticks": ""
             }
            },
            "type": "scatterternary"
           }
          ],
          "surface": [
           {
            "colorbar": {
             "outlinewidth": 0,
             "ticks": ""
            },
            "colorscale": [
             [
              0,
              "#0d0887"
             ],
             [
              0.1111111111111111,
              "#46039f"
             ],
             [
              0.2222222222222222,
              "#7201a8"
             ],
             [
              0.3333333333333333,
              "#9c179e"
             ],
             [
              0.4444444444444444,
              "#bd3786"
             ],
             [
              0.5555555555555556,
              "#d8576b"
             ],
             [
              0.6666666666666666,
              "#ed7953"
             ],
             [
              0.7777777777777778,
              "#fb9f3a"
             ],
             [
              0.8888888888888888,
              "#fdca26"
             ],
             [
              1,
              "#f0f921"
             ]
            ],
            "type": "surface"
           }
          ],
          "table": [
           {
            "cells": {
             "fill": {
              "color": "#EBF0F8"
             },
             "line": {
              "color": "white"
             }
            },
            "header": {
             "fill": {
              "color": "#C8D4E3"
             },
             "line": {
              "color": "white"
             }
            },
            "type": "table"
           }
          ]
         },
         "layout": {
          "annotationdefaults": {
           "arrowcolor": "#2a3f5f",
           "arrowhead": 0,
           "arrowwidth": 1
          },
          "autotypenumbers": "strict",
          "coloraxis": {
           "colorbar": {
            "outlinewidth": 0,
            "ticks": ""
           }
          },
          "colorscale": {
           "diverging": [
            [
             0,
             "#8e0152"
            ],
            [
             0.1,
             "#c51b7d"
            ],
            [
             0.2,
             "#de77ae"
            ],
            [
             0.3,
             "#f1b6da"
            ],
            [
             0.4,
             "#fde0ef"
            ],
            [
             0.5,
             "#f7f7f7"
            ],
            [
             0.6,
             "#e6f5d0"
            ],
            [
             0.7,
             "#b8e186"
            ],
            [
             0.8,
             "#7fbc41"
            ],
            [
             0.9,
             "#4d9221"
            ],
            [
             1,
             "#276419"
            ]
           ],
           "sequential": [
            [
             0,
             "#0d0887"
            ],
            [
             0.1111111111111111,
             "#46039f"
            ],
            [
             0.2222222222222222,
             "#7201a8"
            ],
            [
             0.3333333333333333,
             "#9c179e"
            ],
            [
             0.4444444444444444,
             "#bd3786"
            ],
            [
             0.5555555555555556,
             "#d8576b"
            ],
            [
             0.6666666666666666,
             "#ed7953"
            ],
            [
             0.7777777777777778,
             "#fb9f3a"
            ],
            [
             0.8888888888888888,
             "#fdca26"
            ],
            [
             1,
             "#f0f921"
            ]
           ],
           "sequentialminus": [
            [
             0,
             "#0d0887"
            ],
            [
             0.1111111111111111,
             "#46039f"
            ],
            [
             0.2222222222222222,
             "#7201a8"
            ],
            [
             0.3333333333333333,
             "#9c179e"
            ],
            [
             0.4444444444444444,
             "#bd3786"
            ],
            [
             0.5555555555555556,
             "#d8576b"
            ],
            [
             0.6666666666666666,
             "#ed7953"
            ],
            [
             0.7777777777777778,
             "#fb9f3a"
            ],
            [
             0.8888888888888888,
             "#fdca26"
            ],
            [
             1,
             "#f0f921"
            ]
           ]
          },
          "colorway": [
           "#636efa",
           "#EF553B",
           "#00cc96",
           "#ab63fa",
           "#FFA15A",
           "#19d3f3",
           "#FF6692",
           "#B6E880",
           "#FF97FF",
           "#FECB52"
          ],
          "font": {
           "color": "#2a3f5f"
          },
          "geo": {
           "bgcolor": "white",
           "lakecolor": "white",
           "landcolor": "#E5ECF6",
           "showlakes": true,
           "showland": true,
           "subunitcolor": "white"
          },
          "hoverlabel": {
           "align": "left"
          },
          "hovermode": "closest",
          "mapbox": {
           "style": "light"
          },
          "paper_bgcolor": "white",
          "plot_bgcolor": "#E5ECF6",
          "polar": {
           "angularaxis": {
            "gridcolor": "white",
            "linecolor": "white",
            "ticks": ""
           },
           "bgcolor": "#E5ECF6",
           "radialaxis": {
            "gridcolor": "white",
            "linecolor": "white",
            "ticks": ""
           }
          },
          "scene": {
           "xaxis": {
            "backgroundcolor": "#E5ECF6",
            "gridcolor": "white",
            "gridwidth": 2,
            "linecolor": "white",
            "showbackground": true,
            "ticks": "",
            "zerolinecolor": "white"
           },
           "yaxis": {
            "backgroundcolor": "#E5ECF6",
            "gridcolor": "white",
            "gridwidth": 2,
            "linecolor": "white",
            "showbackground": true,
            "ticks": "",
            "zerolinecolor": "white"
           },
           "zaxis": {
            "backgroundcolor": "#E5ECF6",
            "gridcolor": "white",
            "gridwidth": 2,
            "linecolor": "white",
            "showbackground": true,
            "ticks": "",
            "zerolinecolor": "white"
           }
          },
          "shapedefaults": {
           "line": {
            "color": "#2a3f5f"
           }
          },
          "ternary": {
           "aaxis": {
            "gridcolor": "white",
            "linecolor": "white",
            "ticks": ""
           },
           "baxis": {
            "gridcolor": "white",
            "linecolor": "white",
            "ticks": ""
           },
           "bgcolor": "#E5ECF6",
           "caxis": {
            "gridcolor": "white",
            "linecolor": "white",
            "ticks": ""
           }
          },
          "title": {
           "x": 0.05
          },
          "xaxis": {
           "automargin": true,
           "gridcolor": "white",
           "linecolor": "white",
           "ticks": "",
           "title": {
            "standoff": 15
           },
           "zerolinecolor": "white",
           "zerolinewidth": 2
          },
          "yaxis": {
           "automargin": true,
           "gridcolor": "white",
           "linecolor": "white",
           "ticks": "",
           "title": {
            "standoff": 15
           },
           "zerolinecolor": "white",
           "zerolinewidth": 2
          }
         }
        },
        "title": {
         "text": "Topic Distribution in Dataset 1 (N=20)"
        }
       }
      },
      "text/html": [
       "<div>                            <div id=\"3b62e369-8111-48c0-86e6-cf2bc5b321b1\" class=\"plotly-graph-div\" style=\"height:525px; width:100%;\"></div>            <script type=\"text/javascript\">                require([\"plotly\"], function(Plotly) {                    window.PLOTLYENV=window.PLOTLYENV || {};                                    if (document.getElementById(\"3b62e369-8111-48c0-86e6-cf2bc5b321b1\")) {                    Plotly.newPlot(                        \"3b62e369-8111-48c0-86e6-cf2bc5b321b1\",                        [{\"domain\":{\"x\":[0.0,1.0],\"y\":[0.0,1.0]},\"hole\":0.3,\"hovertemplate\":\"label=%{label}<br>value=%{value}<extra></extra>\",\"labels\":[\"Topic 1\",\"Topic 2\",\"Topic 3\",\"Topic 4\",\"Topic 5\",\"Topic 6\",\"Topic 7\",\"Topic 8\",\"Topic 9\",\"Topic 10\",\"Topic 11\",\"Topic 12\",\"Topic 13\",\"Topic 14\",\"Topic 15\",\"Topic 16\",\"Topic 17\",\"Topic 18\",\"Topic 19\",\"Topic 20\"],\"legendgroup\":\"\",\"name\":\"\",\"showlegend\":true,\"values\":[127.24448244646192,290.27454455010593,178.759457109496,364.2707666279748,133.9556927504018,183.77475981693715,167.24703335855156,204.9056709576398,275.925640351139,140.71551759261638,250.44496837817132,396.74780352506787,250.76887627504766,229.1845227573067,219.00165373831987,192.47398866154253,188.62408899888396,173.42737380135804,237.60505935829133,175.99284370522946],\"type\":\"pie\"}],                        {\"template\":{\"data\":{\"histogram2dcontour\":[{\"type\":\"histogram2dcontour\",\"colorbar\":{\"outlinewidth\":0,\"ticks\":\"\"},\"colorscale\":[[0.0,\"#0d0887\"],[0.1111111111111111,\"#46039f\"],[0.2222222222222222,\"#7201a8\"],[0.3333333333333333,\"#9c179e\"],[0.4444444444444444,\"#bd3786\"],[0.5555555555555556,\"#d8576b\"],[0.6666666666666666,\"#ed7953\"],[0.7777777777777778,\"#fb9f3a\"],[0.8888888888888888,\"#fdca26\"],[1.0,\"#f0f921\"]]}],\"choropleth\":[{\"type\":\"choropleth\",\"colorbar\":{\"outlinewidth\":0,\"ticks\":\"\"}}],\"histogram2d\":[{\"type\":\"histogram2d\",\"colorbar\":{\"outlinewidth\":0,\"ticks\":\"\"},\"colorscale\":[[0.0,\"#0d0887\"],[0.1111111111111111,\"#46039f\"],[0.2222222222222222,\"#7201a8\"],[0.3333333333333333,\"#9c179e\"],[0.4444444444444444,\"#bd3786\"],[0.5555555555555556,\"#d8576b\"],[0.6666666666666666,\"#ed7953\"],[0.7777777777777778,\"#fb9f3a\"],[0.8888888888888888,\"#fdca26\"],[1.0,\"#f0f921\"]]}],\"heatmap\":[{\"type\":\"heatmap\",\"colorbar\":{\"outlinewidth\":0,\"ticks\":\"\"},\"colorscale\":[[0.0,\"#0d0887\"],[0.1111111111111111,\"#46039f\"],[0.2222222222222222,\"#7201a8\"],[0.3333333333333333,\"#9c179e\"],[0.4444444444444444,\"#bd3786\"],[0.5555555555555556,\"#d8576b\"],[0.6666666666666666,\"#ed7953\"],[0.7777777777777778,\"#fb9f3a\"],[0.8888888888888888,\"#fdca26\"],[1.0,\"#f0f921\"]]}],\"heatmapgl\":[{\"type\":\"heatmapgl\",\"colorbar\":{\"outlinewidth\":0,\"ticks\":\"\"},\"colorscale\":[[0.0,\"#0d0887\"],[0.1111111111111111,\"#46039f\"],[0.2222222222222222,\"#7201a8\"],[0.3333333333333333,\"#9c179e\"],[0.4444444444444444,\"#bd3786\"],[0.5555555555555556,\"#d8576b\"],[0.6666666666666666,\"#ed7953\"],[0.7777777777777778,\"#fb9f3a\"],[0.8888888888888888,\"#fdca26\"],[1.0,\"#f0f921\"]]}],\"contourcarpet\":[{\"type\":\"contourcarpet\",\"colorbar\":{\"outlinewidth\":0,\"ticks\":\"\"}}],\"contour\":[{\"type\":\"contour\",\"colorbar\":{\"outlinewidth\":0,\"ticks\":\"\"},\"colorscale\":[[0.0,\"#0d0887\"],[0.1111111111111111,\"#46039f\"],[0.2222222222222222,\"#7201a8\"],[0.3333333333333333,\"#9c179e\"],[0.4444444444444444,\"#bd3786\"],[0.5555555555555556,\"#d8576b\"],[0.6666666666666666,\"#ed7953\"],[0.7777777777777778,\"#fb9f3a\"],[0.8888888888888888,\"#fdca26\"],[1.0,\"#f0f921\"]]}],\"surface\":[{\"type\":\"surface\",\"colorbar\":{\"outlinewidth\":0,\"ticks\":\"\"},\"colorscale\":[[0.0,\"#0d0887\"],[0.1111111111111111,\"#46039f\"],[0.2222222222222222,\"#7201a8\"],[0.3333333333333333,\"#9c179e\"],[0.4444444444444444,\"#bd3786\"],[0.5555555555555556,\"#d8576b\"],[0.6666666666666666,\"#ed7953\"],[0.7777777777777778,\"#fb9f3a\"],[0.8888888888888888,\"#fdca26\"],[1.0,\"#f0f921\"]]}],\"mesh3d\":[{\"type\":\"mesh3d\",\"colorbar\":{\"outlinewidth\":0,\"ticks\":\"\"}}],\"scatter\":[{\"fillpattern\":{\"fillmode\":\"overlay\",\"size\":10,\"solidity\":0.2},\"type\":\"scatter\"}],\"parcoords\":[{\"type\":\"parcoords\",\"line\":{\"colorbar\":{\"outlinewidth\":0,\"ticks\":\"\"}}}],\"scatterpolargl\":[{\"type\":\"scatterpolargl\",\"marker\":{\"colorbar\":{\"outlinewidth\":0,\"ticks\":\"\"}}}],\"bar\":[{\"error_x\":{\"color\":\"#2a3f5f\"},\"error_y\":{\"color\":\"#2a3f5f\"},\"marker\":{\"line\":{\"color\":\"#E5ECF6\",\"width\":0.5},\"pattern\":{\"fillmode\":\"overlay\",\"size\":10,\"solidity\":0.2}},\"type\":\"bar\"}],\"scattergeo\":[{\"type\":\"scattergeo\",\"marker\":{\"colorbar\":{\"outlinewidth\":0,\"ticks\":\"\"}}}],\"scatterpolar\":[{\"type\":\"scatterpolar\",\"marker\":{\"colorbar\":{\"outlinewidth\":0,\"ticks\":\"\"}}}],\"histogram\":[{\"marker\":{\"pattern\":{\"fillmode\":\"overlay\",\"size\":10,\"solidity\":0.2}},\"type\":\"histogram\"}],\"scattergl\":[{\"type\":\"scattergl\",\"marker\":{\"colorbar\":{\"outlinewidth\":0,\"ticks\":\"\"}}}],\"scatter3d\":[{\"type\":\"scatter3d\",\"line\":{\"colorbar\":{\"outlinewidth\":0,\"ticks\":\"\"}},\"marker\":{\"colorbar\":{\"outlinewidth\":0,\"ticks\":\"\"}}}],\"scattermapbox\":[{\"type\":\"scattermapbox\",\"marker\":{\"colorbar\":{\"outlinewidth\":0,\"ticks\":\"\"}}}],\"scatterternary\":[{\"type\":\"scatterternary\",\"marker\":{\"colorbar\":{\"outlinewidth\":0,\"ticks\":\"\"}}}],\"scattercarpet\":[{\"type\":\"scattercarpet\",\"marker\":{\"colorbar\":{\"outlinewidth\":0,\"ticks\":\"\"}}}],\"carpet\":[{\"aaxis\":{\"endlinecolor\":\"#2a3f5f\",\"gridcolor\":\"white\",\"linecolor\":\"white\",\"minorgridcolor\":\"white\",\"startlinecolor\":\"#2a3f5f\"},\"baxis\":{\"endlinecolor\":\"#2a3f5f\",\"gridcolor\":\"white\",\"linecolor\":\"white\",\"minorgridcolor\":\"white\",\"startlinecolor\":\"#2a3f5f\"},\"type\":\"carpet\"}],\"table\":[{\"cells\":{\"fill\":{\"color\":\"#EBF0F8\"},\"line\":{\"color\":\"white\"}},\"header\":{\"fill\":{\"color\":\"#C8D4E3\"},\"line\":{\"color\":\"white\"}},\"type\":\"table\"}],\"barpolar\":[{\"marker\":{\"line\":{\"color\":\"#E5ECF6\",\"width\":0.5},\"pattern\":{\"fillmode\":\"overlay\",\"size\":10,\"solidity\":0.2}},\"type\":\"barpolar\"}],\"pie\":[{\"automargin\":true,\"type\":\"pie\"}]},\"layout\":{\"autotypenumbers\":\"strict\",\"colorway\":[\"#636efa\",\"#EF553B\",\"#00cc96\",\"#ab63fa\",\"#FFA15A\",\"#19d3f3\",\"#FF6692\",\"#B6E880\",\"#FF97FF\",\"#FECB52\"],\"font\":{\"color\":\"#2a3f5f\"},\"hovermode\":\"closest\",\"hoverlabel\":{\"align\":\"left\"},\"paper_bgcolor\":\"white\",\"plot_bgcolor\":\"#E5ECF6\",\"polar\":{\"bgcolor\":\"#E5ECF6\",\"angularaxis\":{\"gridcolor\":\"white\",\"linecolor\":\"white\",\"ticks\":\"\"},\"radialaxis\":{\"gridcolor\":\"white\",\"linecolor\":\"white\",\"ticks\":\"\"}},\"ternary\":{\"bgcolor\":\"#E5ECF6\",\"aaxis\":{\"gridcolor\":\"white\",\"linecolor\":\"white\",\"ticks\":\"\"},\"baxis\":{\"gridcolor\":\"white\",\"linecolor\":\"white\",\"ticks\":\"\"},\"caxis\":{\"gridcolor\":\"white\",\"linecolor\":\"white\",\"ticks\":\"\"}},\"coloraxis\":{\"colorbar\":{\"outlinewidth\":0,\"ticks\":\"\"}},\"colorscale\":{\"sequential\":[[0.0,\"#0d0887\"],[0.1111111111111111,\"#46039f\"],[0.2222222222222222,\"#7201a8\"],[0.3333333333333333,\"#9c179e\"],[0.4444444444444444,\"#bd3786\"],[0.5555555555555556,\"#d8576b\"],[0.6666666666666666,\"#ed7953\"],[0.7777777777777778,\"#fb9f3a\"],[0.8888888888888888,\"#fdca26\"],[1.0,\"#f0f921\"]],\"sequentialminus\":[[0.0,\"#0d0887\"],[0.1111111111111111,\"#46039f\"],[0.2222222222222222,\"#7201a8\"],[0.3333333333333333,\"#9c179e\"],[0.4444444444444444,\"#bd3786\"],[0.5555555555555556,\"#d8576b\"],[0.6666666666666666,\"#ed7953\"],[0.7777777777777778,\"#fb9f3a\"],[0.8888888888888888,\"#fdca26\"],[1.0,\"#f0f921\"]],\"diverging\":[[0,\"#8e0152\"],[0.1,\"#c51b7d\"],[0.2,\"#de77ae\"],[0.3,\"#f1b6da\"],[0.4,\"#fde0ef\"],[0.5,\"#f7f7f7\"],[0.6,\"#e6f5d0\"],[0.7,\"#b8e186\"],[0.8,\"#7fbc41\"],[0.9,\"#4d9221\"],[1,\"#276419\"]]},\"xaxis\":{\"gridcolor\":\"white\",\"linecolor\":\"white\",\"ticks\":\"\",\"title\":{\"standoff\":15},\"zerolinecolor\":\"white\",\"automargin\":true,\"zerolinewidth\":2},\"yaxis\":{\"gridcolor\":\"white\",\"linecolor\":\"white\",\"ticks\":\"\",\"title\":{\"standoff\":15},\"zerolinecolor\":\"white\",\"automargin\":true,\"zerolinewidth\":2},\"scene\":{\"xaxis\":{\"backgroundcolor\":\"#E5ECF6\",\"gridcolor\":\"white\",\"linecolor\":\"white\",\"showbackground\":true,\"ticks\":\"\",\"zerolinecolor\":\"white\",\"gridwidth\":2},\"yaxis\":{\"backgroundcolor\":\"#E5ECF6\",\"gridcolor\":\"white\",\"linecolor\":\"white\",\"showbackground\":true,\"ticks\":\"\",\"zerolinecolor\":\"white\",\"gridwidth\":2},\"zaxis\":{\"backgroundcolor\":\"#E5ECF6\",\"gridcolor\":\"white\",\"linecolor\":\"white\",\"showbackground\":true,\"ticks\":\"\",\"zerolinecolor\":\"white\",\"gridwidth\":2}},\"shapedefaults\":{\"line\":{\"color\":\"#2a3f5f\"}},\"annotationdefaults\":{\"arrowcolor\":\"#2a3f5f\",\"arrowhead\":0,\"arrowwidth\":1},\"geo\":{\"bgcolor\":\"white\",\"landcolor\":\"#E5ECF6\",\"subunitcolor\":\"white\",\"showland\":true,\"showlakes\":true,\"lakecolor\":\"white\"},\"title\":{\"x\":0.05},\"mapbox\":{\"style\":\"light\"}}},\"legend\":{\"tracegroupgap\":0},\"title\":{\"text\":\"Topic Distribution in Dataset 1 (N=20)\"}},                        {\"responsive\": true}                    ).then(function(){\n",
       "                            \n",
       "var gd = document.getElementById('3b62e369-8111-48c0-86e6-cf2bc5b321b1');\n",
       "var x = new MutationObserver(function (mutations, observer) {{\n",
       "        var display = window.getComputedStyle(gd).display;\n",
       "        if (!display || display === 'none') {{\n",
       "            console.log([gd, 'removed!']);\n",
       "            Plotly.purge(gd);\n",
       "            observer.disconnect();\n",
       "        }}\n",
       "}});\n",
       "\n",
       "// Listen for the removal of the full notebook cells\n",
       "var notebookContainer = gd.closest('#notebook-container');\n",
       "if (notebookContainer) {{\n",
       "    x.observe(notebookContainer, {childList: true});\n",
       "}}\n",
       "\n",
       "// Listen for the clearing of the current output cell\n",
       "var outputEl = gd.closest('.output');\n",
       "if (outputEl) {{\n",
       "    x.observe(outputEl, {childList: true});\n",
       "}}\n",
       "\n",
       "                        })                };                });            </script>        </div>"
      ]
     },
     "metadata": {},
     "output_type": "display_data"
    },
    {
     "data": {
      "application/vnd.plotly.v1+json": {
       "config": {
        "plotlyServerURL": "https://plot.ly"
       },
       "data": [
        {
         "domain": {
          "x": [
           0,
           1
          ],
          "y": [
           0,
           1
          ]
         },
         "hole": 0.3,
         "hovertemplate": "label=%{label}<br>value=%{value}<extra></extra>",
         "labels": [
          "Topic 1",
          "Topic 2",
          "Topic 3",
          "Topic 4",
          "Topic 5"
         ],
         "legendgroup": "",
         "name": "",
         "showlegend": true,
         "type": "pie",
         "values": [
          2045.5675565013662,
          583.6648984132335,
          4324.493431500159,
          5172.606456017122,
          704.1877347407863
         ]
        }
       ],
       "layout": {
        "legend": {
         "tracegroupgap": 0
        },
        "template": {
         "data": {
          "bar": [
           {
            "error_x": {
             "color": "#2a3f5f"
            },
            "error_y": {
             "color": "#2a3f5f"
            },
            "marker": {
             "line": {
              "color": "#E5ECF6",
              "width": 0.5
             },
             "pattern": {
              "fillmode": "overlay",
              "size": 10,
              "solidity": 0.2
             }
            },
            "type": "bar"
           }
          ],
          "barpolar": [
           {
            "marker": {
             "line": {
              "color": "#E5ECF6",
              "width": 0.5
             },
             "pattern": {
              "fillmode": "overlay",
              "size": 10,
              "solidity": 0.2
             }
            },
            "type": "barpolar"
           }
          ],
          "carpet": [
           {
            "aaxis": {
             "endlinecolor": "#2a3f5f",
             "gridcolor": "white",
             "linecolor": "white",
             "minorgridcolor": "white",
             "startlinecolor": "#2a3f5f"
            },
            "baxis": {
             "endlinecolor": "#2a3f5f",
             "gridcolor": "white",
             "linecolor": "white",
             "minorgridcolor": "white",
             "startlinecolor": "#2a3f5f"
            },
            "type": "carpet"
           }
          ],
          "choropleth": [
           {
            "colorbar": {
             "outlinewidth": 0,
             "ticks": ""
            },
            "type": "choropleth"
           }
          ],
          "contour": [
           {
            "colorbar": {
             "outlinewidth": 0,
             "ticks": ""
            },
            "colorscale": [
             [
              0,
              "#0d0887"
             ],
             [
              0.1111111111111111,
              "#46039f"
             ],
             [
              0.2222222222222222,
              "#7201a8"
             ],
             [
              0.3333333333333333,
              "#9c179e"
             ],
             [
              0.4444444444444444,
              "#bd3786"
             ],
             [
              0.5555555555555556,
              "#d8576b"
             ],
             [
              0.6666666666666666,
              "#ed7953"
             ],
             [
              0.7777777777777778,
              "#fb9f3a"
             ],
             [
              0.8888888888888888,
              "#fdca26"
             ],
             [
              1,
              "#f0f921"
             ]
            ],
            "type": "contour"
           }
          ],
          "contourcarpet": [
           {
            "colorbar": {
             "outlinewidth": 0,
             "ticks": ""
            },
            "type": "contourcarpet"
           }
          ],
          "heatmap": [
           {
            "colorbar": {
             "outlinewidth": 0,
             "ticks": ""
            },
            "colorscale": [
             [
              0,
              "#0d0887"
             ],
             [
              0.1111111111111111,
              "#46039f"
             ],
             [
              0.2222222222222222,
              "#7201a8"
             ],
             [
              0.3333333333333333,
              "#9c179e"
             ],
             [
              0.4444444444444444,
              "#bd3786"
             ],
             [
              0.5555555555555556,
              "#d8576b"
             ],
             [
              0.6666666666666666,
              "#ed7953"
             ],
             [
              0.7777777777777778,
              "#fb9f3a"
             ],
             [
              0.8888888888888888,
              "#fdca26"
             ],
             [
              1,
              "#f0f921"
             ]
            ],
            "type": "heatmap"
           }
          ],
          "heatmapgl": [
           {
            "colorbar": {
             "outlinewidth": 0,
             "ticks": ""
            },
            "colorscale": [
             [
              0,
              "#0d0887"
             ],
             [
              0.1111111111111111,
              "#46039f"
             ],
             [
              0.2222222222222222,
              "#7201a8"
             ],
             [
              0.3333333333333333,
              "#9c179e"
             ],
             [
              0.4444444444444444,
              "#bd3786"
             ],
             [
              0.5555555555555556,
              "#d8576b"
             ],
             [
              0.6666666666666666,
              "#ed7953"
             ],
             [
              0.7777777777777778,
              "#fb9f3a"
             ],
             [
              0.8888888888888888,
              "#fdca26"
             ],
             [
              1,
              "#f0f921"
             ]
            ],
            "type": "heatmapgl"
           }
          ],
          "histogram": [
           {
            "marker": {
             "pattern": {
              "fillmode": "overlay",
              "size": 10,
              "solidity": 0.2
             }
            },
            "type": "histogram"
           }
          ],
          "histogram2d": [
           {
            "colorbar": {
             "outlinewidth": 0,
             "ticks": ""
            },
            "colorscale": [
             [
              0,
              "#0d0887"
             ],
             [
              0.1111111111111111,
              "#46039f"
             ],
             [
              0.2222222222222222,
              "#7201a8"
             ],
             [
              0.3333333333333333,
              "#9c179e"
             ],
             [
              0.4444444444444444,
              "#bd3786"
             ],
             [
              0.5555555555555556,
              "#d8576b"
             ],
             [
              0.6666666666666666,
              "#ed7953"
             ],
             [
              0.7777777777777778,
              "#fb9f3a"
             ],
             [
              0.8888888888888888,
              "#fdca26"
             ],
             [
              1,
              "#f0f921"
             ]
            ],
            "type": "histogram2d"
           }
          ],
          "histogram2dcontour": [
           {
            "colorbar": {
             "outlinewidth": 0,
             "ticks": ""
            },
            "colorscale": [
             [
              0,
              "#0d0887"
             ],
             [
              0.1111111111111111,
              "#46039f"
             ],
             [
              0.2222222222222222,
              "#7201a8"
             ],
             [
              0.3333333333333333,
              "#9c179e"
             ],
             [
              0.4444444444444444,
              "#bd3786"
             ],
             [
              0.5555555555555556,
              "#d8576b"
             ],
             [
              0.6666666666666666,
              "#ed7953"
             ],
             [
              0.7777777777777778,
              "#fb9f3a"
             ],
             [
              0.8888888888888888,
              "#fdca26"
             ],
             [
              1,
              "#f0f921"
             ]
            ],
            "type": "histogram2dcontour"
           }
          ],
          "mesh3d": [
           {
            "colorbar": {
             "outlinewidth": 0,
             "ticks": ""
            },
            "type": "mesh3d"
           }
          ],
          "parcoords": [
           {
            "line": {
             "colorbar": {
              "outlinewidth": 0,
              "ticks": ""
             }
            },
            "type": "parcoords"
           }
          ],
          "pie": [
           {
            "automargin": true,
            "type": "pie"
           }
          ],
          "scatter": [
           {
            "fillpattern": {
             "fillmode": "overlay",
             "size": 10,
             "solidity": 0.2
            },
            "type": "scatter"
           }
          ],
          "scatter3d": [
           {
            "line": {
             "colorbar": {
              "outlinewidth": 0,
              "ticks": ""
             }
            },
            "marker": {
             "colorbar": {
              "outlinewidth": 0,
              "ticks": ""
             }
            },
            "type": "scatter3d"
           }
          ],
          "scattercarpet": [
           {
            "marker": {
             "colorbar": {
              "outlinewidth": 0,
              "ticks": ""
             }
            },
            "type": "scattercarpet"
           }
          ],
          "scattergeo": [
           {
            "marker": {
             "colorbar": {
              "outlinewidth": 0,
              "ticks": ""
             }
            },
            "type": "scattergeo"
           }
          ],
          "scattergl": [
           {
            "marker": {
             "colorbar": {
              "outlinewidth": 0,
              "ticks": ""
             }
            },
            "type": "scattergl"
           }
          ],
          "scattermapbox": [
           {
            "marker": {
             "colorbar": {
              "outlinewidth": 0,
              "ticks": ""
             }
            },
            "type": "scattermapbox"
           }
          ],
          "scatterpolar": [
           {
            "marker": {
             "colorbar": {
              "outlinewidth": 0,
              "ticks": ""
             }
            },
            "type": "scatterpolar"
           }
          ],
          "scatterpolargl": [
           {
            "marker": {
             "colorbar": {
              "outlinewidth": 0,
              "ticks": ""
             }
            },
            "type": "scatterpolargl"
           }
          ],
          "scatterternary": [
           {
            "marker": {
             "colorbar": {
              "outlinewidth": 0,
              "ticks": ""
             }
            },
            "type": "scatterternary"
           }
          ],
          "surface": [
           {
            "colorbar": {
             "outlinewidth": 0,
             "ticks": ""
            },
            "colorscale": [
             [
              0,
              "#0d0887"
             ],
             [
              0.1111111111111111,
              "#46039f"
             ],
             [
              0.2222222222222222,
              "#7201a8"
             ],
             [
              0.3333333333333333,
              "#9c179e"
             ],
             [
              0.4444444444444444,
              "#bd3786"
             ],
             [
              0.5555555555555556,
              "#d8576b"
             ],
             [
              0.6666666666666666,
              "#ed7953"
             ],
             [
              0.7777777777777778,
              "#fb9f3a"
             ],
             [
              0.8888888888888888,
              "#fdca26"
             ],
             [
              1,
              "#f0f921"
             ]
            ],
            "type": "surface"
           }
          ],
          "table": [
           {
            "cells": {
             "fill": {
              "color": "#EBF0F8"
             },
             "line": {
              "color": "white"
             }
            },
            "header": {
             "fill": {
              "color": "#C8D4E3"
             },
             "line": {
              "color": "white"
             }
            },
            "type": "table"
           }
          ]
         },
         "layout": {
          "annotationdefaults": {
           "arrowcolor": "#2a3f5f",
           "arrowhead": 0,
           "arrowwidth": 1
          },
          "autotypenumbers": "strict",
          "coloraxis": {
           "colorbar": {
            "outlinewidth": 0,
            "ticks": ""
           }
          },
          "colorscale": {
           "diverging": [
            [
             0,
             "#8e0152"
            ],
            [
             0.1,
             "#c51b7d"
            ],
            [
             0.2,
             "#de77ae"
            ],
            [
             0.3,
             "#f1b6da"
            ],
            [
             0.4,
             "#fde0ef"
            ],
            [
             0.5,
             "#f7f7f7"
            ],
            [
             0.6,
             "#e6f5d0"
            ],
            [
             0.7,
             "#b8e186"
            ],
            [
             0.8,
             "#7fbc41"
            ],
            [
             0.9,
             "#4d9221"
            ],
            [
             1,
             "#276419"
            ]
           ],
           "sequential": [
            [
             0,
             "#0d0887"
            ],
            [
             0.1111111111111111,
             "#46039f"
            ],
            [
             0.2222222222222222,
             "#7201a8"
            ],
            [
             0.3333333333333333,
             "#9c179e"
            ],
            [
             0.4444444444444444,
             "#bd3786"
            ],
            [
             0.5555555555555556,
             "#d8576b"
            ],
            [
             0.6666666666666666,
             "#ed7953"
            ],
            [
             0.7777777777777778,
             "#fb9f3a"
            ],
            [
             0.8888888888888888,
             "#fdca26"
            ],
            [
             1,
             "#f0f921"
            ]
           ],
           "sequentialminus": [
            [
             0,
             "#0d0887"
            ],
            [
             0.1111111111111111,
             "#46039f"
            ],
            [
             0.2222222222222222,
             "#7201a8"
            ],
            [
             0.3333333333333333,
             "#9c179e"
            ],
            [
             0.4444444444444444,
             "#bd3786"
            ],
            [
             0.5555555555555556,
             "#d8576b"
            ],
            [
             0.6666666666666666,
             "#ed7953"
            ],
            [
             0.7777777777777778,
             "#fb9f3a"
            ],
            [
             0.8888888888888888,
             "#fdca26"
            ],
            [
             1,
             "#f0f921"
            ]
           ]
          },
          "colorway": [
           "#636efa",
           "#EF553B",
           "#00cc96",
           "#ab63fa",
           "#FFA15A",
           "#19d3f3",
           "#FF6692",
           "#B6E880",
           "#FF97FF",
           "#FECB52"
          ],
          "font": {
           "color": "#2a3f5f"
          },
          "geo": {
           "bgcolor": "white",
           "lakecolor": "white",
           "landcolor": "#E5ECF6",
           "showlakes": true,
           "showland": true,
           "subunitcolor": "white"
          },
          "hoverlabel": {
           "align": "left"
          },
          "hovermode": "closest",
          "mapbox": {
           "style": "light"
          },
          "paper_bgcolor": "white",
          "plot_bgcolor": "#E5ECF6",
          "polar": {
           "angularaxis": {
            "gridcolor": "white",
            "linecolor": "white",
            "ticks": ""
           },
           "bgcolor": "#E5ECF6",
           "radialaxis": {
            "gridcolor": "white",
            "linecolor": "white",
            "ticks": ""
           }
          },
          "scene": {
           "xaxis": {
            "backgroundcolor": "#E5ECF6",
            "gridcolor": "white",
            "gridwidth": 2,
            "linecolor": "white",
            "showbackground": true,
            "ticks": "",
            "zerolinecolor": "white"
           },
           "yaxis": {
            "backgroundcolor": "#E5ECF6",
            "gridcolor": "white",
            "gridwidth": 2,
            "linecolor": "white",
            "showbackground": true,
            "ticks": "",
            "zerolinecolor": "white"
           },
           "zaxis": {
            "backgroundcolor": "#E5ECF6",
            "gridcolor": "white",
            "gridwidth": 2,
            "linecolor": "white",
            "showbackground": true,
            "ticks": "",
            "zerolinecolor": "white"
           }
          },
          "shapedefaults": {
           "line": {
            "color": "#2a3f5f"
           }
          },
          "ternary": {
           "aaxis": {
            "gridcolor": "white",
            "linecolor": "white",
            "ticks": ""
           },
           "baxis": {
            "gridcolor": "white",
            "linecolor": "white",
            "ticks": ""
           },
           "bgcolor": "#E5ECF6",
           "caxis": {
            "gridcolor": "white",
            "linecolor": "white",
            "ticks": ""
           }
          },
          "title": {
           "x": 0.05
          },
          "xaxis": {
           "automargin": true,
           "gridcolor": "white",
           "linecolor": "white",
           "ticks": "",
           "title": {
            "standoff": 15
           },
           "zerolinecolor": "white",
           "zerolinewidth": 2
          },
          "yaxis": {
           "automargin": true,
           "gridcolor": "white",
           "linecolor": "white",
           "ticks": "",
           "title": {
            "standoff": 15
           },
           "zerolinecolor": "white",
           "zerolinewidth": 2
          }
         }
        },
        "title": {
         "text": "Topic Distribution in Dataset 2 (N=5)"
        }
       }
      },
      "text/html": [
       "<div>                            <div id=\"a1738692-7033-42ab-91a8-7de1b80bba05\" class=\"plotly-graph-div\" style=\"height:525px; width:100%;\"></div>            <script type=\"text/javascript\">                require([\"plotly\"], function(Plotly) {                    window.PLOTLYENV=window.PLOTLYENV || {};                                    if (document.getElementById(\"a1738692-7033-42ab-91a8-7de1b80bba05\")) {                    Plotly.newPlot(                        \"a1738692-7033-42ab-91a8-7de1b80bba05\",                        [{\"domain\":{\"x\":[0.0,1.0],\"y\":[0.0,1.0]},\"hole\":0.3,\"hovertemplate\":\"label=%{label}<br>value=%{value}<extra></extra>\",\"labels\":[\"Topic 1\",\"Topic 2\",\"Topic 3\",\"Topic 4\",\"Topic 5\"],\"legendgroup\":\"\",\"name\":\"\",\"showlegend\":true,\"values\":[2045.5675565013662,583.6648984132335,4324.493431500159,5172.606456017122,704.1877347407863],\"type\":\"pie\"}],                        {\"template\":{\"data\":{\"histogram2dcontour\":[{\"type\":\"histogram2dcontour\",\"colorbar\":{\"outlinewidth\":0,\"ticks\":\"\"},\"colorscale\":[[0.0,\"#0d0887\"],[0.1111111111111111,\"#46039f\"],[0.2222222222222222,\"#7201a8\"],[0.3333333333333333,\"#9c179e\"],[0.4444444444444444,\"#bd3786\"],[0.5555555555555556,\"#d8576b\"],[0.6666666666666666,\"#ed7953\"],[0.7777777777777778,\"#fb9f3a\"],[0.8888888888888888,\"#fdca26\"],[1.0,\"#f0f921\"]]}],\"choropleth\":[{\"type\":\"choropleth\",\"colorbar\":{\"outlinewidth\":0,\"ticks\":\"\"}}],\"histogram2d\":[{\"type\":\"histogram2d\",\"colorbar\":{\"outlinewidth\":0,\"ticks\":\"\"},\"colorscale\":[[0.0,\"#0d0887\"],[0.1111111111111111,\"#46039f\"],[0.2222222222222222,\"#7201a8\"],[0.3333333333333333,\"#9c179e\"],[0.4444444444444444,\"#bd3786\"],[0.5555555555555556,\"#d8576b\"],[0.6666666666666666,\"#ed7953\"],[0.7777777777777778,\"#fb9f3a\"],[0.8888888888888888,\"#fdca26\"],[1.0,\"#f0f921\"]]}],\"heatmap\":[{\"type\":\"heatmap\",\"colorbar\":{\"outlinewidth\":0,\"ticks\":\"\"},\"colorscale\":[[0.0,\"#0d0887\"],[0.1111111111111111,\"#46039f\"],[0.2222222222222222,\"#7201a8\"],[0.3333333333333333,\"#9c179e\"],[0.4444444444444444,\"#bd3786\"],[0.5555555555555556,\"#d8576b\"],[0.6666666666666666,\"#ed7953\"],[0.7777777777777778,\"#fb9f3a\"],[0.8888888888888888,\"#fdca26\"],[1.0,\"#f0f921\"]]}],\"heatmapgl\":[{\"type\":\"heatmapgl\",\"colorbar\":{\"outlinewidth\":0,\"ticks\":\"\"},\"colorscale\":[[0.0,\"#0d0887\"],[0.1111111111111111,\"#46039f\"],[0.2222222222222222,\"#7201a8\"],[0.3333333333333333,\"#9c179e\"],[0.4444444444444444,\"#bd3786\"],[0.5555555555555556,\"#d8576b\"],[0.6666666666666666,\"#ed7953\"],[0.7777777777777778,\"#fb9f3a\"],[0.8888888888888888,\"#fdca26\"],[1.0,\"#f0f921\"]]}],\"contourcarpet\":[{\"type\":\"contourcarpet\",\"colorbar\":{\"outlinewidth\":0,\"ticks\":\"\"}}],\"contour\":[{\"type\":\"contour\",\"colorbar\":{\"outlinewidth\":0,\"ticks\":\"\"},\"colorscale\":[[0.0,\"#0d0887\"],[0.1111111111111111,\"#46039f\"],[0.2222222222222222,\"#7201a8\"],[0.3333333333333333,\"#9c179e\"],[0.4444444444444444,\"#bd3786\"],[0.5555555555555556,\"#d8576b\"],[0.6666666666666666,\"#ed7953\"],[0.7777777777777778,\"#fb9f3a\"],[0.8888888888888888,\"#fdca26\"],[1.0,\"#f0f921\"]]}],\"surface\":[{\"type\":\"surface\",\"colorbar\":{\"outlinewidth\":0,\"ticks\":\"\"},\"colorscale\":[[0.0,\"#0d0887\"],[0.1111111111111111,\"#46039f\"],[0.2222222222222222,\"#7201a8\"],[0.3333333333333333,\"#9c179e\"],[0.4444444444444444,\"#bd3786\"],[0.5555555555555556,\"#d8576b\"],[0.6666666666666666,\"#ed7953\"],[0.7777777777777778,\"#fb9f3a\"],[0.8888888888888888,\"#fdca26\"],[1.0,\"#f0f921\"]]}],\"mesh3d\":[{\"type\":\"mesh3d\",\"colorbar\":{\"outlinewidth\":0,\"ticks\":\"\"}}],\"scatter\":[{\"fillpattern\":{\"fillmode\":\"overlay\",\"size\":10,\"solidity\":0.2},\"type\":\"scatter\"}],\"parcoords\":[{\"type\":\"parcoords\",\"line\":{\"colorbar\":{\"outlinewidth\":0,\"ticks\":\"\"}}}],\"scatterpolargl\":[{\"type\":\"scatterpolargl\",\"marker\":{\"colorbar\":{\"outlinewidth\":0,\"ticks\":\"\"}}}],\"bar\":[{\"error_x\":{\"color\":\"#2a3f5f\"},\"error_y\":{\"color\":\"#2a3f5f\"},\"marker\":{\"line\":{\"color\":\"#E5ECF6\",\"width\":0.5},\"pattern\":{\"fillmode\":\"overlay\",\"size\":10,\"solidity\":0.2}},\"type\":\"bar\"}],\"scattergeo\":[{\"type\":\"scattergeo\",\"marker\":{\"colorbar\":{\"outlinewidth\":0,\"ticks\":\"\"}}}],\"scatterpolar\":[{\"type\":\"scatterpolar\",\"marker\":{\"colorbar\":{\"outlinewidth\":0,\"ticks\":\"\"}}}],\"histogram\":[{\"marker\":{\"pattern\":{\"fillmode\":\"overlay\",\"size\":10,\"solidity\":0.2}},\"type\":\"histogram\"}],\"scattergl\":[{\"type\":\"scattergl\",\"marker\":{\"colorbar\":{\"outlinewidth\":0,\"ticks\":\"\"}}}],\"scatter3d\":[{\"type\":\"scatter3d\",\"line\":{\"colorbar\":{\"outlinewidth\":0,\"ticks\":\"\"}},\"marker\":{\"colorbar\":{\"outlinewidth\":0,\"ticks\":\"\"}}}],\"scattermapbox\":[{\"type\":\"scattermapbox\",\"marker\":{\"colorbar\":{\"outlinewidth\":0,\"ticks\":\"\"}}}],\"scatterternary\":[{\"type\":\"scatterternary\",\"marker\":{\"colorbar\":{\"outlinewidth\":0,\"ticks\":\"\"}}}],\"scattercarpet\":[{\"type\":\"scattercarpet\",\"marker\":{\"colorbar\":{\"outlinewidth\":0,\"ticks\":\"\"}}}],\"carpet\":[{\"aaxis\":{\"endlinecolor\":\"#2a3f5f\",\"gridcolor\":\"white\",\"linecolor\":\"white\",\"minorgridcolor\":\"white\",\"startlinecolor\":\"#2a3f5f\"},\"baxis\":{\"endlinecolor\":\"#2a3f5f\",\"gridcolor\":\"white\",\"linecolor\":\"white\",\"minorgridcolor\":\"white\",\"startlinecolor\":\"#2a3f5f\"},\"type\":\"carpet\"}],\"table\":[{\"cells\":{\"fill\":{\"color\":\"#EBF0F8\"},\"line\":{\"color\":\"white\"}},\"header\":{\"fill\":{\"color\":\"#C8D4E3\"},\"line\":{\"color\":\"white\"}},\"type\":\"table\"}],\"barpolar\":[{\"marker\":{\"line\":{\"color\":\"#E5ECF6\",\"width\":0.5},\"pattern\":{\"fillmode\":\"overlay\",\"size\":10,\"solidity\":0.2}},\"type\":\"barpolar\"}],\"pie\":[{\"automargin\":true,\"type\":\"pie\"}]},\"layout\":{\"autotypenumbers\":\"strict\",\"colorway\":[\"#636efa\",\"#EF553B\",\"#00cc96\",\"#ab63fa\",\"#FFA15A\",\"#19d3f3\",\"#FF6692\",\"#B6E880\",\"#FF97FF\",\"#FECB52\"],\"font\":{\"color\":\"#2a3f5f\"},\"hovermode\":\"closest\",\"hoverlabel\":{\"align\":\"left\"},\"paper_bgcolor\":\"white\",\"plot_bgcolor\":\"#E5ECF6\",\"polar\":{\"bgcolor\":\"#E5ECF6\",\"angularaxis\":{\"gridcolor\":\"white\",\"linecolor\":\"white\",\"ticks\":\"\"},\"radialaxis\":{\"gridcolor\":\"white\",\"linecolor\":\"white\",\"ticks\":\"\"}},\"ternary\":{\"bgcolor\":\"#E5ECF6\",\"aaxis\":{\"gridcolor\":\"white\",\"linecolor\":\"white\",\"ticks\":\"\"},\"baxis\":{\"gridcolor\":\"white\",\"linecolor\":\"white\",\"ticks\":\"\"},\"caxis\":{\"gridcolor\":\"white\",\"linecolor\":\"white\",\"ticks\":\"\"}},\"coloraxis\":{\"colorbar\":{\"outlinewidth\":0,\"ticks\":\"\"}},\"colorscale\":{\"sequential\":[[0.0,\"#0d0887\"],[0.1111111111111111,\"#46039f\"],[0.2222222222222222,\"#7201a8\"],[0.3333333333333333,\"#9c179e\"],[0.4444444444444444,\"#bd3786\"],[0.5555555555555556,\"#d8576b\"],[0.6666666666666666,\"#ed7953\"],[0.7777777777777778,\"#fb9f3a\"],[0.8888888888888888,\"#fdca26\"],[1.0,\"#f0f921\"]],\"sequentialminus\":[[0.0,\"#0d0887\"],[0.1111111111111111,\"#46039f\"],[0.2222222222222222,\"#7201a8\"],[0.3333333333333333,\"#9c179e\"],[0.4444444444444444,\"#bd3786\"],[0.5555555555555556,\"#d8576b\"],[0.6666666666666666,\"#ed7953\"],[0.7777777777777778,\"#fb9f3a\"],[0.8888888888888888,\"#fdca26\"],[1.0,\"#f0f921\"]],\"diverging\":[[0,\"#8e0152\"],[0.1,\"#c51b7d\"],[0.2,\"#de77ae\"],[0.3,\"#f1b6da\"],[0.4,\"#fde0ef\"],[0.5,\"#f7f7f7\"],[0.6,\"#e6f5d0\"],[0.7,\"#b8e186\"],[0.8,\"#7fbc41\"],[0.9,\"#4d9221\"],[1,\"#276419\"]]},\"xaxis\":{\"gridcolor\":\"white\",\"linecolor\":\"white\",\"ticks\":\"\",\"title\":{\"standoff\":15},\"zerolinecolor\":\"white\",\"automargin\":true,\"zerolinewidth\":2},\"yaxis\":{\"gridcolor\":\"white\",\"linecolor\":\"white\",\"ticks\":\"\",\"title\":{\"standoff\":15},\"zerolinecolor\":\"white\",\"automargin\":true,\"zerolinewidth\":2},\"scene\":{\"xaxis\":{\"backgroundcolor\":\"#E5ECF6\",\"gridcolor\":\"white\",\"linecolor\":\"white\",\"showbackground\":true,\"ticks\":\"\",\"zerolinecolor\":\"white\",\"gridwidth\":2},\"yaxis\":{\"backgroundcolor\":\"#E5ECF6\",\"gridcolor\":\"white\",\"linecolor\":\"white\",\"showbackground\":true,\"ticks\":\"\",\"zerolinecolor\":\"white\",\"gridwidth\":2},\"zaxis\":{\"backgroundcolor\":\"#E5ECF6\",\"gridcolor\":\"white\",\"linecolor\":\"white\",\"showbackground\":true,\"ticks\":\"\",\"zerolinecolor\":\"white\",\"gridwidth\":2}},\"shapedefaults\":{\"line\":{\"color\":\"#2a3f5f\"}},\"annotationdefaults\":{\"arrowcolor\":\"#2a3f5f\",\"arrowhead\":0,\"arrowwidth\":1},\"geo\":{\"bgcolor\":\"white\",\"landcolor\":\"#E5ECF6\",\"subunitcolor\":\"white\",\"showland\":true,\"showlakes\":true,\"lakecolor\":\"white\"},\"title\":{\"x\":0.05},\"mapbox\":{\"style\":\"light\"}}},\"legend\":{\"tracegroupgap\":0},\"title\":{\"text\":\"Topic Distribution in Dataset 2 (N=5)\"}},                        {\"responsive\": true}                    ).then(function(){\n",
       "                            \n",
       "var gd = document.getElementById('a1738692-7033-42ab-91a8-7de1b80bba05');\n",
       "var x = new MutationObserver(function (mutations, observer) {{\n",
       "        var display = window.getComputedStyle(gd).display;\n",
       "        if (!display || display === 'none') {{\n",
       "            console.log([gd, 'removed!']);\n",
       "            Plotly.purge(gd);\n",
       "            observer.disconnect();\n",
       "        }}\n",
       "}});\n",
       "\n",
       "// Listen for the removal of the full notebook cells\n",
       "var notebookContainer = gd.closest('#notebook-container');\n",
       "if (notebookContainer) {{\n",
       "    x.observe(notebookContainer, {childList: true});\n",
       "}}\n",
       "\n",
       "// Listen for the clearing of the current output cell\n",
       "var outputEl = gd.closest('.output');\n",
       "if (outputEl) {{\n",
       "    x.observe(outputEl, {childList: true});\n",
       "}}\n",
       "\n",
       "                        })                };                });            </script>        </div>"
      ]
     },
     "metadata": {},
     "output_type": "display_data"
    },
    {
     "data": {
      "application/vnd.plotly.v1+json": {
       "config": {
        "plotlyServerURL": "https://plot.ly"
       },
       "data": [
        {
         "domain": {
          "x": [
           0,
           1
          ],
          "y": [
           0,
           1
          ]
         },
         "hole": 0.3,
         "hovertemplate": "label=%{label}<br>value=%{value}<extra></extra>",
         "labels": [
          "Topic 1",
          "Topic 2",
          "Topic 3",
          "Topic 4",
          "Topic 5",
          "Topic 6",
          "Topic 7",
          "Topic 8",
          "Topic 9",
          "Topic 10"
         ],
         "legendgroup": "",
         "name": "",
         "showlegend": true,
         "type": "pie",
         "values": [
          769.8364016739652,
          678.8117116624489,
          4443.550371134654,
          374.01348887663335,
          699.0042103081942,
          208.3488486148417,
          4797.2748401444405,
          237.302146169357,
          203.85205094423145,
          216.34285391494632
         ]
        }
       ],
       "layout": {
        "legend": {
         "tracegroupgap": 0
        },
        "template": {
         "data": {
          "bar": [
           {
            "error_x": {
             "color": "#2a3f5f"
            },
            "error_y": {
             "color": "#2a3f5f"
            },
            "marker": {
             "line": {
              "color": "#E5ECF6",
              "width": 0.5
             },
             "pattern": {
              "fillmode": "overlay",
              "size": 10,
              "solidity": 0.2
             }
            },
            "type": "bar"
           }
          ],
          "barpolar": [
           {
            "marker": {
             "line": {
              "color": "#E5ECF6",
              "width": 0.5
             },
             "pattern": {
              "fillmode": "overlay",
              "size": 10,
              "solidity": 0.2
             }
            },
            "type": "barpolar"
           }
          ],
          "carpet": [
           {
            "aaxis": {
             "endlinecolor": "#2a3f5f",
             "gridcolor": "white",
             "linecolor": "white",
             "minorgridcolor": "white",
             "startlinecolor": "#2a3f5f"
            },
            "baxis": {
             "endlinecolor": "#2a3f5f",
             "gridcolor": "white",
             "linecolor": "white",
             "minorgridcolor": "white",
             "startlinecolor": "#2a3f5f"
            },
            "type": "carpet"
           }
          ],
          "choropleth": [
           {
            "colorbar": {
             "outlinewidth": 0,
             "ticks": ""
            },
            "type": "choropleth"
           }
          ],
          "contour": [
           {
            "colorbar": {
             "outlinewidth": 0,
             "ticks": ""
            },
            "colorscale": [
             [
              0,
              "#0d0887"
             ],
             [
              0.1111111111111111,
              "#46039f"
             ],
             [
              0.2222222222222222,
              "#7201a8"
             ],
             [
              0.3333333333333333,
              "#9c179e"
             ],
             [
              0.4444444444444444,
              "#bd3786"
             ],
             [
              0.5555555555555556,
              "#d8576b"
             ],
             [
              0.6666666666666666,
              "#ed7953"
             ],
             [
              0.7777777777777778,
              "#fb9f3a"
             ],
             [
              0.8888888888888888,
              "#fdca26"
             ],
             [
              1,
              "#f0f921"
             ]
            ],
            "type": "contour"
           }
          ],
          "contourcarpet": [
           {
            "colorbar": {
             "outlinewidth": 0,
             "ticks": ""
            },
            "type": "contourcarpet"
           }
          ],
          "heatmap": [
           {
            "colorbar": {
             "outlinewidth": 0,
             "ticks": ""
            },
            "colorscale": [
             [
              0,
              "#0d0887"
             ],
             [
              0.1111111111111111,
              "#46039f"
             ],
             [
              0.2222222222222222,
              "#7201a8"
             ],
             [
              0.3333333333333333,
              "#9c179e"
             ],
             [
              0.4444444444444444,
              "#bd3786"
             ],
             [
              0.5555555555555556,
              "#d8576b"
             ],
             [
              0.6666666666666666,
              "#ed7953"
             ],
             [
              0.7777777777777778,
              "#fb9f3a"
             ],
             [
              0.8888888888888888,
              "#fdca26"
             ],
             [
              1,
              "#f0f921"
             ]
            ],
            "type": "heatmap"
           }
          ],
          "heatmapgl": [
           {
            "colorbar": {
             "outlinewidth": 0,
             "ticks": ""
            },
            "colorscale": [
             [
              0,
              "#0d0887"
             ],
             [
              0.1111111111111111,
              "#46039f"
             ],
             [
              0.2222222222222222,
              "#7201a8"
             ],
             [
              0.3333333333333333,
              "#9c179e"
             ],
             [
              0.4444444444444444,
              "#bd3786"
             ],
             [
              0.5555555555555556,
              "#d8576b"
             ],
             [
              0.6666666666666666,
              "#ed7953"
             ],
             [
              0.7777777777777778,
              "#fb9f3a"
             ],
             [
              0.8888888888888888,
              "#fdca26"
             ],
             [
              1,
              "#f0f921"
             ]
            ],
            "type": "heatmapgl"
           }
          ],
          "histogram": [
           {
            "marker": {
             "pattern": {
              "fillmode": "overlay",
              "size": 10,
              "solidity": 0.2
             }
            },
            "type": "histogram"
           }
          ],
          "histogram2d": [
           {
            "colorbar": {
             "outlinewidth": 0,
             "ticks": ""
            },
            "colorscale": [
             [
              0,
              "#0d0887"
             ],
             [
              0.1111111111111111,
              "#46039f"
             ],
             [
              0.2222222222222222,
              "#7201a8"
             ],
             [
              0.3333333333333333,
              "#9c179e"
             ],
             [
              0.4444444444444444,
              "#bd3786"
             ],
             [
              0.5555555555555556,
              "#d8576b"
             ],
             [
              0.6666666666666666,
              "#ed7953"
             ],
             [
              0.7777777777777778,
              "#fb9f3a"
             ],
             [
              0.8888888888888888,
              "#fdca26"
             ],
             [
              1,
              "#f0f921"
             ]
            ],
            "type": "histogram2d"
           }
          ],
          "histogram2dcontour": [
           {
            "colorbar": {
             "outlinewidth": 0,
             "ticks": ""
            },
            "colorscale": [
             [
              0,
              "#0d0887"
             ],
             [
              0.1111111111111111,
              "#46039f"
             ],
             [
              0.2222222222222222,
              "#7201a8"
             ],
             [
              0.3333333333333333,
              "#9c179e"
             ],
             [
              0.4444444444444444,
              "#bd3786"
             ],
             [
              0.5555555555555556,
              "#d8576b"
             ],
             [
              0.6666666666666666,
              "#ed7953"
             ],
             [
              0.7777777777777778,
              "#fb9f3a"
             ],
             [
              0.8888888888888888,
              "#fdca26"
             ],
             [
              1,
              "#f0f921"
             ]
            ],
            "type": "histogram2dcontour"
           }
          ],
          "mesh3d": [
           {
            "colorbar": {
             "outlinewidth": 0,
             "ticks": ""
            },
            "type": "mesh3d"
           }
          ],
          "parcoords": [
           {
            "line": {
             "colorbar": {
              "outlinewidth": 0,
              "ticks": ""
             }
            },
            "type": "parcoords"
           }
          ],
          "pie": [
           {
            "automargin": true,
            "type": "pie"
           }
          ],
          "scatter": [
           {
            "fillpattern": {
             "fillmode": "overlay",
             "size": 10,
             "solidity": 0.2
            },
            "type": "scatter"
           }
          ],
          "scatter3d": [
           {
            "line": {
             "colorbar": {
              "outlinewidth": 0,
              "ticks": ""
             }
            },
            "marker": {
             "colorbar": {
              "outlinewidth": 0,
              "ticks": ""
             }
            },
            "type": "scatter3d"
           }
          ],
          "scattercarpet": [
           {
            "marker": {
             "colorbar": {
              "outlinewidth": 0,
              "ticks": ""
             }
            },
            "type": "scattercarpet"
           }
          ],
          "scattergeo": [
           {
            "marker": {
             "colorbar": {
              "outlinewidth": 0,
              "ticks": ""
             }
            },
            "type": "scattergeo"
           }
          ],
          "scattergl": [
           {
            "marker": {
             "colorbar": {
              "outlinewidth": 0,
              "ticks": ""
             }
            },
            "type": "scattergl"
           }
          ],
          "scattermapbox": [
           {
            "marker": {
             "colorbar": {
              "outlinewidth": 0,
              "ticks": ""
             }
            },
            "type": "scattermapbox"
           }
          ],
          "scatterpolar": [
           {
            "marker": {
             "colorbar": {
              "outlinewidth": 0,
              "ticks": ""
             }
            },
            "type": "scatterpolar"
           }
          ],
          "scatterpolargl": [
           {
            "marker": {
             "colorbar": {
              "outlinewidth": 0,
              "ticks": ""
             }
            },
            "type": "scatterpolargl"
           }
          ],
          "scatterternary": [
           {
            "marker": {
             "colorbar": {
              "outlinewidth": 0,
              "ticks": ""
             }
            },
            "type": "scatterternary"
           }
          ],
          "surface": [
           {
            "colorbar": {
             "outlinewidth": 0,
             "ticks": ""
            },
            "colorscale": [
             [
              0,
              "#0d0887"
             ],
             [
              0.1111111111111111,
              "#46039f"
             ],
             [
              0.2222222222222222,
              "#7201a8"
             ],
             [
              0.3333333333333333,
              "#9c179e"
             ],
             [
              0.4444444444444444,
              "#bd3786"
             ],
             [
              0.5555555555555556,
              "#d8576b"
             ],
             [
              0.6666666666666666,
              "#ed7953"
             ],
             [
              0.7777777777777778,
              "#fb9f3a"
             ],
             [
              0.8888888888888888,
              "#fdca26"
             ],
             [
              1,
              "#f0f921"
             ]
            ],
            "type": "surface"
           }
          ],
          "table": [
           {
            "cells": {
             "fill": {
              "color": "#EBF0F8"
             },
             "line": {
              "color": "white"
             }
            },
            "header": {
             "fill": {
              "color": "#C8D4E3"
             },
             "line": {
              "color": "white"
             }
            },
            "type": "table"
           }
          ]
         },
         "layout": {
          "annotationdefaults": {
           "arrowcolor": "#2a3f5f",
           "arrowhead": 0,
           "arrowwidth": 1
          },
          "autotypenumbers": "strict",
          "coloraxis": {
           "colorbar": {
            "outlinewidth": 0,
            "ticks": ""
           }
          },
          "colorscale": {
           "diverging": [
            [
             0,
             "#8e0152"
            ],
            [
             0.1,
             "#c51b7d"
            ],
            [
             0.2,
             "#de77ae"
            ],
            [
             0.3,
             "#f1b6da"
            ],
            [
             0.4,
             "#fde0ef"
            ],
            [
             0.5,
             "#f7f7f7"
            ],
            [
             0.6,
             "#e6f5d0"
            ],
            [
             0.7,
             "#b8e186"
            ],
            [
             0.8,
             "#7fbc41"
            ],
            [
             0.9,
             "#4d9221"
            ],
            [
             1,
             "#276419"
            ]
           ],
           "sequential": [
            [
             0,
             "#0d0887"
            ],
            [
             0.1111111111111111,
             "#46039f"
            ],
            [
             0.2222222222222222,
             "#7201a8"
            ],
            [
             0.3333333333333333,
             "#9c179e"
            ],
            [
             0.4444444444444444,
             "#bd3786"
            ],
            [
             0.5555555555555556,
             "#d8576b"
            ],
            [
             0.6666666666666666,
             "#ed7953"
            ],
            [
             0.7777777777777778,
             "#fb9f3a"
            ],
            [
             0.8888888888888888,
             "#fdca26"
            ],
            [
             1,
             "#f0f921"
            ]
           ],
           "sequentialminus": [
            [
             0,
             "#0d0887"
            ],
            [
             0.1111111111111111,
             "#46039f"
            ],
            [
             0.2222222222222222,
             "#7201a8"
            ],
            [
             0.3333333333333333,
             "#9c179e"
            ],
            [
             0.4444444444444444,
             "#bd3786"
            ],
            [
             0.5555555555555556,
             "#d8576b"
            ],
            [
             0.6666666666666666,
             "#ed7953"
            ],
            [
             0.7777777777777778,
             "#fb9f3a"
            ],
            [
             0.8888888888888888,
             "#fdca26"
            ],
            [
             1,
             "#f0f921"
            ]
           ]
          },
          "colorway": [
           "#636efa",
           "#EF553B",
           "#00cc96",
           "#ab63fa",
           "#FFA15A",
           "#19d3f3",
           "#FF6692",
           "#B6E880",
           "#FF97FF",
           "#FECB52"
          ],
          "font": {
           "color": "#2a3f5f"
          },
          "geo": {
           "bgcolor": "white",
           "lakecolor": "white",
           "landcolor": "#E5ECF6",
           "showlakes": true,
           "showland": true,
           "subunitcolor": "white"
          },
          "hoverlabel": {
           "align": "left"
          },
          "hovermode": "closest",
          "mapbox": {
           "style": "light"
          },
          "paper_bgcolor": "white",
          "plot_bgcolor": "#E5ECF6",
          "polar": {
           "angularaxis": {
            "gridcolor": "white",
            "linecolor": "white",
            "ticks": ""
           },
           "bgcolor": "#E5ECF6",
           "radialaxis": {
            "gridcolor": "white",
            "linecolor": "white",
            "ticks": ""
           }
          },
          "scene": {
           "xaxis": {
            "backgroundcolor": "#E5ECF6",
            "gridcolor": "white",
            "gridwidth": 2,
            "linecolor": "white",
            "showbackground": true,
            "ticks": "",
            "zerolinecolor": "white"
           },
           "yaxis": {
            "backgroundcolor": "#E5ECF6",
            "gridcolor": "white",
            "gridwidth": 2,
            "linecolor": "white",
            "showbackground": true,
            "ticks": "",
            "zerolinecolor": "white"
           },
           "zaxis": {
            "backgroundcolor": "#E5ECF6",
            "gridcolor": "white",
            "gridwidth": 2,
            "linecolor": "white",
            "showbackground": true,
            "ticks": "",
            "zerolinecolor": "white"
           }
          },
          "shapedefaults": {
           "line": {
            "color": "#2a3f5f"
           }
          },
          "ternary": {
           "aaxis": {
            "gridcolor": "white",
            "linecolor": "white",
            "ticks": ""
           },
           "baxis": {
            "gridcolor": "white",
            "linecolor": "white",
            "ticks": ""
           },
           "bgcolor": "#E5ECF6",
           "caxis": {
            "gridcolor": "white",
            "linecolor": "white",
            "ticks": ""
           }
          },
          "title": {
           "x": 0.05
          },
          "xaxis": {
           "automargin": true,
           "gridcolor": "white",
           "linecolor": "white",
           "ticks": "",
           "title": {
            "standoff": 15
           },
           "zerolinecolor": "white",
           "zerolinewidth": 2
          },
          "yaxis": {
           "automargin": true,
           "gridcolor": "white",
           "linecolor": "white",
           "ticks": "",
           "title": {
            "standoff": 15
           },
           "zerolinecolor": "white",
           "zerolinewidth": 2
          }
         }
        },
        "title": {
         "text": "Topic Distribution in Dataset 2 (N=10)"
        }
       }
      },
      "text/html": [
       "<div>                            <div id=\"a66a7dee-f1e3-4c39-8805-8c04a3960c94\" class=\"plotly-graph-div\" style=\"height:525px; width:100%;\"></div>            <script type=\"text/javascript\">                require([\"plotly\"], function(Plotly) {                    window.PLOTLYENV=window.PLOTLYENV || {};                                    if (document.getElementById(\"a66a7dee-f1e3-4c39-8805-8c04a3960c94\")) {                    Plotly.newPlot(                        \"a66a7dee-f1e3-4c39-8805-8c04a3960c94\",                        [{\"domain\":{\"x\":[0.0,1.0],\"y\":[0.0,1.0]},\"hole\":0.3,\"hovertemplate\":\"label=%{label}<br>value=%{value}<extra></extra>\",\"labels\":[\"Topic 1\",\"Topic 2\",\"Topic 3\",\"Topic 4\",\"Topic 5\",\"Topic 6\",\"Topic 7\",\"Topic 8\",\"Topic 9\",\"Topic 10\"],\"legendgroup\":\"\",\"name\":\"\",\"showlegend\":true,\"values\":[769.8364016739652,678.8117116624489,4443.550371134654,374.01348887663335,699.0042103081942,208.3488486148417,4797.2748401444405,237.302146169357,203.85205094423145,216.34285391494632],\"type\":\"pie\"}],                        {\"template\":{\"data\":{\"histogram2dcontour\":[{\"type\":\"histogram2dcontour\",\"colorbar\":{\"outlinewidth\":0,\"ticks\":\"\"},\"colorscale\":[[0.0,\"#0d0887\"],[0.1111111111111111,\"#46039f\"],[0.2222222222222222,\"#7201a8\"],[0.3333333333333333,\"#9c179e\"],[0.4444444444444444,\"#bd3786\"],[0.5555555555555556,\"#d8576b\"],[0.6666666666666666,\"#ed7953\"],[0.7777777777777778,\"#fb9f3a\"],[0.8888888888888888,\"#fdca26\"],[1.0,\"#f0f921\"]]}],\"choropleth\":[{\"type\":\"choropleth\",\"colorbar\":{\"outlinewidth\":0,\"ticks\":\"\"}}],\"histogram2d\":[{\"type\":\"histogram2d\",\"colorbar\":{\"outlinewidth\":0,\"ticks\":\"\"},\"colorscale\":[[0.0,\"#0d0887\"],[0.1111111111111111,\"#46039f\"],[0.2222222222222222,\"#7201a8\"],[0.3333333333333333,\"#9c179e\"],[0.4444444444444444,\"#bd3786\"],[0.5555555555555556,\"#d8576b\"],[0.6666666666666666,\"#ed7953\"],[0.7777777777777778,\"#fb9f3a\"],[0.8888888888888888,\"#fdca26\"],[1.0,\"#f0f921\"]]}],\"heatmap\":[{\"type\":\"heatmap\",\"colorbar\":{\"outlinewidth\":0,\"ticks\":\"\"},\"colorscale\":[[0.0,\"#0d0887\"],[0.1111111111111111,\"#46039f\"],[0.2222222222222222,\"#7201a8\"],[0.3333333333333333,\"#9c179e\"],[0.4444444444444444,\"#bd3786\"],[0.5555555555555556,\"#d8576b\"],[0.6666666666666666,\"#ed7953\"],[0.7777777777777778,\"#fb9f3a\"],[0.8888888888888888,\"#fdca26\"],[1.0,\"#f0f921\"]]}],\"heatmapgl\":[{\"type\":\"heatmapgl\",\"colorbar\":{\"outlinewidth\":0,\"ticks\":\"\"},\"colorscale\":[[0.0,\"#0d0887\"],[0.1111111111111111,\"#46039f\"],[0.2222222222222222,\"#7201a8\"],[0.3333333333333333,\"#9c179e\"],[0.4444444444444444,\"#bd3786\"],[0.5555555555555556,\"#d8576b\"],[0.6666666666666666,\"#ed7953\"],[0.7777777777777778,\"#fb9f3a\"],[0.8888888888888888,\"#fdca26\"],[1.0,\"#f0f921\"]]}],\"contourcarpet\":[{\"type\":\"contourcarpet\",\"colorbar\":{\"outlinewidth\":0,\"ticks\":\"\"}}],\"contour\":[{\"type\":\"contour\",\"colorbar\":{\"outlinewidth\":0,\"ticks\":\"\"},\"colorscale\":[[0.0,\"#0d0887\"],[0.1111111111111111,\"#46039f\"],[0.2222222222222222,\"#7201a8\"],[0.3333333333333333,\"#9c179e\"],[0.4444444444444444,\"#bd3786\"],[0.5555555555555556,\"#d8576b\"],[0.6666666666666666,\"#ed7953\"],[0.7777777777777778,\"#fb9f3a\"],[0.8888888888888888,\"#fdca26\"],[1.0,\"#f0f921\"]]}],\"surface\":[{\"type\":\"surface\",\"colorbar\":{\"outlinewidth\":0,\"ticks\":\"\"},\"colorscale\":[[0.0,\"#0d0887\"],[0.1111111111111111,\"#46039f\"],[0.2222222222222222,\"#7201a8\"],[0.3333333333333333,\"#9c179e\"],[0.4444444444444444,\"#bd3786\"],[0.5555555555555556,\"#d8576b\"],[0.6666666666666666,\"#ed7953\"],[0.7777777777777778,\"#fb9f3a\"],[0.8888888888888888,\"#fdca26\"],[1.0,\"#f0f921\"]]}],\"mesh3d\":[{\"type\":\"mesh3d\",\"colorbar\":{\"outlinewidth\":0,\"ticks\":\"\"}}],\"scatter\":[{\"fillpattern\":{\"fillmode\":\"overlay\",\"size\":10,\"solidity\":0.2},\"type\":\"scatter\"}],\"parcoords\":[{\"type\":\"parcoords\",\"line\":{\"colorbar\":{\"outlinewidth\":0,\"ticks\":\"\"}}}],\"scatterpolargl\":[{\"type\":\"scatterpolargl\",\"marker\":{\"colorbar\":{\"outlinewidth\":0,\"ticks\":\"\"}}}],\"bar\":[{\"error_x\":{\"color\":\"#2a3f5f\"},\"error_y\":{\"color\":\"#2a3f5f\"},\"marker\":{\"line\":{\"color\":\"#E5ECF6\",\"width\":0.5},\"pattern\":{\"fillmode\":\"overlay\",\"size\":10,\"solidity\":0.2}},\"type\":\"bar\"}],\"scattergeo\":[{\"type\":\"scattergeo\",\"marker\":{\"colorbar\":{\"outlinewidth\":0,\"ticks\":\"\"}}}],\"scatterpolar\":[{\"type\":\"scatterpolar\",\"marker\":{\"colorbar\":{\"outlinewidth\":0,\"ticks\":\"\"}}}],\"histogram\":[{\"marker\":{\"pattern\":{\"fillmode\":\"overlay\",\"size\":10,\"solidity\":0.2}},\"type\":\"histogram\"}],\"scattergl\":[{\"type\":\"scattergl\",\"marker\":{\"colorbar\":{\"outlinewidth\":0,\"ticks\":\"\"}}}],\"scatter3d\":[{\"type\":\"scatter3d\",\"line\":{\"colorbar\":{\"outlinewidth\":0,\"ticks\":\"\"}},\"marker\":{\"colorbar\":{\"outlinewidth\":0,\"ticks\":\"\"}}}],\"scattermapbox\":[{\"type\":\"scattermapbox\",\"marker\":{\"colorbar\":{\"outlinewidth\":0,\"ticks\":\"\"}}}],\"scatterternary\":[{\"type\":\"scatterternary\",\"marker\":{\"colorbar\":{\"outlinewidth\":0,\"ticks\":\"\"}}}],\"scattercarpet\":[{\"type\":\"scattercarpet\",\"marker\":{\"colorbar\":{\"outlinewidth\":0,\"ticks\":\"\"}}}],\"carpet\":[{\"aaxis\":{\"endlinecolor\":\"#2a3f5f\",\"gridcolor\":\"white\",\"linecolor\":\"white\",\"minorgridcolor\":\"white\",\"startlinecolor\":\"#2a3f5f\"},\"baxis\":{\"endlinecolor\":\"#2a3f5f\",\"gridcolor\":\"white\",\"linecolor\":\"white\",\"minorgridcolor\":\"white\",\"startlinecolor\":\"#2a3f5f\"},\"type\":\"carpet\"}],\"table\":[{\"cells\":{\"fill\":{\"color\":\"#EBF0F8\"},\"line\":{\"color\":\"white\"}},\"header\":{\"fill\":{\"color\":\"#C8D4E3\"},\"line\":{\"color\":\"white\"}},\"type\":\"table\"}],\"barpolar\":[{\"marker\":{\"line\":{\"color\":\"#E5ECF6\",\"width\":0.5},\"pattern\":{\"fillmode\":\"overlay\",\"size\":10,\"solidity\":0.2}},\"type\":\"barpolar\"}],\"pie\":[{\"automargin\":true,\"type\":\"pie\"}]},\"layout\":{\"autotypenumbers\":\"strict\",\"colorway\":[\"#636efa\",\"#EF553B\",\"#00cc96\",\"#ab63fa\",\"#FFA15A\",\"#19d3f3\",\"#FF6692\",\"#B6E880\",\"#FF97FF\",\"#FECB52\"],\"font\":{\"color\":\"#2a3f5f\"},\"hovermode\":\"closest\",\"hoverlabel\":{\"align\":\"left\"},\"paper_bgcolor\":\"white\",\"plot_bgcolor\":\"#E5ECF6\",\"polar\":{\"bgcolor\":\"#E5ECF6\",\"angularaxis\":{\"gridcolor\":\"white\",\"linecolor\":\"white\",\"ticks\":\"\"},\"radialaxis\":{\"gridcolor\":\"white\",\"linecolor\":\"white\",\"ticks\":\"\"}},\"ternary\":{\"bgcolor\":\"#E5ECF6\",\"aaxis\":{\"gridcolor\":\"white\",\"linecolor\":\"white\",\"ticks\":\"\"},\"baxis\":{\"gridcolor\":\"white\",\"linecolor\":\"white\",\"ticks\":\"\"},\"caxis\":{\"gridcolor\":\"white\",\"linecolor\":\"white\",\"ticks\":\"\"}},\"coloraxis\":{\"colorbar\":{\"outlinewidth\":0,\"ticks\":\"\"}},\"colorscale\":{\"sequential\":[[0.0,\"#0d0887\"],[0.1111111111111111,\"#46039f\"],[0.2222222222222222,\"#7201a8\"],[0.3333333333333333,\"#9c179e\"],[0.4444444444444444,\"#bd3786\"],[0.5555555555555556,\"#d8576b\"],[0.6666666666666666,\"#ed7953\"],[0.7777777777777778,\"#fb9f3a\"],[0.8888888888888888,\"#fdca26\"],[1.0,\"#f0f921\"]],\"sequentialminus\":[[0.0,\"#0d0887\"],[0.1111111111111111,\"#46039f\"],[0.2222222222222222,\"#7201a8\"],[0.3333333333333333,\"#9c179e\"],[0.4444444444444444,\"#bd3786\"],[0.5555555555555556,\"#d8576b\"],[0.6666666666666666,\"#ed7953\"],[0.7777777777777778,\"#fb9f3a\"],[0.8888888888888888,\"#fdca26\"],[1.0,\"#f0f921\"]],\"diverging\":[[0,\"#8e0152\"],[0.1,\"#c51b7d\"],[0.2,\"#de77ae\"],[0.3,\"#f1b6da\"],[0.4,\"#fde0ef\"],[0.5,\"#f7f7f7\"],[0.6,\"#e6f5d0\"],[0.7,\"#b8e186\"],[0.8,\"#7fbc41\"],[0.9,\"#4d9221\"],[1,\"#276419\"]]},\"xaxis\":{\"gridcolor\":\"white\",\"linecolor\":\"white\",\"ticks\":\"\",\"title\":{\"standoff\":15},\"zerolinecolor\":\"white\",\"automargin\":true,\"zerolinewidth\":2},\"yaxis\":{\"gridcolor\":\"white\",\"linecolor\":\"white\",\"ticks\":\"\",\"title\":{\"standoff\":15},\"zerolinecolor\":\"white\",\"automargin\":true,\"zerolinewidth\":2},\"scene\":{\"xaxis\":{\"backgroundcolor\":\"#E5ECF6\",\"gridcolor\":\"white\",\"linecolor\":\"white\",\"showbackground\":true,\"ticks\":\"\",\"zerolinecolor\":\"white\",\"gridwidth\":2},\"yaxis\":{\"backgroundcolor\":\"#E5ECF6\",\"gridcolor\":\"white\",\"linecolor\":\"white\",\"showbackground\":true,\"ticks\":\"\",\"zerolinecolor\":\"white\",\"gridwidth\":2},\"zaxis\":{\"backgroundcolor\":\"#E5ECF6\",\"gridcolor\":\"white\",\"linecolor\":\"white\",\"showbackground\":true,\"ticks\":\"\",\"zerolinecolor\":\"white\",\"gridwidth\":2}},\"shapedefaults\":{\"line\":{\"color\":\"#2a3f5f\"}},\"annotationdefaults\":{\"arrowcolor\":\"#2a3f5f\",\"arrowhead\":0,\"arrowwidth\":1},\"geo\":{\"bgcolor\":\"white\",\"landcolor\":\"#E5ECF6\",\"subunitcolor\":\"white\",\"showland\":true,\"showlakes\":true,\"lakecolor\":\"white\"},\"title\":{\"x\":0.05},\"mapbox\":{\"style\":\"light\"}}},\"legend\":{\"tracegroupgap\":0},\"title\":{\"text\":\"Topic Distribution in Dataset 2 (N=10)\"}},                        {\"responsive\": true}                    ).then(function(){\n",
       "                            \n",
       "var gd = document.getElementById('a66a7dee-f1e3-4c39-8805-8c04a3960c94');\n",
       "var x = new MutationObserver(function (mutations, observer) {{\n",
       "        var display = window.getComputedStyle(gd).display;\n",
       "        if (!display || display === 'none') {{\n",
       "            console.log([gd, 'removed!']);\n",
       "            Plotly.purge(gd);\n",
       "            observer.disconnect();\n",
       "        }}\n",
       "}});\n",
       "\n",
       "// Listen for the removal of the full notebook cells\n",
       "var notebookContainer = gd.closest('#notebook-container');\n",
       "if (notebookContainer) {{\n",
       "    x.observe(notebookContainer, {childList: true});\n",
       "}}\n",
       "\n",
       "// Listen for the clearing of the current output cell\n",
       "var outputEl = gd.closest('.output');\n",
       "if (outputEl) {{\n",
       "    x.observe(outputEl, {childList: true});\n",
       "}}\n",
       "\n",
       "                        })                };                });            </script>        </div>"
      ]
     },
     "metadata": {},
     "output_type": "display_data"
    },
    {
     "data": {
      "application/vnd.plotly.v1+json": {
       "config": {
        "plotlyServerURL": "https://plot.ly"
       },
       "data": [
        {
         "domain": {
          "x": [
           0,
           1
          ],
          "y": [
           0,
           1
          ]
         },
         "hole": 0.3,
         "hovertemplate": "label=%{label}<br>value=%{value}<extra></extra>",
         "labels": [
          "Topic 1",
          "Topic 2",
          "Topic 3",
          "Topic 4",
          "Topic 5",
          "Topic 6",
          "Topic 7",
          "Topic 8",
          "Topic 9",
          "Topic 10",
          "Topic 11",
          "Topic 12",
          "Topic 13",
          "Topic 14",
          "Topic 15",
          "Topic 16",
          "Topic 17",
          "Topic 18",
          "Topic 19",
          "Topic 20"
         ],
         "legendgroup": "",
         "name": "",
         "showlegend": true,
         "type": "pie",
         "values": [
          207.4954378651455,
          1780.3400095524266,
          97.88734934013337,
          68.82439904939383,
          4854.275940093212,
          143.0514311036095,
          447.23919546138495,
          125.70169322565198,
          154.48048703093082,
          360.6451154984534,
          1473.576194981113,
          333.17521047312766,
          95.90379451122135,
          129.83603858575225,
          94.4510551635176,
          219.723601504229,
          166.41344313975424,
          1339.5805111508816,
          253.18181741423905,
          100.60446471441537
         ]
        }
       ],
       "layout": {
        "legend": {
         "tracegroupgap": 0
        },
        "template": {
         "data": {
          "bar": [
           {
            "error_x": {
             "color": "#2a3f5f"
            },
            "error_y": {
             "color": "#2a3f5f"
            },
            "marker": {
             "line": {
              "color": "#E5ECF6",
              "width": 0.5
             },
             "pattern": {
              "fillmode": "overlay",
              "size": 10,
              "solidity": 0.2
             }
            },
            "type": "bar"
           }
          ],
          "barpolar": [
           {
            "marker": {
             "line": {
              "color": "#E5ECF6",
              "width": 0.5
             },
             "pattern": {
              "fillmode": "overlay",
              "size": 10,
              "solidity": 0.2
             }
            },
            "type": "barpolar"
           }
          ],
          "carpet": [
           {
            "aaxis": {
             "endlinecolor": "#2a3f5f",
             "gridcolor": "white",
             "linecolor": "white",
             "minorgridcolor": "white",
             "startlinecolor": "#2a3f5f"
            },
            "baxis": {
             "endlinecolor": "#2a3f5f",
             "gridcolor": "white",
             "linecolor": "white",
             "minorgridcolor": "white",
             "startlinecolor": "#2a3f5f"
            },
            "type": "carpet"
           }
          ],
          "choropleth": [
           {
            "colorbar": {
             "outlinewidth": 0,
             "ticks": ""
            },
            "type": "choropleth"
           }
          ],
          "contour": [
           {
            "colorbar": {
             "outlinewidth": 0,
             "ticks": ""
            },
            "colorscale": [
             [
              0,
              "#0d0887"
             ],
             [
              0.1111111111111111,
              "#46039f"
             ],
             [
              0.2222222222222222,
              "#7201a8"
             ],
             [
              0.3333333333333333,
              "#9c179e"
             ],
             [
              0.4444444444444444,
              "#bd3786"
             ],
             [
              0.5555555555555556,
              "#d8576b"
             ],
             [
              0.6666666666666666,
              "#ed7953"
             ],
             [
              0.7777777777777778,
              "#fb9f3a"
             ],
             [
              0.8888888888888888,
              "#fdca26"
             ],
             [
              1,
              "#f0f921"
             ]
            ],
            "type": "contour"
           }
          ],
          "contourcarpet": [
           {
            "colorbar": {
             "outlinewidth": 0,
             "ticks": ""
            },
            "type": "contourcarpet"
           }
          ],
          "heatmap": [
           {
            "colorbar": {
             "outlinewidth": 0,
             "ticks": ""
            },
            "colorscale": [
             [
              0,
              "#0d0887"
             ],
             [
              0.1111111111111111,
              "#46039f"
             ],
             [
              0.2222222222222222,
              "#7201a8"
             ],
             [
              0.3333333333333333,
              "#9c179e"
             ],
             [
              0.4444444444444444,
              "#bd3786"
             ],
             [
              0.5555555555555556,
              "#d8576b"
             ],
             [
              0.6666666666666666,
              "#ed7953"
             ],
             [
              0.7777777777777778,
              "#fb9f3a"
             ],
             [
              0.8888888888888888,
              "#fdca26"
             ],
             [
              1,
              "#f0f921"
             ]
            ],
            "type": "heatmap"
           }
          ],
          "heatmapgl": [
           {
            "colorbar": {
             "outlinewidth": 0,
             "ticks": ""
            },
            "colorscale": [
             [
              0,
              "#0d0887"
             ],
             [
              0.1111111111111111,
              "#46039f"
             ],
             [
              0.2222222222222222,
              "#7201a8"
             ],
             [
              0.3333333333333333,
              "#9c179e"
             ],
             [
              0.4444444444444444,
              "#bd3786"
             ],
             [
              0.5555555555555556,
              "#d8576b"
             ],
             [
              0.6666666666666666,
              "#ed7953"
             ],
             [
              0.7777777777777778,
              "#fb9f3a"
             ],
             [
              0.8888888888888888,
              "#fdca26"
             ],
             [
              1,
              "#f0f921"
             ]
            ],
            "type": "heatmapgl"
           }
          ],
          "histogram": [
           {
            "marker": {
             "pattern": {
              "fillmode": "overlay",
              "size": 10,
              "solidity": 0.2
             }
            },
            "type": "histogram"
           }
          ],
          "histogram2d": [
           {
            "colorbar": {
             "outlinewidth": 0,
             "ticks": ""
            },
            "colorscale": [
             [
              0,
              "#0d0887"
             ],
             [
              0.1111111111111111,
              "#46039f"
             ],
             [
              0.2222222222222222,
              "#7201a8"
             ],
             [
              0.3333333333333333,
              "#9c179e"
             ],
             [
              0.4444444444444444,
              "#bd3786"
             ],
             [
              0.5555555555555556,
              "#d8576b"
             ],
             [
              0.6666666666666666,
              "#ed7953"
             ],
             [
              0.7777777777777778,
              "#fb9f3a"
             ],
             [
              0.8888888888888888,
              "#fdca26"
             ],
             [
              1,
              "#f0f921"
             ]
            ],
            "type": "histogram2d"
           }
          ],
          "histogram2dcontour": [
           {
            "colorbar": {
             "outlinewidth": 0,
             "ticks": ""
            },
            "colorscale": [
             [
              0,
              "#0d0887"
             ],
             [
              0.1111111111111111,
              "#46039f"
             ],
             [
              0.2222222222222222,
              "#7201a8"
             ],
             [
              0.3333333333333333,
              "#9c179e"
             ],
             [
              0.4444444444444444,
              "#bd3786"
             ],
             [
              0.5555555555555556,
              "#d8576b"
             ],
             [
              0.6666666666666666,
              "#ed7953"
             ],
             [
              0.7777777777777778,
              "#fb9f3a"
             ],
             [
              0.8888888888888888,
              "#fdca26"
             ],
             [
              1,
              "#f0f921"
             ]
            ],
            "type": "histogram2dcontour"
           }
          ],
          "mesh3d": [
           {
            "colorbar": {
             "outlinewidth": 0,
             "ticks": ""
            },
            "type": "mesh3d"
           }
          ],
          "parcoords": [
           {
            "line": {
             "colorbar": {
              "outlinewidth": 0,
              "ticks": ""
             }
            },
            "type": "parcoords"
           }
          ],
          "pie": [
           {
            "automargin": true,
            "type": "pie"
           }
          ],
          "scatter": [
           {
            "fillpattern": {
             "fillmode": "overlay",
             "size": 10,
             "solidity": 0.2
            },
            "type": "scatter"
           }
          ],
          "scatter3d": [
           {
            "line": {
             "colorbar": {
              "outlinewidth": 0,
              "ticks": ""
             }
            },
            "marker": {
             "colorbar": {
              "outlinewidth": 0,
              "ticks": ""
             }
            },
            "type": "scatter3d"
           }
          ],
          "scattercarpet": [
           {
            "marker": {
             "colorbar": {
              "outlinewidth": 0,
              "ticks": ""
             }
            },
            "type": "scattercarpet"
           }
          ],
          "scattergeo": [
           {
            "marker": {
             "colorbar": {
              "outlinewidth": 0,
              "ticks": ""
             }
            },
            "type": "scattergeo"
           }
          ],
          "scattergl": [
           {
            "marker": {
             "colorbar": {
              "outlinewidth": 0,
              "ticks": ""
             }
            },
            "type": "scattergl"
           }
          ],
          "scattermapbox": [
           {
            "marker": {
             "colorbar": {
              "outlinewidth": 0,
              "ticks": ""
             }
            },
            "type": "scattermapbox"
           }
          ],
          "scatterpolar": [
           {
            "marker": {
             "colorbar": {
              "outlinewidth": 0,
              "ticks": ""
             }
            },
            "type": "scatterpolar"
           }
          ],
          "scatterpolargl": [
           {
            "marker": {
             "colorbar": {
              "outlinewidth": 0,
              "ticks": ""
             }
            },
            "type": "scatterpolargl"
           }
          ],
          "scatterternary": [
           {
            "marker": {
             "colorbar": {
              "outlinewidth": 0,
              "ticks": ""
             }
            },
            "type": "scatterternary"
           }
          ],
          "surface": [
           {
            "colorbar": {
             "outlinewidth": 0,
             "ticks": ""
            },
            "colorscale": [
             [
              0,
              "#0d0887"
             ],
             [
              0.1111111111111111,
              "#46039f"
             ],
             [
              0.2222222222222222,
              "#7201a8"
             ],
             [
              0.3333333333333333,
              "#9c179e"
             ],
             [
              0.4444444444444444,
              "#bd3786"
             ],
             [
              0.5555555555555556,
              "#d8576b"
             ],
             [
              0.6666666666666666,
              "#ed7953"
             ],
             [
              0.7777777777777778,
              "#fb9f3a"
             ],
             [
              0.8888888888888888,
              "#fdca26"
             ],
             [
              1,
              "#f0f921"
             ]
            ],
            "type": "surface"
           }
          ],
          "table": [
           {
            "cells": {
             "fill": {
              "color": "#EBF0F8"
             },
             "line": {
              "color": "white"
             }
            },
            "header": {
             "fill": {
              "color": "#C8D4E3"
             },
             "line": {
              "color": "white"
             }
            },
            "type": "table"
           }
          ]
         },
         "layout": {
          "annotationdefaults": {
           "arrowcolor": "#2a3f5f",
           "arrowhead": 0,
           "arrowwidth": 1
          },
          "autotypenumbers": "strict",
          "coloraxis": {
           "colorbar": {
            "outlinewidth": 0,
            "ticks": ""
           }
          },
          "colorscale": {
           "diverging": [
            [
             0,
             "#8e0152"
            ],
            [
             0.1,
             "#c51b7d"
            ],
            [
             0.2,
             "#de77ae"
            ],
            [
             0.3,
             "#f1b6da"
            ],
            [
             0.4,
             "#fde0ef"
            ],
            [
             0.5,
             "#f7f7f7"
            ],
            [
             0.6,
             "#e6f5d0"
            ],
            [
             0.7,
             "#b8e186"
            ],
            [
             0.8,
             "#7fbc41"
            ],
            [
             0.9,
             "#4d9221"
            ],
            [
             1,
             "#276419"
            ]
           ],
           "sequential": [
            [
             0,
             "#0d0887"
            ],
            [
             0.1111111111111111,
             "#46039f"
            ],
            [
             0.2222222222222222,
             "#7201a8"
            ],
            [
             0.3333333333333333,
             "#9c179e"
            ],
            [
             0.4444444444444444,
             "#bd3786"
            ],
            [
             0.5555555555555556,
             "#d8576b"
            ],
            [
             0.6666666666666666,
             "#ed7953"
            ],
            [
             0.7777777777777778,
             "#fb9f3a"
            ],
            [
             0.8888888888888888,
             "#fdca26"
            ],
            [
             1,
             "#f0f921"
            ]
           ],
           "sequentialminus": [
            [
             0,
             "#0d0887"
            ],
            [
             0.1111111111111111,
             "#46039f"
            ],
            [
             0.2222222222222222,
             "#7201a8"
            ],
            [
             0.3333333333333333,
             "#9c179e"
            ],
            [
             0.4444444444444444,
             "#bd3786"
            ],
            [
             0.5555555555555556,
             "#d8576b"
            ],
            [
             0.6666666666666666,
             "#ed7953"
            ],
            [
             0.7777777777777778,
             "#fb9f3a"
            ],
            [
             0.8888888888888888,
             "#fdca26"
            ],
            [
             1,
             "#f0f921"
            ]
           ]
          },
          "colorway": [
           "#636efa",
           "#EF553B",
           "#00cc96",
           "#ab63fa",
           "#FFA15A",
           "#19d3f3",
           "#FF6692",
           "#B6E880",
           "#FF97FF",
           "#FECB52"
          ],
          "font": {
           "color": "#2a3f5f"
          },
          "geo": {
           "bgcolor": "white",
           "lakecolor": "white",
           "landcolor": "#E5ECF6",
           "showlakes": true,
           "showland": true,
           "subunitcolor": "white"
          },
          "hoverlabel": {
           "align": "left"
          },
          "hovermode": "closest",
          "mapbox": {
           "style": "light"
          },
          "paper_bgcolor": "white",
          "plot_bgcolor": "#E5ECF6",
          "polar": {
           "angularaxis": {
            "gridcolor": "white",
            "linecolor": "white",
            "ticks": ""
           },
           "bgcolor": "#E5ECF6",
           "radialaxis": {
            "gridcolor": "white",
            "linecolor": "white",
            "ticks": ""
           }
          },
          "scene": {
           "xaxis": {
            "backgroundcolor": "#E5ECF6",
            "gridcolor": "white",
            "gridwidth": 2,
            "linecolor": "white",
            "showbackground": true,
            "ticks": "",
            "zerolinecolor": "white"
           },
           "yaxis": {
            "backgroundcolor": "#E5ECF6",
            "gridcolor": "white",
            "gridwidth": 2,
            "linecolor": "white",
            "showbackground": true,
            "ticks": "",
            "zerolinecolor": "white"
           },
           "zaxis": {
            "backgroundcolor": "#E5ECF6",
            "gridcolor": "white",
            "gridwidth": 2,
            "linecolor": "white",
            "showbackground": true,
            "ticks": "",
            "zerolinecolor": "white"
           }
          },
          "shapedefaults": {
           "line": {
            "color": "#2a3f5f"
           }
          },
          "ternary": {
           "aaxis": {
            "gridcolor": "white",
            "linecolor": "white",
            "ticks": ""
           },
           "baxis": {
            "gridcolor": "white",
            "linecolor": "white",
            "ticks": ""
           },
           "bgcolor": "#E5ECF6",
           "caxis": {
            "gridcolor": "white",
            "linecolor": "white",
            "ticks": ""
           }
          },
          "title": {
           "x": 0.05
          },
          "xaxis": {
           "automargin": true,
           "gridcolor": "white",
           "linecolor": "white",
           "ticks": "",
           "title": {
            "standoff": 15
           },
           "zerolinecolor": "white",
           "zerolinewidth": 2
          },
          "yaxis": {
           "automargin": true,
           "gridcolor": "white",
           "linecolor": "white",
           "ticks": "",
           "title": {
            "standoff": 15
           },
           "zerolinecolor": "white",
           "zerolinewidth": 2
          }
         }
        },
        "title": {
         "text": "Topic Distribution in Dataset 2 (N=20)"
        }
       }
      },
      "text/html": [
       "<div>                            <div id=\"8301d69f-ad02-40f5-928a-9ddd561a7609\" class=\"plotly-graph-div\" style=\"height:525px; width:100%;\"></div>            <script type=\"text/javascript\">                require([\"plotly\"], function(Plotly) {                    window.PLOTLYENV=window.PLOTLYENV || {};                                    if (document.getElementById(\"8301d69f-ad02-40f5-928a-9ddd561a7609\")) {                    Plotly.newPlot(                        \"8301d69f-ad02-40f5-928a-9ddd561a7609\",                        [{\"domain\":{\"x\":[0.0,1.0],\"y\":[0.0,1.0]},\"hole\":0.3,\"hovertemplate\":\"label=%{label}<br>value=%{value}<extra></extra>\",\"labels\":[\"Topic 1\",\"Topic 2\",\"Topic 3\",\"Topic 4\",\"Topic 5\",\"Topic 6\",\"Topic 7\",\"Topic 8\",\"Topic 9\",\"Topic 10\",\"Topic 11\",\"Topic 12\",\"Topic 13\",\"Topic 14\",\"Topic 15\",\"Topic 16\",\"Topic 17\",\"Topic 18\",\"Topic 19\",\"Topic 20\"],\"legendgroup\":\"\",\"name\":\"\",\"showlegend\":true,\"values\":[207.4954378651455,1780.3400095524266,97.88734934013337,68.82439904939383,4854.275940093212,143.0514311036095,447.23919546138495,125.70169322565198,154.48048703093082,360.6451154984534,1473.576194981113,333.17521047312766,95.90379451122135,129.83603858575225,94.4510551635176,219.723601504229,166.41344313975424,1339.5805111508816,253.18181741423905,100.60446471441537],\"type\":\"pie\"}],                        {\"template\":{\"data\":{\"histogram2dcontour\":[{\"type\":\"histogram2dcontour\",\"colorbar\":{\"outlinewidth\":0,\"ticks\":\"\"},\"colorscale\":[[0.0,\"#0d0887\"],[0.1111111111111111,\"#46039f\"],[0.2222222222222222,\"#7201a8\"],[0.3333333333333333,\"#9c179e\"],[0.4444444444444444,\"#bd3786\"],[0.5555555555555556,\"#d8576b\"],[0.6666666666666666,\"#ed7953\"],[0.7777777777777778,\"#fb9f3a\"],[0.8888888888888888,\"#fdca26\"],[1.0,\"#f0f921\"]]}],\"choropleth\":[{\"type\":\"choropleth\",\"colorbar\":{\"outlinewidth\":0,\"ticks\":\"\"}}],\"histogram2d\":[{\"type\":\"histogram2d\",\"colorbar\":{\"outlinewidth\":0,\"ticks\":\"\"},\"colorscale\":[[0.0,\"#0d0887\"],[0.1111111111111111,\"#46039f\"],[0.2222222222222222,\"#7201a8\"],[0.3333333333333333,\"#9c179e\"],[0.4444444444444444,\"#bd3786\"],[0.5555555555555556,\"#d8576b\"],[0.6666666666666666,\"#ed7953\"],[0.7777777777777778,\"#fb9f3a\"],[0.8888888888888888,\"#fdca26\"],[1.0,\"#f0f921\"]]}],\"heatmap\":[{\"type\":\"heatmap\",\"colorbar\":{\"outlinewidth\":0,\"ticks\":\"\"},\"colorscale\":[[0.0,\"#0d0887\"],[0.1111111111111111,\"#46039f\"],[0.2222222222222222,\"#7201a8\"],[0.3333333333333333,\"#9c179e\"],[0.4444444444444444,\"#bd3786\"],[0.5555555555555556,\"#d8576b\"],[0.6666666666666666,\"#ed7953\"],[0.7777777777777778,\"#fb9f3a\"],[0.8888888888888888,\"#fdca26\"],[1.0,\"#f0f921\"]]}],\"heatmapgl\":[{\"type\":\"heatmapgl\",\"colorbar\":{\"outlinewidth\":0,\"ticks\":\"\"},\"colorscale\":[[0.0,\"#0d0887\"],[0.1111111111111111,\"#46039f\"],[0.2222222222222222,\"#7201a8\"],[0.3333333333333333,\"#9c179e\"],[0.4444444444444444,\"#bd3786\"],[0.5555555555555556,\"#d8576b\"],[0.6666666666666666,\"#ed7953\"],[0.7777777777777778,\"#fb9f3a\"],[0.8888888888888888,\"#fdca26\"],[1.0,\"#f0f921\"]]}],\"contourcarpet\":[{\"type\":\"contourcarpet\",\"colorbar\":{\"outlinewidth\":0,\"ticks\":\"\"}}],\"contour\":[{\"type\":\"contour\",\"colorbar\":{\"outlinewidth\":0,\"ticks\":\"\"},\"colorscale\":[[0.0,\"#0d0887\"],[0.1111111111111111,\"#46039f\"],[0.2222222222222222,\"#7201a8\"],[0.3333333333333333,\"#9c179e\"],[0.4444444444444444,\"#bd3786\"],[0.5555555555555556,\"#d8576b\"],[0.6666666666666666,\"#ed7953\"],[0.7777777777777778,\"#fb9f3a\"],[0.8888888888888888,\"#fdca26\"],[1.0,\"#f0f921\"]]}],\"surface\":[{\"type\":\"surface\",\"colorbar\":{\"outlinewidth\":0,\"ticks\":\"\"},\"colorscale\":[[0.0,\"#0d0887\"],[0.1111111111111111,\"#46039f\"],[0.2222222222222222,\"#7201a8\"],[0.3333333333333333,\"#9c179e\"],[0.4444444444444444,\"#bd3786\"],[0.5555555555555556,\"#d8576b\"],[0.6666666666666666,\"#ed7953\"],[0.7777777777777778,\"#fb9f3a\"],[0.8888888888888888,\"#fdca26\"],[1.0,\"#f0f921\"]]}],\"mesh3d\":[{\"type\":\"mesh3d\",\"colorbar\":{\"outlinewidth\":0,\"ticks\":\"\"}}],\"scatter\":[{\"fillpattern\":{\"fillmode\":\"overlay\",\"size\":10,\"solidity\":0.2},\"type\":\"scatter\"}],\"parcoords\":[{\"type\":\"parcoords\",\"line\":{\"colorbar\":{\"outlinewidth\":0,\"ticks\":\"\"}}}],\"scatterpolargl\":[{\"type\":\"scatterpolargl\",\"marker\":{\"colorbar\":{\"outlinewidth\":0,\"ticks\":\"\"}}}],\"bar\":[{\"error_x\":{\"color\":\"#2a3f5f\"},\"error_y\":{\"color\":\"#2a3f5f\"},\"marker\":{\"line\":{\"color\":\"#E5ECF6\",\"width\":0.5},\"pattern\":{\"fillmode\":\"overlay\",\"size\":10,\"solidity\":0.2}},\"type\":\"bar\"}],\"scattergeo\":[{\"type\":\"scattergeo\",\"marker\":{\"colorbar\":{\"outlinewidth\":0,\"ticks\":\"\"}}}],\"scatterpolar\":[{\"type\":\"scatterpolar\",\"marker\":{\"colorbar\":{\"outlinewidth\":0,\"ticks\":\"\"}}}],\"histogram\":[{\"marker\":{\"pattern\":{\"fillmode\":\"overlay\",\"size\":10,\"solidity\":0.2}},\"type\":\"histogram\"}],\"scattergl\":[{\"type\":\"scattergl\",\"marker\":{\"colorbar\":{\"outlinewidth\":0,\"ticks\":\"\"}}}],\"scatter3d\":[{\"type\":\"scatter3d\",\"line\":{\"colorbar\":{\"outlinewidth\":0,\"ticks\":\"\"}},\"marker\":{\"colorbar\":{\"outlinewidth\":0,\"ticks\":\"\"}}}],\"scattermapbox\":[{\"type\":\"scattermapbox\",\"marker\":{\"colorbar\":{\"outlinewidth\":0,\"ticks\":\"\"}}}],\"scatterternary\":[{\"type\":\"scatterternary\",\"marker\":{\"colorbar\":{\"outlinewidth\":0,\"ticks\":\"\"}}}],\"scattercarpet\":[{\"type\":\"scattercarpet\",\"marker\":{\"colorbar\":{\"outlinewidth\":0,\"ticks\":\"\"}}}],\"carpet\":[{\"aaxis\":{\"endlinecolor\":\"#2a3f5f\",\"gridcolor\":\"white\",\"linecolor\":\"white\",\"minorgridcolor\":\"white\",\"startlinecolor\":\"#2a3f5f\"},\"baxis\":{\"endlinecolor\":\"#2a3f5f\",\"gridcolor\":\"white\",\"linecolor\":\"white\",\"minorgridcolor\":\"white\",\"startlinecolor\":\"#2a3f5f\"},\"type\":\"carpet\"}],\"table\":[{\"cells\":{\"fill\":{\"color\":\"#EBF0F8\"},\"line\":{\"color\":\"white\"}},\"header\":{\"fill\":{\"color\":\"#C8D4E3\"},\"line\":{\"color\":\"white\"}},\"type\":\"table\"}],\"barpolar\":[{\"marker\":{\"line\":{\"color\":\"#E5ECF6\",\"width\":0.5},\"pattern\":{\"fillmode\":\"overlay\",\"size\":10,\"solidity\":0.2}},\"type\":\"barpolar\"}],\"pie\":[{\"automargin\":true,\"type\":\"pie\"}]},\"layout\":{\"autotypenumbers\":\"strict\",\"colorway\":[\"#636efa\",\"#EF553B\",\"#00cc96\",\"#ab63fa\",\"#FFA15A\",\"#19d3f3\",\"#FF6692\",\"#B6E880\",\"#FF97FF\",\"#FECB52\"],\"font\":{\"color\":\"#2a3f5f\"},\"hovermode\":\"closest\",\"hoverlabel\":{\"align\":\"left\"},\"paper_bgcolor\":\"white\",\"plot_bgcolor\":\"#E5ECF6\",\"polar\":{\"bgcolor\":\"#E5ECF6\",\"angularaxis\":{\"gridcolor\":\"white\",\"linecolor\":\"white\",\"ticks\":\"\"},\"radialaxis\":{\"gridcolor\":\"white\",\"linecolor\":\"white\",\"ticks\":\"\"}},\"ternary\":{\"bgcolor\":\"#E5ECF6\",\"aaxis\":{\"gridcolor\":\"white\",\"linecolor\":\"white\",\"ticks\":\"\"},\"baxis\":{\"gridcolor\":\"white\",\"linecolor\":\"white\",\"ticks\":\"\"},\"caxis\":{\"gridcolor\":\"white\",\"linecolor\":\"white\",\"ticks\":\"\"}},\"coloraxis\":{\"colorbar\":{\"outlinewidth\":0,\"ticks\":\"\"}},\"colorscale\":{\"sequential\":[[0.0,\"#0d0887\"],[0.1111111111111111,\"#46039f\"],[0.2222222222222222,\"#7201a8\"],[0.3333333333333333,\"#9c179e\"],[0.4444444444444444,\"#bd3786\"],[0.5555555555555556,\"#d8576b\"],[0.6666666666666666,\"#ed7953\"],[0.7777777777777778,\"#fb9f3a\"],[0.8888888888888888,\"#fdca26\"],[1.0,\"#f0f921\"]],\"sequentialminus\":[[0.0,\"#0d0887\"],[0.1111111111111111,\"#46039f\"],[0.2222222222222222,\"#7201a8\"],[0.3333333333333333,\"#9c179e\"],[0.4444444444444444,\"#bd3786\"],[0.5555555555555556,\"#d8576b\"],[0.6666666666666666,\"#ed7953\"],[0.7777777777777778,\"#fb9f3a\"],[0.8888888888888888,\"#fdca26\"],[1.0,\"#f0f921\"]],\"diverging\":[[0,\"#8e0152\"],[0.1,\"#c51b7d\"],[0.2,\"#de77ae\"],[0.3,\"#f1b6da\"],[0.4,\"#fde0ef\"],[0.5,\"#f7f7f7\"],[0.6,\"#e6f5d0\"],[0.7,\"#b8e186\"],[0.8,\"#7fbc41\"],[0.9,\"#4d9221\"],[1,\"#276419\"]]},\"xaxis\":{\"gridcolor\":\"white\",\"linecolor\":\"white\",\"ticks\":\"\",\"title\":{\"standoff\":15},\"zerolinecolor\":\"white\",\"automargin\":true,\"zerolinewidth\":2},\"yaxis\":{\"gridcolor\":\"white\",\"linecolor\":\"white\",\"ticks\":\"\",\"title\":{\"standoff\":15},\"zerolinecolor\":\"white\",\"automargin\":true,\"zerolinewidth\":2},\"scene\":{\"xaxis\":{\"backgroundcolor\":\"#E5ECF6\",\"gridcolor\":\"white\",\"linecolor\":\"white\",\"showbackground\":true,\"ticks\":\"\",\"zerolinecolor\":\"white\",\"gridwidth\":2},\"yaxis\":{\"backgroundcolor\":\"#E5ECF6\",\"gridcolor\":\"white\",\"linecolor\":\"white\",\"showbackground\":true,\"ticks\":\"\",\"zerolinecolor\":\"white\",\"gridwidth\":2},\"zaxis\":{\"backgroundcolor\":\"#E5ECF6\",\"gridcolor\":\"white\",\"linecolor\":\"white\",\"showbackground\":true,\"ticks\":\"\",\"zerolinecolor\":\"white\",\"gridwidth\":2}},\"shapedefaults\":{\"line\":{\"color\":\"#2a3f5f\"}},\"annotationdefaults\":{\"arrowcolor\":\"#2a3f5f\",\"arrowhead\":0,\"arrowwidth\":1},\"geo\":{\"bgcolor\":\"white\",\"landcolor\":\"#E5ECF6\",\"subunitcolor\":\"white\",\"showland\":true,\"showlakes\":true,\"lakecolor\":\"white\"},\"title\":{\"x\":0.05},\"mapbox\":{\"style\":\"light\"}}},\"legend\":{\"tracegroupgap\":0},\"title\":{\"text\":\"Topic Distribution in Dataset 2 (N=20)\"}},                        {\"responsive\": true}                    ).then(function(){\n",
       "                            \n",
       "var gd = document.getElementById('8301d69f-ad02-40f5-928a-9ddd561a7609');\n",
       "var x = new MutationObserver(function (mutations, observer) {{\n",
       "        var display = window.getComputedStyle(gd).display;\n",
       "        if (!display || display === 'none') {{\n",
       "            console.log([gd, 'removed!']);\n",
       "            Plotly.purge(gd);\n",
       "            observer.disconnect();\n",
       "        }}\n",
       "}});\n",
       "\n",
       "// Listen for the removal of the full notebook cells\n",
       "var notebookContainer = gd.closest('#notebook-container');\n",
       "if (notebookContainer) {{\n",
       "    x.observe(notebookContainer, {childList: true});\n",
       "}}\n",
       "\n",
       "// Listen for the clearing of the current output cell\n",
       "var outputEl = gd.closest('.output');\n",
       "if (outputEl) {{\n",
       "    x.observe(outputEl, {childList: true});\n",
       "}}\n",
       "\n",
       "                        })                };                });            </script>        </div>"
      ]
     },
     "metadata": {},
     "output_type": "display_data"
    }
   ],
   "source": [
    "import plotly.express as px\n",
    "import plotly.offline as pyo\n",
    "import plotly.io as pio\n",
    "import gensim\n",
    "from gensim import corpora\n",
    "from gensim.models import LdaModel\n",
    "\n",
    "# Initialize Plotly in notebook mode\n",
    "pyo.init_notebook_mode(connected=True)\n",
    "\n",
    "# Define the function to apply LDA and plot donut charts\n",
    "def apply_lda_and_plot_donut(data, num_topics_list, dataset_name=\"Dataset\"):\n",
    "    # Tokenize the cleaned text\n",
    "    texts = [text.split() for text in data['cleaned_text']]\n",
    "\n",
    "    # Create a dictionary and corpus for the dataset\n",
    "    dictionary = corpora.Dictionary(texts)\n",
    "    corpus = [dictionary.doc2bow(text) for text in texts]\n",
    "\n",
    "    # Loop through each value of N (number of topics)\n",
    "    for num_topics in num_topics_list:\n",
    "        lda_model = LdaModel(corpus, num_topics=num_topics, id2word=dictionary, passes=15)\n",
    "\n",
    "        # Get the topic frequencies\n",
    "        topic_frequency = {i: 0 for i in range(num_topics)}\n",
    "        for doc in corpus:\n",
    "            topics = lda_model.get_document_topics(doc)\n",
    "            for topic_id, topic_prob in topics:\n",
    "                topic_frequency[topic_id] += topic_prob\n",
    "        \n",
    "        # Prepare data for plotting\n",
    "        topic_labels = [f\"Topic {i+1}\" for i in range(num_topics)]\n",
    "        topic_counts = [topic_frequency[i] for i in range(num_topics)]\n",
    "\n",
    "        # Plot donut chart for the current dataset and number of topics\n",
    "        fig = px.pie(names=topic_labels, values=topic_counts, hole=0.3, title=f\"Topic Distribution in {dataset_name} (N={num_topics})\")\n",
    "        \n",
    "        # Ensure plot is displayed using plotly.io.show()\n",
    "        pio.show(fig)\n",
    "\n",
    "# Step 2: Apply LDA to both datasets for 5, 10, 20 topics\n",
    "num_topics_list = [5, 10, 20]\n",
    "\n",
    "# Apply LDA and plot donut charts for the first dataset\n",
    "apply_lda_and_plot_donut(data, num_topics_list, dataset_name=\"Dataset 1\")\n",
    "\n",
    "# Apply LDA and plot donut charts for the second dataset\n",
    "apply_lda_and_plot_donut(data2, num_topics_list, dataset_name=\"Dataset 2\")\n"
   ]
  },
  {
   "cell_type": "code",
   "execution_count": 10,
   "id": "99388155",
   "metadata": {},
   "outputs": [
    {
     "name": "stdout",
     "output_type": "stream",
     "text": [
      "Saved C:/Users/b0161166/Downloads/Dataset_1_topic_distribution_N5.html\n",
      "Saved C:/Users/b0161166/Downloads/Dataset_1_topic_distribution_N10.html\n",
      "Saved C:/Users/b0161166/Downloads/Dataset_1_topic_distribution_N20.html\n",
      "Saved C:/Users/b0161166/Downloads/Dataset_2_topic_distribution_N5.html\n",
      "Saved C:/Users/b0161166/Downloads/Dataset_2_topic_distribution_N10.html\n",
      "Saved C:/Users/b0161166/Downloads/Dataset_2_topic_distribution_N20.html\n"
     ]
    }
   ],
   "source": [
    "# Save the figures as HTML files with specific paths for each dataset and number of topics\n",
    "def save_figures_as_html(fig, num_topics, dataset_name, output_dir=\"C:/Users/b0161166/Downloads/\"):\n",
    "    # Create a unique filename based on the dataset name and number of topics\n",
    "    output_file = f\"{output_dir}{dataset_name}_topic_distribution_N{num_topics}.html\"\n",
    "    fig.write_html(output_file)\n",
    "    print(f\"Saved {output_file}\")\n",
    "\n",
    "# Inside the apply_lda_and_plot_donut function, we will save each figure as HTML:\n",
    "def apply_lda_and_plot_donut(data, num_topics_list, dataset_name=\"Dataset\", output_dir=\"C:/Users/b0161166/Downloads/\"):\n",
    "    # Tokenize the cleaned text\n",
    "    texts = [text.split() for text in data['cleaned_text']]\n",
    "\n",
    "    # Create a dictionary and corpus for the dataset\n",
    "    dictionary = corpora.Dictionary(texts)\n",
    "    corpus = [dictionary.doc2bow(text) for text in texts]\n",
    "\n",
    "    # Loop through each value of N (number of topics)\n",
    "    for num_topics in num_topics_list:\n",
    "        lda_model = LdaModel(corpus, num_topics=num_topics, id2word=dictionary, passes=15)\n",
    "\n",
    "        # Get the topic frequencies\n",
    "        topic_frequency = {i: 0 for i in range(num_topics)}\n",
    "        for doc in corpus:\n",
    "            topics = lda_model.get_document_topics(doc)\n",
    "            for topic_id, topic_prob in topics:\n",
    "                topic_frequency[topic_id] += topic_prob\n",
    "\n",
    "        # Prepare data for plotting\n",
    "        topic_labels = [f\"Topic {i+1}\" for i in range(num_topics)]\n",
    "        topic_counts = [topic_frequency[i] for i in range(num_topics)]\n",
    "\n",
    "        # Plot donut chart for the current dataset and number of topics\n",
    "        fig = px.pie(names=topic_labels, values=topic_counts, hole=0.3, title=f\"Topic Distribution in {dataset_name} (N={num_topics})\")\n",
    "        \n",
    "        # Save the figure as an HTML file using the helper function\n",
    "        save_figures_as_html(fig, num_topics, dataset_name, output_dir)\n",
    "\n",
    "# Apply LDA to both datasets for 5, 10, 20 topics\n",
    "num_topics_list = [5, 10, 20]\n",
    "\n",
    "# Apply LDA and plot donut charts for the first dataset and save HTML files\n",
    "apply_lda_and_plot_donut(data, num_topics_list, dataset_name=\"Dataset_1\")\n",
    "\n",
    "# Apply LDA and plot donut charts for the second dataset and save HTML files\n",
    "apply_lda_and_plot_donut(data2, num_topics_list, dataset_name=\"Dataset_2\")\n"
   ]
  },
  {
   "cell_type": "code",
   "execution_count": null,
   "id": "1fbaa153",
   "metadata": {},
   "outputs": [],
   "source": []
  }
 ],
 "metadata": {
  "kernelspec": {
   "display_name": "Python 3 (ipykernel)",
   "language": "python",
   "name": "python3"
  },
  "language_info": {
   "codemirror_mode": {
    "name": "ipython",
    "version": 3
   },
   "file_extension": ".py",
   "mimetype": "text/x-python",
   "name": "python",
   "nbconvert_exporter": "python",
   "pygments_lexer": "ipython3",
   "version": "3.11.5"
  }
 },
 "nbformat": 4,
 "nbformat_minor": 5
}
